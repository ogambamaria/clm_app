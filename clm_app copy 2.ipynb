{
 "cells": [
  {
   "cell_type": "code",
   "execution_count": 64,
   "metadata": {},
   "outputs": [],
   "source": [
    "import numpy as np\n",
    "import pandas as pd\n",
    "import regex as re\n",
    "from datetime import datetime\n",
    "\n",
    "import plotly.express as px\n",
    "import shap\n",
    "\n",
    "from sklearn.model_selection import train_test_split\n",
    "from sklearn.preprocessing import OneHotEncoder, LabelEncoder\n",
    "from sklearn.model_selection import GridSearchCV\n",
    "from sklearn.ensemble import StackingClassifier\n",
    "from sklearn.linear_model import LogisticRegression\n",
    "from sklearn.tree import DecisionTreeClassifier\n",
    "\n",
    "from sklearn.metrics import classification_report, roc_auc_score, precision_recall_curve\n",
    "from catboost import CatBoostClassifier\n",
    "from lightgbm import LGBMClassifier\n",
    "from xgboost import XGBClassifier"
   ]
  },
  {
   "cell_type": "code",
   "execution_count": 2,
   "metadata": {},
   "outputs": [
    {
     "name": "stderr",
     "output_type": "stream",
     "text": [
      "C:\\Users\\mogam\\AppData\\Local\\Temp\\ipykernel_10272\\2747984450.py:1: DtypeWarning: Columns (1,4,11,15,24,25,42,56,62,64,65,66,67,68,69,70,71,72,73,74,75,76,77,78,79,80,81,82,83,84) have mixed types. Specify dtype option on import or set low_memory=False.\n",
      "  imonitor = pd.read_csv('data/imonitor_1703.csv')\n"
     ]
    },
    {
     "data": {
      "text/html": [
       "<div>\n",
       "<style scoped>\n",
       "    .dataframe tbody tr th:only-of-type {\n",
       "        vertical-align: middle;\n",
       "    }\n",
       "\n",
       "    .dataframe tbody tr th {\n",
       "        vertical-align: top;\n",
       "    }\n",
       "\n",
       "    .dataframe thead th {\n",
       "        text-align: right;\n",
       "    }\n",
       "</style>\n",
       "<table border=\"1\" class=\"dataframe\">\n",
       "  <thead>\n",
       "    <tr style=\"text-align: right;\">\n",
       "      <th></th>\n",
       "      <th>Survey ID</th>\n",
       "      <th>Created Date</th>\n",
       "      <th>Facility name and MFL Code if applicable</th>\n",
       "      <th>Facility ownership</th>\n",
       "      <th>Please specify</th>\n",
       "      <th>County</th>\n",
       "      <th>What is your month; and year of birth</th>\n",
       "      <th>How do you consider yourself?</th>\n",
       "      <th>What is the highest level of education you completed?</th>\n",
       "      <th>Please specify.1</th>\n",
       "      <th>...</th>\n",
       "      <th>how long do you wait on average to get a service; which service was that?</th>\n",
       "      <th>Do you consider the waiting time for lab test results long?</th>\n",
       "      <th>how long do you wait on average to get your lab test result?</th>\n",
       "      <th>Does the facility offer support groups?</th>\n",
       "      <th>Specify the support group you belong to</th>\n",
       "      <th>In your opinion are the services offered at this facility youth friendly?</th>\n",
       "      <th>What measures have been put in place to create GBV awareness and its harmful effects within the community?</th>\n",
       "      <th>Please Specify</th>\n",
       "      <th>PWD In your opinion are the services offered at this facility persons-with-disability friendly?</th>\n",
       "      <th>What are the top 1-3 things you don’t like about this facility with regards to care and treatment?</th>\n",
       "    </tr>\n",
       "  </thead>\n",
       "  <tbody>\n",
       "    <tr>\n",
       "      <th>0</th>\n",
       "      <td>2390063</td>\n",
       "      <td>04-Dec-23</td>\n",
       "      <td>BABA DOGO HEALTH CENTRE</td>\n",
       "      <td>GOK</td>\n",
       "      <td>NaN</td>\n",
       "      <td>Nairobi</td>\n",
       "      <td>1977-09-03</td>\n",
       "      <td>Male</td>\n",
       "      <td>Primary school</td>\n",
       "      <td>NaN</td>\n",
       "      <td>...</td>\n",
       "      <td>NaN</td>\n",
       "      <td>No</td>\n",
       "      <td>NaN</td>\n",
       "      <td>Yes</td>\n",
       "      <td>Adults</td>\n",
       "      <td>Yes</td>\n",
       "      <td>Presence of GBV Desk;</td>\n",
       "      <td>Chiefs office</td>\n",
       "      <td>Yes</td>\n",
       "      <td>NaN</td>\n",
       "    </tr>\n",
       "    <tr>\n",
       "      <th>1</th>\n",
       "      <td>2390062</td>\n",
       "      <td>04-Dec-23</td>\n",
       "      <td>BABA DOGO HEALTH CENTRE</td>\n",
       "      <td>GOK</td>\n",
       "      <td>NaN</td>\n",
       "      <td>Nairobi</td>\n",
       "      <td>1972-08-12</td>\n",
       "      <td>Female</td>\n",
       "      <td>Secondary school</td>\n",
       "      <td>NaN</td>\n",
       "      <td>...</td>\n",
       "      <td>NaN</td>\n",
       "      <td>No</td>\n",
       "      <td>NaN</td>\n",
       "      <td>No</td>\n",
       "      <td>NaN</td>\n",
       "      <td>Yes</td>\n",
       "      <td>Presence of GBV Desk;</td>\n",
       "      <td>Chiefs office</td>\n",
       "      <td>NaN</td>\n",
       "      <td>NaN</td>\n",
       "    </tr>\n",
       "    <tr>\n",
       "      <th>2</th>\n",
       "      <td>2390061</td>\n",
       "      <td>04-Dec-23</td>\n",
       "      <td>BABA DOGO HEALTH CENTRE</td>\n",
       "      <td>GOK</td>\n",
       "      <td>NaN</td>\n",
       "      <td>Nairobi</td>\n",
       "      <td>1984-08-31</td>\n",
       "      <td>Female</td>\n",
       "      <td>Primary school</td>\n",
       "      <td>NaN</td>\n",
       "      <td>...</td>\n",
       "      <td>NaN</td>\n",
       "      <td>Yes</td>\n",
       "      <td>2 hours</td>\n",
       "      <td>No</td>\n",
       "      <td>NaN</td>\n",
       "      <td>Yes</td>\n",
       "      <td>Presence of GBV Desk;</td>\n",
       "      <td>Chiefs office</td>\n",
       "      <td>Yes</td>\n",
       "      <td>NaN</td>\n",
       "    </tr>\n",
       "    <tr>\n",
       "      <th>3</th>\n",
       "      <td>2390060</td>\n",
       "      <td>04-Dec-23</td>\n",
       "      <td>BABA DOGO HEALTH CENTRE</td>\n",
       "      <td>GOK</td>\n",
       "      <td>NaN</td>\n",
       "      <td>Nairobi</td>\n",
       "      <td>1977-05-07</td>\n",
       "      <td>Female</td>\n",
       "      <td>Primary school</td>\n",
       "      <td>NaN</td>\n",
       "      <td>...</td>\n",
       "      <td>NaN</td>\n",
       "      <td>No</td>\n",
       "      <td>NaN</td>\n",
       "      <td>No</td>\n",
       "      <td>NaN</td>\n",
       "      <td>Yes</td>\n",
       "      <td>Presence of GBV Desk;</td>\n",
       "      <td>Police station</td>\n",
       "      <td>NaN</td>\n",
       "      <td>NaN</td>\n",
       "    </tr>\n",
       "    <tr>\n",
       "      <th>4</th>\n",
       "      <td>2390059</td>\n",
       "      <td>04-Dec-23</td>\n",
       "      <td>BABA DOGO HEALTH CENTRE</td>\n",
       "      <td>GOK</td>\n",
       "      <td>NaN</td>\n",
       "      <td>Nairobi</td>\n",
       "      <td>1987-06-13</td>\n",
       "      <td>Male</td>\n",
       "      <td>Vocational training or technician</td>\n",
       "      <td>NaN</td>\n",
       "      <td>...</td>\n",
       "      <td>1 hour</td>\n",
       "      <td>Yes</td>\n",
       "      <td>2 hours</td>\n",
       "      <td>Yes</td>\n",
       "      <td>Adults</td>\n",
       "      <td>Yes</td>\n",
       "      <td>Presence of GBV Desk;</td>\n",
       "      <td>Police station</td>\n",
       "      <td>NaN</td>\n",
       "      <td>NaN</td>\n",
       "    </tr>\n",
       "  </tbody>\n",
       "</table>\n",
       "<p>5 rows × 85 columns</p>\n",
       "</div>"
      ],
      "text/plain": [
       "   Survey ID Created Date Facility name and MFL Code if applicable  \\\n",
       "0    2390063    04-Dec-23                  BABA DOGO HEALTH CENTRE   \n",
       "1    2390062    04-Dec-23                  BABA DOGO HEALTH CENTRE   \n",
       "2    2390061    04-Dec-23                  BABA DOGO HEALTH CENTRE   \n",
       "3    2390060    04-Dec-23                  BABA DOGO HEALTH CENTRE   \n",
       "4    2390059    04-Dec-23                  BABA DOGO HEALTH CENTRE   \n",
       "\n",
       "  Facility ownership Please specify   County  \\\n",
       "0                GOK            NaN  Nairobi   \n",
       "1                GOK            NaN  Nairobi   \n",
       "2                GOK            NaN  Nairobi   \n",
       "3                GOK            NaN  Nairobi   \n",
       "4                GOK            NaN  Nairobi   \n",
       "\n",
       "  What is your month; and year of birth How do you consider yourself?   \\\n",
       "0                            1977-09-03                           Male   \n",
       "1                            1972-08-12                         Female   \n",
       "2                            1984-08-31                         Female   \n",
       "3                            1977-05-07                         Female   \n",
       "4                            1987-06-13                           Male   \n",
       "\n",
       "  What is the highest level of education you completed? Please specify.1  ...  \\\n",
       "0                                     Primary school                 NaN  ...   \n",
       "1                                   Secondary school                 NaN  ...   \n",
       "2                                     Primary school                 NaN  ...   \n",
       "3                                     Primary school                 NaN  ...   \n",
       "4                 Vocational training or technician                  NaN  ...   \n",
       "\n",
       "  how long do you wait on average to get a service; which service was that?  \\\n",
       "0                                                NaN                          \n",
       "1                                                NaN                          \n",
       "2                                                NaN                          \n",
       "3                                                NaN                          \n",
       "4                                            1 hour                           \n",
       "\n",
       "  Do you consider the waiting time for lab test results long?  \\\n",
       "0                                                 No            \n",
       "1                                                 No            \n",
       "2                                                Yes            \n",
       "3                                                 No            \n",
       "4                                                Yes            \n",
       "\n",
       "  how long do you wait on average to get your lab test result?  \\\n",
       "0                                                NaN             \n",
       "1                                                NaN             \n",
       "2                                           2 hours              \n",
       "3                                                NaN             \n",
       "4                                           2 hours              \n",
       "\n",
       "  Does the facility offer support groups?  \\\n",
       "0                                     Yes   \n",
       "1                                      No   \n",
       "2                                      No   \n",
       "3                                      No   \n",
       "4                                     Yes   \n",
       "\n",
       "  Specify the support group you belong to  \\\n",
       "0                                  Adults   \n",
       "1                                     NaN   \n",
       "2                                     NaN   \n",
       "3                                     NaN   \n",
       "4                                  Adults   \n",
       "\n",
       "  In your opinion are the services offered at this facility youth friendly?  \\\n",
       "0                                                Yes                          \n",
       "1                                                Yes                          \n",
       "2                                                Yes                          \n",
       "3                                                Yes                          \n",
       "4                                                Yes                          \n",
       "\n",
       "  What measures have been put in place to create GBV awareness and its harmful effects within the community?   \\\n",
       "0                              Presence of GBV Desk;                                                            \n",
       "1                              Presence of GBV Desk;                                                            \n",
       "2                              Presence of GBV Desk;                                                            \n",
       "3                              Presence of GBV Desk;                                                            \n",
       "4                              Presence of GBV Desk;                                                            \n",
       "\n",
       "    Please Specify  \\\n",
       "0   Chiefs office    \n",
       "1   Chiefs office    \n",
       "2   Chiefs office    \n",
       "3  Police station    \n",
       "4  Police station    \n",
       "\n",
       "  PWD In your opinion are the services offered at this facility persons-with-disability friendly?  \\\n",
       "0                                                Yes                                                \n",
       "1                                                NaN                                                \n",
       "2                                                Yes                                                \n",
       "3                                                NaN                                                \n",
       "4                                                NaN                                                \n",
       "\n",
       "  What are the top 1-3 things you don’t like about this facility with regards to care and treatment?  \n",
       "0                                                NaN                                                  \n",
       "1                                                NaN                                                  \n",
       "2                                                NaN                                                  \n",
       "3                                                NaN                                                  \n",
       "4                                                NaN                                                  \n",
       "\n",
       "[5 rows x 85 columns]"
      ]
     },
     "execution_count": 2,
     "metadata": {},
     "output_type": "execute_result"
    }
   ],
   "source": [
    "imonitor = pd.read_csv('data/imonitor_1703.csv')\n",
    "imonitor.head()"
   ]
  },
  {
   "cell_type": "code",
   "execution_count": 3,
   "metadata": {},
   "outputs": [
    {
     "data": {
      "text/plain": [
       "(46549, 85)"
      ]
     },
     "execution_count": 3,
     "metadata": {},
     "output_type": "execute_result"
    }
   ],
   "source": [
    "imonitor.shape"
   ]
  },
  {
   "cell_type": "code",
   "execution_count": 4,
   "metadata": {},
   "outputs": [],
   "source": [
    "# Find and drop columns that contain \"Please specify\" or \"Please Specify\"\n",
    "cols_to_drop = [col for col in imonitor.columns if \"Please specify\" in col or \"Please Specify\" in col]\n",
    "\n",
    "# Drop these columns from the DataFrame in a single operation\n",
    "imonitor.drop(cols_to_drop, axis=1, inplace=True)"
   ]
  },
  {
   "cell_type": "code",
   "execution_count": 5,
   "metadata": {},
   "outputs": [
    {
     "data": {
      "text/plain": [
       "(46549, 69)"
      ]
     },
     "execution_count": 5,
     "metadata": {},
     "output_type": "execute_result"
    }
   ],
   "source": [
    "imonitor.shape"
   ]
  },
  {
   "cell_type": "code",
   "execution_count": 6,
   "metadata": {},
   "outputs": [],
   "source": [
    "imonitor.columns = imonitor.columns.map(lambda x: x.strip())"
   ]
  },
  {
   "cell_type": "code",
   "execution_count": 7,
   "metadata": {},
   "outputs": [
    {
     "name": "stdout",
     "output_type": "stream",
     "text": [
      "Survey ID\n",
      "Created Date\n",
      "Facility name and MFL Code if applicable\n",
      "Facility ownership\n",
      "County\n",
      "What is your month; and year of birth\n",
      "How do you consider yourself?\n",
      "What is the highest level of education you completed?\n",
      "What is your current marital status?\n",
      "Which county do you currently live in?\n",
      "What are your sources of income?\n",
      "For how long have you been accessing services (based on the expected package of services) in this facility?\n",
      "Are you aware of the package of services that you are entitled to?\n",
      "According to you; which HIV related services are you likely to receive in this facility?\n",
      "Is there a service that you needed that was not provided?\n",
      "Facility name\n",
      "For that service that was not provided; were you referred?\n",
      "If referred; did you receive the service where you were referred to?\n",
      "If Yes which Service/Test/Medicine\n",
      "On a scale of 1 to 5; how satisfied are you with the package of services received in this facility? If 1 is VERY UNSATISFIED and 5 is VERY SATISFIED.\n",
      "What did you like about the services you received?\n",
      "What did you not like about the services you received?\n",
      "In your opinion what would you like to be improved?\n",
      "Do you face any challenges when accessing the services at the facility?\n",
      "Common issues that can be added in the drop-down box\n",
      "In your opinion what can be done to improve access to the services you seek at the facility?\n",
      "Was confidentiality considered while you were being served?\n",
      "Are there age-appropriate health services for specific groups?\n",
      "Does the facility allow you to share your concerns with the administration?\n",
      "Do you know your health-related rights as a client of this facility?\n",
      "Have you ever been denied services at this facility?\n",
      "Facility name denied service\n",
      "Why\n",
      "Are you comfortable with getting services at this facility\n",
      "Have you ever been counseled?\n",
      "Did you identify any gaps in the facility when you tried to access the services\n",
      "Service type\n",
      "Are the HIV testing services readily available when required?\n",
      "Have you ever Interrupted your treatment?\n",
      "Are the PMTCT services readily available when required?\n",
      "Were reasons provided as to why these services were not available?\n",
      "Are the HIV prevention; testing; treatment and care services adequate for KPs?\n",
      "Were reasons provided as to why these services were not available?.1\n",
      "What are the barriers to uptake of VMMC by males 25+years and above?\n",
      "What are some of the current site level practices that community members like and would love to maintain for KP/PP ?\n",
      "What would you like this facility to change/do better?\n",
      "Throughout your visit what did you find interesting/pleasing about this facility that should be emulated by other facilities?\n",
      "What do you think can be improved\n",
      "Anything else that you would like to mention?\n",
      "What are the top 1-3 things you like about this facility with regards to care and treatment?\n",
      "Facility Level\n",
      "Facility Operation times\n",
      "Facility Operation Days\n",
      "What are your preferred days of visiting the facility\n",
      "What are your preferred time of visiting the facility\n",
      "On a scale of 1-5; how clean do you find the facility?\n",
      "How do you reach this facility?\n",
      "How long does it take to reach this facility?\n",
      "On a scale of 1-5; how accessible do you find this facility?\n",
      "Do you consider the waiting time to be seen at this facility long?\n",
      "how long do you wait on average to get a service; which service was that?\n",
      "Do you consider the waiting time for lab test results long?\n",
      "how long do you wait on average to get your lab test result?\n",
      "Does the facility offer support groups?\n",
      "Specify the support group you belong to\n",
      "In your opinion are the services offered at this facility youth friendly?\n",
      "What measures have been put in place to create GBV awareness and its harmful effects within the community?\n",
      "PWD In your opinion are the services offered at this facility persons-with-disability friendly?\n",
      "What are the top 1-3 things you don’t like about this facility with regards to care and treatment?\n"
     ]
    }
   ],
   "source": [
    "for c in imonitor.columns:\n",
    "    print(c)"
   ]
  },
  {
   "cell_type": "code",
   "execution_count": 8,
   "metadata": {},
   "outputs": [],
   "source": [
    "columns_to_drop = [\n",
    "    \"Survey ID\",\n",
    "    \"Facility name and MFL Code if applicable\",\n",
    "    \"What is your month; and year of birth\",\n",
    "    \"How do you consider yourself?\",\n",
    "    \"What is the highest level of education you completed?\",\n",
    "    \"What is your current marital status?\",\n",
    "    \"Which county do you currently live in?\",\n",
    "    \"What are your sources of income?\",\n",
    "    \"Facility name\",\n",
    "    \"What did you like about the services you received?\",\n",
    "    \"What did you not like about the services you received?\",\n",
    "    \"In your opinion what would you like to be improved?\",\n",
    "    \"In your opinion what can be done to improve access to the services you seek at the facility?\",\n",
    "    \"Facility name denied service\",\n",
    "    \"Why\",\n",
    "    \"Were reasons provided as to why these services were not available?\",\n",
    "    \"Were reasons provided as to why these services were not available?.1\",\n",
    "    \"What are the barriers to uptake of VMMC by males 25+years and above?\",\n",
    "    \"What are some of the current site level practices that community members like and would love to maintain for KP/PP ?\",\n",
    "    \"What would you like this facility to change/do better?\",\n",
    "    \"Throughout your visit what did you find interesting/pleasing about this facility that should be emulated by other facilities?\",\n",
    "    \"What do you think can be improved\",\n",
    "    \"Anything else that you would like to mention?\",\n",
    "    \"What are the top 1-3 things you like about this facility with regards to care and treatment?\"\n",
    "]\n",
    "\n",
    "# Drop the columns\n",
    "imonitor.drop(columns=columns_to_drop, axis=1, inplace=True)"
   ]
  },
  {
   "cell_type": "code",
   "execution_count": 9,
   "metadata": {},
   "outputs": [],
   "source": [
    "column_name_mapping = {\n",
    "    \"Created Date\": \"Date\",\n",
    "    \"Organization name coordinating the feedback from the clients\": \"OrgFeedbackCoordinator\",\n",
    "    \"Facility ownership\": \"FacilityOwnership\",\n",
    "    \"County\": \"FacilityCounty\",\n",
    "    \"For how long have you been accessing services (based on the expected package of services) in this facility?\": \"ServiceAccessDuration\",\n",
    "    \"Are you aware of the package of services that you are entitled to?\": \"ServicesAwareness\",\n",
    "    \"According to you; which HIV related services are you likely to receive in this facility?\": \"ExpectedHIVServices\",\n",
    "    \"Is there a service that you needed that was not provided?\": \"UnprovidedService\",\n",
    "    \"Facility name no service\": \"UnprovidedServiceFacilityName\",\n",
    "    \"For that service that was not provided; were you referred?\": \"ReferralForUnprovidedService\",\n",
    "    \"If referred; did you receive the service where you were referred to?\": \"ReferralServiceReceived\",\n",
    "    \"If Yes which Service/Test/Medicine\": \"ReceivedServiceDetail\",\n",
    "    \"On a scale of 1 to 5; how satisfied are you with the package of services received in this facility? If 1 is VERY UNSATISFIED and 5 is VERY SATISFIED.\": \"ServiceSatisfaction\",\n",
    "    \"Do you face any challenges when accessing the services at the facility?\": \"AccessChallenges\",\n",
    "    \"Common issues that can be added in the drop-down box\": \"CommonIssuesDropdown\",\n",
    "    \"Was confidentiality considered while you were being served?\": \"Confidentiality\",\n",
    "    \"Are there age-appropriate health services for specific groups?\": \"AgeAppropriateServices\",\n",
    "    \"Does the facility allow you to share your concerns with the administration?\": \"ConcernsSharing\",\n",
    "    \"Do you know your health-related rights as a client of this facility?\": \"RightsAwareness\",\n",
    "    \"Have you ever been denied services at this facility?\": \"ServiceDenial\",\n",
    "    \"Are you comfortable with getting services at this facility\": \"ComfortWithServices\",\n",
    "    \"Have you ever been counseled?\": \"CounselingReceived\",\n",
    "    \"Did you identify any gaps in the facility when you tried to access the services\": \"IdentifiedGaps\",\n",
    "    \"Service type\": \"ServiceGapsType\",\n",
    "    \"Are the HIV testing services readily available when required?\": \"HIVTestingAvailability\",\n",
    "    \"Have you ever Interrupted your treatment?\": \"TreatmentInterruption\",\n",
    "    \"Are the PMTCT services readily available when required?\": \"PMTCTServiceAvailability\",\n",
    "    \"Are the HIV prevention; testing; treatment and care services adequate for KPs?\": \"KPServiceAdequacy\",\n",
    "    \"Facility Level\": \"FacilityLevel\",\n",
    "    \"Facility Operation times\": \"OperationTimes\",\n",
    "    \"Facility Operation Days\": \"OperationDays\",\n",
    "    \"What are your preferred days of visiting the facility\": \"PreferredVisitDays\",\n",
    "    \"What are your preferred time of visiting the facility\": \"PreferredVisitTimes\",\n",
    "    \"On a scale of 1-5; how clean do you find the facility?\": \"FacilityCleanliness\",\n",
    "    \"How do you reach this facility?\": \"FacilityAccessMode\",\n",
    "    \"How long does it take to reach this facility?\": \"FacilityAccessTime\",\n",
    "    \"On a scale of 1-5; how accessible do you find this facility?\": \"FacilityAccessibility\",\n",
    "    \"Do you consider the waiting time to be seen at this facility long?\": \"WaitingTimeOpinion\",\n",
    "    \"how long do you wait on average to get a service; which service was that?\": \"AverageWaitingTime\",\n",
    "    \"Do you consider the waiting time for lab test results long?\": \"LabResultsWaitingTimeOpinion\",\n",
    "    \"how long do you wait on average to get your lab test result?\": \"AverageLabResultsWaitingTime\",\n",
    "    \"Does the facility offer support groups?\": \"SupportGroupAvailability\",\n",
    "    \"Specify the support group you belong to\": \"SpecifySupportGroup\",\n",
    "    \"In your opinion are the services offered at this facility youth friendly?\": \"YouthFriendlyServices\",\n",
    "    \"What measures have been put in place to create GBV awareness and its harmful effects within the community?\": \"GBVAwarenessMeasures\",\n",
    "    \"PWD In your opinion are the services offered at this facility persons-with-disability friendly?\": \"PWDFriendlyServicesOpinion\",\n",
    "    \"What are the top 1-3 things you don’t like about this facility with regards to care and treatment?\": \"TopFacilityDislikes\"\n",
    "}\n",
    "\n",
    "# Assuming imonitor is your DataFrame\n",
    "df = imonitor.rename(columns=column_name_mapping)"
   ]
  },
  {
   "cell_type": "code",
   "execution_count": 10,
   "metadata": {},
   "outputs": [
    {
     "name": "stdout",
     "output_type": "stream",
     "text": [
      "Date\n",
      "FacilityOwnership\n",
      "FacilityCounty\n",
      "ServiceAccessDuration\n",
      "ServicesAwareness\n",
      "ExpectedHIVServices\n",
      "UnprovidedService\n",
      "ReferralForUnprovidedService\n",
      "ReferralServiceReceived\n",
      "ReceivedServiceDetail\n",
      "ServiceSatisfaction\n",
      "AccessChallenges\n",
      "CommonIssuesDropdown\n",
      "Confidentiality\n",
      "AgeAppropriateServices\n",
      "ConcernsSharing\n",
      "RightsAwareness\n",
      "ServiceDenial\n",
      "ComfortWithServices\n",
      "CounselingReceived\n",
      "IdentifiedGaps\n",
      "ServiceGapsType\n",
      "HIVTestingAvailability\n",
      "TreatmentInterruption\n",
      "PMTCTServiceAvailability\n",
      "KPServiceAdequacy\n",
      "FacilityLevel\n",
      "OperationTimes\n",
      "OperationDays\n",
      "PreferredVisitDays\n",
      "PreferredVisitTimes\n",
      "FacilityCleanliness\n",
      "FacilityAccessMode\n",
      "FacilityAccessTime\n",
      "FacilityAccessibility\n",
      "WaitingTimeOpinion\n",
      "AverageWaitingTime\n",
      "LabResultsWaitingTimeOpinion\n",
      "AverageLabResultsWaitingTime\n",
      "SupportGroupAvailability\n",
      "SpecifySupportGroup\n",
      "YouthFriendlyServices\n",
      "GBVAwarenessMeasures\n",
      "PWDFriendlyServicesOpinion\n",
      "TopFacilityDislikes\n"
     ]
    }
   ],
   "source": [
    "for c in df.columns:\n",
    "    print(c)"
   ]
  },
  {
   "cell_type": "code",
   "execution_count": 11,
   "metadata": {},
   "outputs": [],
   "source": [
    "columns_to_clean1 = [\n",
    "    'WaitingTimeOpinion',\n",
    "    'LabResultsWaitingTimeOpinion'\n",
    "]\n",
    "\n",
    "def replace_dont_know(df, column):\n",
    "    df[column] = df[column].replace(\"Dont Know\", \"Do not know\", regex=False)\n",
    "    return df\n",
    "\n",
    "for column in columns_to_clean1:\n",
    "    df = replace_dont_know(df, column)"
   ]
  },
  {
   "cell_type": "code",
   "execution_count": 12,
   "metadata": {},
   "outputs": [],
   "source": [
    "columns_to_clean2 = [\n",
    "    'FacilityCleanliness',\n",
    "    'FacilityAccessibility'\n",
    "    ]\n",
    "\n",
    "def replace_mixed_with_text(df, column_name):\n",
    "    def replace_value(value):\n",
    "        satisfaction_map = {\n",
    "            1: 'Very Unsatisfied',\n",
    "            2: 'Unsatisfied',\n",
    "            3: 'Okay',\n",
    "            4: 'Satisfied',\n",
    "            5: 'Very Satisfied'\n",
    "        }\n",
    "        if isinstance(value, str) and value[0].isdigit():\n",
    "            num = int(value[0])\n",
    "        elif isinstance(value, int):\n",
    "            num = value\n",
    "        else:\n",
    "            return value\n",
    "\n",
    "        return satisfaction_map.get(num, value)\n",
    "\n",
    "    df[column_name] = df[column_name].apply(replace_value)\n",
    "    return df\n",
    "\n",
    "for column in columns_to_clean2:\n",
    "    df = replace_mixed_with_text(df, column)"
   ]
  },
  {
   "cell_type": "code",
   "execution_count": 13,
   "metadata": {},
   "outputs": [],
   "source": [
    "def standardize_satisfaction(df, column_name):\n",
    "    # Mapping for consolidating variations of satisfaction levels\n",
    "    satisfaction_map = {\n",
    "        '5': 'Very Satisfied',\n",
    "        5.0: 'Very Satisfied',\n",
    "        '4': 'Satisfied',\n",
    "        4.0: 'Satisfied',\n",
    "        '3': 'Okay',\n",
    "        3.0: 'Okay',\n",
    "        '2': 'Unsatisfied',\n",
    "        2.0: 'Unsatisfied',\n",
    "        '1': 'Very Unsatisfied',\n",
    "        1.0: 'Very Unsatisfied',\n",
    "        'Dissatisfied': 'Unsatisfied'\n",
    "    }\n",
    "    \n",
    "    # Replace values based on the map\n",
    "    df[column_name] = df[column_name].replace(satisfaction_map)\n",
    "    return df\n",
    "\n",
    "df = standardize_satisfaction(df, 'ServiceSatisfaction')\n"
   ]
  },
  {
   "cell_type": "code",
   "execution_count": 14,
   "metadata": {},
   "outputs": [
    {
     "name": "stdout",
     "output_type": "stream",
     "text": [
      "FacilityLevel\n",
      "4.0    4802\n",
      "3.0    4515\n",
      "2.0    2889\n",
      "5.0    2240\n",
      "1.0     556\n",
      "6.0      14\n",
      "Name: count, dtype: int64\n"
     ]
    }
   ],
   "source": [
    "print(df['FacilityLevel'].value_counts())"
   ]
  },
  {
   "cell_type": "code",
   "execution_count": 15,
   "metadata": {},
   "outputs": [],
   "source": [
    "def standardize_facility(df, column_name):\n",
    "    # Mapping for consolidating variations of satisfaction levels\n",
    "    satisfaction_map = {\n",
    "        1.0: 'Community Health Unit',\n",
    "        2.0: 'Dispensaries and Private Clinics',\n",
    "        3.0: 'Health Centers',\n",
    "        4.0: 'Sub-County Hospitals',\n",
    "        5.0: 'County Referral Hospitals',\n",
    "        6.0: 'National Referral Hospitals',\n",
    "    }\n",
    "    \n",
    "    # Replace values based on the map\n",
    "    df[column_name] = df[column_name].replace(satisfaction_map)\n",
    "    return df\n",
    "\n",
    "df = standardize_facility(df, 'FacilityLevel')"
   ]
  },
  {
   "cell_type": "code",
   "execution_count": 16,
   "metadata": {},
   "outputs": [],
   "source": [
    "def replace_symbols_and_words(df, column_name):\n",
    "    df[column_name] = df[column_name].str.replace('<', 'Less than', regex=False)\n",
    "    df[column_name] = df[column_name].str.replace('>', 'More than', regex=False)\n",
    "    df[column_name] = df[column_name].str.replace('minutes', 'mins', regex=False)\n",
    "    return df\n",
    "\n",
    "df = replace_symbols_and_words(df, 'FacilityAccessTime')"
   ]
  },
  {
   "cell_type": "code",
   "execution_count": 17,
   "metadata": {},
   "outputs": [],
   "source": [
    "def replace_symbols_and_words(df, column_name):\n",
    "    df[column_name] = df[column_name].str.replace('Less than 30mins', 'Less than 30 mins', regex=False)\n",
    "    df[column_name] = df[column_name].str.replace('More than45 mins', 'More than 45 mins', regex=False)\n",
    "    return df\n",
    "\n",
    "df = replace_symbols_and_words(df, 'FacilityAccessTime')"
   ]
  },
  {
   "cell_type": "code",
   "execution_count": 18,
   "metadata": {},
   "outputs": [],
   "source": [
    "# def remove_trailing_semicolons(df, column_names):\n",
    "#     for column in column_names:\n",
    "#         if column in df.columns:\n",
    "#             df[column] = df[column].str.rstrip(';')\n",
    "#     return df\n",
    "\n",
    "# df = pd.DataFrame(df)\n",
    "\n",
    "# columns_to_clean = ['ExpectedHIVServices', 'OperationTimes', 'OperationDays', 'PreferredVisitDays', 'PreferredVisitTimes', 'GBVAwarenessMeasures']\n",
    "\n",
    "# df2 = remove_trailing_semicolons(df, columns_to_clean)"
   ]
  },
  {
   "cell_type": "code",
   "execution_count": 19,
   "metadata": {},
   "outputs": [],
   "source": [
    "def standardize_gbv_awareness(df, column_name):\n",
    "    df[column_name] = df[column_name].str.replace('Is there a desk to report GBV as community or individual', 'Presence of GBV Desk', regex=False)\n",
    "    df[column_name] = df[column_name].str.replace('Are there training events on GBV for the community', 'Community trained on GBV', regex=False)\n",
    "    return df\n",
    "\n",
    "df = standardize_gbv_awareness(df, 'GBVAwarenessMeasures')"
   ]
  },
  {
   "cell_type": "code",
   "execution_count": 20,
   "metadata": {},
   "outputs": [
    {
     "data": {
      "text/plain": [
       "GBVAwarenessMeasures\n",
       "Presence of GBV Desk                                                                                               2250\n",
       "Presence of GBV Desk;                                                                                              1663\n",
       "GBV Posters displayed;                                                                                             1605\n",
       "Facility staff trained on GBV;                                                                                     1591\n",
       "Other;                                                                                                             1431\n",
       "Presence of GBV Desk;Hotline for reporting GBV cases;Facility staff trained on GBV;GBV Posters displayed;          1125\n",
       "Facility staff trained on GBV;GBV Posters displayed;                                                               1015\n",
       "Community trained on GBV                                                                                            844\n",
       "Presence of GBV Desk;GBV Posters displayed;                                                                         787\n",
       "Presence of GBV Desk;Facility staff trained on GBV;GBV Posters displayed;                                           608\n",
       "Hotline for reporting GBV cases;                                                                                    493\n",
       "Other                                                                                                               385\n",
       "Hotline for reporting GBV cases;Facility staff trained on GBV;GBV Posters displayed;                                276\n",
       "Hotline for reporting GBV cases;GBV Posters displayed;                                                              177\n",
       "Presence of GBV Desk;Facility staff trained on GBV;                                                                 160\n",
       "Presence of GBV Desk;Hotline for reporting GBV cases;Facility staff trained on GBV;                                  87\n",
       "Presence of GBV Desk;Hotline for reporting GBV cases;                                                                79\n",
       "Presence of GBV Desk;Hotline for reporting GBV cases;GBV Posters displayed;                                          78\n",
       "Hotline for reporting GBV cases;Facility staff trained on GBV;                                                       42\n",
       "Facility staff trained on GBV;Other;                                                                                 13\n",
       "Presence of GBV Desk;Other;                                                                                          12\n",
       "GBV Posters displayed;Other;                                                                                         12\n",
       "Facility staff trained on GBV;GBV Posters displayed;Other;                                                            8\n",
       "Presence of GBV Desk;Hotline for reporting GBV cases;Facility staff trained on GBV;GBV Posters displayed;Other;       7\n",
       "Presence of GBV Desk;Facility staff trained on GBV;Other;                                                             5\n",
       "Presence of GBV Desk;Facility staff trained on GBV;GBV Posters displayed;Other;                                       5\n",
       "Presence of GBV Desk;Hotline for reporting GBV cases;Facility staff trained on GBV;Other;                             5\n",
       "Hotline for reporting GBV cases;Facility staff trained on GBV;GBV Posters displayed;Other;                            4\n",
       "Presence of GBV Desk;GBV Posters displayed;Other;                                                                     3\n",
       "Hotline for reporting GBV cases;Other;                                                                                1\n",
       "Presence of GBV Desk;Hotline for reporting GBV cases;GBV Posters displayed;Other;                                     1\n",
       "Hotline for reporting GBV cases;GBV Posters displayed;Other;                                                          1\n",
       "Hotline for reporting GBV cases;Facility staff trained on GBV;Other;                                                  1\n",
       "Presence of GBV Desk;Hotline for reporting GBV cases;Other;                                                           1\n",
       "Name: count, dtype: int64"
      ]
     },
     "execution_count": 20,
     "metadata": {},
     "output_type": "execute_result"
    }
   ],
   "source": [
    "df['GBVAwarenessMeasures'].value_counts()"
   ]
  },
  {
   "cell_type": "code",
   "execution_count": 21,
   "metadata": {},
   "outputs": [
    {
     "name": "stdout",
     "output_type": "stream",
     "text": [
      "            Date FacilityOwnership FacilityCounty ServiceAccessDuration  \\\n",
      "0      04-Dec-23               GOK        Nairobi   More than one year    \n",
      "1      04-Dec-23               GOK        Nairobi   More than one year    \n",
      "2      04-Dec-23               GOK        Nairobi   More than one year    \n",
      "3      04-Dec-23               GOK        Nairobi   More than one year    \n",
      "4      04-Dec-23               GOK        Nairobi   More than one year    \n",
      "...          ...               ...            ...                   ...   \n",
      "46544  19-May-22               NaN            NaN                   NaN   \n",
      "46545  19-May-22               NaN            NaN                   NaN   \n",
      "46546  19-May-22               NaN            NaN                   NaN   \n",
      "46547  19-May-22               NaN            NaN                   NaN   \n",
      "46548  18-May-22               NaN            NaN                   NaN   \n",
      "\n",
      "      ServicesAwareness                          ExpectedHIVServices  \\\n",
      "0                   Yes  ART medicine ;CD 4 COUNT ;Viral Load test ;   \n",
      "1                   Yes  ART medicine ;CD 4 COUNT ;Viral Load test ;   \n",
      "2                   Yes  ART medicine ;CD 4 COUNT ;Viral Load test ;   \n",
      "3                   Yes  ART medicine ;CD 4 COUNT ;Viral Load test ;   \n",
      "4                   Yes  ART medicine ;CD 4 COUNT ;Viral Load test ;   \n",
      "...                 ...                                          ...   \n",
      "46544               NaN                                          NaN   \n",
      "46545               NaN                                          NaN   \n",
      "46546               NaN                                          NaN   \n",
      "46547               NaN                                          NaN   \n",
      "46548               NaN                                          NaN   \n",
      "\n",
      "      UnprovidedService ReferralForUnprovidedService ReferralServiceReceived  \\\n",
      "0                    No                          NaN                     NaN   \n",
      "1                    No                          NaN                     NaN   \n",
      "2                    No                          NaN                     NaN   \n",
      "3                    No                          NaN                     NaN   \n",
      "4                    No                          NaN                     NaN   \n",
      "...                 ...                          ...                     ...   \n",
      "46544               NaN                          NaN                     NaN   \n",
      "46545               NaN                          NaN                     NaN   \n",
      "46546               NaN                          NaN                     NaN   \n",
      "46547               NaN                          NaN                     NaN   \n",
      "46548               NaN                          NaN                     NaN   \n",
      "\n",
      "      ReceivedServiceDetail  ... PreferredVisitDays_Tuesday  \\\n",
      "0                       NaN  ...                          0   \n",
      "1                       NaN  ...                          0   \n",
      "2                       NaN  ...                          0   \n",
      "3                       NaN  ...                          0   \n",
      "4                       NaN  ...                          0   \n",
      "...                     ...  ...                        ...   \n",
      "46544                   NaN  ...                          0   \n",
      "46545                   NaN  ...                          0   \n",
      "46546                   NaN  ...                          0   \n",
      "46547                   NaN  ...                          0   \n",
      "46548                   NaN  ...                          0   \n",
      "\n",
      "      PreferredVisitDays_Wednesday PreferredVisitTimes_8to5  \\\n",
      "0                                0                        1   \n",
      "1                                0                        1   \n",
      "2                                1                        1   \n",
      "3                                0                        1   \n",
      "4                                1                        1   \n",
      "...                            ...                      ...   \n",
      "46544                            0                        0   \n",
      "46545                            0                        0   \n",
      "46546                            0                        0   \n",
      "46547                            0                        0   \n",
      "46548                            0                        0   \n",
      "\n",
      "      PreferredVisitTimes_After5 GBVAwarenessMeasures_CommunitytrainedonGBV  \\\n",
      "0                              0                                          0   \n",
      "1                              0                                          0   \n",
      "2                              0                                          0   \n",
      "3                              0                                          0   \n",
      "4                              0                                          0   \n",
      "...                          ...                                        ...   \n",
      "46544                          0                                          0   \n",
      "46545                          0                                          0   \n",
      "46546                          0                                          0   \n",
      "46547                          0                                          0   \n",
      "46548                          0                                          0   \n",
      "\n",
      "      GBVAwarenessMeasures_FacilitystafftrainedonGBV  \\\n",
      "0                                                  0   \n",
      "1                                                  0   \n",
      "2                                                  0   \n",
      "3                                                  0   \n",
      "4                                                  0   \n",
      "...                                              ...   \n",
      "46544                                              0   \n",
      "46545                                              0   \n",
      "46546                                              0   \n",
      "46547                                              0   \n",
      "46548                                              0   \n",
      "\n",
      "      GBVAwarenessMeasures_GBVPostersdisplayed  \\\n",
      "0                                            0   \n",
      "1                                            0   \n",
      "2                                            0   \n",
      "3                                            0   \n",
      "4                                            0   \n",
      "...                                        ...   \n",
      "46544                                        0   \n",
      "46545                                        0   \n",
      "46546                                        0   \n",
      "46547                                        0   \n",
      "46548                                        0   \n",
      "\n",
      "      GBVAwarenessMeasures_HotlineforreportingGBVcases  \\\n",
      "0                                                    0   \n",
      "1                                                    0   \n",
      "2                                                    0   \n",
      "3                                                    0   \n",
      "4                                                    0   \n",
      "...                                                ...   \n",
      "46544                                                0   \n",
      "46545                                                0   \n",
      "46546                                                0   \n",
      "46547                                                0   \n",
      "46548                                                0   \n",
      "\n",
      "      GBVAwarenessMeasures_Other GBVAwarenessMeasures_PresenceofGBVDesk  \n",
      "0                              0                                      1  \n",
      "1                              0                                      1  \n",
      "2                              0                                      1  \n",
      "3                              0                                      1  \n",
      "4                              0                                      1  \n",
      "...                          ...                                    ...  \n",
      "46544                          0                                      0  \n",
      "46545                          0                                      0  \n",
      "46546                          0                                      0  \n",
      "46547                          0                                      0  \n",
      "46548                          0                                      0  \n",
      "\n",
      "[46549 rows x 95 columns]\n"
     ]
    }
   ],
   "source": [
    "def encode_multi_select(df, columns):\n",
    "    # Iterate over the specified columns\n",
    "    for col in columns:\n",
    "        # Remove all whitespaces within each value and split based on ';'\n",
    "        # This creates a Series of lists\n",
    "        split_series = df[col].str.replace(' ', '').str.split(';')\n",
    "        \n",
    "        # Use the str.get_dummies() method on the Series of lists to perform one-hot encoding\n",
    "        # This approach handles the separation and encoding in one step\n",
    "        encoded = split_series.str.join('|').str.get_dummies()\n",
    "        \n",
    "        # Prefix the encoded column names to indicate their origin\n",
    "        encoded.columns = [f\"{col}_{option}\" for option in encoded.columns]\n",
    "        \n",
    "        # Join the encoded dataframe with the original dataframe\n",
    "        df = df.join(encoded)\n",
    "        \n",
    "        # Optionally, drop the original column if no longer needed\n",
    "        # df.drop(col, axis=1, inplace=True)\n",
    "    \n",
    "    return df\n",
    "\n",
    "# Specify the columns to encode\n",
    "columns_to_encode = ['ExpectedHIVServices', 'OperationTimes', 'OperationDays', 'PreferredVisitDays', 'PreferredVisitTimes', 'GBVAwarenessMeasures']\n",
    "\n",
    "# Apply the function\n",
    "df2 = encode_multi_select(df, columns_to_encode)\n",
    "\n",
    "print(df2)"
   ]
  },
  {
   "cell_type": "code",
   "execution_count": 22,
   "metadata": {},
   "outputs": [],
   "source": [
    "df2.drop(columns=columns_to_encode, axis=1, inplace=True)"
   ]
  },
  {
   "cell_type": "code",
   "execution_count": 23,
   "metadata": {},
   "outputs": [],
   "source": [
    "df2.to_csv('data/cleanedwnull.csv', index=False)"
   ]
  },
  {
   "cell_type": "code",
   "execution_count": 24,
   "metadata": {},
   "outputs": [
    {
     "name": "stdout",
     "output_type": "stream",
     "text": [
      "Columns to drop: ['ReferralForUnprovidedService', 'ReferralServiceReceived', 'ReceivedServiceDetail', 'CommonIssuesDropdown', 'ServiceGapsType', 'HIVTestingAvailability', 'TreatmentInterruption', 'PMTCTServiceAvailability', 'KPServiceAdequacy', 'FacilityLevel', 'FacilityCleanliness', 'FacilityAccessMode', 'FacilityAccessTime', 'FacilityAccessibility', 'WaitingTimeOpinion', 'AverageWaitingTime', 'LabResultsWaitingTimeOpinion', 'AverageLabResultsWaitingTime', 'SupportGroupAvailability', 'SpecifySupportGroup', 'YouthFriendlyServices', 'PWDFriendlyServicesOpinion', 'TopFacilityDislikes']\n",
      "Number of columns to drop: 23\n",
      "DataFrame shape after dropping columns: (46549, 66)\n"
     ]
    }
   ],
   "source": [
    "missing_percentage = df2.isnull().mean() * 100\n",
    "\n",
    "threshold = 60\n",
    "\n",
    "columns_to_drop = missing_percentage[missing_percentage > threshold].index.tolist()\n",
    "\n",
    "print(\"Columns to drop:\", columns_to_drop)\n",
    "\n",
    "print(\"Number of columns to drop:\", len(columns_to_drop))\n",
    "\n",
    "df2.drop(columns=columns_to_drop, axis=1, inplace=True)\n",
    "\n",
    "print(\"DataFrame shape after dropping columns:\", df2.shape)"
   ]
  },
  {
   "cell_type": "code",
   "execution_count": 25,
   "metadata": {},
   "outputs": [
    {
     "name": "stdout",
     "output_type": "stream",
     "text": [
      "Original DataFrame shape: (46549, 66)\n",
      "Cleaned DataFrame shape: (39862, 66)\n",
      "Rows dropped: 6687\n"
     ]
    }
   ],
   "source": [
    "threshold_percentage = 100\n",
    "\n",
    "threshold = len(df2.columns) * (threshold_percentage / 100)\n",
    "\n",
    "data = df2.dropna(thresh=threshold).copy()\n",
    "\n",
    "print(\"Original DataFrame shape:\", df2.shape)\n",
    "print(\"Cleaned DataFrame shape:\", data.shape)\n",
    "\n",
    "rows_dropped = df2.shape[0] - data.shape[0]\n",
    "print(\"Rows dropped:\", rows_dropped)"
   ]
  },
  {
   "cell_type": "code",
   "execution_count": 26,
   "metadata": {},
   "outputs": [],
   "source": [
    "df2.to_csv('data/cleanednonull.csv', index=False)"
   ]
  },
  {
   "cell_type": "code",
   "execution_count": 27,
   "metadata": {},
   "outputs": [
    {
     "data": {
      "text/html": [
       "<div>\n",
       "<style scoped>\n",
       "    .dataframe tbody tr th:only-of-type {\n",
       "        vertical-align: middle;\n",
       "    }\n",
       "\n",
       "    .dataframe tbody tr th {\n",
       "        vertical-align: top;\n",
       "    }\n",
       "\n",
       "    .dataframe thead th {\n",
       "        text-align: right;\n",
       "    }\n",
       "</style>\n",
       "<table border=\"1\" class=\"dataframe\">\n",
       "  <thead>\n",
       "    <tr style=\"text-align: right;\">\n",
       "      <th></th>\n",
       "      <th>ExpectedHIVServices_ARTmedicine</th>\n",
       "      <th>ExpectedHIVServices_CD4COUNT</th>\n",
       "      <th>ExpectedHIVServices_Cervicalcancerscreening</th>\n",
       "      <th>ExpectedHIVServices_ChestXray(thiscapturesonlyonesectorofclientswithchestissues)</th>\n",
       "      <th>ExpectedHIVServices_CondomDistribution</th>\n",
       "      <th>ExpectedHIVServices_Contraceptives</th>\n",
       "      <th>ExpectedHIVServices_Diagnosis</th>\n",
       "      <th>ExpectedHIVServices_DifferentiatedServiceDelivery(DSD)</th>\n",
       "      <th>ExpectedHIVServices_HIVTestingandCounseling(HTS)</th>\n",
       "      <th>ExpectedHIVServices_KPservices</th>\n",
       "      <th>...</th>\n",
       "      <th>PreferredVisitDays_Tuesday</th>\n",
       "      <th>PreferredVisitDays_Wednesday</th>\n",
       "      <th>PreferredVisitTimes_8to5</th>\n",
       "      <th>PreferredVisitTimes_After5</th>\n",
       "      <th>GBVAwarenessMeasures_CommunitytrainedonGBV</th>\n",
       "      <th>GBVAwarenessMeasures_FacilitystafftrainedonGBV</th>\n",
       "      <th>GBVAwarenessMeasures_GBVPostersdisplayed</th>\n",
       "      <th>GBVAwarenessMeasures_HotlineforreportingGBVcases</th>\n",
       "      <th>GBVAwarenessMeasures_Other</th>\n",
       "      <th>GBVAwarenessMeasures_PresenceofGBVDesk</th>\n",
       "    </tr>\n",
       "  </thead>\n",
       "  <tbody>\n",
       "    <tr>\n",
       "      <th>count</th>\n",
       "      <td>39862.000000</td>\n",
       "      <td>39862.000000</td>\n",
       "      <td>39862.00000</td>\n",
       "      <td>39862.000000</td>\n",
       "      <td>39862.000000</td>\n",
       "      <td>39862.000000</td>\n",
       "      <td>39862.000000</td>\n",
       "      <td>39862.000000</td>\n",
       "      <td>39862.000000</td>\n",
       "      <td>39862.000000</td>\n",
       "      <td>...</td>\n",
       "      <td>39862.000000</td>\n",
       "      <td>39862.000000</td>\n",
       "      <td>39862.000000</td>\n",
       "      <td>39862.000000</td>\n",
       "      <td>39862.000000</td>\n",
       "      <td>39862.000000</td>\n",
       "      <td>39862.000000</td>\n",
       "      <td>39862.000000</td>\n",
       "      <td>39862.000000</td>\n",
       "      <td>39862.000000</td>\n",
       "    </tr>\n",
       "    <tr>\n",
       "      <th>mean</th>\n",
       "      <td>0.747203</td>\n",
       "      <td>0.085169</td>\n",
       "      <td>0.05647</td>\n",
       "      <td>0.017636</td>\n",
       "      <td>0.025187</td>\n",
       "      <td>0.047664</td>\n",
       "      <td>0.041769</td>\n",
       "      <td>0.016758</td>\n",
       "      <td>0.098013</td>\n",
       "      <td>0.004541</td>\n",
       "      <td>...</td>\n",
       "      <td>0.171115</td>\n",
       "      <td>0.170338</td>\n",
       "      <td>0.357433</td>\n",
       "      <td>0.001831</td>\n",
       "      <td>0.019066</td>\n",
       "      <td>0.118484</td>\n",
       "      <td>0.137524</td>\n",
       "      <td>0.057147</td>\n",
       "      <td>0.045081</td>\n",
       "      <td>0.163815</td>\n",
       "    </tr>\n",
       "    <tr>\n",
       "      <th>std</th>\n",
       "      <td>0.434621</td>\n",
       "      <td>0.279136</td>\n",
       "      <td>0.23083</td>\n",
       "      <td>0.131625</td>\n",
       "      <td>0.156694</td>\n",
       "      <td>0.213058</td>\n",
       "      <td>0.200064</td>\n",
       "      <td>0.128364</td>\n",
       "      <td>0.297336</td>\n",
       "      <td>0.067232</td>\n",
       "      <td>...</td>\n",
       "      <td>0.376614</td>\n",
       "      <td>0.375934</td>\n",
       "      <td>0.479250</td>\n",
       "      <td>0.042755</td>\n",
       "      <td>0.136758</td>\n",
       "      <td>0.323184</td>\n",
       "      <td>0.344404</td>\n",
       "      <td>0.232126</td>\n",
       "      <td>0.207483</td>\n",
       "      <td>0.370112</td>\n",
       "    </tr>\n",
       "    <tr>\n",
       "      <th>min</th>\n",
       "      <td>0.000000</td>\n",
       "      <td>0.000000</td>\n",
       "      <td>0.00000</td>\n",
       "      <td>0.000000</td>\n",
       "      <td>0.000000</td>\n",
       "      <td>0.000000</td>\n",
       "      <td>0.000000</td>\n",
       "      <td>0.000000</td>\n",
       "      <td>0.000000</td>\n",
       "      <td>0.000000</td>\n",
       "      <td>...</td>\n",
       "      <td>0.000000</td>\n",
       "      <td>0.000000</td>\n",
       "      <td>0.000000</td>\n",
       "      <td>0.000000</td>\n",
       "      <td>0.000000</td>\n",
       "      <td>0.000000</td>\n",
       "      <td>0.000000</td>\n",
       "      <td>0.000000</td>\n",
       "      <td>0.000000</td>\n",
       "      <td>0.000000</td>\n",
       "    </tr>\n",
       "    <tr>\n",
       "      <th>25%</th>\n",
       "      <td>0.000000</td>\n",
       "      <td>0.000000</td>\n",
       "      <td>0.00000</td>\n",
       "      <td>0.000000</td>\n",
       "      <td>0.000000</td>\n",
       "      <td>0.000000</td>\n",
       "      <td>0.000000</td>\n",
       "      <td>0.000000</td>\n",
       "      <td>0.000000</td>\n",
       "      <td>0.000000</td>\n",
       "      <td>...</td>\n",
       "      <td>0.000000</td>\n",
       "      <td>0.000000</td>\n",
       "      <td>0.000000</td>\n",
       "      <td>0.000000</td>\n",
       "      <td>0.000000</td>\n",
       "      <td>0.000000</td>\n",
       "      <td>0.000000</td>\n",
       "      <td>0.000000</td>\n",
       "      <td>0.000000</td>\n",
       "      <td>0.000000</td>\n",
       "    </tr>\n",
       "    <tr>\n",
       "      <th>50%</th>\n",
       "      <td>1.000000</td>\n",
       "      <td>0.000000</td>\n",
       "      <td>0.00000</td>\n",
       "      <td>0.000000</td>\n",
       "      <td>0.000000</td>\n",
       "      <td>0.000000</td>\n",
       "      <td>0.000000</td>\n",
       "      <td>0.000000</td>\n",
       "      <td>0.000000</td>\n",
       "      <td>0.000000</td>\n",
       "      <td>...</td>\n",
       "      <td>0.000000</td>\n",
       "      <td>0.000000</td>\n",
       "      <td>0.000000</td>\n",
       "      <td>0.000000</td>\n",
       "      <td>0.000000</td>\n",
       "      <td>0.000000</td>\n",
       "      <td>0.000000</td>\n",
       "      <td>0.000000</td>\n",
       "      <td>0.000000</td>\n",
       "      <td>0.000000</td>\n",
       "    </tr>\n",
       "    <tr>\n",
       "      <th>75%</th>\n",
       "      <td>1.000000</td>\n",
       "      <td>0.000000</td>\n",
       "      <td>0.00000</td>\n",
       "      <td>0.000000</td>\n",
       "      <td>0.000000</td>\n",
       "      <td>0.000000</td>\n",
       "      <td>0.000000</td>\n",
       "      <td>0.000000</td>\n",
       "      <td>0.000000</td>\n",
       "      <td>0.000000</td>\n",
       "      <td>...</td>\n",
       "      <td>0.000000</td>\n",
       "      <td>0.000000</td>\n",
       "      <td>1.000000</td>\n",
       "      <td>0.000000</td>\n",
       "      <td>0.000000</td>\n",
       "      <td>0.000000</td>\n",
       "      <td>0.000000</td>\n",
       "      <td>0.000000</td>\n",
       "      <td>0.000000</td>\n",
       "      <td>0.000000</td>\n",
       "    </tr>\n",
       "    <tr>\n",
       "      <th>max</th>\n",
       "      <td>1.000000</td>\n",
       "      <td>1.000000</td>\n",
       "      <td>1.00000</td>\n",
       "      <td>1.000000</td>\n",
       "      <td>1.000000</td>\n",
       "      <td>1.000000</td>\n",
       "      <td>1.000000</td>\n",
       "      <td>1.000000</td>\n",
       "      <td>1.000000</td>\n",
       "      <td>1.000000</td>\n",
       "      <td>...</td>\n",
       "      <td>1.000000</td>\n",
       "      <td>1.000000</td>\n",
       "      <td>1.000000</td>\n",
       "      <td>1.000000</td>\n",
       "      <td>1.000000</td>\n",
       "      <td>1.000000</td>\n",
       "      <td>1.000000</td>\n",
       "      <td>1.000000</td>\n",
       "      <td>1.000000</td>\n",
       "      <td>1.000000</td>\n",
       "    </tr>\n",
       "  </tbody>\n",
       "</table>\n",
       "<p>8 rows × 50 columns</p>\n",
       "</div>"
      ],
      "text/plain": [
       "       ExpectedHIVServices_ARTmedicine  ExpectedHIVServices_CD4COUNT  \\\n",
       "count                     39862.000000                  39862.000000   \n",
       "mean                          0.747203                      0.085169   \n",
       "std                           0.434621                      0.279136   \n",
       "min                           0.000000                      0.000000   \n",
       "25%                           0.000000                      0.000000   \n",
       "50%                           1.000000                      0.000000   \n",
       "75%                           1.000000                      0.000000   \n",
       "max                           1.000000                      1.000000   \n",
       "\n",
       "       ExpectedHIVServices_Cervicalcancerscreening  \\\n",
       "count                                  39862.00000   \n",
       "mean                                       0.05647   \n",
       "std                                        0.23083   \n",
       "min                                        0.00000   \n",
       "25%                                        0.00000   \n",
       "50%                                        0.00000   \n",
       "75%                                        0.00000   \n",
       "max                                        1.00000   \n",
       "\n",
       "       ExpectedHIVServices_ChestXray(thiscapturesonlyonesectorofclientswithchestissues)  \\\n",
       "count                                       39862.000000                                  \n",
       "mean                                            0.017636                                  \n",
       "std                                             0.131625                                  \n",
       "min                                             0.000000                                  \n",
       "25%                                             0.000000                                  \n",
       "50%                                             0.000000                                  \n",
       "75%                                             0.000000                                  \n",
       "max                                             1.000000                                  \n",
       "\n",
       "       ExpectedHIVServices_CondomDistribution  \\\n",
       "count                            39862.000000   \n",
       "mean                                 0.025187   \n",
       "std                                  0.156694   \n",
       "min                                  0.000000   \n",
       "25%                                  0.000000   \n",
       "50%                                  0.000000   \n",
       "75%                                  0.000000   \n",
       "max                                  1.000000   \n",
       "\n",
       "       ExpectedHIVServices_Contraceptives  ExpectedHIVServices_Diagnosis  \\\n",
       "count                        39862.000000                   39862.000000   \n",
       "mean                             0.047664                       0.041769   \n",
       "std                              0.213058                       0.200064   \n",
       "min                              0.000000                       0.000000   \n",
       "25%                              0.000000                       0.000000   \n",
       "50%                              0.000000                       0.000000   \n",
       "75%                              0.000000                       0.000000   \n",
       "max                              1.000000                       1.000000   \n",
       "\n",
       "       ExpectedHIVServices_DifferentiatedServiceDelivery(DSD)  \\\n",
       "count                                       39862.000000        \n",
       "mean                                            0.016758        \n",
       "std                                             0.128364        \n",
       "min                                             0.000000        \n",
       "25%                                             0.000000        \n",
       "50%                                             0.000000        \n",
       "75%                                             0.000000        \n",
       "max                                             1.000000        \n",
       "\n",
       "       ExpectedHIVServices_HIVTestingandCounseling(HTS)  \\\n",
       "count                                      39862.000000   \n",
       "mean                                           0.098013   \n",
       "std                                            0.297336   \n",
       "min                                            0.000000   \n",
       "25%                                            0.000000   \n",
       "50%                                            0.000000   \n",
       "75%                                            0.000000   \n",
       "max                                            1.000000   \n",
       "\n",
       "       ExpectedHIVServices_KPservices  ...  PreferredVisitDays_Tuesday  \\\n",
       "count                    39862.000000  ...                39862.000000   \n",
       "mean                         0.004541  ...                    0.171115   \n",
       "std                          0.067232  ...                    0.376614   \n",
       "min                          0.000000  ...                    0.000000   \n",
       "25%                          0.000000  ...                    0.000000   \n",
       "50%                          0.000000  ...                    0.000000   \n",
       "75%                          0.000000  ...                    0.000000   \n",
       "max                          1.000000  ...                    1.000000   \n",
       "\n",
       "       PreferredVisitDays_Wednesday  PreferredVisitTimes_8to5  \\\n",
       "count                  39862.000000              39862.000000   \n",
       "mean                       0.170338                  0.357433   \n",
       "std                        0.375934                  0.479250   \n",
       "min                        0.000000                  0.000000   \n",
       "25%                        0.000000                  0.000000   \n",
       "50%                        0.000000                  0.000000   \n",
       "75%                        0.000000                  1.000000   \n",
       "max                        1.000000                  1.000000   \n",
       "\n",
       "       PreferredVisitTimes_After5  GBVAwarenessMeasures_CommunitytrainedonGBV  \\\n",
       "count                39862.000000                                39862.000000   \n",
       "mean                     0.001831                                    0.019066   \n",
       "std                      0.042755                                    0.136758   \n",
       "min                      0.000000                                    0.000000   \n",
       "25%                      0.000000                                    0.000000   \n",
       "50%                      0.000000                                    0.000000   \n",
       "75%                      0.000000                                    0.000000   \n",
       "max                      1.000000                                    1.000000   \n",
       "\n",
       "       GBVAwarenessMeasures_FacilitystafftrainedonGBV  \\\n",
       "count                                    39862.000000   \n",
       "mean                                         0.118484   \n",
       "std                                          0.323184   \n",
       "min                                          0.000000   \n",
       "25%                                          0.000000   \n",
       "50%                                          0.000000   \n",
       "75%                                          0.000000   \n",
       "max                                          1.000000   \n",
       "\n",
       "       GBVAwarenessMeasures_GBVPostersdisplayed  \\\n",
       "count                              39862.000000   \n",
       "mean                                   0.137524   \n",
       "std                                    0.344404   \n",
       "min                                    0.000000   \n",
       "25%                                    0.000000   \n",
       "50%                                    0.000000   \n",
       "75%                                    0.000000   \n",
       "max                                    1.000000   \n",
       "\n",
       "       GBVAwarenessMeasures_HotlineforreportingGBVcases  \\\n",
       "count                                      39862.000000   \n",
       "mean                                           0.057147   \n",
       "std                                            0.232126   \n",
       "min                                            0.000000   \n",
       "25%                                            0.000000   \n",
       "50%                                            0.000000   \n",
       "75%                                            0.000000   \n",
       "max                                            1.000000   \n",
       "\n",
       "       GBVAwarenessMeasures_Other  GBVAwarenessMeasures_PresenceofGBVDesk  \n",
       "count                39862.000000                            39862.000000  \n",
       "mean                     0.045081                                0.163815  \n",
       "std                      0.207483                                0.370112  \n",
       "min                      0.000000                                0.000000  \n",
       "25%                      0.000000                                0.000000  \n",
       "50%                      0.000000                                0.000000  \n",
       "75%                      0.000000                                0.000000  \n",
       "max                      1.000000                                1.000000  \n",
       "\n",
       "[8 rows x 50 columns]"
      ]
     },
     "execution_count": 27,
     "metadata": {},
     "output_type": "execute_result"
    }
   ],
   "source": [
    "# General descriptive statistics\n",
    "data.describe()"
   ]
  },
  {
   "cell_type": "code",
   "execution_count": 28,
   "metadata": {},
   "outputs": [
    {
     "data": {
      "text/plain": [
       "ServiceSatisfaction\n",
       "Satisfied                22585\n",
       "Very Satisfied           15966\n",
       "Unsatisfied                584\n",
       "Okay                       467\n",
       "Do not know                127\n",
       "Very Unsatisfied            74\n",
       "Prefer not to answer        59\n",
       "Name: count, dtype: int64"
      ]
     },
     "execution_count": 28,
     "metadata": {},
     "output_type": "execute_result"
    }
   ],
   "source": [
    "data['ServiceSatisfaction'].value_counts()"
   ]
  },
  {
   "cell_type": "code",
   "execution_count": 29,
   "metadata": {},
   "outputs": [
    {
     "name": "stdout",
     "output_type": "stream",
     "text": [
      "ServiceSatisfaction\n",
      "1     23052\n",
      "2     15966\n",
      "0       658\n",
      "99      186\n",
      "Name: count, dtype: int64\n"
     ]
    },
    {
     "name": "stderr",
     "output_type": "stream",
     "text": [
      "C:\\Users\\mogam\\AppData\\Local\\Temp\\ipykernel_10272\\1833295796.py:12: FutureWarning: Downcasting behavior in `replace` is deprecated and will be removed in a future version. To retain the old behavior, explicitly call `result.infer_objects(copy=False)`. To opt-in to the future behavior, set `pd.set_option('future.no_silent_downcasting', True)`\n",
      "  data.loc[:, 'ServiceSatisfaction'] = data['ServiceSatisfaction'].replace(recategorization_mapping)\n"
     ]
    }
   ],
   "source": [
    "recategorization_mapping = {\n",
    "    'Very Satisfied': 2,\n",
    "    'Satisfied': 1,\n",
    "    'Okay': 1,\n",
    "    'Unsatisfied': 0,\n",
    "    'Very Unsatisfied': 0,\n",
    "    #'Unknown': 0,\n",
    "    'Do not know': 99,\n",
    "    'Prefer not to answer ': 99\n",
    "}\n",
    "\n",
    "data.loc[:, 'ServiceSatisfaction'] = data['ServiceSatisfaction'].replace(recategorization_mapping)\n",
    "\n",
    "# After replacement, you might want to ensure the data type is what you expect\n",
    "# For example, if you want to ensure it's an integer (especially if NaN values are not expected)\n",
    "data['ServiceSatisfaction'] = data['ServiceSatisfaction'].astype(int)\n",
    "\n",
    "# Verify the changes\n",
    "print(data['ServiceSatisfaction'].value_counts())"
   ]
  },
  {
   "cell_type": "code",
   "execution_count": 30,
   "metadata": {},
   "outputs": [],
   "source": [
    "model_data = data[data.ServiceSatisfaction != 99]"
   ]
  },
  {
   "cell_type": "code",
   "execution_count": 31,
   "metadata": {},
   "outputs": [],
   "source": [
    "model_data = model_data.drop(['Date', 'FacilityCounty', 'FacilityOwnership'], axis=1)"
   ]
  },
  {
   "cell_type": "code",
   "execution_count": 32,
   "metadata": {},
   "outputs": [],
   "source": [
    "# Assuming subset_df is your DataFrame and 'ServiceSatisfaction' is the column of interest\n",
    "\n",
    "# Split the dataset into separate groups based on 'ServiceSatisfaction'\n",
    "class_3_df = model_data[model_data['ServiceSatisfaction'] == 2]\n",
    "class_2_df = model_data[model_data['ServiceSatisfaction'] == 1]\n",
    "class_1_df = model_data[model_data['ServiceSatisfaction'] == 0]\n",
    "\n",
    "# Get the target number of instances to match, which is the number of instances in class 1\n",
    "target_number = class_1_df.shape[0]\n",
    "\n",
    "# Randomly sample from classes 3 and 2 to match the number of instances in class 1\n",
    "class_3_sampled_df = class_3_df.sample(n=target_number, random_state=42)\n",
    "class_2_sampled_df = class_2_df.sample(n=target_number, random_state=42)\n",
    "\n",
    "balanced_df = pd.concat([class_3_sampled_df, class_2_sampled_df, class_1_df])"
   ]
  },
  {
   "cell_type": "code",
   "execution_count": 33,
   "metadata": {},
   "outputs": [
    {
     "data": {
      "text/plain": [
       "ServiceSatisfaction\n",
       "2    658\n",
       "1    658\n",
       "0    658\n",
       "Name: count, dtype: int64"
      ]
     },
     "execution_count": 33,
     "metadata": {},
     "output_type": "execute_result"
    }
   ],
   "source": [
    "balanced_df['ServiceSatisfaction'].value_counts()"
   ]
  },
  {
   "cell_type": "code",
   "execution_count": 34,
   "metadata": {},
   "outputs": [],
   "source": [
    "# ordinal_vars = balanced_df['ServiceSatisfaction']\n",
    "# nominal_vars = [col for col in balanced_df.columns if balanced_df[col].dtype == 'object' and col not in ordinal_vars]\n",
    "# encoded_data = pd.get_dummies(balanced_df, columns=nominal_vars)\n",
    "\n",
    "# # This automatically drops the original nominal columns and adds the one-hot encoded columns\n",
    "# print(\"NaN counts after pandas get_dummies:\", encoded_data.isnull().sum().sum())"
   ]
  },
  {
   "cell_type": "code",
   "execution_count": 35,
   "metadata": {},
   "outputs": [
    {
     "name": "stdout",
     "output_type": "stream",
     "text": [
      "ServiceAccessDuration                               category\n",
      "ServicesAwareness                                   category\n",
      "UnprovidedService                                   category\n",
      "ServiceSatisfaction                                    int32\n",
      "AccessChallenges                                    category\n",
      "                                                      ...   \n",
      "GBVAwarenessMeasures_FacilitystafftrainedonGBV         int64\n",
      "GBVAwarenessMeasures_GBVPostersdisplayed               int64\n",
      "GBVAwarenessMeasures_HotlineforreportingGBVcases       int64\n",
      "GBVAwarenessMeasures_Other                             int64\n",
      "GBVAwarenessMeasures_PresenceofGBVDesk                 int64\n",
      "Length: 63, dtype: object\n"
     ]
    }
   ],
   "source": [
    "\n",
    "\n",
    "# Assuming model_data is your DataFrame\n",
    "\n",
    "# Convert all columns of type 'object' to 'category'\n",
    "for col in model_data.columns[model_data.dtypes == 'object']:\n",
    "    model_data[col] = model_data[col].astype('category')\n",
    "\n",
    "# Check the new data types\n",
    "print(model_data.dtypes)\n"
   ]
  },
  {
   "cell_type": "code",
   "execution_count": 36,
   "metadata": {},
   "outputs": [],
   "source": [
    "X = model_data.drop('ServiceSatisfaction', axis=1)\n",
    "y = model_data['ServiceSatisfaction']\n",
    "# Split the data into training and testing sets (70% train, 30% test)\n",
    "X_train, X_test, y_train, y_test = train_test_split(X, y, test_size=0.3, random_state=42)"
   ]
  },
  {
   "cell_type": "code",
   "execution_count": 40,
   "metadata": {},
   "outputs": [
    {
     "name": "stdout",
     "output_type": "stream",
     "text": [
      "[LightGBM] [Warning] Unknown parameter: enable_categorical\n",
      "[LightGBM] [Warning] Unknown parameter: enable_categorical\n",
      "[LightGBM] [Info] Auto-choosing col-wise multi-threading, the overhead of testing was 0.010058 seconds.\n",
      "You can set `force_col_wise=true` to remove the overhead.\n",
      "[LightGBM] [Info] Total Bins 136\n",
      "[LightGBM] [Info] Number of data points in the train set: 27773, number of used features: 62\n",
      "[LightGBM] [Info] Start training from score -4.131501\n",
      "[LightGBM] [Info] Start training from score -0.540659\n",
      "[LightGBM] [Info] Start training from score -0.912356\n",
      "[LightGBM] [Warning] Unknown parameter: enable_categorical\n",
      "[LightGBM] [Warning] Unknown parameter: enable_categorical\n",
      "                Model   ROC AUC  Accuracy  Precision    Recall  F1 Score\n",
      "0  CatBoostClassifier  0.778288  0.696715   0.702264  0.696715  0.679132\n",
      "1      LGBMClassifier  0.779008  0.700496   0.708744  0.700496  0.681403\n",
      "2       XGBClassifier  0.777420  0.697723   0.701008  0.697723  0.682042\n",
      "Best model: LGBMClassifier(enable_categorical=True)\n"
     ]
    }
   ],
   "source": [
    "def test_models(X_train, y_train, X_test, y_test):\n",
    "    categorical_features = [col for col in X_train.columns if X_train[col].dtype.name == 'category']\n",
    "    models = {\n",
    "        'CatBoostClassifier': CatBoostClassifier(verbose=0, cat_features=categorical_features),\n",
    "        'LGBMClassifier': LGBMClassifier(enable_categorical=True),\n",
    "        'XGBClassifier': XGBClassifier(use_label_encoder=False, eval_metric='mlogloss', enable_categorical=True)\n",
    "    }\n",
    "    \n",
    "    best_model = None\n",
    "    best_score = -1\n",
    "    model_results = []\n",
    "    for name, model in models.items():\n",
    "        model.fit(X_train, y_train)\n",
    "        y_pred = model.predict(X_test)\n",
    "        roc_auc = roc_auc_score(y_test, model.predict_proba(X_test), multi_class='ovr', average='weighted') if hasattr(model, \"predict_proba\") else None\n",
    "        report = classification_report(y_test, y_pred, output_dict=True)\n",
    "        \n",
    "        model_result = {\n",
    "            'Model': name,\n",
    "            'ROC AUC': roc_auc,\n",
    "            'Accuracy': report['accuracy'],\n",
    "            'Precision': report['weighted avg']['precision'],\n",
    "            'Recall': report['weighted avg']['recall'],\n",
    "            'F1 Score': report['weighted avg']['f1-score'],\n",
    "        }\n",
    "        model_results.append(model_result)\n",
    "        \n",
    "        # Check if this model is the best\n",
    "        if roc_auc > best_score:\n",
    "            best_score = roc_auc\n",
    "            best_model = model\n",
    "\n",
    "    return pd.DataFrame(model_results), best_model\n",
    "\n",
    "# Example usage:\n",
    "results_df, best_model = test_models(X_train, y_train, X_test, y_test)\n",
    "print(results_df)\n",
    "print(\"Best model:\", best_model)"
   ]
  },
  {
   "cell_type": "code",
   "execution_count": 39,
   "metadata": {},
   "outputs": [
    {
     "data": {
      "application/vnd.plotly.v1+json": {
       "config": {
        "plotlyServerURL": "https://plot.ly"
       },
       "data": [
        {
         "alignmentgroup": "True",
         "hovertemplate": "Importance=%{x}<br>Feature=%{y}<extra></extra>",
         "legendgroup": "",
         "marker": {
          "color": "#636efa",
          "pattern": {
           "shape": ""
          }
         },
         "name": "",
         "offsetgroup": "",
         "orientation": "h",
         "showlegend": false,
         "textposition": "auto",
         "type": "bar",
         "x": [
          256,
          259,
          267,
          269,
          275,
          287,
          288,
          348,
          394,
          448
         ],
         "xaxis": "x",
         "y": [
          "AgeAppropriateServices",
          "PreferredVisitDays_Thursday",
          "ExpectedHIVServices_HIVTestingandCounseling(HTS)",
          "ServiceAccessDuration",
          "AccessChallenges",
          "GBVAwarenessMeasures_FacilitystafftrainedonGBV",
          "GBVAwarenessMeasures_GBVPostersdisplayed",
          "GBVAwarenessMeasures_PresenceofGBVDesk",
          "CounselingReceived",
          "ExpectedHIVServices_ARTmedicine"
         ],
         "yaxis": "y"
        }
       ],
       "layout": {
        "barmode": "relative",
        "legend": {
         "tracegroupgap": 0
        },
        "template": {
         "data": {
          "bar": [
           {
            "error_x": {
             "color": "#2a3f5f"
            },
            "error_y": {
             "color": "#2a3f5f"
            },
            "marker": {
             "line": {
              "color": "#E5ECF6",
              "width": 0.5
             },
             "pattern": {
              "fillmode": "overlay",
              "size": 10,
              "solidity": 0.2
             }
            },
            "type": "bar"
           }
          ],
          "barpolar": [
           {
            "marker": {
             "line": {
              "color": "#E5ECF6",
              "width": 0.5
             },
             "pattern": {
              "fillmode": "overlay",
              "size": 10,
              "solidity": 0.2
             }
            },
            "type": "barpolar"
           }
          ],
          "carpet": [
           {
            "aaxis": {
             "endlinecolor": "#2a3f5f",
             "gridcolor": "white",
             "linecolor": "white",
             "minorgridcolor": "white",
             "startlinecolor": "#2a3f5f"
            },
            "baxis": {
             "endlinecolor": "#2a3f5f",
             "gridcolor": "white",
             "linecolor": "white",
             "minorgridcolor": "white",
             "startlinecolor": "#2a3f5f"
            },
            "type": "carpet"
           }
          ],
          "choropleth": [
           {
            "colorbar": {
             "outlinewidth": 0,
             "ticks": ""
            },
            "type": "choropleth"
           }
          ],
          "contour": [
           {
            "colorbar": {
             "outlinewidth": 0,
             "ticks": ""
            },
            "colorscale": [
             [
              0,
              "#0d0887"
             ],
             [
              0.1111111111111111,
              "#46039f"
             ],
             [
              0.2222222222222222,
              "#7201a8"
             ],
             [
              0.3333333333333333,
              "#9c179e"
             ],
             [
              0.4444444444444444,
              "#bd3786"
             ],
             [
              0.5555555555555556,
              "#d8576b"
             ],
             [
              0.6666666666666666,
              "#ed7953"
             ],
             [
              0.7777777777777778,
              "#fb9f3a"
             ],
             [
              0.8888888888888888,
              "#fdca26"
             ],
             [
              1,
              "#f0f921"
             ]
            ],
            "type": "contour"
           }
          ],
          "contourcarpet": [
           {
            "colorbar": {
             "outlinewidth": 0,
             "ticks": ""
            },
            "type": "contourcarpet"
           }
          ],
          "heatmap": [
           {
            "colorbar": {
             "outlinewidth": 0,
             "ticks": ""
            },
            "colorscale": [
             [
              0,
              "#0d0887"
             ],
             [
              0.1111111111111111,
              "#46039f"
             ],
             [
              0.2222222222222222,
              "#7201a8"
             ],
             [
              0.3333333333333333,
              "#9c179e"
             ],
             [
              0.4444444444444444,
              "#bd3786"
             ],
             [
              0.5555555555555556,
              "#d8576b"
             ],
             [
              0.6666666666666666,
              "#ed7953"
             ],
             [
              0.7777777777777778,
              "#fb9f3a"
             ],
             [
              0.8888888888888888,
              "#fdca26"
             ],
             [
              1,
              "#f0f921"
             ]
            ],
            "type": "heatmap"
           }
          ],
          "heatmapgl": [
           {
            "colorbar": {
             "outlinewidth": 0,
             "ticks": ""
            },
            "colorscale": [
             [
              0,
              "#0d0887"
             ],
             [
              0.1111111111111111,
              "#46039f"
             ],
             [
              0.2222222222222222,
              "#7201a8"
             ],
             [
              0.3333333333333333,
              "#9c179e"
             ],
             [
              0.4444444444444444,
              "#bd3786"
             ],
             [
              0.5555555555555556,
              "#d8576b"
             ],
             [
              0.6666666666666666,
              "#ed7953"
             ],
             [
              0.7777777777777778,
              "#fb9f3a"
             ],
             [
              0.8888888888888888,
              "#fdca26"
             ],
             [
              1,
              "#f0f921"
             ]
            ],
            "type": "heatmapgl"
           }
          ],
          "histogram": [
           {
            "marker": {
             "pattern": {
              "fillmode": "overlay",
              "size": 10,
              "solidity": 0.2
             }
            },
            "type": "histogram"
           }
          ],
          "histogram2d": [
           {
            "colorbar": {
             "outlinewidth": 0,
             "ticks": ""
            },
            "colorscale": [
             [
              0,
              "#0d0887"
             ],
             [
              0.1111111111111111,
              "#46039f"
             ],
             [
              0.2222222222222222,
              "#7201a8"
             ],
             [
              0.3333333333333333,
              "#9c179e"
             ],
             [
              0.4444444444444444,
              "#bd3786"
             ],
             [
              0.5555555555555556,
              "#d8576b"
             ],
             [
              0.6666666666666666,
              "#ed7953"
             ],
             [
              0.7777777777777778,
              "#fb9f3a"
             ],
             [
              0.8888888888888888,
              "#fdca26"
             ],
             [
              1,
              "#f0f921"
             ]
            ],
            "type": "histogram2d"
           }
          ],
          "histogram2dcontour": [
           {
            "colorbar": {
             "outlinewidth": 0,
             "ticks": ""
            },
            "colorscale": [
             [
              0,
              "#0d0887"
             ],
             [
              0.1111111111111111,
              "#46039f"
             ],
             [
              0.2222222222222222,
              "#7201a8"
             ],
             [
              0.3333333333333333,
              "#9c179e"
             ],
             [
              0.4444444444444444,
              "#bd3786"
             ],
             [
              0.5555555555555556,
              "#d8576b"
             ],
             [
              0.6666666666666666,
              "#ed7953"
             ],
             [
              0.7777777777777778,
              "#fb9f3a"
             ],
             [
              0.8888888888888888,
              "#fdca26"
             ],
             [
              1,
              "#f0f921"
             ]
            ],
            "type": "histogram2dcontour"
           }
          ],
          "mesh3d": [
           {
            "colorbar": {
             "outlinewidth": 0,
             "ticks": ""
            },
            "type": "mesh3d"
           }
          ],
          "parcoords": [
           {
            "line": {
             "colorbar": {
              "outlinewidth": 0,
              "ticks": ""
             }
            },
            "type": "parcoords"
           }
          ],
          "pie": [
           {
            "automargin": true,
            "type": "pie"
           }
          ],
          "scatter": [
           {
            "fillpattern": {
             "fillmode": "overlay",
             "size": 10,
             "solidity": 0.2
            },
            "type": "scatter"
           }
          ],
          "scatter3d": [
           {
            "line": {
             "colorbar": {
              "outlinewidth": 0,
              "ticks": ""
             }
            },
            "marker": {
             "colorbar": {
              "outlinewidth": 0,
              "ticks": ""
             }
            },
            "type": "scatter3d"
           }
          ],
          "scattercarpet": [
           {
            "marker": {
             "colorbar": {
              "outlinewidth": 0,
              "ticks": ""
             }
            },
            "type": "scattercarpet"
           }
          ],
          "scattergeo": [
           {
            "marker": {
             "colorbar": {
              "outlinewidth": 0,
              "ticks": ""
             }
            },
            "type": "scattergeo"
           }
          ],
          "scattergl": [
           {
            "marker": {
             "colorbar": {
              "outlinewidth": 0,
              "ticks": ""
             }
            },
            "type": "scattergl"
           }
          ],
          "scattermapbox": [
           {
            "marker": {
             "colorbar": {
              "outlinewidth": 0,
              "ticks": ""
             }
            },
            "type": "scattermapbox"
           }
          ],
          "scatterpolar": [
           {
            "marker": {
             "colorbar": {
              "outlinewidth": 0,
              "ticks": ""
             }
            },
            "type": "scatterpolar"
           }
          ],
          "scatterpolargl": [
           {
            "marker": {
             "colorbar": {
              "outlinewidth": 0,
              "ticks": ""
             }
            },
            "type": "scatterpolargl"
           }
          ],
          "scatterternary": [
           {
            "marker": {
             "colorbar": {
              "outlinewidth": 0,
              "ticks": ""
             }
            },
            "type": "scatterternary"
           }
          ],
          "surface": [
           {
            "colorbar": {
             "outlinewidth": 0,
             "ticks": ""
            },
            "colorscale": [
             [
              0,
              "#0d0887"
             ],
             [
              0.1111111111111111,
              "#46039f"
             ],
             [
              0.2222222222222222,
              "#7201a8"
             ],
             [
              0.3333333333333333,
              "#9c179e"
             ],
             [
              0.4444444444444444,
              "#bd3786"
             ],
             [
              0.5555555555555556,
              "#d8576b"
             ],
             [
              0.6666666666666666,
              "#ed7953"
             ],
             [
              0.7777777777777778,
              "#fb9f3a"
             ],
             [
              0.8888888888888888,
              "#fdca26"
             ],
             [
              1,
              "#f0f921"
             ]
            ],
            "type": "surface"
           }
          ],
          "table": [
           {
            "cells": {
             "fill": {
              "color": "#EBF0F8"
             },
             "line": {
              "color": "white"
             }
            },
            "header": {
             "fill": {
              "color": "#C8D4E3"
             },
             "line": {
              "color": "white"
             }
            },
            "type": "table"
           }
          ]
         },
         "layout": {
          "annotationdefaults": {
           "arrowcolor": "#2a3f5f",
           "arrowhead": 0,
           "arrowwidth": 1
          },
          "autotypenumbers": "strict",
          "coloraxis": {
           "colorbar": {
            "outlinewidth": 0,
            "ticks": ""
           }
          },
          "colorscale": {
           "diverging": [
            [
             0,
             "#8e0152"
            ],
            [
             0.1,
             "#c51b7d"
            ],
            [
             0.2,
             "#de77ae"
            ],
            [
             0.3,
             "#f1b6da"
            ],
            [
             0.4,
             "#fde0ef"
            ],
            [
             0.5,
             "#f7f7f7"
            ],
            [
             0.6,
             "#e6f5d0"
            ],
            [
             0.7,
             "#b8e186"
            ],
            [
             0.8,
             "#7fbc41"
            ],
            [
             0.9,
             "#4d9221"
            ],
            [
             1,
             "#276419"
            ]
           ],
           "sequential": [
            [
             0,
             "#0d0887"
            ],
            [
             0.1111111111111111,
             "#46039f"
            ],
            [
             0.2222222222222222,
             "#7201a8"
            ],
            [
             0.3333333333333333,
             "#9c179e"
            ],
            [
             0.4444444444444444,
             "#bd3786"
            ],
            [
             0.5555555555555556,
             "#d8576b"
            ],
            [
             0.6666666666666666,
             "#ed7953"
            ],
            [
             0.7777777777777778,
             "#fb9f3a"
            ],
            [
             0.8888888888888888,
             "#fdca26"
            ],
            [
             1,
             "#f0f921"
            ]
           ],
           "sequentialminus": [
            [
             0,
             "#0d0887"
            ],
            [
             0.1111111111111111,
             "#46039f"
            ],
            [
             0.2222222222222222,
             "#7201a8"
            ],
            [
             0.3333333333333333,
             "#9c179e"
            ],
            [
             0.4444444444444444,
             "#bd3786"
            ],
            [
             0.5555555555555556,
             "#d8576b"
            ],
            [
             0.6666666666666666,
             "#ed7953"
            ],
            [
             0.7777777777777778,
             "#fb9f3a"
            ],
            [
             0.8888888888888888,
             "#fdca26"
            ],
            [
             1,
             "#f0f921"
            ]
           ]
          },
          "colorway": [
           "#636efa",
           "#EF553B",
           "#00cc96",
           "#ab63fa",
           "#FFA15A",
           "#19d3f3",
           "#FF6692",
           "#B6E880",
           "#FF97FF",
           "#FECB52"
          ],
          "font": {
           "color": "#2a3f5f"
          },
          "geo": {
           "bgcolor": "white",
           "lakecolor": "white",
           "landcolor": "#E5ECF6",
           "showlakes": true,
           "showland": true,
           "subunitcolor": "white"
          },
          "hoverlabel": {
           "align": "left"
          },
          "hovermode": "closest",
          "mapbox": {
           "style": "light"
          },
          "paper_bgcolor": "white",
          "plot_bgcolor": "#E5ECF6",
          "polar": {
           "angularaxis": {
            "gridcolor": "white",
            "linecolor": "white",
            "ticks": ""
           },
           "bgcolor": "#E5ECF6",
           "radialaxis": {
            "gridcolor": "white",
            "linecolor": "white",
            "ticks": ""
           }
          },
          "scene": {
           "xaxis": {
            "backgroundcolor": "#E5ECF6",
            "gridcolor": "white",
            "gridwidth": 2,
            "linecolor": "white",
            "showbackground": true,
            "ticks": "",
            "zerolinecolor": "white"
           },
           "yaxis": {
            "backgroundcolor": "#E5ECF6",
            "gridcolor": "white",
            "gridwidth": 2,
            "linecolor": "white",
            "showbackground": true,
            "ticks": "",
            "zerolinecolor": "white"
           },
           "zaxis": {
            "backgroundcolor": "#E5ECF6",
            "gridcolor": "white",
            "gridwidth": 2,
            "linecolor": "white",
            "showbackground": true,
            "ticks": "",
            "zerolinecolor": "white"
           }
          },
          "shapedefaults": {
           "line": {
            "color": "#2a3f5f"
           }
          },
          "ternary": {
           "aaxis": {
            "gridcolor": "white",
            "linecolor": "white",
            "ticks": ""
           },
           "baxis": {
            "gridcolor": "white",
            "linecolor": "white",
            "ticks": ""
           },
           "bgcolor": "#E5ECF6",
           "caxis": {
            "gridcolor": "white",
            "linecolor": "white",
            "ticks": ""
           }
          },
          "title": {
           "x": 0.05
          },
          "xaxis": {
           "automargin": true,
           "gridcolor": "white",
           "linecolor": "white",
           "ticks": "",
           "title": {
            "standoff": 15
           },
           "zerolinecolor": "white",
           "zerolinewidth": 2
          },
          "yaxis": {
           "automargin": true,
           "gridcolor": "white",
           "linecolor": "white",
           "ticks": "",
           "title": {
            "standoff": 15
           },
           "zerolinecolor": "white",
           "zerolinewidth": 2
          }
         }
        },
        "title": {
         "text": "Top 10 Feature Importances (Highest to Lowest)"
        },
        "xaxis": {
         "anchor": "y",
         "domain": [
          0,
          1
         ],
         "title": {
          "text": "Importance"
         }
        },
        "yaxis": {
         "anchor": "x",
         "domain": [
          0,
          1
         ],
         "title": {
          "text": "Feature"
         }
        }
       }
      }
     },
     "metadata": {},
     "output_type": "display_data"
    }
   ],
   "source": [
    "feature_importances = best_model.feature_importances_\n",
    "\n",
    "# Create a Series for the feature importances\n",
    "importances = pd.Series(feature_importances, index=X_train.columns)\n",
    "\n",
    "# Sort the importances and select the top 10, then reverse the Series for plotting\n",
    "top_10_importances = importances.sort_values(ascending=False)[:10][::-1]\n",
    "\n",
    "# Create a bar chart using Plotly\n",
    "fig = px.bar(top_10_importances, x=top_10_importances.values, y=top_10_importances.index, orientation='h',\n",
    "             labels={'x': 'Importance', 'index': 'Feature'},\n",
    "             title='Top 10 Feature Importances (Highest to Lowest)')\n",
    "\n",
    "# Show the plot\n",
    "fig.show()"
   ]
  }
 ],
 "metadata": {
  "kernelspec": {
   "display_name": ".venv",
   "language": "python",
   "name": "python3"
  },
  "language_info": {
   "codemirror_mode": {
    "name": "ipython",
    "version": 3
   },
   "file_extension": ".py",
   "mimetype": "text/x-python",
   "name": "python",
   "nbconvert_exporter": "python",
   "pygments_lexer": "ipython3",
   "version": "3.10.7"
  }
 },
 "nbformat": 4,
 "nbformat_minor": 2
}
