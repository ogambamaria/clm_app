{
 "cells": [
  {
   "cell_type": "code",
   "execution_count": 1,
   "metadata": {},
   "outputs": [],
   "source": [
    "import pandas as pd\n",
    "import plotly.express as px"
   ]
  },
  {
   "cell_type": "code",
   "execution_count": 2,
   "metadata": {},
   "outputs": [
    {
     "name": "stderr",
     "output_type": "stream",
     "text": [
      "C:\\Users\\mogam\\AppData\\Local\\Temp\\ipykernel_9448\\2048010857.py:1: DtypeWarning: Columns (4,11,15,24,25,42,56,62,64,65,66,67,68,69,70,71,72,73,74,75,76,77,78,79,80,81,82,83,84) have mixed types. Specify dtype option on import or set low_memory=False.\n",
      "  imonitor = pd.read_csv('data/imonitor_1303.csv')\n"
     ]
    },
    {
     "data": {
      "text/html": [
       "<div>\n",
       "<style scoped>\n",
       "    .dataframe tbody tr th:only-of-type {\n",
       "        vertical-align: middle;\n",
       "    }\n",
       "\n",
       "    .dataframe tbody tr th {\n",
       "        vertical-align: top;\n",
       "    }\n",
       "\n",
       "    .dataframe thead th {\n",
       "        text-align: right;\n",
       "    }\n",
       "</style>\n",
       "<table border=\"1\" class=\"dataframe\">\n",
       "  <thead>\n",
       "    <tr style=\"text-align: right;\">\n",
       "      <th></th>\n",
       "      <th>Survey ID</th>\n",
       "      <th>Data of feedback collection</th>\n",
       "      <th>Facility name and MFL Code if applicable</th>\n",
       "      <th>Facility ownership</th>\n",
       "      <th>Please specify</th>\n",
       "      <th>County</th>\n",
       "      <th>What is your month; and year of birth</th>\n",
       "      <th>How do you consider yourself?</th>\n",
       "      <th>What is the highest level of education you completed?</th>\n",
       "      <th>Please specify.1</th>\n",
       "      <th>...</th>\n",
       "      <th>how long do you wait on average to get a service; which service was that?</th>\n",
       "      <th>Do you consider the waiting time for lab test results long?</th>\n",
       "      <th>how long do you wait on average to get your lab test result?</th>\n",
       "      <th>Does the facility offer support groups?</th>\n",
       "      <th>Specify the support group you belong to</th>\n",
       "      <th>In your opinion are the services offered at this facility youth friendly?</th>\n",
       "      <th>What measures have been put in place to create GBV awareness and its harmful effects within the community?</th>\n",
       "      <th>Please Specify</th>\n",
       "      <th>PWD In your opinion are the services offered at this facility persons-with-disability friendly?</th>\n",
       "      <th>What are the top 1-3 things you don’t like about this facility with regards to care and treatment?</th>\n",
       "    </tr>\n",
       "  </thead>\n",
       "  <tbody>\n",
       "    <tr>\n",
       "      <th>0</th>\n",
       "      <td>2390063</td>\n",
       "      <td>2024-02-28</td>\n",
       "      <td>BABA DOGO HEALTH CENTRE</td>\n",
       "      <td>GOK</td>\n",
       "      <td>NaN</td>\n",
       "      <td>Nairobi</td>\n",
       "      <td>1977-09-03</td>\n",
       "      <td>Male</td>\n",
       "      <td>Primary school</td>\n",
       "      <td>NaN</td>\n",
       "      <td>...</td>\n",
       "      <td>NaN</td>\n",
       "      <td>No</td>\n",
       "      <td>NaN</td>\n",
       "      <td>Yes</td>\n",
       "      <td>Adults</td>\n",
       "      <td>Yes</td>\n",
       "      <td>Presence of GBV Desk;</td>\n",
       "      <td>Chiefs office</td>\n",
       "      <td>Yes</td>\n",
       "      <td>NaN</td>\n",
       "    </tr>\n",
       "    <tr>\n",
       "      <th>1</th>\n",
       "      <td>2390062</td>\n",
       "      <td>2024-02-28</td>\n",
       "      <td>BABA DOGO HEALTH CENTRE</td>\n",
       "      <td>GOK</td>\n",
       "      <td>NaN</td>\n",
       "      <td>Nairobi</td>\n",
       "      <td>1972-08-12</td>\n",
       "      <td>Female</td>\n",
       "      <td>Secondary school</td>\n",
       "      <td>NaN</td>\n",
       "      <td>...</td>\n",
       "      <td>NaN</td>\n",
       "      <td>No</td>\n",
       "      <td>NaN</td>\n",
       "      <td>No</td>\n",
       "      <td>NaN</td>\n",
       "      <td>Yes</td>\n",
       "      <td>Presence of GBV Desk;</td>\n",
       "      <td>Chiefs office</td>\n",
       "      <td>NaN</td>\n",
       "      <td>NaN</td>\n",
       "    </tr>\n",
       "    <tr>\n",
       "      <th>2</th>\n",
       "      <td>2390061</td>\n",
       "      <td>2024-02-28</td>\n",
       "      <td>BABA DOGO HEALTH CENTRE</td>\n",
       "      <td>GOK</td>\n",
       "      <td>NaN</td>\n",
       "      <td>Nairobi</td>\n",
       "      <td>1984-08-31</td>\n",
       "      <td>Female</td>\n",
       "      <td>Primary school</td>\n",
       "      <td>NaN</td>\n",
       "      <td>...</td>\n",
       "      <td>NaN</td>\n",
       "      <td>Yes</td>\n",
       "      <td>2 hours</td>\n",
       "      <td>No</td>\n",
       "      <td>NaN</td>\n",
       "      <td>Yes</td>\n",
       "      <td>Presence of GBV Desk;</td>\n",
       "      <td>Chiefs office</td>\n",
       "      <td>Yes</td>\n",
       "      <td>NaN</td>\n",
       "    </tr>\n",
       "    <tr>\n",
       "      <th>3</th>\n",
       "      <td>2390060</td>\n",
       "      <td>2024-02-28</td>\n",
       "      <td>BABA DOGO HEALTH CENTRE</td>\n",
       "      <td>GOK</td>\n",
       "      <td>NaN</td>\n",
       "      <td>Nairobi</td>\n",
       "      <td>1977-05-07</td>\n",
       "      <td>Female</td>\n",
       "      <td>Primary school</td>\n",
       "      <td>NaN</td>\n",
       "      <td>...</td>\n",
       "      <td>NaN</td>\n",
       "      <td>No</td>\n",
       "      <td>NaN</td>\n",
       "      <td>No</td>\n",
       "      <td>NaN</td>\n",
       "      <td>Yes</td>\n",
       "      <td>Presence of GBV Desk;</td>\n",
       "      <td>Police station</td>\n",
       "      <td>NaN</td>\n",
       "      <td>NaN</td>\n",
       "    </tr>\n",
       "    <tr>\n",
       "      <th>4</th>\n",
       "      <td>2390059</td>\n",
       "      <td>2024-02-28</td>\n",
       "      <td>BABA DOGO HEALTH CENTRE</td>\n",
       "      <td>GOK</td>\n",
       "      <td>NaN</td>\n",
       "      <td>Nairobi</td>\n",
       "      <td>1987-06-13</td>\n",
       "      <td>Male</td>\n",
       "      <td>Vocational training or technician</td>\n",
       "      <td>NaN</td>\n",
       "      <td>...</td>\n",
       "      <td>1 hour</td>\n",
       "      <td>Yes</td>\n",
       "      <td>2 hours</td>\n",
       "      <td>Yes</td>\n",
       "      <td>Adults</td>\n",
       "      <td>Yes</td>\n",
       "      <td>Presence of GBV Desk;</td>\n",
       "      <td>Police station</td>\n",
       "      <td>NaN</td>\n",
       "      <td>NaN</td>\n",
       "    </tr>\n",
       "  </tbody>\n",
       "</table>\n",
       "<p>5 rows × 85 columns</p>\n",
       "</div>"
      ],
      "text/plain": [
       "   Survey ID Data of feedback collection  \\\n",
       "0    2390063                  2024-02-28   \n",
       "1    2390062                  2024-02-28   \n",
       "2    2390061                  2024-02-28   \n",
       "3    2390060                  2024-02-28   \n",
       "4    2390059                  2024-02-28   \n",
       "\n",
       "  Facility name and MFL Code if applicable Facility ownership Please specify  \\\n",
       "0                  BABA DOGO HEALTH CENTRE                GOK            NaN   \n",
       "1                  BABA DOGO HEALTH CENTRE                GOK            NaN   \n",
       "2                  BABA DOGO HEALTH CENTRE                GOK            NaN   \n",
       "3                  BABA DOGO HEALTH CENTRE                GOK            NaN   \n",
       "4                  BABA DOGO HEALTH CENTRE                GOK            NaN   \n",
       "\n",
       "    County What is your month; and year of birth  \\\n",
       "0  Nairobi                            1977-09-03   \n",
       "1  Nairobi                            1972-08-12   \n",
       "2  Nairobi                            1984-08-31   \n",
       "3  Nairobi                            1977-05-07   \n",
       "4  Nairobi                            1987-06-13   \n",
       "\n",
       "  How do you consider yourself?   \\\n",
       "0                           Male   \n",
       "1                         Female   \n",
       "2                         Female   \n",
       "3                         Female   \n",
       "4                           Male   \n",
       "\n",
       "  What is the highest level of education you completed? Please specify.1  ...  \\\n",
       "0                                     Primary school                 NaN  ...   \n",
       "1                                   Secondary school                 NaN  ...   \n",
       "2                                     Primary school                 NaN  ...   \n",
       "3                                     Primary school                 NaN  ...   \n",
       "4                 Vocational training or technician                  NaN  ...   \n",
       "\n",
       "  how long do you wait on average to get a service; which service was that?  \\\n",
       "0                                                NaN                          \n",
       "1                                                NaN                          \n",
       "2                                                NaN                          \n",
       "3                                                NaN                          \n",
       "4                                            1 hour                           \n",
       "\n",
       "  Do you consider the waiting time for lab test results long?  \\\n",
       "0                                                 No            \n",
       "1                                                 No            \n",
       "2                                                Yes            \n",
       "3                                                 No            \n",
       "4                                                Yes            \n",
       "\n",
       "  how long do you wait on average to get your lab test result?  \\\n",
       "0                                                NaN             \n",
       "1                                                NaN             \n",
       "2                                           2 hours              \n",
       "3                                                NaN             \n",
       "4                                           2 hours              \n",
       "\n",
       "  Does the facility offer support groups?  \\\n",
       "0                                     Yes   \n",
       "1                                      No   \n",
       "2                                      No   \n",
       "3                                      No   \n",
       "4                                     Yes   \n",
       "\n",
       "  Specify the support group you belong to  \\\n",
       "0                                  Adults   \n",
       "1                                     NaN   \n",
       "2                                     NaN   \n",
       "3                                     NaN   \n",
       "4                                  Adults   \n",
       "\n",
       "  In your opinion are the services offered at this facility youth friendly?  \\\n",
       "0                                                Yes                          \n",
       "1                                                Yes                          \n",
       "2                                                Yes                          \n",
       "3                                                Yes                          \n",
       "4                                                Yes                          \n",
       "\n",
       "  What measures have been put in place to create GBV awareness and its harmful effects within the community?   \\\n",
       "0                              Presence of GBV Desk;                                                            \n",
       "1                              Presence of GBV Desk;                                                            \n",
       "2                              Presence of GBV Desk;                                                            \n",
       "3                              Presence of GBV Desk;                                                            \n",
       "4                              Presence of GBV Desk;                                                            \n",
       "\n",
       "    Please Specify  \\\n",
       "0   Chiefs office    \n",
       "1   Chiefs office    \n",
       "2   Chiefs office    \n",
       "3  Police station    \n",
       "4  Police station    \n",
       "\n",
       "  PWD In your opinion are the services offered at this facility persons-with-disability friendly?  \\\n",
       "0                                                Yes                                                \n",
       "1                                                NaN                                                \n",
       "2                                                Yes                                                \n",
       "3                                                NaN                                                \n",
       "4                                                NaN                                                \n",
       "\n",
       "  What are the top 1-3 things you don’t like about this facility with regards to care and treatment?  \n",
       "0                                                NaN                                                  \n",
       "1                                                NaN                                                  \n",
       "2                                                NaN                                                  \n",
       "3                                                NaN                                                  \n",
       "4                                                NaN                                                  \n",
       "\n",
       "[5 rows x 85 columns]"
      ]
     },
     "execution_count": 2,
     "metadata": {},
     "output_type": "execute_result"
    }
   ],
   "source": [
    "imonitor = pd.read_csv('data/imonitor_1303.csv')\n",
    "imonitor.head()"
   ]
  },
  {
   "cell_type": "code",
   "execution_count": 3,
   "metadata": {},
   "outputs": [
    {
     "data": {
      "text/plain": [
       "(46549, 85)"
      ]
     },
     "execution_count": 3,
     "metadata": {},
     "output_type": "execute_result"
    }
   ],
   "source": [
    "imonitor.shape"
   ]
  },
  {
   "cell_type": "code",
   "execution_count": 4,
   "metadata": {},
   "outputs": [],
   "source": [
    "# Find and drop columns that contain \"Please specify\" or \"Please Specify\"\n",
    "cols_to_drop = [col for col in imonitor.columns if \"Please specify\" in col or \"Please Specify\" in col]\n",
    "\n",
    "# Drop these columns from the DataFrame in a single operation\n",
    "imonitor.drop(cols_to_drop, axis=1, inplace=True)"
   ]
  },
  {
   "cell_type": "code",
   "execution_count": 5,
   "metadata": {},
   "outputs": [
    {
     "data": {
      "text/plain": [
       "(46549, 69)"
      ]
     },
     "execution_count": 5,
     "metadata": {},
     "output_type": "execute_result"
    }
   ],
   "source": [
    "imonitor.shape"
   ]
  },
  {
   "cell_type": "code",
   "execution_count": 6,
   "metadata": {},
   "outputs": [],
   "source": [
    "column_name_mapping = {\n",
    "    \"Survey ID\": \"SurveyID\",\n",
    "    \"Organization name coordinating the feedback from the clients\": \"OrgFeedbackCoordinator\",\n",
    "    \"Data of feedback collection\": \"FeedbackDate\",\n",
    "    \"Facility name and MFL Code if applicable\": \"FacilityName\",\n",
    "    \"Facility ownership\": \"FacilityOwnership\",\n",
    "    \"County\": \"County\",\n",
    "    \"What is your month; and year of birth\": \"BirthMonthYear\",\n",
    "    \"How do you consider yourself? \": \"SelfIdentity\",\n",
    "    \"What is the highest level of education you completed?\": \"EducationLevel\",\n",
    "    \"What is your current marital status? \": \"MaritalStatus\",\n",
    "    \"Which county do you currently live in?\": \"ResidenceCounty\",\n",
    "    \"What are your sources of income?\": \"IncomeSources\",\n",
    "    \"For how long have you been accessing services (based on the expected package of services) in this facility?\": \"ServiceAccessDuration\",\n",
    "    \"Are you aware of the package of services that you are entitled to?\": \"ServicesAwareness\",\n",
    "    \"According to you; which HIV related services are you likely to receive in this facility?\": \"ExpectedHIVServices\",\n",
    "    \"Is there a service that you needed that was not provided?\": \"UnprovidedService\",\n",
    "    \"Facility name\": \"UnprovidedServiceFacilityName\",\n",
    "    \"For that service that was not provided; were you referred?\": \"ReferralForUnprovidedService\",\n",
    "    \"If referred; did you receive the service where you were referred to?\": \"ReferralServiceReceived\",\n",
    "    \"If Yes which Service/Test/Medicine \": \"ReceivedServiceDetail\",\n",
    "    \"On a scale of 1 to 5; how satisfied are you with the package of services received in this facility? If 1 is VERY UNSATISFIED and 5 is VERY SATISFIED.\": \"ServiceSatisfaction\",\n",
    "    \"What did you like about the services you received?\": \"ServicesLiked\",\n",
    "    \"What did you not like about the services you received?\": \"ServicesDisliked\",\n",
    "    \"In your opinion what would you like to be improved?\": \"ImprovementSuggestions\",\n",
    "    \"Do you face any challenges when accessing the services at the facility?\": \"AccessChallenges\",\n",
    "    \"Common issues that can be added in the drop-down box\": \"CommonIssuesDropdown\",\n",
    "    \"In your opinion what can be done to improve access to the services you seek at the facility?\": \"AccessImprovementSuggestions\",\n",
    "    \"Was confidentiality considered while you were being served?\": \"Confidentiality\",\n",
    "    \"Are there age-appropriate health services for specific groups?\": \"AgeAppropriateServices\",\n",
    "    \"Does the facility allow you to share your concerns with the administration?\": \"ConcernsSharing\",\n",
    "    \"Do you know your health-related rights as a client of this facility?\": \"RightsAwareness\",\n",
    "    \"Have you ever been denied services at this facility?\": \"ServiceDenial\",\n",
    "    \"Facility name\": \"ServiceDenialFacilityName\",\n",
    "    \"Why\": \"ServiceDenialSpecify\",\n",
    "    \"Are you comfortable with getting services at this facility\": \"ComfortWithServices\",\n",
    "    \"Have you ever been counseled?\": \"CounselingReceived\",\n",
    "    \"Did you identify any gaps in the facility when you tried to access the services\": \"IdentifiedGaps\",\n",
    "    \"Service type\": \"ServiceGapsType\",\n",
    "    \"Are the HIV testing services readily available when required? \": \"HIVTestingAvailability\",\n",
    "    \"Have you ever Interrupted your treatment?\": \"TreatmentInterruption\",\n",
    "    \"Are the PMTCT services readily available when required?\": \"PMTCTServiceAvailability\",\n",
    "    \"Were reasons provided as to why these services were not available?\": \"PMTCTServiceNonavailabilityReasons\",\n",
    "    \"Are the HIV prevention; testing; treatment and care services adequate for KPs? \": \"KPServiceAdequacy\",\n",
    "    \"Were reasons provided as to why these services were not available?.1\": \"KPServiceNonavailabilityReasons\",\n",
    "    \"In your opinion are the services offered at this facility youth friendly?\": \"YouthFriendlyServices\",\n",
    "    \"In your opinion are the services offered at this facility PWD friendly?\": \"PWDFriendlyServices\",\n",
    "    \"What are the barriers to uptake of VMMC by males 25+years and above?\": \"VMMCBarriers\",\n",
    "    \"What are some of the current site level practices that community members like and would love to maintain for KP/PP ?\": \"KPCommunityPreferredPractices\",\n",
    "    \"What would you like this facility to change/do better?\": \"ChangeSuggestions\",\n",
    "    \"What measures have been put in place to create GBV awareness and its harmful effects within the community? \": \"GBVAwarenessMeasures\",\n",
    "    \"Throughout your visit what did you find interesting/pleasing about this facility that should be emulated by other facilities?\": \"PositiveObservations\",\n",
    "    \"What do you think can be improved\": \"GeneralImprovementSuggestions\",\n",
    "    \"Anything else that you would like to mention?\": \"AdditionalComments\",\n",
    "    \"What are the top 1-3 things you like about this facility with regards to care and treatment? \": \"TopFacilityFeatures\",\n",
    "    \"Facility Level\": \"FacilityLevel\",\n",
    "    \"Facility Operation times\": \"OperationTimes\",\n",
    "    \"Facility Operation Days \": \"OperationDays\",\n",
    "    \"What are your preferred days of visiting the facility\": \"PreferredVisitDays\",\n",
    "    \"What are your preferred time of visiting the facility\": \"PreferredVisitTimes\",\n",
    "    \"According to you, which HIV related service/tests/medicine are you likely to receive in this facility?\": \"ExpectedHIVServices2\",\n",
    "    \"Is there a service/test/medicine that you needed that was not provided?\": \"UnprovidedService2\",\n",
    "    \"which service/test/medicine?\": \"UnprovidedServiceDetail\",\n",
    "    \"On a scale of 1-5; how clean do you find the facility?\": \"FacilityCleanliness\",\n",
    "    \"How do you reach this facility?\": \"FacilityAccessMode\",\n",
    "    \"How long does it take to reach this facility?\": \"FacilityAccessTime\",\n",
    "    \"On a scale of 1-5; how accessible do you find this facility?\": \"FacilityAccessibility\",\n",
    "    \"Do you consider the waiting time to be seen at this facility long?\": \"WaitingTimeOpinion\",\n",
    "    \"how long do you wait on average to get a service; which service was that?\": \"AverageWaitingTime\",\n",
    "    \"Do you consider the waiting time for lab test results long?\": \"LabResultsWaitingTimeOpinion\",\n",
    "    \"how long do you wait on average to get your lab test result?\": \"AverageLabResultsWaitingTime\",\n",
    "    \"Does the facility offer support groups?\": \"SupportGroupAvailability\",\n",
    "    \"Specify the support group you belong to\": \"SpecifySupportGroup\",\n",
    "    \"In your opinion are the services offered at this facility youth friendly?.1\": \"YouthFriendlyServices2\",\n",
    "    \"What measures have been put in place to create GBV awareness and its harmful effects within the community? .1\": \"GBVAwarenessMeasures2\",\n",
    "    \"PWD In your opinion are the services offered at this facility persons-with-disability friendly?\": \"PWDFriendlyServicesOpinion2\",\n",
    "    \"What are the top 1-3 things you don’t like about this facility with regards to care and treatment?\": \"TopFacilityDislikes\"\n",
    "}\n",
    "\n",
    "df = imonitor.rename(columns=column_name_mapping)"
   ]
  },
  {
   "cell_type": "code",
   "execution_count": 7,
   "metadata": {},
   "outputs": [
    {
     "name": "stdout",
     "output_type": "stream",
     "text": [
      "SurveyID\n",
      "FeedbackDate\n",
      "FacilityName\n",
      "FacilityOwnership\n",
      "County\n",
      "BirthMonthYear\n",
      "SelfIdentity\n",
      "EducationLevel\n",
      "MaritalStatus\n",
      "ResidenceCounty\n",
      "IncomeSources\n",
      "ServiceAccessDuration\n",
      "ServicesAwareness\n",
      "ExpectedHIVServices\n",
      "UnprovidedService\n",
      "ServiceDenialFacilityName\n",
      "ReferralForUnprovidedService\n",
      "ReferralServiceReceived\n",
      "ReceivedServiceDetail\n",
      "ServiceSatisfaction\n",
      "ServicesLiked\n",
      "ServicesDisliked\n",
      "ImprovementSuggestions\n",
      "AccessChallenges\n",
      "CommonIssuesDropdown\n",
      "AccessImprovementSuggestions\n",
      "Confidentiality\n",
      "AgeAppropriateServices\n",
      "ConcernsSharing\n",
      "RightsAwareness\n",
      "ServiceDenial\n",
      "Facility name.1\n",
      "ServiceDenialSpecify\n",
      "ComfortWithServices\n",
      "Have you ever been counseled? \n",
      "IdentifiedGaps\n",
      "ServiceGapsType\n",
      "HIVTestingAvailability\n",
      "TreatmentInterruption\n",
      "PMTCTServiceAvailability\n",
      "PMTCTServiceNonavailabilityReasons\n",
      "KPServiceAdequacy\n",
      "KPServiceNonavailabilityReasons\n",
      "VMMCBarriers\n",
      "KPCommunityPreferredPractices\n",
      "ChangeSuggestions\n",
      "PositiveObservations\n",
      "GeneralImprovementSuggestions\n",
      "AdditionalComments\n",
      "TopFacilityFeatures\n",
      "FacilityLevel\n",
      "OperationTimes\n",
      "OperationDays\n",
      "PreferredVisitDays\n",
      "PreferredVisitTimes\n",
      "FacilityCleanliness\n",
      "FacilityAccessMode\n",
      "FacilityAccessTime\n",
      "FacilityAccessibility\n",
      "WaitingTimeOpinion\n",
      "AverageWaitingTime\n",
      "LabResultsWaitingTimeOpinion\n",
      "AverageLabResultsWaitingTime\n",
      "SupportGroupAvailability\n",
      "SpecifySupportGroup\n",
      "YouthFriendlyServices\n",
      "GBVAwarenessMeasures\n",
      "PWDFriendlyServicesOpinion2\n",
      "TopFacilityDislikes\n"
     ]
    }
   ],
   "source": [
    "for column in df.columns:\n",
    "    print(column)"
   ]
  },
  {
   "cell_type": "code",
   "execution_count": 8,
   "metadata": {},
   "outputs": [],
   "source": [
    "missing_percentage = df.isnull().mean() * 100\n",
    "\n",
    "# print(\"Percentage of missing values per column:\\n\", missing_percentage)"
   ]
  },
  {
   "cell_type": "code",
   "execution_count": 9,
   "metadata": {},
   "outputs": [
    {
     "name": "stdout",
     "output_type": "stream",
     "text": [
      "Columns to drop: []\n"
     ]
    }
   ],
   "source": [
    "threshold = 100\n",
    "columns_to_drop = missing_percentage[missing_percentage > threshold].index.tolist()\n",
    "print(\"Columns to drop:\", columns_to_drop)"
   ]
  },
  {
   "cell_type": "code",
   "execution_count": 10,
   "metadata": {},
   "outputs": [
    {
     "data": {
      "text/plain": [
       "(46549, 69)"
      ]
     },
     "execution_count": 10,
     "metadata": {},
     "output_type": "execute_result"
    }
   ],
   "source": [
    "df.drop(columns=columns_to_drop, axis=1, inplace=True)\n",
    "df.shape"
   ]
  },
  {
   "cell_type": "code",
   "execution_count": 11,
   "metadata": {},
   "outputs": [],
   "source": [
    "columns_to_clean1 = [\n",
    "    'WaitingTimeOpinion',\n",
    "    'LabResultsWaitingTimeOpinion'\n",
    "]\n",
    "\n",
    "def replace_dont_know(df, column):\n",
    "    df[column] = df[column].replace(\"Dont Know\", \"I don't know\", regex=False)\n",
    "    return df\n",
    "\n",
    "for column in columns_to_clean1:\n",
    "    df = replace_dont_know(df, column)"
   ]
  },
  {
   "cell_type": "code",
   "execution_count": 12,
   "metadata": {},
   "outputs": [],
   "source": [
    "columns_to_clean2 = [\n",
    "    'FacilityCleanliness',\n",
    "    'FacilityAccessibility'\n",
    "    ]\n",
    "\n",
    "def replace_mixed_with_text(df, column_name):\n",
    "    def replace_value(value):\n",
    "        satisfaction_map = {\n",
    "            1: 'Very Unsatisfied',\n",
    "            2: 'Unsatisfied',\n",
    "            3: 'Okay',\n",
    "            4: 'Satisfied',\n",
    "            5: 'Very Satisfied'\n",
    "        }\n",
    "        if isinstance(value, str) and value[0].isdigit():\n",
    "            num = int(value[0])\n",
    "        elif isinstance(value, int):\n",
    "            num = value\n",
    "        else:\n",
    "            return value\n",
    "\n",
    "        return satisfaction_map.get(num, value)\n",
    "\n",
    "    df[column_name] = df[column_name].apply(replace_value)\n",
    "    return df\n",
    "\n",
    "for column in columns_to_clean2:\n",
    "    df = replace_mixed_with_text(df, column)"
   ]
  },
  {
   "cell_type": "code",
   "execution_count": 13,
   "metadata": {},
   "outputs": [],
   "source": [
    "def standardize_satisfaction(df, column_name):\n",
    "    # Mapping for consolidating variations of satisfaction levels\n",
    "    satisfaction_map = {\n",
    "        '5': 'Very Satisfied',\n",
    "        5.0: 'Very Satisfied',\n",
    "        '4': 'Satisfied',\n",
    "        4.0: 'Satisfied',\n",
    "        '3': 'Okay',\n",
    "        3.0: 'Okay',\n",
    "        '2': 'Unsatisfied',\n",
    "        2.0: 'Unsatisfied',\n",
    "        '1': 'Very Unsatisfied',\n",
    "        1.0: 'Very Unsatisfied',\n",
    "        'Dissatisfied': 'Unsatisfied'\n",
    "    }\n",
    "    \n",
    "    # Replace values based on the map\n",
    "    df[column_name] = df[column_name].replace(satisfaction_map)\n",
    "    return df\n",
    "\n",
    "df = standardize_satisfaction(df, 'ServiceSatisfaction')\n"
   ]
  },
  {
   "cell_type": "code",
   "execution_count": 14,
   "metadata": {},
   "outputs": [
    {
     "data": {
      "application/vnd.plotly.v1+json": {
       "config": {
        "plotlyServerURL": "https://plot.ly"
       },
       "data": [
        {
         "alignmentgroup": "True",
         "hovertemplate": "ServiceSatisfaction=%{x}<br>Counts=%{y}<extra></extra>",
         "legendgroup": "",
         "marker": {
          "color": "#636efa",
          "pattern": {
           "shape": ""
          }
         },
         "name": "",
         "offsetgroup": "",
         "orientation": "v",
         "showlegend": false,
         "textposition": "auto",
         "type": "bar",
         "x": [
          "Satisfied",
          "Very Satisfied",
          "Unsatisfied",
          "Okay",
          "Do not know",
          "Very Unsatisfied",
          "Prefer not to answer "
         ],
         "xaxis": "x",
         "y": [
          23594,
          16743,
          618,
          535,
          131,
          80,
          60
         ],
         "yaxis": "y"
        }
       ],
       "layout": {
        "barmode": "relative",
        "legend": {
         "tracegroupgap": 0
        },
        "template": {
         "data": {
          "bar": [
           {
            "error_x": {
             "color": "#2a3f5f"
            },
            "error_y": {
             "color": "#2a3f5f"
            },
            "marker": {
             "line": {
              "color": "#E5ECF6",
              "width": 0.5
             },
             "pattern": {
              "fillmode": "overlay",
              "size": 10,
              "solidity": 0.2
             }
            },
            "type": "bar"
           }
          ],
          "barpolar": [
           {
            "marker": {
             "line": {
              "color": "#E5ECF6",
              "width": 0.5
             },
             "pattern": {
              "fillmode": "overlay",
              "size": 10,
              "solidity": 0.2
             }
            },
            "type": "barpolar"
           }
          ],
          "carpet": [
           {
            "aaxis": {
             "endlinecolor": "#2a3f5f",
             "gridcolor": "white",
             "linecolor": "white",
             "minorgridcolor": "white",
             "startlinecolor": "#2a3f5f"
            },
            "baxis": {
             "endlinecolor": "#2a3f5f",
             "gridcolor": "white",
             "linecolor": "white",
             "minorgridcolor": "white",
             "startlinecolor": "#2a3f5f"
            },
            "type": "carpet"
           }
          ],
          "choropleth": [
           {
            "colorbar": {
             "outlinewidth": 0,
             "ticks": ""
            },
            "type": "choropleth"
           }
          ],
          "contour": [
           {
            "colorbar": {
             "outlinewidth": 0,
             "ticks": ""
            },
            "colorscale": [
             [
              0,
              "#0d0887"
             ],
             [
              0.1111111111111111,
              "#46039f"
             ],
             [
              0.2222222222222222,
              "#7201a8"
             ],
             [
              0.3333333333333333,
              "#9c179e"
             ],
             [
              0.4444444444444444,
              "#bd3786"
             ],
             [
              0.5555555555555556,
              "#d8576b"
             ],
             [
              0.6666666666666666,
              "#ed7953"
             ],
             [
              0.7777777777777778,
              "#fb9f3a"
             ],
             [
              0.8888888888888888,
              "#fdca26"
             ],
             [
              1,
              "#f0f921"
             ]
            ],
            "type": "contour"
           }
          ],
          "contourcarpet": [
           {
            "colorbar": {
             "outlinewidth": 0,
             "ticks": ""
            },
            "type": "contourcarpet"
           }
          ],
          "heatmap": [
           {
            "colorbar": {
             "outlinewidth": 0,
             "ticks": ""
            },
            "colorscale": [
             [
              0,
              "#0d0887"
             ],
             [
              0.1111111111111111,
              "#46039f"
             ],
             [
              0.2222222222222222,
              "#7201a8"
             ],
             [
              0.3333333333333333,
              "#9c179e"
             ],
             [
              0.4444444444444444,
              "#bd3786"
             ],
             [
              0.5555555555555556,
              "#d8576b"
             ],
             [
              0.6666666666666666,
              "#ed7953"
             ],
             [
              0.7777777777777778,
              "#fb9f3a"
             ],
             [
              0.8888888888888888,
              "#fdca26"
             ],
             [
              1,
              "#f0f921"
             ]
            ],
            "type": "heatmap"
           }
          ],
          "heatmapgl": [
           {
            "colorbar": {
             "outlinewidth": 0,
             "ticks": ""
            },
            "colorscale": [
             [
              0,
              "#0d0887"
             ],
             [
              0.1111111111111111,
              "#46039f"
             ],
             [
              0.2222222222222222,
              "#7201a8"
             ],
             [
              0.3333333333333333,
              "#9c179e"
             ],
             [
              0.4444444444444444,
              "#bd3786"
             ],
             [
              0.5555555555555556,
              "#d8576b"
             ],
             [
              0.6666666666666666,
              "#ed7953"
             ],
             [
              0.7777777777777778,
              "#fb9f3a"
             ],
             [
              0.8888888888888888,
              "#fdca26"
             ],
             [
              1,
              "#f0f921"
             ]
            ],
            "type": "heatmapgl"
           }
          ],
          "histogram": [
           {
            "marker": {
             "pattern": {
              "fillmode": "overlay",
              "size": 10,
              "solidity": 0.2
             }
            },
            "type": "histogram"
           }
          ],
          "histogram2d": [
           {
            "colorbar": {
             "outlinewidth": 0,
             "ticks": ""
            },
            "colorscale": [
             [
              0,
              "#0d0887"
             ],
             [
              0.1111111111111111,
              "#46039f"
             ],
             [
              0.2222222222222222,
              "#7201a8"
             ],
             [
              0.3333333333333333,
              "#9c179e"
             ],
             [
              0.4444444444444444,
              "#bd3786"
             ],
             [
              0.5555555555555556,
              "#d8576b"
             ],
             [
              0.6666666666666666,
              "#ed7953"
             ],
             [
              0.7777777777777778,
              "#fb9f3a"
             ],
             [
              0.8888888888888888,
              "#fdca26"
             ],
             [
              1,
              "#f0f921"
             ]
            ],
            "type": "histogram2d"
           }
          ],
          "histogram2dcontour": [
           {
            "colorbar": {
             "outlinewidth": 0,
             "ticks": ""
            },
            "colorscale": [
             [
              0,
              "#0d0887"
             ],
             [
              0.1111111111111111,
              "#46039f"
             ],
             [
              0.2222222222222222,
              "#7201a8"
             ],
             [
              0.3333333333333333,
              "#9c179e"
             ],
             [
              0.4444444444444444,
              "#bd3786"
             ],
             [
              0.5555555555555556,
              "#d8576b"
             ],
             [
              0.6666666666666666,
              "#ed7953"
             ],
             [
              0.7777777777777778,
              "#fb9f3a"
             ],
             [
              0.8888888888888888,
              "#fdca26"
             ],
             [
              1,
              "#f0f921"
             ]
            ],
            "type": "histogram2dcontour"
           }
          ],
          "mesh3d": [
           {
            "colorbar": {
             "outlinewidth": 0,
             "ticks": ""
            },
            "type": "mesh3d"
           }
          ],
          "parcoords": [
           {
            "line": {
             "colorbar": {
              "outlinewidth": 0,
              "ticks": ""
             }
            },
            "type": "parcoords"
           }
          ],
          "pie": [
           {
            "automargin": true,
            "type": "pie"
           }
          ],
          "scatter": [
           {
            "fillpattern": {
             "fillmode": "overlay",
             "size": 10,
             "solidity": 0.2
            },
            "type": "scatter"
           }
          ],
          "scatter3d": [
           {
            "line": {
             "colorbar": {
              "outlinewidth": 0,
              "ticks": ""
             }
            },
            "marker": {
             "colorbar": {
              "outlinewidth": 0,
              "ticks": ""
             }
            },
            "type": "scatter3d"
           }
          ],
          "scattercarpet": [
           {
            "marker": {
             "colorbar": {
              "outlinewidth": 0,
              "ticks": ""
             }
            },
            "type": "scattercarpet"
           }
          ],
          "scattergeo": [
           {
            "marker": {
             "colorbar": {
              "outlinewidth": 0,
              "ticks": ""
             }
            },
            "type": "scattergeo"
           }
          ],
          "scattergl": [
           {
            "marker": {
             "colorbar": {
              "outlinewidth": 0,
              "ticks": ""
             }
            },
            "type": "scattergl"
           }
          ],
          "scattermapbox": [
           {
            "marker": {
             "colorbar": {
              "outlinewidth": 0,
              "ticks": ""
             }
            },
            "type": "scattermapbox"
           }
          ],
          "scatterpolar": [
           {
            "marker": {
             "colorbar": {
              "outlinewidth": 0,
              "ticks": ""
             }
            },
            "type": "scatterpolar"
           }
          ],
          "scatterpolargl": [
           {
            "marker": {
             "colorbar": {
              "outlinewidth": 0,
              "ticks": ""
             }
            },
            "type": "scatterpolargl"
           }
          ],
          "scatterternary": [
           {
            "marker": {
             "colorbar": {
              "outlinewidth": 0,
              "ticks": ""
             }
            },
            "type": "scatterternary"
           }
          ],
          "surface": [
           {
            "colorbar": {
             "outlinewidth": 0,
             "ticks": ""
            },
            "colorscale": [
             [
              0,
              "#0d0887"
             ],
             [
              0.1111111111111111,
              "#46039f"
             ],
             [
              0.2222222222222222,
              "#7201a8"
             ],
             [
              0.3333333333333333,
              "#9c179e"
             ],
             [
              0.4444444444444444,
              "#bd3786"
             ],
             [
              0.5555555555555556,
              "#d8576b"
             ],
             [
              0.6666666666666666,
              "#ed7953"
             ],
             [
              0.7777777777777778,
              "#fb9f3a"
             ],
             [
              0.8888888888888888,
              "#fdca26"
             ],
             [
              1,
              "#f0f921"
             ]
            ],
            "type": "surface"
           }
          ],
          "table": [
           {
            "cells": {
             "fill": {
              "color": "#EBF0F8"
             },
             "line": {
              "color": "white"
             }
            },
            "header": {
             "fill": {
              "color": "#C8D4E3"
             },
             "line": {
              "color": "white"
             }
            },
            "type": "table"
           }
          ]
         },
         "layout": {
          "annotationdefaults": {
           "arrowcolor": "#2a3f5f",
           "arrowhead": 0,
           "arrowwidth": 1
          },
          "autotypenumbers": "strict",
          "coloraxis": {
           "colorbar": {
            "outlinewidth": 0,
            "ticks": ""
           }
          },
          "colorscale": {
           "diverging": [
            [
             0,
             "#8e0152"
            ],
            [
             0.1,
             "#c51b7d"
            ],
            [
             0.2,
             "#de77ae"
            ],
            [
             0.3,
             "#f1b6da"
            ],
            [
             0.4,
             "#fde0ef"
            ],
            [
             0.5,
             "#f7f7f7"
            ],
            [
             0.6,
             "#e6f5d0"
            ],
            [
             0.7,
             "#b8e186"
            ],
            [
             0.8,
             "#7fbc41"
            ],
            [
             0.9,
             "#4d9221"
            ],
            [
             1,
             "#276419"
            ]
           ],
           "sequential": [
            [
             0,
             "#0d0887"
            ],
            [
             0.1111111111111111,
             "#46039f"
            ],
            [
             0.2222222222222222,
             "#7201a8"
            ],
            [
             0.3333333333333333,
             "#9c179e"
            ],
            [
             0.4444444444444444,
             "#bd3786"
            ],
            [
             0.5555555555555556,
             "#d8576b"
            ],
            [
             0.6666666666666666,
             "#ed7953"
            ],
            [
             0.7777777777777778,
             "#fb9f3a"
            ],
            [
             0.8888888888888888,
             "#fdca26"
            ],
            [
             1,
             "#f0f921"
            ]
           ],
           "sequentialminus": [
            [
             0,
             "#0d0887"
            ],
            [
             0.1111111111111111,
             "#46039f"
            ],
            [
             0.2222222222222222,
             "#7201a8"
            ],
            [
             0.3333333333333333,
             "#9c179e"
            ],
            [
             0.4444444444444444,
             "#bd3786"
            ],
            [
             0.5555555555555556,
             "#d8576b"
            ],
            [
             0.6666666666666666,
             "#ed7953"
            ],
            [
             0.7777777777777778,
             "#fb9f3a"
            ],
            [
             0.8888888888888888,
             "#fdca26"
            ],
            [
             1,
             "#f0f921"
            ]
           ]
          },
          "colorway": [
           "#636efa",
           "#EF553B",
           "#00cc96",
           "#ab63fa",
           "#FFA15A",
           "#19d3f3",
           "#FF6692",
           "#B6E880",
           "#FF97FF",
           "#FECB52"
          ],
          "font": {
           "color": "#2a3f5f"
          },
          "geo": {
           "bgcolor": "white",
           "lakecolor": "white",
           "landcolor": "#E5ECF6",
           "showlakes": true,
           "showland": true,
           "subunitcolor": "white"
          },
          "hoverlabel": {
           "align": "left"
          },
          "hovermode": "closest",
          "mapbox": {
           "style": "light"
          },
          "paper_bgcolor": "white",
          "plot_bgcolor": "#E5ECF6",
          "polar": {
           "angularaxis": {
            "gridcolor": "white",
            "linecolor": "white",
            "ticks": ""
           },
           "bgcolor": "#E5ECF6",
           "radialaxis": {
            "gridcolor": "white",
            "linecolor": "white",
            "ticks": ""
           }
          },
          "scene": {
           "xaxis": {
            "backgroundcolor": "#E5ECF6",
            "gridcolor": "white",
            "gridwidth": 2,
            "linecolor": "white",
            "showbackground": true,
            "ticks": "",
            "zerolinecolor": "white"
           },
           "yaxis": {
            "backgroundcolor": "#E5ECF6",
            "gridcolor": "white",
            "gridwidth": 2,
            "linecolor": "white",
            "showbackground": true,
            "ticks": "",
            "zerolinecolor": "white"
           },
           "zaxis": {
            "backgroundcolor": "#E5ECF6",
            "gridcolor": "white",
            "gridwidth": 2,
            "linecolor": "white",
            "showbackground": true,
            "ticks": "",
            "zerolinecolor": "white"
           }
          },
          "shapedefaults": {
           "line": {
            "color": "#2a3f5f"
           }
          },
          "ternary": {
           "aaxis": {
            "gridcolor": "white",
            "linecolor": "white",
            "ticks": ""
           },
           "baxis": {
            "gridcolor": "white",
            "linecolor": "white",
            "ticks": ""
           },
           "bgcolor": "#E5ECF6",
           "caxis": {
            "gridcolor": "white",
            "linecolor": "white",
            "ticks": ""
           }
          },
          "title": {
           "x": 0.05
          },
          "xaxis": {
           "automargin": true,
           "gridcolor": "white",
           "linecolor": "white",
           "ticks": "",
           "title": {
            "standoff": 15
           },
           "zerolinecolor": "white",
           "zerolinewidth": 2
          },
          "yaxis": {
           "automargin": true,
           "gridcolor": "white",
           "linecolor": "white",
           "ticks": "",
           "title": {
            "standoff": 15
           },
           "zerolinecolor": "white",
           "zerolinewidth": 2
          }
         }
        },
        "title": {
         "text": "Value Counts for Satisfaction with Facility Services"
        },
        "xaxis": {
         "anchor": "y",
         "domain": [
          0,
          1
         ],
         "title": {
          "text": "ServiceSatisfaction"
         }
        },
        "yaxis": {
         "anchor": "x",
         "domain": [
          0,
          1
         ],
         "title": {
          "text": "Counts"
         }
        }
       }
      }
     },
     "metadata": {},
     "output_type": "display_data"
    }
   ],
   "source": [
    "value_counts = df['ServiceSatisfaction'].value_counts()\n",
    "\n",
    "# Create a bar chart directly using the value counts Series\n",
    "fig = px.bar(value_counts, x=value_counts.index, y=value_counts.values, labels={'x': 'Satisfaction Levels', 'y': 'Counts'}, title='Value Counts for Satisfaction with Facility Services')\n",
    "\n",
    "# Show the figure\n",
    "fig.show()\n"
   ]
  }
 ],
 "metadata": {
  "kernelspec": {
   "display_name": ".venv",
   "language": "python",
   "name": "python3"
  },
  "language_info": {
   "codemirror_mode": {
    "name": "ipython",
    "version": 3
   },
   "file_extension": ".py",
   "mimetype": "text/x-python",
   "name": "python",
   "nbconvert_exporter": "python",
   "pygments_lexer": "ipython3",
   "version": "3.10.7"
  }
 },
 "nbformat": 4,
 "nbformat_minor": 2
}
