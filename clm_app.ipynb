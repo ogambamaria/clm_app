{
 "cells": [
  {
   "cell_type": "code",
   "execution_count": 52,
   "metadata": {},
   "outputs": [],
   "source": [
    "import numpy as np\n",
    "import pandas as pd\n",
    "import regex as re\n",
    "from datetime import datetime\n",
    "\n",
    "import plotly.express as px\n",
    "import plotly.graph_objs as go\n",
    "import plotly.figure_factory as ff\n",
    "\n",
    "from sklearn.model_selection import train_test_split\n",
    "from sklearn.linear_model import LogisticRegression\n",
    "from sklearn.svm import SVC\n",
    "from sklearn.preprocessing import StandardScaler, label_binarize\n",
    "from sklearn.pipeline import make_pipeline\n",
    "from sklearn.ensemble import RandomForestClassifier\n",
    "\n",
    "from sklearn.metrics import classification_report, roc_auc_score, precision_recall_curve, roc_curve, auc, average_precision_score, confusion_matrix\n",
    "from catboost import CatBoostClassifier\n",
    "from lightgbm import LGBMClassifier\n",
    "from xgboost import XGBClassifier"
   ]
  },
  {
   "cell_type": "code",
   "execution_count": 53,
   "metadata": {},
   "outputs": [
    {
     "name": "stderr",
     "output_type": "stream",
     "text": [
      "C:\\Users\\Maria\\AppData\\Local\\Temp\\ipykernel_9380\\2747984450.py:1: DtypeWarning:\n",
      "\n",
      "Columns (1,4,11,15,24,25,42,56,62,64,65,66,67,68,69,70,71,72,73,74,75,76,77,78,79,80,81,82,83,84) have mixed types. Specify dtype option on import or set low_memory=False.\n",
      "\n"
     ]
    },
    {
     "data": {
      "text/html": [
       "<div>\n",
       "<style scoped>\n",
       "    .dataframe tbody tr th:only-of-type {\n",
       "        vertical-align: middle;\n",
       "    }\n",
       "\n",
       "    .dataframe tbody tr th {\n",
       "        vertical-align: top;\n",
       "    }\n",
       "\n",
       "    .dataframe thead th {\n",
       "        text-align: right;\n",
       "    }\n",
       "</style>\n",
       "<table border=\"1\" class=\"dataframe\">\n",
       "  <thead>\n",
       "    <tr style=\"text-align: right;\">\n",
       "      <th></th>\n",
       "      <th>Survey ID</th>\n",
       "      <th>Created Date</th>\n",
       "      <th>Facility name and MFL Code if applicable</th>\n",
       "      <th>Facility ownership</th>\n",
       "      <th>Please specify</th>\n",
       "      <th>County</th>\n",
       "      <th>What is your month; and year of birth</th>\n",
       "      <th>How do you consider yourself?</th>\n",
       "      <th>What is the highest level of education you completed?</th>\n",
       "      <th>Please specify.1</th>\n",
       "      <th>...</th>\n",
       "      <th>how long do you wait on average to get a service; which service was that?</th>\n",
       "      <th>Do you consider the waiting time for lab test results long?</th>\n",
       "      <th>how long do you wait on average to get your lab test result?</th>\n",
       "      <th>Does the facility offer support groups?</th>\n",
       "      <th>Specify the support group you belong to</th>\n",
       "      <th>In your opinion are the services offered at this facility youth friendly?</th>\n",
       "      <th>What measures have been put in place to create GBV awareness and its harmful effects within the community?</th>\n",
       "      <th>Please Specify</th>\n",
       "      <th>PWD In your opinion are the services offered at this facility persons-with-disability friendly?</th>\n",
       "      <th>What are the top 1-3 things you don’t like about this facility with regards to care and treatment?</th>\n",
       "    </tr>\n",
       "  </thead>\n",
       "  <tbody>\n",
       "    <tr>\n",
       "      <th>0</th>\n",
       "      <td>2390063</td>\n",
       "      <td>04-Dec-23</td>\n",
       "      <td>BABA DOGO HEALTH CENTRE</td>\n",
       "      <td>GOK</td>\n",
       "      <td>NaN</td>\n",
       "      <td>Nairobi</td>\n",
       "      <td>1977-09-03</td>\n",
       "      <td>Male</td>\n",
       "      <td>Primary school</td>\n",
       "      <td>NaN</td>\n",
       "      <td>...</td>\n",
       "      <td>NaN</td>\n",
       "      <td>No</td>\n",
       "      <td>NaN</td>\n",
       "      <td>Yes</td>\n",
       "      <td>Adults</td>\n",
       "      <td>Yes</td>\n",
       "      <td>Presence of GBV Desk;</td>\n",
       "      <td>Chiefs office</td>\n",
       "      <td>Yes</td>\n",
       "      <td>NaN</td>\n",
       "    </tr>\n",
       "    <tr>\n",
       "      <th>1</th>\n",
       "      <td>2390062</td>\n",
       "      <td>04-Dec-23</td>\n",
       "      <td>BABA DOGO HEALTH CENTRE</td>\n",
       "      <td>GOK</td>\n",
       "      <td>NaN</td>\n",
       "      <td>Nairobi</td>\n",
       "      <td>1972-08-12</td>\n",
       "      <td>Female</td>\n",
       "      <td>Secondary school</td>\n",
       "      <td>NaN</td>\n",
       "      <td>...</td>\n",
       "      <td>NaN</td>\n",
       "      <td>No</td>\n",
       "      <td>NaN</td>\n",
       "      <td>No</td>\n",
       "      <td>NaN</td>\n",
       "      <td>Yes</td>\n",
       "      <td>Presence of GBV Desk;</td>\n",
       "      <td>Chiefs office</td>\n",
       "      <td>NaN</td>\n",
       "      <td>NaN</td>\n",
       "    </tr>\n",
       "    <tr>\n",
       "      <th>2</th>\n",
       "      <td>2390061</td>\n",
       "      <td>04-Dec-23</td>\n",
       "      <td>BABA DOGO HEALTH CENTRE</td>\n",
       "      <td>GOK</td>\n",
       "      <td>NaN</td>\n",
       "      <td>Nairobi</td>\n",
       "      <td>1984-08-31</td>\n",
       "      <td>Female</td>\n",
       "      <td>Primary school</td>\n",
       "      <td>NaN</td>\n",
       "      <td>...</td>\n",
       "      <td>NaN</td>\n",
       "      <td>Yes</td>\n",
       "      <td>2 hours</td>\n",
       "      <td>No</td>\n",
       "      <td>NaN</td>\n",
       "      <td>Yes</td>\n",
       "      <td>Presence of GBV Desk;</td>\n",
       "      <td>Chiefs office</td>\n",
       "      <td>Yes</td>\n",
       "      <td>NaN</td>\n",
       "    </tr>\n",
       "    <tr>\n",
       "      <th>3</th>\n",
       "      <td>2390060</td>\n",
       "      <td>04-Dec-23</td>\n",
       "      <td>BABA DOGO HEALTH CENTRE</td>\n",
       "      <td>GOK</td>\n",
       "      <td>NaN</td>\n",
       "      <td>Nairobi</td>\n",
       "      <td>1977-05-07</td>\n",
       "      <td>Female</td>\n",
       "      <td>Primary school</td>\n",
       "      <td>NaN</td>\n",
       "      <td>...</td>\n",
       "      <td>NaN</td>\n",
       "      <td>No</td>\n",
       "      <td>NaN</td>\n",
       "      <td>No</td>\n",
       "      <td>NaN</td>\n",
       "      <td>Yes</td>\n",
       "      <td>Presence of GBV Desk;</td>\n",
       "      <td>Police station</td>\n",
       "      <td>NaN</td>\n",
       "      <td>NaN</td>\n",
       "    </tr>\n",
       "    <tr>\n",
       "      <th>4</th>\n",
       "      <td>2390059</td>\n",
       "      <td>04-Dec-23</td>\n",
       "      <td>BABA DOGO HEALTH CENTRE</td>\n",
       "      <td>GOK</td>\n",
       "      <td>NaN</td>\n",
       "      <td>Nairobi</td>\n",
       "      <td>1987-06-13</td>\n",
       "      <td>Male</td>\n",
       "      <td>Vocational training or technician</td>\n",
       "      <td>NaN</td>\n",
       "      <td>...</td>\n",
       "      <td>1 hour</td>\n",
       "      <td>Yes</td>\n",
       "      <td>2 hours</td>\n",
       "      <td>Yes</td>\n",
       "      <td>Adults</td>\n",
       "      <td>Yes</td>\n",
       "      <td>Presence of GBV Desk;</td>\n",
       "      <td>Police station</td>\n",
       "      <td>NaN</td>\n",
       "      <td>NaN</td>\n",
       "    </tr>\n",
       "  </tbody>\n",
       "</table>\n",
       "<p>5 rows × 85 columns</p>\n",
       "</div>"
      ],
      "text/plain": [
       "   Survey ID Created Date Facility name and MFL Code if applicable  \\\n",
       "0    2390063    04-Dec-23                  BABA DOGO HEALTH CENTRE   \n",
       "1    2390062    04-Dec-23                  BABA DOGO HEALTH CENTRE   \n",
       "2    2390061    04-Dec-23                  BABA DOGO HEALTH CENTRE   \n",
       "3    2390060    04-Dec-23                  BABA DOGO HEALTH CENTRE   \n",
       "4    2390059    04-Dec-23                  BABA DOGO HEALTH CENTRE   \n",
       "\n",
       "  Facility ownership Please specify   County  \\\n",
       "0                GOK            NaN  Nairobi   \n",
       "1                GOK            NaN  Nairobi   \n",
       "2                GOK            NaN  Nairobi   \n",
       "3                GOK            NaN  Nairobi   \n",
       "4                GOK            NaN  Nairobi   \n",
       "\n",
       "  What is your month; and year of birth How do you consider yourself?   \\\n",
       "0                            1977-09-03                           Male   \n",
       "1                            1972-08-12                         Female   \n",
       "2                            1984-08-31                         Female   \n",
       "3                            1977-05-07                         Female   \n",
       "4                            1987-06-13                           Male   \n",
       "\n",
       "  What is the highest level of education you completed? Please specify.1  ...  \\\n",
       "0                                     Primary school                 NaN  ...   \n",
       "1                                   Secondary school                 NaN  ...   \n",
       "2                                     Primary school                 NaN  ...   \n",
       "3                                     Primary school                 NaN  ...   \n",
       "4                 Vocational training or technician                  NaN  ...   \n",
       "\n",
       "  how long do you wait on average to get a service; which service was that?  \\\n",
       "0                                                NaN                          \n",
       "1                                                NaN                          \n",
       "2                                                NaN                          \n",
       "3                                                NaN                          \n",
       "4                                            1 hour                           \n",
       "\n",
       "  Do you consider the waiting time for lab test results long?  \\\n",
       "0                                                 No            \n",
       "1                                                 No            \n",
       "2                                                Yes            \n",
       "3                                                 No            \n",
       "4                                                Yes            \n",
       "\n",
       "  how long do you wait on average to get your lab test result?  \\\n",
       "0                                                NaN             \n",
       "1                                                NaN             \n",
       "2                                           2 hours              \n",
       "3                                                NaN             \n",
       "4                                           2 hours              \n",
       "\n",
       "  Does the facility offer support groups?  \\\n",
       "0                                     Yes   \n",
       "1                                      No   \n",
       "2                                      No   \n",
       "3                                      No   \n",
       "4                                     Yes   \n",
       "\n",
       "  Specify the support group you belong to  \\\n",
       "0                                  Adults   \n",
       "1                                     NaN   \n",
       "2                                     NaN   \n",
       "3                                     NaN   \n",
       "4                                  Adults   \n",
       "\n",
       "  In your opinion are the services offered at this facility youth friendly?  \\\n",
       "0                                                Yes                          \n",
       "1                                                Yes                          \n",
       "2                                                Yes                          \n",
       "3                                                Yes                          \n",
       "4                                                Yes                          \n",
       "\n",
       "  What measures have been put in place to create GBV awareness and its harmful effects within the community?   \\\n",
       "0                              Presence of GBV Desk;                                                            \n",
       "1                              Presence of GBV Desk;                                                            \n",
       "2                              Presence of GBV Desk;                                                            \n",
       "3                              Presence of GBV Desk;                                                            \n",
       "4                              Presence of GBV Desk;                                                            \n",
       "\n",
       "    Please Specify  \\\n",
       "0   Chiefs office    \n",
       "1   Chiefs office    \n",
       "2   Chiefs office    \n",
       "3  Police station    \n",
       "4  Police station    \n",
       "\n",
       "  PWD In your opinion are the services offered at this facility persons-with-disability friendly?  \\\n",
       "0                                                Yes                                                \n",
       "1                                                NaN                                                \n",
       "2                                                Yes                                                \n",
       "3                                                NaN                                                \n",
       "4                                                NaN                                                \n",
       "\n",
       "  What are the top 1-3 things you don’t like about this facility with regards to care and treatment?  \n",
       "0                                                NaN                                                  \n",
       "1                                                NaN                                                  \n",
       "2                                                NaN                                                  \n",
       "3                                                NaN                                                  \n",
       "4                                                NaN                                                  \n",
       "\n",
       "[5 rows x 85 columns]"
      ]
     },
     "execution_count": 53,
     "metadata": {},
     "output_type": "execute_result"
    }
   ],
   "source": [
    "imonitor = pd.read_csv('data/imonitor_1703.csv')\n",
    "imonitor.head()"
   ]
  },
  {
   "cell_type": "code",
   "execution_count": 54,
   "metadata": {},
   "outputs": [
    {
     "data": {
      "text/plain": [
       "(46549, 85)"
      ]
     },
     "execution_count": 54,
     "metadata": {},
     "output_type": "execute_result"
    }
   ],
   "source": [
    "imonitor.shape"
   ]
  },
  {
   "cell_type": "code",
   "execution_count": 55,
   "metadata": {},
   "outputs": [],
   "source": [
    "# Find and drop columns that contain \"Please specify\" or \"Please Specify\"\n",
    "cols_to_drop = [col for col in imonitor.columns if \"Please specify\" in col or \"Please Specify\" in col]\n",
    "\n",
    "# Drop these columns from the DataFrame in a single operation\n",
    "imonitor.drop(cols_to_drop, axis=1, inplace=True)"
   ]
  },
  {
   "cell_type": "code",
   "execution_count": 56,
   "metadata": {},
   "outputs": [
    {
     "data": {
      "text/plain": [
       "(46549, 69)"
      ]
     },
     "execution_count": 56,
     "metadata": {},
     "output_type": "execute_result"
    }
   ],
   "source": [
    "imonitor.shape"
   ]
  },
  {
   "cell_type": "code",
   "execution_count": 57,
   "metadata": {},
   "outputs": [],
   "source": [
    "imonitor.columns = imonitor.columns.map(lambda x: x.strip())"
   ]
  },
  {
   "cell_type": "code",
   "execution_count": 58,
   "metadata": {},
   "outputs": [
    {
     "name": "stdout",
     "output_type": "stream",
     "text": [
      "Survey ID\n",
      "Created Date\n",
      "Facility name and MFL Code if applicable\n",
      "Facility ownership\n",
      "County\n",
      "What is your month; and year of birth\n",
      "How do you consider yourself?\n",
      "What is the highest level of education you completed?\n",
      "What is your current marital status?\n",
      "Which county do you currently live in?\n",
      "What are your sources of income?\n",
      "For how long have you been accessing services (based on the expected package of services) in this facility?\n",
      "Are you aware of the package of services that you are entitled to?\n",
      "According to you; which HIV related services are you likely to receive in this facility?\n",
      "Is there a service that you needed that was not provided?\n",
      "Facility name\n",
      "For that service that was not provided; were you referred?\n",
      "If referred; did you receive the service where you were referred to?\n",
      "If Yes which Service/Test/Medicine\n",
      "On a scale of 1 to 5; how satisfied are you with the package of services received in this facility? If 1 is VERY UNSATISFIED and 5 is VERY SATISFIED.\n",
      "What did you like about the services you received?\n",
      "What did you not like about the services you received?\n",
      "In your opinion what would you like to be improved?\n",
      "Do you face any challenges when accessing the services at the facility?\n",
      "Common issues that can be added in the drop-down box\n",
      "In your opinion what can be done to improve access to the services you seek at the facility?\n",
      "Was confidentiality considered while you were being served?\n",
      "Are there age-appropriate health services for specific groups?\n",
      "Does the facility allow you to share your concerns with the administration?\n",
      "Do you know your health-related rights as a client of this facility?\n",
      "Have you ever been denied services at this facility?\n",
      "Facility name denied service\n",
      "Why\n",
      "Are you comfortable with getting services at this facility\n",
      "Have you ever been counseled?\n",
      "Did you identify any gaps in the facility when you tried to access the services\n",
      "Service type\n",
      "Are the HIV testing services readily available when required?\n",
      "Have you ever Interrupted your treatment?\n",
      "Are the PMTCT services readily available when required?\n",
      "Were reasons provided as to why these services were not available?\n",
      "Are the HIV prevention; testing; treatment and care services adequate for KPs?\n",
      "Were reasons provided as to why these services were not available?.1\n",
      "What are the barriers to uptake of VMMC by males 25+years and above?\n",
      "What are some of the current site level practices that community members like and would love to maintain for KP/PP ?\n",
      "What would you like this facility to change/do better?\n",
      "Throughout your visit what did you find interesting/pleasing about this facility that should be emulated by other facilities?\n",
      "What do you think can be improved\n",
      "Anything else that you would like to mention?\n",
      "What are the top 1-3 things you like about this facility with regards to care and treatment?\n",
      "Facility Level\n",
      "Facility Operation times\n",
      "Facility Operation Days\n",
      "What are your preferred days of visiting the facility\n",
      "What are your preferred time of visiting the facility\n",
      "On a scale of 1-5; how clean do you find the facility?\n",
      "How do you reach this facility?\n",
      "How long does it take to reach this facility?\n",
      "On a scale of 1-5; how accessible do you find this facility?\n",
      "Do you consider the waiting time to be seen at this facility long?\n",
      "how long do you wait on average to get a service; which service was that?\n",
      "Do you consider the waiting time for lab test results long?\n",
      "how long do you wait on average to get your lab test result?\n",
      "Does the facility offer support groups?\n",
      "Specify the support group you belong to\n",
      "In your opinion are the services offered at this facility youth friendly?\n",
      "What measures have been put in place to create GBV awareness and its harmful effects within the community?\n",
      "PWD In your opinion are the services offered at this facility persons-with-disability friendly?\n",
      "What are the top 1-3 things you don’t like about this facility with regards to care and treatment?\n"
     ]
    }
   ],
   "source": [
    "for c in imonitor.columns:\n",
    "    print(c)"
   ]
  },
  {
   "cell_type": "code",
   "execution_count": 59,
   "metadata": {},
   "outputs": [],
   "source": [
    "columns_to_drop = [\n",
    "    \"Survey ID\",\n",
    "    \"Facility name and MFL Code if applicable\",\n",
    "    \"What is your month; and year of birth\",\n",
    "    \"How do you consider yourself?\",\n",
    "    \"What is the highest level of education you completed?\",\n",
    "    \"What is your current marital status?\",\n",
    "    \"Which county do you currently live in?\",\n",
    "    \"What are your sources of income?\",\n",
    "    \"Facility name\",\n",
    "    \"What did you like about the services you received?\",\n",
    "    \"What did you not like about the services you received?\",\n",
    "    \"In your opinion what would you like to be improved?\",\n",
    "    \"In your opinion what can be done to improve access to the services you seek at the facility?\",\n",
    "    \"Facility name denied service\",\n",
    "    \"Why\",\n",
    "    \"Were reasons provided as to why these services were not available?\",\n",
    "    \"Were reasons provided as to why these services were not available?.1\",\n",
    "    \"What are the barriers to uptake of VMMC by males 25+years and above?\",\n",
    "    \"What are some of the current site level practices that community members like and would love to maintain for KP/PP ?\",\n",
    "    \"What would you like this facility to change/do better?\",\n",
    "    \"Throughout your visit what did you find interesting/pleasing about this facility that should be emulated by other facilities?\",\n",
    "    \"What do you think can be improved\",\n",
    "    \"Anything else that you would like to mention?\",\n",
    "    \"What are the top 1-3 things you like about this facility with regards to care and treatment?\"\n",
    "]\n",
    "\n",
    "# Drop the columns\n",
    "imonitor.drop(columns=columns_to_drop, axis=1, inplace=True)"
   ]
  },
  {
   "cell_type": "code",
   "execution_count": 60,
   "metadata": {},
   "outputs": [],
   "source": [
    "column_name_mapping = {\n",
    "    \"Created Date\": \"Date\",\n",
    "    \"Organization name coordinating the feedback from the clients\": \"OrgFeedbackCoordinator\",\n",
    "    \"Facility ownership\": \"FacilityOwnership\",\n",
    "    \"County\": \"FacilityCounty\",\n",
    "    \"For how long have you been accessing services (based on the expected package of services) in this facility?\": \"ServiceAccessDuration\",\n",
    "    \"Are you aware of the package of services that you are entitled to?\": \"ServicesAwareness\",\n",
    "    \"According to you; which HIV related services are you likely to receive in this facility?\": \"ExpectedHIVServices\",\n",
    "    \"Is there a service that you needed that was not provided?\": \"UnprovidedService\",\n",
    "    \"Facility name no service\": \"UnprovidedServiceFacilityName\",\n",
    "    \"For that service that was not provided; were you referred?\": \"ReferralForUnprovidedService\",\n",
    "    \"If referred; did you receive the service where you were referred to?\": \"ReferralServiceReceived\",\n",
    "    \"If Yes which Service/Test/Medicine\": \"ReceivedServiceDetail\",\n",
    "    \"On a scale of 1 to 5; how satisfied are you with the package of services received in this facility? If 1 is VERY UNSATISFIED and 5 is VERY SATISFIED.\": \"ServiceSatisfaction\",\n",
    "    \"Do you face any challenges when accessing the services at the facility?\": \"AccessChallenges\",\n",
    "    \"Common issues that can be added in the drop-down box\": \"CommonIssuesDropdown\",\n",
    "    \"Was confidentiality considered while you were being served?\": \"Confidentiality\",\n",
    "    \"Are there age-appropriate health services for specific groups?\": \"AgeAppropriateServices\",\n",
    "    \"Does the facility allow you to share your concerns with the administration?\": \"ConcernsSharing\",\n",
    "    \"Do you know your health-related rights as a client of this facility?\": \"RightsAwareness\",\n",
    "    \"Have you ever been denied services at this facility?\": \"ServiceDenial\",\n",
    "    \"Are you comfortable with getting services at this facility\": \"ComfortWithServices\",\n",
    "    \"Have you ever been counseled?\": \"CounselingReceived\",\n",
    "    \"Did you identify any gaps in the facility when you tried to access the services\": \"IdentifiedGaps\",\n",
    "    \"Service type\": \"ServiceGapsType\",\n",
    "    \"Are the HIV testing services readily available when required?\": \"HIVTestingAvailability\",\n",
    "    \"Have you ever Interrupted your treatment?\": \"TreatmentInterruption\",\n",
    "    \"Are the PMTCT services readily available when required?\": \"PMTCTServiceAvailability\",\n",
    "    \"Are the HIV prevention; testing; treatment and care services adequate for KPs?\": \"KPServiceAdequacy\",\n",
    "    \"Facility Level\": \"FacilityLevel\",\n",
    "    \"Facility Operation times\": \"OperationTimes\",\n",
    "    \"Facility Operation Days\": \"OperationDays\",\n",
    "    \"What are your preferred days of visiting the facility\": \"PreferredVisitDays\",\n",
    "    \"What are your preferred time of visiting the facility\": \"PreferredVisitTimes\",\n",
    "    \"On a scale of 1-5; how clean do you find the facility?\": \"FacilityCleanliness\",\n",
    "    \"How do you reach this facility?\": \"FacilityAccessMode\",\n",
    "    \"How long does it take to reach this facility?\": \"FacilityAccessTime\",\n",
    "    \"On a scale of 1-5; how accessible do you find this facility?\": \"FacilityAccessibility\",\n",
    "    \"Do you consider the waiting time to be seen at this facility long?\": \"WaitingTimeOpinion\",\n",
    "    \"how long do you wait on average to get a service; which service was that?\": \"AverageWaitingTime\",\n",
    "    \"Do you consider the waiting time for lab test results long?\": \"LabResultsWaitingTimeOpinion\",\n",
    "    \"how long do you wait on average to get your lab test result?\": \"AverageLabResultsWaitingTime\",\n",
    "    \"Does the facility offer support groups?\": \"SupportGroupAvailability\",\n",
    "    \"Specify the support group you belong to\": \"SpecifySupportGroup\",\n",
    "    \"In your opinion are the services offered at this facility youth friendly?\": \"YouthFriendlyServices\",\n",
    "    \"What measures have been put in place to create GBV awareness and its harmful effects within the community?\": \"GBVAwarenessMeasures\",\n",
    "    \"PWD In your opinion are the services offered at this facility persons-with-disability friendly?\": \"PWDFriendlyServicesOpinion\",\n",
    "    \"What are the top 1-3 things you don’t like about this facility with regards to care and treatment?\": \"TopFacilityDislikes\"\n",
    "}\n",
    "\n",
    "# Assuming imonitor is your DataFrame\n",
    "df = imonitor.rename(columns=column_name_mapping)"
   ]
  },
  {
   "cell_type": "code",
   "execution_count": 61,
   "metadata": {},
   "outputs": [
    {
     "name": "stdout",
     "output_type": "stream",
     "text": [
      "Date\n",
      "FacilityOwnership\n",
      "FacilityCounty\n",
      "ServiceAccessDuration\n",
      "ServicesAwareness\n",
      "ExpectedHIVServices\n",
      "UnprovidedService\n",
      "ReferralForUnprovidedService\n",
      "ReferralServiceReceived\n",
      "ReceivedServiceDetail\n",
      "ServiceSatisfaction\n",
      "AccessChallenges\n",
      "CommonIssuesDropdown\n",
      "Confidentiality\n",
      "AgeAppropriateServices\n",
      "ConcernsSharing\n",
      "RightsAwareness\n",
      "ServiceDenial\n",
      "ComfortWithServices\n",
      "CounselingReceived\n",
      "IdentifiedGaps\n",
      "ServiceGapsType\n",
      "HIVTestingAvailability\n",
      "TreatmentInterruption\n",
      "PMTCTServiceAvailability\n",
      "KPServiceAdequacy\n",
      "FacilityLevel\n",
      "OperationTimes\n",
      "OperationDays\n",
      "PreferredVisitDays\n",
      "PreferredVisitTimes\n",
      "FacilityCleanliness\n",
      "FacilityAccessMode\n",
      "FacilityAccessTime\n",
      "FacilityAccessibility\n",
      "WaitingTimeOpinion\n",
      "AverageWaitingTime\n",
      "LabResultsWaitingTimeOpinion\n",
      "AverageLabResultsWaitingTime\n",
      "SupportGroupAvailability\n",
      "SpecifySupportGroup\n",
      "YouthFriendlyServices\n",
      "GBVAwarenessMeasures\n",
      "PWDFriendlyServicesOpinion\n",
      "TopFacilityDislikes\n"
     ]
    }
   ],
   "source": [
    "for c in df.columns:\n",
    "    print(c)"
   ]
  },
  {
   "cell_type": "code",
   "execution_count": 62,
   "metadata": {},
   "outputs": [],
   "source": [
    "columns_to_clean1 = [\n",
    "    'WaitingTimeOpinion',\n",
    "    'LabResultsWaitingTimeOpinion'\n",
    "]\n",
    "\n",
    "def replace_dont_know(df, column):\n",
    "    df[column] = df[column].replace(\"Dont Know\", \"Do not know\", regex=False)\n",
    "    return df\n",
    "\n",
    "for column in columns_to_clean1:\n",
    "    df = replace_dont_know(df, column)"
   ]
  },
  {
   "cell_type": "code",
   "execution_count": 63,
   "metadata": {},
   "outputs": [],
   "source": [
    "columns_to_clean2 = [\n",
    "    'FacilityCleanliness',\n",
    "    'FacilityAccessibility'\n",
    "    ]\n",
    "\n",
    "def replace_mixed_with_text(df, column_name):\n",
    "    def replace_value(value):\n",
    "        satisfaction_map = {\n",
    "            1: 'Very Unsatisfied',\n",
    "            2: 'Unsatisfied',\n",
    "            3: 'Okay',\n",
    "            4: 'Satisfied',\n",
    "            5: 'Very Satisfied'\n",
    "        }\n",
    "        if isinstance(value, str) and value[0].isdigit():\n",
    "            num = int(value[0])\n",
    "        elif isinstance(value, int):\n",
    "            num = value\n",
    "        else:\n",
    "            return value\n",
    "\n",
    "        return satisfaction_map.get(num, value)\n",
    "\n",
    "    df[column_name] = df[column_name].apply(replace_value)\n",
    "    return df\n",
    "\n",
    "for column in columns_to_clean2:\n",
    "    df = replace_mixed_with_text(df, column)"
   ]
  },
  {
   "cell_type": "code",
   "execution_count": 64,
   "metadata": {},
   "outputs": [],
   "source": [
    "def standardize_satisfaction(df, column_name):\n",
    "    # Mapping for consolidating variations of satisfaction levels\n",
    "    satisfaction_map = {\n",
    "        '5': 'Very Satisfied',\n",
    "        5.0: 'Very Satisfied',\n",
    "        '4': 'Satisfied',\n",
    "        4.0: 'Satisfied',\n",
    "        '3': 'Okay',\n",
    "        3.0: 'Okay',\n",
    "        '2': 'Unsatisfied',\n",
    "        2.0: 'Unsatisfied',\n",
    "        '1': 'Very Unsatisfied',\n",
    "        1.0: 'Very Unsatisfied',\n",
    "        'Dissatisfied': 'Unsatisfied'\n",
    "    }\n",
    "    \n",
    "    # Replace values based on the map\n",
    "    df[column_name] = df[column_name].replace(satisfaction_map)\n",
    "    return df\n",
    "\n",
    "df = standardize_satisfaction(df, 'ServiceSatisfaction')\n"
   ]
  },
  {
   "cell_type": "code",
   "execution_count": 65,
   "metadata": {},
   "outputs": [
    {
     "name": "stdout",
     "output_type": "stream",
     "text": [
      "FacilityLevel\n",
      "4.0    4802\n",
      "3.0    4515\n",
      "2.0    2889\n",
      "5.0    2240\n",
      "1.0     556\n",
      "6.0      14\n",
      "Name: count, dtype: int64\n"
     ]
    }
   ],
   "source": [
    "print(df['FacilityLevel'].value_counts())"
   ]
  },
  {
   "cell_type": "code",
   "execution_count": 66,
   "metadata": {},
   "outputs": [],
   "source": [
    "def standardize_facility(df, column_name):\n",
    "    # Mapping for consolidating variations of satisfaction levels\n",
    "    satisfaction_map = {\n",
    "        1.0: 'Community Health Unit',\n",
    "        2.0: 'Dispensaries and Private Clinics',\n",
    "        3.0: 'Health Centers',\n",
    "        4.0: 'Sub-County Hospitals',\n",
    "        5.0: 'County Referral Hospitals',\n",
    "        6.0: 'National Referral Hospitals',\n",
    "    }\n",
    "    \n",
    "    # Replace values based on the map\n",
    "    df[column_name] = df[column_name].replace(satisfaction_map)\n",
    "    return df\n",
    "\n",
    "df = standardize_facility(df, 'FacilityLevel')"
   ]
  },
  {
   "cell_type": "code",
   "execution_count": 67,
   "metadata": {},
   "outputs": [],
   "source": [
    "def replace_symbols_and_words(df, column_name):\n",
    "    df[column_name] = df[column_name].str.replace('<', 'Less than', regex=False)\n",
    "    df[column_name] = df[column_name].str.replace('>', 'More than', regex=False)\n",
    "    df[column_name] = df[column_name].str.replace('minutes', 'mins', regex=False)\n",
    "    return df\n",
    "\n",
    "df = replace_symbols_and_words(df, 'FacilityAccessTime')"
   ]
  },
  {
   "cell_type": "code",
   "execution_count": 68,
   "metadata": {},
   "outputs": [],
   "source": [
    "def replace_symbols_and_words(df, column_name):\n",
    "    df[column_name] = df[column_name].str.replace('Less than 30mins', 'Less than 30 mins', regex=False)\n",
    "    df[column_name] = df[column_name].str.replace('More than45 mins', 'More than 45 mins', regex=False)\n",
    "    return df\n",
    "\n",
    "df = replace_symbols_and_words(df, 'FacilityAccessTime')"
   ]
  },
  {
   "cell_type": "code",
   "execution_count": 69,
   "metadata": {},
   "outputs": [],
   "source": [
    "# def remove_trailing_semicolons(df, column_names):\n",
    "#     for column in column_names:\n",
    "#         if column in df.columns:\n",
    "#             df[column] = df[column].str.rstrip(';')\n",
    "#     return df\n",
    "\n",
    "# df = pd.DataFrame(df)\n",
    "\n",
    "# columns_to_clean = ['ExpectedHIVServices', 'OperationTimes', 'OperationDays', 'PreferredVisitDays', 'PreferredVisitTimes', 'GBVAwarenessMeasures']\n",
    "\n",
    "# df2 = remove_trailing_semicolons(df, columns_to_clean)"
   ]
  },
  {
   "cell_type": "code",
   "execution_count": 70,
   "metadata": {},
   "outputs": [],
   "source": [
    "def standardize_gbv_awareness(df, column_name):\n",
    "    df[column_name] = df[column_name].str.replace('Is there a desk to report GBV as community or individual', 'Presence of GBV Desk', regex=False)\n",
    "    df[column_name] = df[column_name].str.replace('Are there training events on GBV for the community', 'Community trained on GBV', regex=False)\n",
    "    return df\n",
    "\n",
    "df = standardize_gbv_awareness(df, 'GBVAwarenessMeasures')"
   ]
  },
  {
   "cell_type": "code",
   "execution_count": 71,
   "metadata": {},
   "outputs": [
    {
     "data": {
      "text/plain": [
       "GBVAwarenessMeasures\n",
       "Presence of GBV Desk                                                                                               2250\n",
       "Presence of GBV Desk;                                                                                              1663\n",
       "GBV Posters displayed;                                                                                             1605\n",
       "Facility staff trained on GBV;                                                                                     1591\n",
       "Other;                                                                                                             1431\n",
       "Presence of GBV Desk;Hotline for reporting GBV cases;Facility staff trained on GBV;GBV Posters displayed;          1125\n",
       "Facility staff trained on GBV;GBV Posters displayed;                                                               1015\n",
       "Community trained on GBV                                                                                            844\n",
       "Presence of GBV Desk;GBV Posters displayed;                                                                         787\n",
       "Presence of GBV Desk;Facility staff trained on GBV;GBV Posters displayed;                                           608\n",
       "Hotline for reporting GBV cases;                                                                                    493\n",
       "Other                                                                                                               385\n",
       "Hotline for reporting GBV cases;Facility staff trained on GBV;GBV Posters displayed;                                276\n",
       "Hotline for reporting GBV cases;GBV Posters displayed;                                                              177\n",
       "Presence of GBV Desk;Facility staff trained on GBV;                                                                 160\n",
       "Presence of GBV Desk;Hotline for reporting GBV cases;Facility staff trained on GBV;                                  87\n",
       "Presence of GBV Desk;Hotline for reporting GBV cases;                                                                79\n",
       "Presence of GBV Desk;Hotline for reporting GBV cases;GBV Posters displayed;                                          78\n",
       "Hotline for reporting GBV cases;Facility staff trained on GBV;                                                       42\n",
       "Facility staff trained on GBV;Other;                                                                                 13\n",
       "Presence of GBV Desk;Other;                                                                                          12\n",
       "GBV Posters displayed;Other;                                                                                         12\n",
       "Facility staff trained on GBV;GBV Posters displayed;Other;                                                            8\n",
       "Presence of GBV Desk;Hotline for reporting GBV cases;Facility staff trained on GBV;GBV Posters displayed;Other;       7\n",
       "Presence of GBV Desk;Facility staff trained on GBV;Other;                                                             5\n",
       "Presence of GBV Desk;Facility staff trained on GBV;GBV Posters displayed;Other;                                       5\n",
       "Presence of GBV Desk;Hotline for reporting GBV cases;Facility staff trained on GBV;Other;                             5\n",
       "Hotline for reporting GBV cases;Facility staff trained on GBV;GBV Posters displayed;Other;                            4\n",
       "Presence of GBV Desk;GBV Posters displayed;Other;                                                                     3\n",
       "Hotline for reporting GBV cases;Other;                                                                                1\n",
       "Presence of GBV Desk;Hotline for reporting GBV cases;GBV Posters displayed;Other;                                     1\n",
       "Hotline for reporting GBV cases;GBV Posters displayed;Other;                                                          1\n",
       "Hotline for reporting GBV cases;Facility staff trained on GBV;Other;                                                  1\n",
       "Presence of GBV Desk;Hotline for reporting GBV cases;Other;                                                           1\n",
       "Name: count, dtype: int64"
      ]
     },
     "execution_count": 71,
     "metadata": {},
     "output_type": "execute_result"
    }
   ],
   "source": [
    "df['GBVAwarenessMeasures'].value_counts()"
   ]
  },
  {
   "cell_type": "code",
   "execution_count": 72,
   "metadata": {},
   "outputs": [
    {
     "name": "stdout",
     "output_type": "stream",
     "text": [
      "            Date FacilityOwnership FacilityCounty ServiceAccessDuration  \\\n",
      "0      04-Dec-23               GOK        Nairobi   More than one year    \n",
      "1      04-Dec-23               GOK        Nairobi   More than one year    \n",
      "2      04-Dec-23               GOK        Nairobi   More than one year    \n",
      "3      04-Dec-23               GOK        Nairobi   More than one year    \n",
      "4      04-Dec-23               GOK        Nairobi   More than one year    \n",
      "...          ...               ...            ...                   ...   \n",
      "46544  19-May-22               NaN            NaN                   NaN   \n",
      "46545  19-May-22               NaN            NaN                   NaN   \n",
      "46546  19-May-22               NaN            NaN                   NaN   \n",
      "46547  19-May-22               NaN            NaN                   NaN   \n",
      "46548  18-May-22               NaN            NaN                   NaN   \n",
      "\n",
      "      ServicesAwareness                          ExpectedHIVServices  \\\n",
      "0                   Yes  ART medicine ;CD 4 COUNT ;Viral Load test ;   \n",
      "1                   Yes  ART medicine ;CD 4 COUNT ;Viral Load test ;   \n",
      "2                   Yes  ART medicine ;CD 4 COUNT ;Viral Load test ;   \n",
      "3                   Yes  ART medicine ;CD 4 COUNT ;Viral Load test ;   \n",
      "4                   Yes  ART medicine ;CD 4 COUNT ;Viral Load test ;   \n",
      "...                 ...                                          ...   \n",
      "46544               NaN                                          NaN   \n",
      "46545               NaN                                          NaN   \n",
      "46546               NaN                                          NaN   \n",
      "46547               NaN                                          NaN   \n",
      "46548               NaN                                          NaN   \n",
      "\n",
      "      UnprovidedService ReferralForUnprovidedService ReferralServiceReceived  \\\n",
      "0                    No                          NaN                     NaN   \n",
      "1                    No                          NaN                     NaN   \n",
      "2                    No                          NaN                     NaN   \n",
      "3                    No                          NaN                     NaN   \n",
      "4                    No                          NaN                     NaN   \n",
      "...                 ...                          ...                     ...   \n",
      "46544               NaN                          NaN                     NaN   \n",
      "46545               NaN                          NaN                     NaN   \n",
      "46546               NaN                          NaN                     NaN   \n",
      "46547               NaN                          NaN                     NaN   \n",
      "46548               NaN                          NaN                     NaN   \n",
      "\n",
      "      ReceivedServiceDetail  ... PreferredVisitDays_Tuesday  \\\n",
      "0                       NaN  ...                          0   \n",
      "1                       NaN  ...                          0   \n",
      "2                       NaN  ...                          0   \n",
      "3                       NaN  ...                          0   \n",
      "4                       NaN  ...                          0   \n",
      "...                     ...  ...                        ...   \n",
      "46544                   NaN  ...                          0   \n",
      "46545                   NaN  ...                          0   \n",
      "46546                   NaN  ...                          0   \n",
      "46547                   NaN  ...                          0   \n",
      "46548                   NaN  ...                          0   \n",
      "\n",
      "      PreferredVisitDays_Wednesday PreferredVisitTimes_8to5  \\\n",
      "0                                0                        1   \n",
      "1                                0                        1   \n",
      "2                                1                        1   \n",
      "3                                0                        1   \n",
      "4                                1                        1   \n",
      "...                            ...                      ...   \n",
      "46544                            0                        0   \n",
      "46545                            0                        0   \n",
      "46546                            0                        0   \n",
      "46547                            0                        0   \n",
      "46548                            0                        0   \n",
      "\n",
      "      PreferredVisitTimes_After5 GBVAwarenessMeasures_CommunitytrainedonGBV  \\\n",
      "0                              0                                          0   \n",
      "1                              0                                          0   \n",
      "2                              0                                          0   \n",
      "3                              0                                          0   \n",
      "4                              0                                          0   \n",
      "...                          ...                                        ...   \n",
      "46544                          0                                          0   \n",
      "46545                          0                                          0   \n",
      "46546                          0                                          0   \n",
      "46547                          0                                          0   \n",
      "46548                          0                                          0   \n",
      "\n",
      "      GBVAwarenessMeasures_FacilitystafftrainedonGBV  \\\n",
      "0                                                  0   \n",
      "1                                                  0   \n",
      "2                                                  0   \n",
      "3                                                  0   \n",
      "4                                                  0   \n",
      "...                                              ...   \n",
      "46544                                              0   \n",
      "46545                                              0   \n",
      "46546                                              0   \n",
      "46547                                              0   \n",
      "46548                                              0   \n",
      "\n",
      "      GBVAwarenessMeasures_GBVPostersdisplayed  \\\n",
      "0                                            0   \n",
      "1                                            0   \n",
      "2                                            0   \n",
      "3                                            0   \n",
      "4                                            0   \n",
      "...                                        ...   \n",
      "46544                                        0   \n",
      "46545                                        0   \n",
      "46546                                        0   \n",
      "46547                                        0   \n",
      "46548                                        0   \n",
      "\n",
      "      GBVAwarenessMeasures_HotlineforreportingGBVcases  \\\n",
      "0                                                    0   \n",
      "1                                                    0   \n",
      "2                                                    0   \n",
      "3                                                    0   \n",
      "4                                                    0   \n",
      "...                                                ...   \n",
      "46544                                                0   \n",
      "46545                                                0   \n",
      "46546                                                0   \n",
      "46547                                                0   \n",
      "46548                                                0   \n",
      "\n",
      "      GBVAwarenessMeasures_Other GBVAwarenessMeasures_PresenceofGBVDesk  \n",
      "0                              0                                      1  \n",
      "1                              0                                      1  \n",
      "2                              0                                      1  \n",
      "3                              0                                      1  \n",
      "4                              0                                      1  \n",
      "...                          ...                                    ...  \n",
      "46544                          0                                      0  \n",
      "46545                          0                                      0  \n",
      "46546                          0                                      0  \n",
      "46547                          0                                      0  \n",
      "46548                          0                                      0  \n",
      "\n",
      "[46549 rows x 95 columns]\n"
     ]
    }
   ],
   "source": [
    "def encode_multi_select(df, columns):\n",
    "    # Iterate over the specified columns\n",
    "    for col in columns:\n",
    "        # Remove all whitespaces within each value and split based on ';'\n",
    "        # This creates a Series of lists\n",
    "        split_series = df[col].str.replace(' ', '').str.split(';')\n",
    "        \n",
    "        # Use the str.get_dummies() method on the Series of lists to perform one-hot encoding\n",
    "        # This approach handles the separation and encoding in one step\n",
    "        encoded = split_series.str.join('|').str.get_dummies()\n",
    "        \n",
    "        # Prefix the encoded column names to indicate their origin\n",
    "        encoded.columns = [f\"{col}_{option}\" for option in encoded.columns]\n",
    "        \n",
    "        # Join the encoded dataframe with the original dataframe\n",
    "        df = df.join(encoded)\n",
    "        \n",
    "        # Optionally, drop the original column if no longer needed\n",
    "        # df.drop(col, axis=1, inplace=True)\n",
    "    \n",
    "    return df\n",
    "\n",
    "# Specify the columns to encode\n",
    "columns_to_encode = ['ExpectedHIVServices', 'OperationTimes', 'OperationDays', 'PreferredVisitDays', 'PreferredVisitTimes', 'GBVAwarenessMeasures']\n",
    "\n",
    "# Apply the function\n",
    "df2 = encode_multi_select(df, columns_to_encode)\n",
    "\n",
    "print(df2)"
   ]
  },
  {
   "cell_type": "code",
   "execution_count": 73,
   "metadata": {},
   "outputs": [],
   "source": [
    "df2.drop(columns=columns_to_encode, axis=1, inplace=True)"
   ]
  },
  {
   "cell_type": "code",
   "execution_count": 74,
   "metadata": {},
   "outputs": [],
   "source": [
    "df2.to_csv('data/cleanedwnull.csv', index=False)"
   ]
  },
  {
   "cell_type": "code",
   "execution_count": 75,
   "metadata": {},
   "outputs": [
    {
     "name": "stdout",
     "output_type": "stream",
     "text": [
      "Columns to drop: ['ReferralForUnprovidedService', 'ReferralServiceReceived', 'ReceivedServiceDetail', 'CommonIssuesDropdown', 'ServiceGapsType', 'HIVTestingAvailability', 'TreatmentInterruption', 'PMTCTServiceAvailability', 'KPServiceAdequacy', 'FacilityLevel', 'FacilityCleanliness', 'FacilityAccessMode', 'FacilityAccessTime', 'FacilityAccessibility', 'WaitingTimeOpinion', 'AverageWaitingTime', 'LabResultsWaitingTimeOpinion', 'AverageLabResultsWaitingTime', 'SupportGroupAvailability', 'SpecifySupportGroup', 'YouthFriendlyServices', 'PWDFriendlyServicesOpinion', 'TopFacilityDislikes']\n",
      "Number of columns to drop: 23\n",
      "DataFrame shape after dropping columns: (46549, 66)\n"
     ]
    }
   ],
   "source": [
    "missing_percentage = df2.isnull().mean() * 100\n",
    "\n",
    "threshold = 60\n",
    "\n",
    "columns_to_drop = missing_percentage[missing_percentage > threshold].index.tolist()\n",
    "\n",
    "print(\"Columns to drop:\", columns_to_drop)\n",
    "\n",
    "print(\"Number of columns to drop:\", len(columns_to_drop))\n",
    "\n",
    "df2.drop(columns=columns_to_drop, axis=1, inplace=True)\n",
    "\n",
    "print(\"DataFrame shape after dropping columns:\", df2.shape)"
   ]
  },
  {
   "cell_type": "code",
   "execution_count": 76,
   "metadata": {},
   "outputs": [
    {
     "name": "stdout",
     "output_type": "stream",
     "text": [
      "Original DataFrame shape: (46549, 66)\n",
      "Cleaned DataFrame shape: (39862, 66)\n",
      "Rows dropped: 6687\n"
     ]
    }
   ],
   "source": [
    "threshold_percentage = 100\n",
    "\n",
    "threshold = len(df2.columns) * (threshold_percentage / 100)\n",
    "\n",
    "data = df2.dropna(thresh=threshold).copy()\n",
    "\n",
    "print(\"Original DataFrame shape:\", df2.shape)\n",
    "print(\"Cleaned DataFrame shape:\", data.shape)\n",
    "\n",
    "rows_dropped = df2.shape[0] - data.shape[0]\n",
    "print(\"Rows dropped:\", rows_dropped)"
   ]
  },
  {
   "cell_type": "code",
   "execution_count": 77,
   "metadata": {},
   "outputs": [],
   "source": [
    "df2.to_csv('data/cleanednonull.csv', index=False)"
   ]
  },
  {
   "cell_type": "code",
   "execution_count": 78,
   "metadata": {},
   "outputs": [
    {
     "data": {
      "text/html": [
       "<div>\n",
       "<style scoped>\n",
       "    .dataframe tbody tr th:only-of-type {\n",
       "        vertical-align: middle;\n",
       "    }\n",
       "\n",
       "    .dataframe tbody tr th {\n",
       "        vertical-align: top;\n",
       "    }\n",
       "\n",
       "    .dataframe thead th {\n",
       "        text-align: right;\n",
       "    }\n",
       "</style>\n",
       "<table border=\"1\" class=\"dataframe\">\n",
       "  <thead>\n",
       "    <tr style=\"text-align: right;\">\n",
       "      <th></th>\n",
       "      <th>ExpectedHIVServices_ARTmedicine</th>\n",
       "      <th>ExpectedHIVServices_CD4COUNT</th>\n",
       "      <th>ExpectedHIVServices_Cervicalcancerscreening</th>\n",
       "      <th>ExpectedHIVServices_ChestXray(thiscapturesonlyonesectorofclientswithchestissues)</th>\n",
       "      <th>ExpectedHIVServices_CondomDistribution</th>\n",
       "      <th>ExpectedHIVServices_Contraceptives</th>\n",
       "      <th>ExpectedHIVServices_Diagnosis</th>\n",
       "      <th>ExpectedHIVServices_DifferentiatedServiceDelivery(DSD)</th>\n",
       "      <th>ExpectedHIVServices_HIVTestingandCounseling(HTS)</th>\n",
       "      <th>ExpectedHIVServices_KPservices</th>\n",
       "      <th>...</th>\n",
       "      <th>PreferredVisitDays_Tuesday</th>\n",
       "      <th>PreferredVisitDays_Wednesday</th>\n",
       "      <th>PreferredVisitTimes_8to5</th>\n",
       "      <th>PreferredVisitTimes_After5</th>\n",
       "      <th>GBVAwarenessMeasures_CommunitytrainedonGBV</th>\n",
       "      <th>GBVAwarenessMeasures_FacilitystafftrainedonGBV</th>\n",
       "      <th>GBVAwarenessMeasures_GBVPostersdisplayed</th>\n",
       "      <th>GBVAwarenessMeasures_HotlineforreportingGBVcases</th>\n",
       "      <th>GBVAwarenessMeasures_Other</th>\n",
       "      <th>GBVAwarenessMeasures_PresenceofGBVDesk</th>\n",
       "    </tr>\n",
       "  </thead>\n",
       "  <tbody>\n",
       "    <tr>\n",
       "      <th>count</th>\n",
       "      <td>39862.000000</td>\n",
       "      <td>39862.000000</td>\n",
       "      <td>39862.00000</td>\n",
       "      <td>39862.000000</td>\n",
       "      <td>39862.000000</td>\n",
       "      <td>39862.000000</td>\n",
       "      <td>39862.000000</td>\n",
       "      <td>39862.000000</td>\n",
       "      <td>39862.000000</td>\n",
       "      <td>39862.000000</td>\n",
       "      <td>...</td>\n",
       "      <td>39862.000000</td>\n",
       "      <td>39862.000000</td>\n",
       "      <td>39862.000000</td>\n",
       "      <td>39862.000000</td>\n",
       "      <td>39862.000000</td>\n",
       "      <td>39862.000000</td>\n",
       "      <td>39862.000000</td>\n",
       "      <td>39862.000000</td>\n",
       "      <td>39862.000000</td>\n",
       "      <td>39862.000000</td>\n",
       "    </tr>\n",
       "    <tr>\n",
       "      <th>mean</th>\n",
       "      <td>0.747203</td>\n",
       "      <td>0.085169</td>\n",
       "      <td>0.05647</td>\n",
       "      <td>0.017636</td>\n",
       "      <td>0.025187</td>\n",
       "      <td>0.047664</td>\n",
       "      <td>0.041769</td>\n",
       "      <td>0.016758</td>\n",
       "      <td>0.098013</td>\n",
       "      <td>0.004541</td>\n",
       "      <td>...</td>\n",
       "      <td>0.171115</td>\n",
       "      <td>0.170338</td>\n",
       "      <td>0.357433</td>\n",
       "      <td>0.001831</td>\n",
       "      <td>0.019066</td>\n",
       "      <td>0.118484</td>\n",
       "      <td>0.137524</td>\n",
       "      <td>0.057147</td>\n",
       "      <td>0.045081</td>\n",
       "      <td>0.163815</td>\n",
       "    </tr>\n",
       "    <tr>\n",
       "      <th>std</th>\n",
       "      <td>0.434621</td>\n",
       "      <td>0.279136</td>\n",
       "      <td>0.23083</td>\n",
       "      <td>0.131625</td>\n",
       "      <td>0.156694</td>\n",
       "      <td>0.213058</td>\n",
       "      <td>0.200064</td>\n",
       "      <td>0.128364</td>\n",
       "      <td>0.297336</td>\n",
       "      <td>0.067232</td>\n",
       "      <td>...</td>\n",
       "      <td>0.376614</td>\n",
       "      <td>0.375934</td>\n",
       "      <td>0.479250</td>\n",
       "      <td>0.042755</td>\n",
       "      <td>0.136758</td>\n",
       "      <td>0.323184</td>\n",
       "      <td>0.344404</td>\n",
       "      <td>0.232126</td>\n",
       "      <td>0.207483</td>\n",
       "      <td>0.370112</td>\n",
       "    </tr>\n",
       "    <tr>\n",
       "      <th>min</th>\n",
       "      <td>0.000000</td>\n",
       "      <td>0.000000</td>\n",
       "      <td>0.00000</td>\n",
       "      <td>0.000000</td>\n",
       "      <td>0.000000</td>\n",
       "      <td>0.000000</td>\n",
       "      <td>0.000000</td>\n",
       "      <td>0.000000</td>\n",
       "      <td>0.000000</td>\n",
       "      <td>0.000000</td>\n",
       "      <td>...</td>\n",
       "      <td>0.000000</td>\n",
       "      <td>0.000000</td>\n",
       "      <td>0.000000</td>\n",
       "      <td>0.000000</td>\n",
       "      <td>0.000000</td>\n",
       "      <td>0.000000</td>\n",
       "      <td>0.000000</td>\n",
       "      <td>0.000000</td>\n",
       "      <td>0.000000</td>\n",
       "      <td>0.000000</td>\n",
       "    </tr>\n",
       "    <tr>\n",
       "      <th>25%</th>\n",
       "      <td>0.000000</td>\n",
       "      <td>0.000000</td>\n",
       "      <td>0.00000</td>\n",
       "      <td>0.000000</td>\n",
       "      <td>0.000000</td>\n",
       "      <td>0.000000</td>\n",
       "      <td>0.000000</td>\n",
       "      <td>0.000000</td>\n",
       "      <td>0.000000</td>\n",
       "      <td>0.000000</td>\n",
       "      <td>...</td>\n",
       "      <td>0.000000</td>\n",
       "      <td>0.000000</td>\n",
       "      <td>0.000000</td>\n",
       "      <td>0.000000</td>\n",
       "      <td>0.000000</td>\n",
       "      <td>0.000000</td>\n",
       "      <td>0.000000</td>\n",
       "      <td>0.000000</td>\n",
       "      <td>0.000000</td>\n",
       "      <td>0.000000</td>\n",
       "    </tr>\n",
       "    <tr>\n",
       "      <th>50%</th>\n",
       "      <td>1.000000</td>\n",
       "      <td>0.000000</td>\n",
       "      <td>0.00000</td>\n",
       "      <td>0.000000</td>\n",
       "      <td>0.000000</td>\n",
       "      <td>0.000000</td>\n",
       "      <td>0.000000</td>\n",
       "      <td>0.000000</td>\n",
       "      <td>0.000000</td>\n",
       "      <td>0.000000</td>\n",
       "      <td>...</td>\n",
       "      <td>0.000000</td>\n",
       "      <td>0.000000</td>\n",
       "      <td>0.000000</td>\n",
       "      <td>0.000000</td>\n",
       "      <td>0.000000</td>\n",
       "      <td>0.000000</td>\n",
       "      <td>0.000000</td>\n",
       "      <td>0.000000</td>\n",
       "      <td>0.000000</td>\n",
       "      <td>0.000000</td>\n",
       "    </tr>\n",
       "    <tr>\n",
       "      <th>75%</th>\n",
       "      <td>1.000000</td>\n",
       "      <td>0.000000</td>\n",
       "      <td>0.00000</td>\n",
       "      <td>0.000000</td>\n",
       "      <td>0.000000</td>\n",
       "      <td>0.000000</td>\n",
       "      <td>0.000000</td>\n",
       "      <td>0.000000</td>\n",
       "      <td>0.000000</td>\n",
       "      <td>0.000000</td>\n",
       "      <td>...</td>\n",
       "      <td>0.000000</td>\n",
       "      <td>0.000000</td>\n",
       "      <td>1.000000</td>\n",
       "      <td>0.000000</td>\n",
       "      <td>0.000000</td>\n",
       "      <td>0.000000</td>\n",
       "      <td>0.000000</td>\n",
       "      <td>0.000000</td>\n",
       "      <td>0.000000</td>\n",
       "      <td>0.000000</td>\n",
       "    </tr>\n",
       "    <tr>\n",
       "      <th>max</th>\n",
       "      <td>1.000000</td>\n",
       "      <td>1.000000</td>\n",
       "      <td>1.00000</td>\n",
       "      <td>1.000000</td>\n",
       "      <td>1.000000</td>\n",
       "      <td>1.000000</td>\n",
       "      <td>1.000000</td>\n",
       "      <td>1.000000</td>\n",
       "      <td>1.000000</td>\n",
       "      <td>1.000000</td>\n",
       "      <td>...</td>\n",
       "      <td>1.000000</td>\n",
       "      <td>1.000000</td>\n",
       "      <td>1.000000</td>\n",
       "      <td>1.000000</td>\n",
       "      <td>1.000000</td>\n",
       "      <td>1.000000</td>\n",
       "      <td>1.000000</td>\n",
       "      <td>1.000000</td>\n",
       "      <td>1.000000</td>\n",
       "      <td>1.000000</td>\n",
       "    </tr>\n",
       "  </tbody>\n",
       "</table>\n",
       "<p>8 rows × 50 columns</p>\n",
       "</div>"
      ],
      "text/plain": [
       "       ExpectedHIVServices_ARTmedicine  ExpectedHIVServices_CD4COUNT  \\\n",
       "count                     39862.000000                  39862.000000   \n",
       "mean                          0.747203                      0.085169   \n",
       "std                           0.434621                      0.279136   \n",
       "min                           0.000000                      0.000000   \n",
       "25%                           0.000000                      0.000000   \n",
       "50%                           1.000000                      0.000000   \n",
       "75%                           1.000000                      0.000000   \n",
       "max                           1.000000                      1.000000   \n",
       "\n",
       "       ExpectedHIVServices_Cervicalcancerscreening  \\\n",
       "count                                  39862.00000   \n",
       "mean                                       0.05647   \n",
       "std                                        0.23083   \n",
       "min                                        0.00000   \n",
       "25%                                        0.00000   \n",
       "50%                                        0.00000   \n",
       "75%                                        0.00000   \n",
       "max                                        1.00000   \n",
       "\n",
       "       ExpectedHIVServices_ChestXray(thiscapturesonlyonesectorofclientswithchestissues)  \\\n",
       "count                                       39862.000000                                  \n",
       "mean                                            0.017636                                  \n",
       "std                                             0.131625                                  \n",
       "min                                             0.000000                                  \n",
       "25%                                             0.000000                                  \n",
       "50%                                             0.000000                                  \n",
       "75%                                             0.000000                                  \n",
       "max                                             1.000000                                  \n",
       "\n",
       "       ExpectedHIVServices_CondomDistribution  \\\n",
       "count                            39862.000000   \n",
       "mean                                 0.025187   \n",
       "std                                  0.156694   \n",
       "min                                  0.000000   \n",
       "25%                                  0.000000   \n",
       "50%                                  0.000000   \n",
       "75%                                  0.000000   \n",
       "max                                  1.000000   \n",
       "\n",
       "       ExpectedHIVServices_Contraceptives  ExpectedHIVServices_Diagnosis  \\\n",
       "count                        39862.000000                   39862.000000   \n",
       "mean                             0.047664                       0.041769   \n",
       "std                              0.213058                       0.200064   \n",
       "min                              0.000000                       0.000000   \n",
       "25%                              0.000000                       0.000000   \n",
       "50%                              0.000000                       0.000000   \n",
       "75%                              0.000000                       0.000000   \n",
       "max                              1.000000                       1.000000   \n",
       "\n",
       "       ExpectedHIVServices_DifferentiatedServiceDelivery(DSD)  \\\n",
       "count                                       39862.000000        \n",
       "mean                                            0.016758        \n",
       "std                                             0.128364        \n",
       "min                                             0.000000        \n",
       "25%                                             0.000000        \n",
       "50%                                             0.000000        \n",
       "75%                                             0.000000        \n",
       "max                                             1.000000        \n",
       "\n",
       "       ExpectedHIVServices_HIVTestingandCounseling(HTS)  \\\n",
       "count                                      39862.000000   \n",
       "mean                                           0.098013   \n",
       "std                                            0.297336   \n",
       "min                                            0.000000   \n",
       "25%                                            0.000000   \n",
       "50%                                            0.000000   \n",
       "75%                                            0.000000   \n",
       "max                                            1.000000   \n",
       "\n",
       "       ExpectedHIVServices_KPservices  ...  PreferredVisitDays_Tuesday  \\\n",
       "count                    39862.000000  ...                39862.000000   \n",
       "mean                         0.004541  ...                    0.171115   \n",
       "std                          0.067232  ...                    0.376614   \n",
       "min                          0.000000  ...                    0.000000   \n",
       "25%                          0.000000  ...                    0.000000   \n",
       "50%                          0.000000  ...                    0.000000   \n",
       "75%                          0.000000  ...                    0.000000   \n",
       "max                          1.000000  ...                    1.000000   \n",
       "\n",
       "       PreferredVisitDays_Wednesday  PreferredVisitTimes_8to5  \\\n",
       "count                  39862.000000              39862.000000   \n",
       "mean                       0.170338                  0.357433   \n",
       "std                        0.375934                  0.479250   \n",
       "min                        0.000000                  0.000000   \n",
       "25%                        0.000000                  0.000000   \n",
       "50%                        0.000000                  0.000000   \n",
       "75%                        0.000000                  1.000000   \n",
       "max                        1.000000                  1.000000   \n",
       "\n",
       "       PreferredVisitTimes_After5  GBVAwarenessMeasures_CommunitytrainedonGBV  \\\n",
       "count                39862.000000                                39862.000000   \n",
       "mean                     0.001831                                    0.019066   \n",
       "std                      0.042755                                    0.136758   \n",
       "min                      0.000000                                    0.000000   \n",
       "25%                      0.000000                                    0.000000   \n",
       "50%                      0.000000                                    0.000000   \n",
       "75%                      0.000000                                    0.000000   \n",
       "max                      1.000000                                    1.000000   \n",
       "\n",
       "       GBVAwarenessMeasures_FacilitystafftrainedonGBV  \\\n",
       "count                                    39862.000000   \n",
       "mean                                         0.118484   \n",
       "std                                          0.323184   \n",
       "min                                          0.000000   \n",
       "25%                                          0.000000   \n",
       "50%                                          0.000000   \n",
       "75%                                          0.000000   \n",
       "max                                          1.000000   \n",
       "\n",
       "       GBVAwarenessMeasures_GBVPostersdisplayed  \\\n",
       "count                              39862.000000   \n",
       "mean                                   0.137524   \n",
       "std                                    0.344404   \n",
       "min                                    0.000000   \n",
       "25%                                    0.000000   \n",
       "50%                                    0.000000   \n",
       "75%                                    0.000000   \n",
       "max                                    1.000000   \n",
       "\n",
       "       GBVAwarenessMeasures_HotlineforreportingGBVcases  \\\n",
       "count                                      39862.000000   \n",
       "mean                                           0.057147   \n",
       "std                                            0.232126   \n",
       "min                                            0.000000   \n",
       "25%                                            0.000000   \n",
       "50%                                            0.000000   \n",
       "75%                                            0.000000   \n",
       "max                                            1.000000   \n",
       "\n",
       "       GBVAwarenessMeasures_Other  GBVAwarenessMeasures_PresenceofGBVDesk  \n",
       "count                39862.000000                            39862.000000  \n",
       "mean                     0.045081                                0.163815  \n",
       "std                      0.207483                                0.370112  \n",
       "min                      0.000000                                0.000000  \n",
       "25%                      0.000000                                0.000000  \n",
       "50%                      0.000000                                0.000000  \n",
       "75%                      0.000000                                0.000000  \n",
       "max                      1.000000                                1.000000  \n",
       "\n",
       "[8 rows x 50 columns]"
      ]
     },
     "execution_count": 78,
     "metadata": {},
     "output_type": "execute_result"
    }
   ],
   "source": [
    "# General descriptive statistics\n",
    "data.describe()"
   ]
  },
  {
   "cell_type": "code",
   "execution_count": 79,
   "metadata": {},
   "outputs": [
    {
     "data": {
      "text/plain": [
       "ServiceSatisfaction\n",
       "Satisfied                22585\n",
       "Very Satisfied           15966\n",
       "Unsatisfied                584\n",
       "Okay                       467\n",
       "Do not know                127\n",
       "Very Unsatisfied            74\n",
       "Prefer not to answer        59\n",
       "Name: count, dtype: int64"
      ]
     },
     "execution_count": 79,
     "metadata": {},
     "output_type": "execute_result"
    }
   ],
   "source": [
    "data['ServiceSatisfaction'].value_counts()"
   ]
  },
  {
   "cell_type": "code",
   "execution_count": 80,
   "metadata": {},
   "outputs": [
    {
     "name": "stdout",
     "output_type": "stream",
     "text": [
      "ServiceSatisfaction\n",
      "1     23052\n",
      "2     15966\n",
      "0       658\n",
      "99      186\n",
      "Name: count, dtype: int64\n"
     ]
    },
    {
     "name": "stderr",
     "output_type": "stream",
     "text": [
      "C:\\Users\\Maria\\AppData\\Local\\Temp\\ipykernel_9380\\1833295796.py:12: FutureWarning:\n",
      "\n",
      "Downcasting behavior in `replace` is deprecated and will be removed in a future version. To retain the old behavior, explicitly call `result.infer_objects(copy=False)`. To opt-in to the future behavior, set `pd.set_option('future.no_silent_downcasting', True)`\n",
      "\n"
     ]
    }
   ],
   "source": [
    "recategorization_mapping = {\n",
    "    'Very Satisfied': 2,\n",
    "    'Satisfied': 1,\n",
    "    'Okay': 1,\n",
    "    'Unsatisfied': 0,\n",
    "    'Very Unsatisfied': 0,\n",
    "    #'Unknown': 0,\n",
    "    'Do not know': 99,\n",
    "    'Prefer not to answer ': 99\n",
    "}\n",
    "\n",
    "data.loc[:, 'ServiceSatisfaction'] = data['ServiceSatisfaction'].replace(recategorization_mapping)\n",
    "\n",
    "# After replacement, you might want to ensure the data type is what you expect\n",
    "# For example, if you want to ensure it's an integer (especially if NaN values are not expected)\n",
    "data['ServiceSatisfaction'] = data['ServiceSatisfaction'].astype(int)\n",
    "\n",
    "# Verify the changes\n",
    "print(data['ServiceSatisfaction'].value_counts())"
   ]
  },
  {
   "cell_type": "code",
   "execution_count": 81,
   "metadata": {},
   "outputs": [],
   "source": [
    "model_data = data[data.ServiceSatisfaction != 99]"
   ]
  },
  {
   "cell_type": "code",
   "execution_count": 82,
   "metadata": {},
   "outputs": [],
   "source": [
    "model_data = model_data.drop(['Date', 'FacilityCounty', 'FacilityOwnership'], axis=1)"
   ]
  },
  {
   "cell_type": "code",
   "execution_count": 83,
   "metadata": {},
   "outputs": [],
   "source": [
    "# Assuming subset_df is your DataFrame and 'ServiceSatisfaction' is the column of interest\n",
    "\n",
    "# Split the dataset into separate groups based on 'ServiceSatisfaction'\n",
    "class_3_df = model_data[model_data['ServiceSatisfaction'] == 2]\n",
    "class_2_df = model_data[model_data['ServiceSatisfaction'] == 1]\n",
    "class_1_df = model_data[model_data['ServiceSatisfaction'] == 0]\n",
    "\n",
    "# Get the target number of instances to match, which is the number of instances in class 1\n",
    "target_number = class_1_df.shape[0]\n",
    "\n",
    "# Randomly sample from classes 3 and 2 to match the number of instances in class 1\n",
    "class_3_sampled_df = class_3_df.sample(n=target_number, random_state=42)\n",
    "class_2_sampled_df = class_2_df.sample(n=target_number, random_state=42)\n",
    "\n",
    "balanced_df = pd.concat([class_3_sampled_df, class_2_sampled_df, class_1_df])"
   ]
  },
  {
   "cell_type": "code",
   "execution_count": 84,
   "metadata": {},
   "outputs": [
    {
     "data": {
      "text/plain": [
       "ServiceSatisfaction\n",
       "2    658\n",
       "1    658\n",
       "0    658\n",
       "Name: count, dtype: int64"
      ]
     },
     "execution_count": 84,
     "metadata": {},
     "output_type": "execute_result"
    }
   ],
   "source": [
    "balanced_df['ServiceSatisfaction'].value_counts()"
   ]
  },
  {
   "cell_type": "code",
   "execution_count": 85,
   "metadata": {},
   "outputs": [
    {
     "name": "stdout",
     "output_type": "stream",
     "text": [
      "NaN counts after pandas get_dummies: 0\n"
     ]
    }
   ],
   "source": [
    "ordinal_vars = balanced_df['ServiceSatisfaction']\n",
    "nominal_vars = [col for col in balanced_df.columns if balanced_df[col].dtype == 'object' and col not in ordinal_vars]\n",
    "encoded_data = pd.get_dummies(balanced_df, columns=nominal_vars)\n",
    "\n",
    "# This automatically drops the original nominal columns and adds the one-hot encoded columns\n",
    "print(\"NaN counts after pandas get_dummies:\", encoded_data.isnull().sum().sum())"
   ]
  },
  {
   "cell_type": "code",
   "execution_count": 86,
   "metadata": {},
   "outputs": [],
   "source": [
    "X = encoded_data.drop('ServiceSatisfaction', axis=1)\n",
    "y = encoded_data['ServiceSatisfaction']\n",
    "# Split the data into training and testing sets (70% train, 30% test)\n",
    "X_train, X_test, y_train, y_test = train_test_split(X, y, test_size=0.3, random_state=42)"
   ]
  },
  {
   "cell_type": "code",
   "execution_count": 87,
   "metadata": {},
   "outputs": [
    {
     "name": "stdout",
     "output_type": "stream",
     "text": [
      "[LightGBM] [Warning] Found whitespace in feature_names, replace with underlines\n",
      "[LightGBM] [Info] Auto-choosing row-wise multi-threading, the overhead of testing was 0.000643 seconds.\n",
      "You can set `force_row_wise=true` to remove the overhead.\n",
      "And if memory is not enough, you can set `force_col_wise=true`.\n",
      "[LightGBM] [Info] Total Bins 134\n",
      "[LightGBM] [Info] Number of data points in the train set: 1381, number of used features: 67\n",
      "[LightGBM] [Info] Start training from score -1.110266\n",
      "[LightGBM] [Info] Start training from score -1.063047\n",
      "[LightGBM] [Info] Start training from score -1.123540\n",
      "[LightGBM] [Warning] No further splits with positive gain, best gain: -inf\n",
      "                    Model   ROC AUC  Accuracy  Precision    Recall  F1 Score\n",
      "0      CatBoostClassifier  0.835278  0.661046   0.674280  0.661046  0.662522\n",
      "1          LGBMClassifier  0.829121  0.672850   0.678185  0.672850  0.671965\n",
      "2           XGBClassifier  0.823444  0.661046   0.670870  0.661046  0.660229\n",
      "3  RandomForestClassifier  0.829463  0.661046   0.677632  0.661046  0.662075\n",
      "4      LogisticRegression  0.817802  0.644182   0.649968  0.644182  0.644362\n",
      "5                     SVC  0.825925  0.647555   0.665978  0.647555  0.642034\n",
      "Best model: <catboost.core.CatBoostClassifier object at 0x000001E476F4A5A0>\n"
     ]
    }
   ],
   "source": [
    "def test_models(X_train, y_train, X_test, y_test):\n",
    "    models = {\n",
    "        'CatBoostClassifier': CatBoostClassifier(verbose=0),\n",
    "        'LGBMClassifier': LGBMClassifier(),\n",
    "        'XGBClassifier': XGBClassifier(use_label_encoder=False, eval_metric='mlogloss'),\n",
    "        'RandomForestClassifier': RandomForestClassifier(),\n",
    "        'LogisticRegression': make_pipeline(StandardScaler(), LogisticRegression(max_iter=1000, multi_class='ovr')),\n",
    "        'SVC': make_pipeline(StandardScaler(), SVC(probability=True, decision_function_shape='ovr'))\n",
    "    }\n",
    "    \n",
    "    best_model = None\n",
    "    best_score = -1\n",
    "    model_results = []\n",
    "    for name, model in models.items():\n",
    "        model.fit(X_train, y_train)\n",
    "        y_pred = model.predict(X_test)\n",
    "        roc_auc = roc_auc_score(y_test, model.predict_proba(X_test), multi_class='ovr', average='weighted') if hasattr(model, \"predict_proba\") else None\n",
    "        report = classification_report(y_test, y_pred, output_dict=True)\n",
    "        \n",
    "        model_result = {\n",
    "            'Model': name,\n",
    "            'ROC AUC': roc_auc,\n",
    "            'Accuracy': report['accuracy'],\n",
    "            'Precision': report['weighted avg']['precision'],\n",
    "            'Recall': report['weighted avg']['recall'],\n",
    "            'F1 Score': report['weighted avg']['f1-score'],\n",
    "        }\n",
    "        model_results.append(model_result)\n",
    "        \n",
    "        # Check if this model is the best based on ROC AUC\n",
    "        if roc_auc is not None and roc_auc > best_score:\n",
    "            best_score = roc_auc\n",
    "            best_model = model\n",
    "\n",
    "    return pd.DataFrame(model_results), best_model\n",
    "\n",
    "# To use this function, you need to replace `X_train2`, `y_train2`, `X_test2`, and `y_test2` with your actual dataset.\n",
    "# Here's how you might call this function:\n",
    "\n",
    "results_df, best_model = test_models(X_train, y_train, X_test, y_test)\n",
    "print(results_df)\n",
    "print(\"Best model:\", best_model)"
   ]
  },
  {
   "cell_type": "code",
   "execution_count": 89,
   "metadata": {},
   "outputs": [
    {
     "name": "stdout",
     "output_type": "stream",
     "text": [
      "              precision    recall  f1-score   support\n",
      "\n",
      "           0       0.87      0.75      0.81       203\n",
      "           1       0.56      0.49      0.52       181\n",
      "           2       0.58      0.72      0.64       209\n",
      "\n",
      "    accuracy                           0.66       593\n",
      "   macro avg       0.67      0.65      0.66       593\n",
      "weighted avg       0.67      0.66      0.66       593\n",
      "\n"
     ]
    }
   ],
   "source": [
    "# Predict the values\n",
    "y_pred = best_model.predict(X_test)\n",
    "\n",
    "# Assuming y_test2 contains your test labels\n",
    "unique_classes = np.unique(y_test)\n",
    "\n",
    "# Now you can use unique_classes for the classification_report\n",
    "print(classification_report(y_test, y_pred, target_names=[str(cls) for cls in unique_classes]))"
   ]
  },
  {
   "cell_type": "code",
   "execution_count": 94,
   "metadata": {},
   "outputs": [
    {
     "name": "stdout",
     "output_type": "stream",
     "text": [
      "  0%|          | 0/50 [02:27<?, ?trial/s, best loss=?]\n"
     ]
    },
    {
     "ename": "KeyboardInterrupt",
     "evalue": "",
     "output_type": "error",
     "traceback": [
      "\u001b[1;31m---------------------------------------------------------------------------\u001b[0m",
      "\u001b[1;31mKeyboardInterrupt\u001b[0m                         Traceback (most recent call last)",
      "Cell \u001b[1;32mIn[94], line 25\u001b[0m\n\u001b[0;32m     22\u001b[0m trials \u001b[38;5;241m=\u001b[39m Trials()\n\u001b[0;32m     24\u001b[0m \u001b[38;5;66;03m# Run the hyperparameter search using the tpe algorithm\u001b[39;00m\n\u001b[1;32m---> 25\u001b[0m best_params_bayes \u001b[38;5;241m=\u001b[39m \u001b[43mfmin\u001b[49m\u001b[43m(\u001b[49m\u001b[43mfn\u001b[49m\u001b[38;5;241;43m=\u001b[39;49m\u001b[43mobjective\u001b[49m\u001b[43m,\u001b[49m\u001b[43m \u001b[49m\u001b[43mspace\u001b[49m\u001b[38;5;241;43m=\u001b[39;49m\u001b[43mspace\u001b[49m\u001b[43m,\u001b[49m\u001b[43m \u001b[49m\u001b[43malgo\u001b[49m\u001b[38;5;241;43m=\u001b[39;49m\u001b[43mtpe\u001b[49m\u001b[38;5;241;43m.\u001b[39;49m\u001b[43msuggest\u001b[49m\u001b[43m,\u001b[49m\n\u001b[0;32m     26\u001b[0m \u001b[43m                         \u001b[49m\u001b[43mmax_evals\u001b[49m\u001b[38;5;241;43m=\u001b[39;49m\u001b[38;5;241;43m50\u001b[39;49m\u001b[43m,\u001b[49m\u001b[43m \u001b[49m\u001b[43mtrials\u001b[49m\u001b[38;5;241;43m=\u001b[39;49m\u001b[43mtrials\u001b[49m\u001b[43m,\u001b[49m\u001b[43m \u001b[49m\u001b[43mrstate\u001b[49m\u001b[38;5;241;43m=\u001b[39;49m\u001b[43m \u001b[49m\u001b[43mnp\u001b[49m\u001b[38;5;241;43m.\u001b[39;49m\u001b[43mrandom\u001b[49m\u001b[38;5;241;43m.\u001b[39;49m\u001b[43mdefault_rng\u001b[49m\u001b[43m(\u001b[49m\u001b[38;5;241;43m42\u001b[39;49m\u001b[43m)\u001b[49m\u001b[43m)\u001b[49m\n\u001b[0;32m     28\u001b[0m \u001b[38;5;66;03m# Apply best parameters\u001b[39;00m\n\u001b[0;32m     29\u001b[0m best_params_bayes[\u001b[38;5;124m'\u001b[39m\u001b[38;5;124miterations\u001b[39m\u001b[38;5;124m'\u001b[39m] \u001b[38;5;241m=\u001b[39m \u001b[38;5;28mint\u001b[39m(best_params_bayes[\u001b[38;5;124m'\u001b[39m\u001b[38;5;124miterations\u001b[39m\u001b[38;5;124m'\u001b[39m])\n",
      "File \u001b[1;32mc:\\Users\\Maria\\Desktop\\School\\clm_app\\.venv\\Lib\\site-packages\\hyperopt\\fmin.py:540\u001b[0m, in \u001b[0;36mfmin\u001b[1;34m(fn, space, algo, max_evals, timeout, loss_threshold, trials, rstate, allow_trials_fmin, pass_expr_memo_ctrl, catch_eval_exceptions, verbose, return_argmin, points_to_evaluate, max_queue_len, show_progressbar, early_stop_fn, trials_save_file)\u001b[0m\n\u001b[0;32m    537\u001b[0m     fn \u001b[38;5;241m=\u001b[39m __objective_fmin_wrapper(fn)\n\u001b[0;32m    539\u001b[0m \u001b[38;5;28;01mif\u001b[39;00m allow_trials_fmin \u001b[38;5;129;01mand\u001b[39;00m \u001b[38;5;28mhasattr\u001b[39m(trials, \u001b[38;5;124m\"\u001b[39m\u001b[38;5;124mfmin\u001b[39m\u001b[38;5;124m\"\u001b[39m):\n\u001b[1;32m--> 540\u001b[0m     \u001b[38;5;28;01mreturn\u001b[39;00m \u001b[43mtrials\u001b[49m\u001b[38;5;241;43m.\u001b[39;49m\u001b[43mfmin\u001b[49m\u001b[43m(\u001b[49m\n\u001b[0;32m    541\u001b[0m \u001b[43m        \u001b[49m\u001b[43mfn\u001b[49m\u001b[43m,\u001b[49m\n\u001b[0;32m    542\u001b[0m \u001b[43m        \u001b[49m\u001b[43mspace\u001b[49m\u001b[43m,\u001b[49m\n\u001b[0;32m    543\u001b[0m \u001b[43m        \u001b[49m\u001b[43malgo\u001b[49m\u001b[38;5;241;43m=\u001b[39;49m\u001b[43malgo\u001b[49m\u001b[43m,\u001b[49m\n\u001b[0;32m    544\u001b[0m \u001b[43m        \u001b[49m\u001b[43mmax_evals\u001b[49m\u001b[38;5;241;43m=\u001b[39;49m\u001b[43mmax_evals\u001b[49m\u001b[43m,\u001b[49m\n\u001b[0;32m    545\u001b[0m \u001b[43m        \u001b[49m\u001b[43mtimeout\u001b[49m\u001b[38;5;241;43m=\u001b[39;49m\u001b[43mtimeout\u001b[49m\u001b[43m,\u001b[49m\n\u001b[0;32m    546\u001b[0m \u001b[43m        \u001b[49m\u001b[43mloss_threshold\u001b[49m\u001b[38;5;241;43m=\u001b[39;49m\u001b[43mloss_threshold\u001b[49m\u001b[43m,\u001b[49m\n\u001b[0;32m    547\u001b[0m \u001b[43m        \u001b[49m\u001b[43mmax_queue_len\u001b[49m\u001b[38;5;241;43m=\u001b[39;49m\u001b[43mmax_queue_len\u001b[49m\u001b[43m,\u001b[49m\n\u001b[0;32m    548\u001b[0m \u001b[43m        \u001b[49m\u001b[43mrstate\u001b[49m\u001b[38;5;241;43m=\u001b[39;49m\u001b[43mrstate\u001b[49m\u001b[43m,\u001b[49m\n\u001b[0;32m    549\u001b[0m \u001b[43m        \u001b[49m\u001b[43mpass_expr_memo_ctrl\u001b[49m\u001b[38;5;241;43m=\u001b[39;49m\u001b[43mpass_expr_memo_ctrl\u001b[49m\u001b[43m,\u001b[49m\n\u001b[0;32m    550\u001b[0m \u001b[43m        \u001b[49m\u001b[43mverbose\u001b[49m\u001b[38;5;241;43m=\u001b[39;49m\u001b[43mverbose\u001b[49m\u001b[43m,\u001b[49m\n\u001b[0;32m    551\u001b[0m \u001b[43m        \u001b[49m\u001b[43mcatch_eval_exceptions\u001b[49m\u001b[38;5;241;43m=\u001b[39;49m\u001b[43mcatch_eval_exceptions\u001b[49m\u001b[43m,\u001b[49m\n\u001b[0;32m    552\u001b[0m \u001b[43m        \u001b[49m\u001b[43mreturn_argmin\u001b[49m\u001b[38;5;241;43m=\u001b[39;49m\u001b[43mreturn_argmin\u001b[49m\u001b[43m,\u001b[49m\n\u001b[0;32m    553\u001b[0m \u001b[43m        \u001b[49m\u001b[43mshow_progressbar\u001b[49m\u001b[38;5;241;43m=\u001b[39;49m\u001b[43mshow_progressbar\u001b[49m\u001b[43m,\u001b[49m\n\u001b[0;32m    554\u001b[0m \u001b[43m        \u001b[49m\u001b[43mearly_stop_fn\u001b[49m\u001b[38;5;241;43m=\u001b[39;49m\u001b[43mearly_stop_fn\u001b[49m\u001b[43m,\u001b[49m\n\u001b[0;32m    555\u001b[0m \u001b[43m        \u001b[49m\u001b[43mtrials_save_file\u001b[49m\u001b[38;5;241;43m=\u001b[39;49m\u001b[43mtrials_save_file\u001b[49m\u001b[43m,\u001b[49m\n\u001b[0;32m    556\u001b[0m \u001b[43m    \u001b[49m\u001b[43m)\u001b[49m\n\u001b[0;32m    558\u001b[0m \u001b[38;5;28;01mif\u001b[39;00m trials \u001b[38;5;129;01mis\u001b[39;00m \u001b[38;5;28;01mNone\u001b[39;00m:\n\u001b[0;32m    559\u001b[0m     \u001b[38;5;28;01mif\u001b[39;00m os\u001b[38;5;241m.\u001b[39mpath\u001b[38;5;241m.\u001b[39mexists(trials_save_file):\n",
      "File \u001b[1;32mc:\\Users\\Maria\\Desktop\\School\\clm_app\\.venv\\Lib\\site-packages\\hyperopt\\base.py:671\u001b[0m, in \u001b[0;36mTrials.fmin\u001b[1;34m(self, fn, space, algo, max_evals, timeout, loss_threshold, max_queue_len, rstate, verbose, pass_expr_memo_ctrl, catch_eval_exceptions, return_argmin, show_progressbar, early_stop_fn, trials_save_file)\u001b[0m\n\u001b[0;32m    666\u001b[0m \u001b[38;5;66;03m# -- Stop-gap implementation!\u001b[39;00m\n\u001b[0;32m    667\u001b[0m \u001b[38;5;66;03m#    fmin should have been a Trials method in the first place\u001b[39;00m\n\u001b[0;32m    668\u001b[0m \u001b[38;5;66;03m#    but for now it's still sitting in another file.\u001b[39;00m\n\u001b[0;32m    669\u001b[0m \u001b[38;5;28;01mfrom\u001b[39;00m \u001b[38;5;21;01m.\u001b[39;00m\u001b[38;5;21;01mfmin\u001b[39;00m \u001b[38;5;28;01mimport\u001b[39;00m fmin\n\u001b[1;32m--> 671\u001b[0m \u001b[38;5;28;01mreturn\u001b[39;00m \u001b[43mfmin\u001b[49m\u001b[43m(\u001b[49m\n\u001b[0;32m    672\u001b[0m \u001b[43m    \u001b[49m\u001b[43mfn\u001b[49m\u001b[43m,\u001b[49m\n\u001b[0;32m    673\u001b[0m \u001b[43m    \u001b[49m\u001b[43mspace\u001b[49m\u001b[43m,\u001b[49m\n\u001b[0;32m    674\u001b[0m \u001b[43m    \u001b[49m\u001b[43malgo\u001b[49m\u001b[38;5;241;43m=\u001b[39;49m\u001b[43malgo\u001b[49m\u001b[43m,\u001b[49m\n\u001b[0;32m    675\u001b[0m \u001b[43m    \u001b[49m\u001b[43mmax_evals\u001b[49m\u001b[38;5;241;43m=\u001b[39;49m\u001b[43mmax_evals\u001b[49m\u001b[43m,\u001b[49m\n\u001b[0;32m    676\u001b[0m \u001b[43m    \u001b[49m\u001b[43mtimeout\u001b[49m\u001b[38;5;241;43m=\u001b[39;49m\u001b[43mtimeout\u001b[49m\u001b[43m,\u001b[49m\n\u001b[0;32m    677\u001b[0m \u001b[43m    \u001b[49m\u001b[43mloss_threshold\u001b[49m\u001b[38;5;241;43m=\u001b[39;49m\u001b[43mloss_threshold\u001b[49m\u001b[43m,\u001b[49m\n\u001b[0;32m    678\u001b[0m \u001b[43m    \u001b[49m\u001b[43mtrials\u001b[49m\u001b[38;5;241;43m=\u001b[39;49m\u001b[38;5;28;43mself\u001b[39;49m\u001b[43m,\u001b[49m\n\u001b[0;32m    679\u001b[0m \u001b[43m    \u001b[49m\u001b[43mrstate\u001b[49m\u001b[38;5;241;43m=\u001b[39;49m\u001b[43mrstate\u001b[49m\u001b[43m,\u001b[49m\n\u001b[0;32m    680\u001b[0m \u001b[43m    \u001b[49m\u001b[43mverbose\u001b[49m\u001b[38;5;241;43m=\u001b[39;49m\u001b[43mverbose\u001b[49m\u001b[43m,\u001b[49m\n\u001b[0;32m    681\u001b[0m \u001b[43m    \u001b[49m\u001b[43mmax_queue_len\u001b[49m\u001b[38;5;241;43m=\u001b[39;49m\u001b[43mmax_queue_len\u001b[49m\u001b[43m,\u001b[49m\n\u001b[0;32m    682\u001b[0m \u001b[43m    \u001b[49m\u001b[43mallow_trials_fmin\u001b[49m\u001b[38;5;241;43m=\u001b[39;49m\u001b[38;5;28;43;01mFalse\u001b[39;49;00m\u001b[43m,\u001b[49m\u001b[43m  \u001b[49m\u001b[38;5;66;43;03m# -- prevent recursion\u001b[39;49;00m\n\u001b[0;32m    683\u001b[0m \u001b[43m    \u001b[49m\u001b[43mpass_expr_memo_ctrl\u001b[49m\u001b[38;5;241;43m=\u001b[39;49m\u001b[43mpass_expr_memo_ctrl\u001b[49m\u001b[43m,\u001b[49m\n\u001b[0;32m    684\u001b[0m \u001b[43m    \u001b[49m\u001b[43mcatch_eval_exceptions\u001b[49m\u001b[38;5;241;43m=\u001b[39;49m\u001b[43mcatch_eval_exceptions\u001b[49m\u001b[43m,\u001b[49m\n\u001b[0;32m    685\u001b[0m \u001b[43m    \u001b[49m\u001b[43mreturn_argmin\u001b[49m\u001b[38;5;241;43m=\u001b[39;49m\u001b[43mreturn_argmin\u001b[49m\u001b[43m,\u001b[49m\n\u001b[0;32m    686\u001b[0m \u001b[43m    \u001b[49m\u001b[43mshow_progressbar\u001b[49m\u001b[38;5;241;43m=\u001b[39;49m\u001b[43mshow_progressbar\u001b[49m\u001b[43m,\u001b[49m\n\u001b[0;32m    687\u001b[0m \u001b[43m    \u001b[49m\u001b[43mearly_stop_fn\u001b[49m\u001b[38;5;241;43m=\u001b[39;49m\u001b[43mearly_stop_fn\u001b[49m\u001b[43m,\u001b[49m\n\u001b[0;32m    688\u001b[0m \u001b[43m    \u001b[49m\u001b[43mtrials_save_file\u001b[49m\u001b[38;5;241;43m=\u001b[39;49m\u001b[43mtrials_save_file\u001b[49m\u001b[43m,\u001b[49m\n\u001b[0;32m    689\u001b[0m \u001b[43m\u001b[49m\u001b[43m)\u001b[49m\n",
      "File \u001b[1;32mc:\\Users\\Maria\\Desktop\\School\\clm_app\\.venv\\Lib\\site-packages\\hyperopt\\fmin.py:586\u001b[0m, in \u001b[0;36mfmin\u001b[1;34m(fn, space, algo, max_evals, timeout, loss_threshold, trials, rstate, allow_trials_fmin, pass_expr_memo_ctrl, catch_eval_exceptions, verbose, return_argmin, points_to_evaluate, max_queue_len, show_progressbar, early_stop_fn, trials_save_file)\u001b[0m\n\u001b[0;32m    583\u001b[0m rval\u001b[38;5;241m.\u001b[39mcatch_eval_exceptions \u001b[38;5;241m=\u001b[39m catch_eval_exceptions\n\u001b[0;32m    585\u001b[0m \u001b[38;5;66;03m# next line is where the fmin is actually executed\u001b[39;00m\n\u001b[1;32m--> 586\u001b[0m \u001b[43mrval\u001b[49m\u001b[38;5;241;43m.\u001b[39;49m\u001b[43mexhaust\u001b[49m\u001b[43m(\u001b[49m\u001b[43m)\u001b[49m\n\u001b[0;32m    588\u001b[0m \u001b[38;5;28;01mif\u001b[39;00m return_argmin:\n\u001b[0;32m    589\u001b[0m     \u001b[38;5;28;01mif\u001b[39;00m \u001b[38;5;28mlen\u001b[39m(trials\u001b[38;5;241m.\u001b[39mtrials) \u001b[38;5;241m==\u001b[39m \u001b[38;5;241m0\u001b[39m:\n",
      "File \u001b[1;32mc:\\Users\\Maria\\Desktop\\School\\clm_app\\.venv\\Lib\\site-packages\\hyperopt\\fmin.py:364\u001b[0m, in \u001b[0;36mFMinIter.exhaust\u001b[1;34m(self)\u001b[0m\n\u001b[0;32m    362\u001b[0m \u001b[38;5;28;01mdef\u001b[39;00m \u001b[38;5;21mexhaust\u001b[39m(\u001b[38;5;28mself\u001b[39m):\n\u001b[0;32m    363\u001b[0m     n_done \u001b[38;5;241m=\u001b[39m \u001b[38;5;28mlen\u001b[39m(\u001b[38;5;28mself\u001b[39m\u001b[38;5;241m.\u001b[39mtrials)\n\u001b[1;32m--> 364\u001b[0m     \u001b[38;5;28;43mself\u001b[39;49m\u001b[38;5;241;43m.\u001b[39;49m\u001b[43mrun\u001b[49m\u001b[43m(\u001b[49m\u001b[38;5;28;43mself\u001b[39;49m\u001b[38;5;241;43m.\u001b[39;49m\u001b[43mmax_evals\u001b[49m\u001b[43m \u001b[49m\u001b[38;5;241;43m-\u001b[39;49m\u001b[43m \u001b[49m\u001b[43mn_done\u001b[49m\u001b[43m,\u001b[49m\u001b[43m \u001b[49m\u001b[43mblock_until_done\u001b[49m\u001b[38;5;241;43m=\u001b[39;49m\u001b[38;5;28;43mself\u001b[39;49m\u001b[38;5;241;43m.\u001b[39;49m\u001b[43masynchronous\u001b[49m\u001b[43m)\u001b[49m\n\u001b[0;32m    365\u001b[0m     \u001b[38;5;28mself\u001b[39m\u001b[38;5;241m.\u001b[39mtrials\u001b[38;5;241m.\u001b[39mrefresh()\n\u001b[0;32m    366\u001b[0m     \u001b[38;5;28;01mreturn\u001b[39;00m \u001b[38;5;28mself\u001b[39m\n",
      "File \u001b[1;32mc:\\Users\\Maria\\Desktop\\School\\clm_app\\.venv\\Lib\\site-packages\\hyperopt\\fmin.py:300\u001b[0m, in \u001b[0;36mFMinIter.run\u001b[1;34m(self, N, block_until_done)\u001b[0m\n\u001b[0;32m    297\u001b[0m     time\u001b[38;5;241m.\u001b[39msleep(\u001b[38;5;28mself\u001b[39m\u001b[38;5;241m.\u001b[39mpoll_interval_secs)\n\u001b[0;32m    298\u001b[0m \u001b[38;5;28;01melse\u001b[39;00m:\n\u001b[0;32m    299\u001b[0m     \u001b[38;5;66;03m# -- loop over trials and do the jobs directly\u001b[39;00m\n\u001b[1;32m--> 300\u001b[0m     \u001b[38;5;28;43mself\u001b[39;49m\u001b[38;5;241;43m.\u001b[39;49m\u001b[43mserial_evaluate\u001b[49m\u001b[43m(\u001b[49m\u001b[43m)\u001b[49m\n\u001b[0;32m    302\u001b[0m \u001b[38;5;28mself\u001b[39m\u001b[38;5;241m.\u001b[39mtrials\u001b[38;5;241m.\u001b[39mrefresh()\n\u001b[0;32m    303\u001b[0m \u001b[38;5;28;01mif\u001b[39;00m \u001b[38;5;28mself\u001b[39m\u001b[38;5;241m.\u001b[39mtrials_save_file \u001b[38;5;241m!=\u001b[39m \u001b[38;5;124m\"\u001b[39m\u001b[38;5;124m\"\u001b[39m:\n",
      "File \u001b[1;32mc:\\Users\\Maria\\Desktop\\School\\clm_app\\.venv\\Lib\\site-packages\\hyperopt\\fmin.py:178\u001b[0m, in \u001b[0;36mFMinIter.serial_evaluate\u001b[1;34m(self, N)\u001b[0m\n\u001b[0;32m    176\u001b[0m ctrl \u001b[38;5;241m=\u001b[39m base\u001b[38;5;241m.\u001b[39mCtrl(\u001b[38;5;28mself\u001b[39m\u001b[38;5;241m.\u001b[39mtrials, current_trial\u001b[38;5;241m=\u001b[39mtrial)\n\u001b[0;32m    177\u001b[0m \u001b[38;5;28;01mtry\u001b[39;00m:\n\u001b[1;32m--> 178\u001b[0m     result \u001b[38;5;241m=\u001b[39m \u001b[38;5;28;43mself\u001b[39;49m\u001b[38;5;241;43m.\u001b[39;49m\u001b[43mdomain\u001b[49m\u001b[38;5;241;43m.\u001b[39;49m\u001b[43mevaluate\u001b[49m\u001b[43m(\u001b[49m\u001b[43mspec\u001b[49m\u001b[43m,\u001b[49m\u001b[43m \u001b[49m\u001b[43mctrl\u001b[49m\u001b[43m)\u001b[49m\n\u001b[0;32m    179\u001b[0m \u001b[38;5;28;01mexcept\u001b[39;00m \u001b[38;5;167;01mException\u001b[39;00m \u001b[38;5;28;01mas\u001b[39;00m e:\n\u001b[0;32m    180\u001b[0m     logger\u001b[38;5;241m.\u001b[39merror(\u001b[38;5;124m\"\u001b[39m\u001b[38;5;124mjob exception: \u001b[39m\u001b[38;5;132;01m%s\u001b[39;00m\u001b[38;5;124m\"\u001b[39m \u001b[38;5;241m%\u001b[39m \u001b[38;5;28mstr\u001b[39m(e))\n",
      "File \u001b[1;32mc:\\Users\\Maria\\Desktop\\School\\clm_app\\.venv\\Lib\\site-packages\\hyperopt\\base.py:892\u001b[0m, in \u001b[0;36mDomain.evaluate\u001b[1;34m(self, config, ctrl, attach_attachments)\u001b[0m\n\u001b[0;32m    883\u001b[0m \u001b[38;5;28;01melse\u001b[39;00m:\n\u001b[0;32m    884\u001b[0m     \u001b[38;5;66;03m# -- the \"work\" of evaluating `config` can be written\u001b[39;00m\n\u001b[0;32m    885\u001b[0m     \u001b[38;5;66;03m#    either into the pyll part (self.expr)\u001b[39;00m\n\u001b[0;32m    886\u001b[0m     \u001b[38;5;66;03m#    or the normal Python part (self.fn)\u001b[39;00m\n\u001b[0;32m    887\u001b[0m     pyll_rval \u001b[38;5;241m=\u001b[39m pyll\u001b[38;5;241m.\u001b[39mrec_eval(\n\u001b[0;32m    888\u001b[0m         \u001b[38;5;28mself\u001b[39m\u001b[38;5;241m.\u001b[39mexpr,\n\u001b[0;32m    889\u001b[0m         memo\u001b[38;5;241m=\u001b[39mmemo,\n\u001b[0;32m    890\u001b[0m         print_node_on_error\u001b[38;5;241m=\u001b[39m\u001b[38;5;28mself\u001b[39m\u001b[38;5;241m.\u001b[39mrec_eval_print_node_on_error,\n\u001b[0;32m    891\u001b[0m     )\n\u001b[1;32m--> 892\u001b[0m     rval \u001b[38;5;241m=\u001b[39m \u001b[38;5;28;43mself\u001b[39;49m\u001b[38;5;241;43m.\u001b[39;49m\u001b[43mfn\u001b[49m\u001b[43m(\u001b[49m\u001b[43mpyll_rval\u001b[49m\u001b[43m)\u001b[49m\n\u001b[0;32m    894\u001b[0m \u001b[38;5;28;01mif\u001b[39;00m \u001b[38;5;28misinstance\u001b[39m(rval, (\u001b[38;5;28mfloat\u001b[39m, \u001b[38;5;28mint\u001b[39m, np\u001b[38;5;241m.\u001b[39mnumber)):\n\u001b[0;32m    895\u001b[0m     dict_rval \u001b[38;5;241m=\u001b[39m {\u001b[38;5;124m\"\u001b[39m\u001b[38;5;124mloss\u001b[39m\u001b[38;5;124m\"\u001b[39m: \u001b[38;5;28mfloat\u001b[39m(rval), \u001b[38;5;124m\"\u001b[39m\u001b[38;5;124mstatus\u001b[39m\u001b[38;5;124m\"\u001b[39m: STATUS_OK}\n",
      "Cell \u001b[1;32mIn[94], line 18\u001b[0m, in \u001b[0;36mobjective\u001b[1;34m(params)\u001b[0m\n\u001b[0;32m     16\u001b[0m params[\u001b[38;5;124m'\u001b[39m\u001b[38;5;124mdepth\u001b[39m\u001b[38;5;124m'\u001b[39m] \u001b[38;5;241m=\u001b[39m \u001b[38;5;28mint\u001b[39m(params[\u001b[38;5;124m'\u001b[39m\u001b[38;5;124mdepth\u001b[39m\u001b[38;5;124m'\u001b[39m])\n\u001b[0;32m     17\u001b[0m catboost_model \u001b[38;5;241m=\u001b[39m CatBoostClassifier(\u001b[38;5;241m*\u001b[39m\u001b[38;5;241m*\u001b[39mparams, loss_function\u001b[38;5;241m=\u001b[39m\u001b[38;5;124m'\u001b[39m\u001b[38;5;124mMultiClass\u001b[39m\u001b[38;5;124m'\u001b[39m, verbose\u001b[38;5;241m=\u001b[39m\u001b[38;5;241m0\u001b[39m)\n\u001b[1;32m---> 18\u001b[0m score \u001b[38;5;241m=\u001b[39m \u001b[38;5;241m-\u001b[39m\u001b[43mcross_val_score\u001b[49m\u001b[43m(\u001b[49m\u001b[43mcatboost_model\u001b[49m\u001b[43m,\u001b[49m\u001b[43m \u001b[49m\u001b[43mX_train\u001b[49m\u001b[43m,\u001b[49m\u001b[43m \u001b[49m\u001b[43my_train\u001b[49m\u001b[43m,\u001b[49m\u001b[43m \u001b[49m\u001b[43mscoring\u001b[49m\u001b[38;5;241;43m=\u001b[39;49m\u001b[38;5;124;43m'\u001b[39;49m\u001b[38;5;124;43mneg_mean_squared_error\u001b[39;49m\u001b[38;5;124;43m'\u001b[39;49m\u001b[43m,\u001b[49m\u001b[43m \u001b[49m\u001b[43mcv\u001b[49m\u001b[38;5;241;43m=\u001b[39;49m\u001b[38;5;241;43m3\u001b[39;49m\u001b[43m)\u001b[49m\u001b[38;5;241m.\u001b[39mmean()\n\u001b[0;32m     19\u001b[0m \u001b[38;5;28;01mreturn\u001b[39;00m {\u001b[38;5;124m'\u001b[39m\u001b[38;5;124mloss\u001b[39m\u001b[38;5;124m'\u001b[39m: score, \u001b[38;5;124m'\u001b[39m\u001b[38;5;124mstatus\u001b[39m\u001b[38;5;124m'\u001b[39m: STATUS_OK}\n",
      "File \u001b[1;32mc:\\Users\\Maria\\Desktop\\School\\clm_app\\.venv\\Lib\\site-packages\\sklearn\\utils\\_param_validation.py:213\u001b[0m, in \u001b[0;36mvalidate_params.<locals>.decorator.<locals>.wrapper\u001b[1;34m(*args, **kwargs)\u001b[0m\n\u001b[0;32m    207\u001b[0m \u001b[38;5;28;01mtry\u001b[39;00m:\n\u001b[0;32m    208\u001b[0m     \u001b[38;5;28;01mwith\u001b[39;00m config_context(\n\u001b[0;32m    209\u001b[0m         skip_parameter_validation\u001b[38;5;241m=\u001b[39m(\n\u001b[0;32m    210\u001b[0m             prefer_skip_nested_validation \u001b[38;5;129;01mor\u001b[39;00m global_skip_validation\n\u001b[0;32m    211\u001b[0m         )\n\u001b[0;32m    212\u001b[0m     ):\n\u001b[1;32m--> 213\u001b[0m         \u001b[38;5;28;01mreturn\u001b[39;00m \u001b[43mfunc\u001b[49m\u001b[43m(\u001b[49m\u001b[38;5;241;43m*\u001b[39;49m\u001b[43margs\u001b[49m\u001b[43m,\u001b[49m\u001b[43m \u001b[49m\u001b[38;5;241;43m*\u001b[39;49m\u001b[38;5;241;43m*\u001b[39;49m\u001b[43mkwargs\u001b[49m\u001b[43m)\u001b[49m\n\u001b[0;32m    214\u001b[0m \u001b[38;5;28;01mexcept\u001b[39;00m InvalidParameterError \u001b[38;5;28;01mas\u001b[39;00m e:\n\u001b[0;32m    215\u001b[0m     \u001b[38;5;66;03m# When the function is just a wrapper around an estimator, we allow\u001b[39;00m\n\u001b[0;32m    216\u001b[0m     \u001b[38;5;66;03m# the function to delegate validation to the estimator, but we replace\u001b[39;00m\n\u001b[0;32m    217\u001b[0m     \u001b[38;5;66;03m# the name of the estimator by the name of the function in the error\u001b[39;00m\n\u001b[0;32m    218\u001b[0m     \u001b[38;5;66;03m# message to avoid confusion.\u001b[39;00m\n\u001b[0;32m    219\u001b[0m     msg \u001b[38;5;241m=\u001b[39m re\u001b[38;5;241m.\u001b[39msub(\n\u001b[0;32m    220\u001b[0m         \u001b[38;5;124mr\u001b[39m\u001b[38;5;124m\"\u001b[39m\u001b[38;5;124mparameter of \u001b[39m\u001b[38;5;124m\\\u001b[39m\u001b[38;5;124mw+ must be\u001b[39m\u001b[38;5;124m\"\u001b[39m,\n\u001b[0;32m    221\u001b[0m         \u001b[38;5;124mf\u001b[39m\u001b[38;5;124m\"\u001b[39m\u001b[38;5;124mparameter of \u001b[39m\u001b[38;5;132;01m{\u001b[39;00mfunc\u001b[38;5;241m.\u001b[39m\u001b[38;5;18m__qualname__\u001b[39m\u001b[38;5;132;01m}\u001b[39;00m\u001b[38;5;124m must be\u001b[39m\u001b[38;5;124m\"\u001b[39m,\n\u001b[0;32m    222\u001b[0m         \u001b[38;5;28mstr\u001b[39m(e),\n\u001b[0;32m    223\u001b[0m     )\n",
      "File \u001b[1;32mc:\\Users\\Maria\\Desktop\\School\\clm_app\\.venv\\Lib\\site-packages\\sklearn\\model_selection\\_validation.py:719\u001b[0m, in \u001b[0;36mcross_val_score\u001b[1;34m(estimator, X, y, groups, scoring, cv, n_jobs, verbose, fit_params, params, pre_dispatch, error_score)\u001b[0m\n\u001b[0;32m    716\u001b[0m \u001b[38;5;66;03m# To ensure multimetric format is not supported\u001b[39;00m\n\u001b[0;32m    717\u001b[0m scorer \u001b[38;5;241m=\u001b[39m check_scoring(estimator, scoring\u001b[38;5;241m=\u001b[39mscoring)\n\u001b[1;32m--> 719\u001b[0m cv_results \u001b[38;5;241m=\u001b[39m \u001b[43mcross_validate\u001b[49m\u001b[43m(\u001b[49m\n\u001b[0;32m    720\u001b[0m \u001b[43m    \u001b[49m\u001b[43mestimator\u001b[49m\u001b[38;5;241;43m=\u001b[39;49m\u001b[43mestimator\u001b[49m\u001b[43m,\u001b[49m\n\u001b[0;32m    721\u001b[0m \u001b[43m    \u001b[49m\u001b[43mX\u001b[49m\u001b[38;5;241;43m=\u001b[39;49m\u001b[43mX\u001b[49m\u001b[43m,\u001b[49m\n\u001b[0;32m    722\u001b[0m \u001b[43m    \u001b[49m\u001b[43my\u001b[49m\u001b[38;5;241;43m=\u001b[39;49m\u001b[43my\u001b[49m\u001b[43m,\u001b[49m\n\u001b[0;32m    723\u001b[0m \u001b[43m    \u001b[49m\u001b[43mgroups\u001b[49m\u001b[38;5;241;43m=\u001b[39;49m\u001b[43mgroups\u001b[49m\u001b[43m,\u001b[49m\n\u001b[0;32m    724\u001b[0m \u001b[43m    \u001b[49m\u001b[43mscoring\u001b[49m\u001b[38;5;241;43m=\u001b[39;49m\u001b[43m{\u001b[49m\u001b[38;5;124;43m\"\u001b[39;49m\u001b[38;5;124;43mscore\u001b[39;49m\u001b[38;5;124;43m\"\u001b[39;49m\u001b[43m:\u001b[49m\u001b[43m \u001b[49m\u001b[43mscorer\u001b[49m\u001b[43m}\u001b[49m\u001b[43m,\u001b[49m\n\u001b[0;32m    725\u001b[0m \u001b[43m    \u001b[49m\u001b[43mcv\u001b[49m\u001b[38;5;241;43m=\u001b[39;49m\u001b[43mcv\u001b[49m\u001b[43m,\u001b[49m\n\u001b[0;32m    726\u001b[0m \u001b[43m    \u001b[49m\u001b[43mn_jobs\u001b[49m\u001b[38;5;241;43m=\u001b[39;49m\u001b[43mn_jobs\u001b[49m\u001b[43m,\u001b[49m\n\u001b[0;32m    727\u001b[0m \u001b[43m    \u001b[49m\u001b[43mverbose\u001b[49m\u001b[38;5;241;43m=\u001b[39;49m\u001b[43mverbose\u001b[49m\u001b[43m,\u001b[49m\n\u001b[0;32m    728\u001b[0m \u001b[43m    \u001b[49m\u001b[43mfit_params\u001b[49m\u001b[38;5;241;43m=\u001b[39;49m\u001b[43mfit_params\u001b[49m\u001b[43m,\u001b[49m\n\u001b[0;32m    729\u001b[0m \u001b[43m    \u001b[49m\u001b[43mparams\u001b[49m\u001b[38;5;241;43m=\u001b[39;49m\u001b[43mparams\u001b[49m\u001b[43m,\u001b[49m\n\u001b[0;32m    730\u001b[0m \u001b[43m    \u001b[49m\u001b[43mpre_dispatch\u001b[49m\u001b[38;5;241;43m=\u001b[39;49m\u001b[43mpre_dispatch\u001b[49m\u001b[43m,\u001b[49m\n\u001b[0;32m    731\u001b[0m \u001b[43m    \u001b[49m\u001b[43merror_score\u001b[49m\u001b[38;5;241;43m=\u001b[39;49m\u001b[43merror_score\u001b[49m\u001b[43m,\u001b[49m\n\u001b[0;32m    732\u001b[0m \u001b[43m\u001b[49m\u001b[43m)\u001b[49m\n\u001b[0;32m    733\u001b[0m \u001b[38;5;28;01mreturn\u001b[39;00m cv_results[\u001b[38;5;124m\"\u001b[39m\u001b[38;5;124mtest_score\u001b[39m\u001b[38;5;124m\"\u001b[39m]\n",
      "File \u001b[1;32mc:\\Users\\Maria\\Desktop\\School\\clm_app\\.venv\\Lib\\site-packages\\sklearn\\utils\\_param_validation.py:213\u001b[0m, in \u001b[0;36mvalidate_params.<locals>.decorator.<locals>.wrapper\u001b[1;34m(*args, **kwargs)\u001b[0m\n\u001b[0;32m    207\u001b[0m \u001b[38;5;28;01mtry\u001b[39;00m:\n\u001b[0;32m    208\u001b[0m     \u001b[38;5;28;01mwith\u001b[39;00m config_context(\n\u001b[0;32m    209\u001b[0m         skip_parameter_validation\u001b[38;5;241m=\u001b[39m(\n\u001b[0;32m    210\u001b[0m             prefer_skip_nested_validation \u001b[38;5;129;01mor\u001b[39;00m global_skip_validation\n\u001b[0;32m    211\u001b[0m         )\n\u001b[0;32m    212\u001b[0m     ):\n\u001b[1;32m--> 213\u001b[0m         \u001b[38;5;28;01mreturn\u001b[39;00m \u001b[43mfunc\u001b[49m\u001b[43m(\u001b[49m\u001b[38;5;241;43m*\u001b[39;49m\u001b[43margs\u001b[49m\u001b[43m,\u001b[49m\u001b[43m \u001b[49m\u001b[38;5;241;43m*\u001b[39;49m\u001b[38;5;241;43m*\u001b[39;49m\u001b[43mkwargs\u001b[49m\u001b[43m)\u001b[49m\n\u001b[0;32m    214\u001b[0m \u001b[38;5;28;01mexcept\u001b[39;00m InvalidParameterError \u001b[38;5;28;01mas\u001b[39;00m e:\n\u001b[0;32m    215\u001b[0m     \u001b[38;5;66;03m# When the function is just a wrapper around an estimator, we allow\u001b[39;00m\n\u001b[0;32m    216\u001b[0m     \u001b[38;5;66;03m# the function to delegate validation to the estimator, but we replace\u001b[39;00m\n\u001b[0;32m    217\u001b[0m     \u001b[38;5;66;03m# the name of the estimator by the name of the function in the error\u001b[39;00m\n\u001b[0;32m    218\u001b[0m     \u001b[38;5;66;03m# message to avoid confusion.\u001b[39;00m\n\u001b[0;32m    219\u001b[0m     msg \u001b[38;5;241m=\u001b[39m re\u001b[38;5;241m.\u001b[39msub(\n\u001b[0;32m    220\u001b[0m         \u001b[38;5;124mr\u001b[39m\u001b[38;5;124m\"\u001b[39m\u001b[38;5;124mparameter of \u001b[39m\u001b[38;5;124m\\\u001b[39m\u001b[38;5;124mw+ must be\u001b[39m\u001b[38;5;124m\"\u001b[39m,\n\u001b[0;32m    221\u001b[0m         \u001b[38;5;124mf\u001b[39m\u001b[38;5;124m\"\u001b[39m\u001b[38;5;124mparameter of \u001b[39m\u001b[38;5;132;01m{\u001b[39;00mfunc\u001b[38;5;241m.\u001b[39m\u001b[38;5;18m__qualname__\u001b[39m\u001b[38;5;132;01m}\u001b[39;00m\u001b[38;5;124m must be\u001b[39m\u001b[38;5;124m\"\u001b[39m,\n\u001b[0;32m    222\u001b[0m         \u001b[38;5;28mstr\u001b[39m(e),\n\u001b[0;32m    223\u001b[0m     )\n",
      "File \u001b[1;32mc:\\Users\\Maria\\Desktop\\School\\clm_app\\.venv\\Lib\\site-packages\\sklearn\\model_selection\\_validation.py:430\u001b[0m, in \u001b[0;36mcross_validate\u001b[1;34m(estimator, X, y, groups, scoring, cv, n_jobs, verbose, fit_params, params, pre_dispatch, return_train_score, return_estimator, return_indices, error_score)\u001b[0m\n\u001b[0;32m    427\u001b[0m \u001b[38;5;66;03m# We clone the estimator to make sure that all the folds are\u001b[39;00m\n\u001b[0;32m    428\u001b[0m \u001b[38;5;66;03m# independent, and that it is pickle-able.\u001b[39;00m\n\u001b[0;32m    429\u001b[0m parallel \u001b[38;5;241m=\u001b[39m Parallel(n_jobs\u001b[38;5;241m=\u001b[39mn_jobs, verbose\u001b[38;5;241m=\u001b[39mverbose, pre_dispatch\u001b[38;5;241m=\u001b[39mpre_dispatch)\n\u001b[1;32m--> 430\u001b[0m results \u001b[38;5;241m=\u001b[39m \u001b[43mparallel\u001b[49m\u001b[43m(\u001b[49m\n\u001b[0;32m    431\u001b[0m \u001b[43m    \u001b[49m\u001b[43mdelayed\u001b[49m\u001b[43m(\u001b[49m\u001b[43m_fit_and_score\u001b[49m\u001b[43m)\u001b[49m\u001b[43m(\u001b[49m\n\u001b[0;32m    432\u001b[0m \u001b[43m        \u001b[49m\u001b[43mclone\u001b[49m\u001b[43m(\u001b[49m\u001b[43mestimator\u001b[49m\u001b[43m)\u001b[49m\u001b[43m,\u001b[49m\n\u001b[0;32m    433\u001b[0m \u001b[43m        \u001b[49m\u001b[43mX\u001b[49m\u001b[43m,\u001b[49m\n\u001b[0;32m    434\u001b[0m \u001b[43m        \u001b[49m\u001b[43my\u001b[49m\u001b[43m,\u001b[49m\n\u001b[0;32m    435\u001b[0m \u001b[43m        \u001b[49m\u001b[43mscorer\u001b[49m\u001b[38;5;241;43m=\u001b[39;49m\u001b[43mscorers\u001b[49m\u001b[43m,\u001b[49m\n\u001b[0;32m    436\u001b[0m \u001b[43m        \u001b[49m\u001b[43mtrain\u001b[49m\u001b[38;5;241;43m=\u001b[39;49m\u001b[43mtrain\u001b[49m\u001b[43m,\u001b[49m\n\u001b[0;32m    437\u001b[0m \u001b[43m        \u001b[49m\u001b[43mtest\u001b[49m\u001b[38;5;241;43m=\u001b[39;49m\u001b[43mtest\u001b[49m\u001b[43m,\u001b[49m\n\u001b[0;32m    438\u001b[0m \u001b[43m        \u001b[49m\u001b[43mverbose\u001b[49m\u001b[38;5;241;43m=\u001b[39;49m\u001b[43mverbose\u001b[49m\u001b[43m,\u001b[49m\n\u001b[0;32m    439\u001b[0m \u001b[43m        \u001b[49m\u001b[43mparameters\u001b[49m\u001b[38;5;241;43m=\u001b[39;49m\u001b[38;5;28;43;01mNone\u001b[39;49;00m\u001b[43m,\u001b[49m\n\u001b[0;32m    440\u001b[0m \u001b[43m        \u001b[49m\u001b[43mfit_params\u001b[49m\u001b[38;5;241;43m=\u001b[39;49m\u001b[43mrouted_params\u001b[49m\u001b[38;5;241;43m.\u001b[39;49m\u001b[43mestimator\u001b[49m\u001b[38;5;241;43m.\u001b[39;49m\u001b[43mfit\u001b[49m\u001b[43m,\u001b[49m\n\u001b[0;32m    441\u001b[0m \u001b[43m        \u001b[49m\u001b[43mscore_params\u001b[49m\u001b[38;5;241;43m=\u001b[39;49m\u001b[43mrouted_params\u001b[49m\u001b[38;5;241;43m.\u001b[39;49m\u001b[43mscorer\u001b[49m\u001b[38;5;241;43m.\u001b[39;49m\u001b[43mscore\u001b[49m\u001b[43m,\u001b[49m\n\u001b[0;32m    442\u001b[0m \u001b[43m        \u001b[49m\u001b[43mreturn_train_score\u001b[49m\u001b[38;5;241;43m=\u001b[39;49m\u001b[43mreturn_train_score\u001b[49m\u001b[43m,\u001b[49m\n\u001b[0;32m    443\u001b[0m \u001b[43m        \u001b[49m\u001b[43mreturn_times\u001b[49m\u001b[38;5;241;43m=\u001b[39;49m\u001b[38;5;28;43;01mTrue\u001b[39;49;00m\u001b[43m,\u001b[49m\n\u001b[0;32m    444\u001b[0m \u001b[43m        \u001b[49m\u001b[43mreturn_estimator\u001b[49m\u001b[38;5;241;43m=\u001b[39;49m\u001b[43mreturn_estimator\u001b[49m\u001b[43m,\u001b[49m\n\u001b[0;32m    445\u001b[0m \u001b[43m        \u001b[49m\u001b[43merror_score\u001b[49m\u001b[38;5;241;43m=\u001b[39;49m\u001b[43merror_score\u001b[49m\u001b[43m,\u001b[49m\n\u001b[0;32m    446\u001b[0m \u001b[43m    \u001b[49m\u001b[43m)\u001b[49m\n\u001b[0;32m    447\u001b[0m \u001b[43m    \u001b[49m\u001b[38;5;28;43;01mfor\u001b[39;49;00m\u001b[43m \u001b[49m\u001b[43mtrain\u001b[49m\u001b[43m,\u001b[49m\u001b[43m \u001b[49m\u001b[43mtest\u001b[49m\u001b[43m \u001b[49m\u001b[38;5;129;43;01min\u001b[39;49;00m\u001b[43m \u001b[49m\u001b[43mindices\u001b[49m\n\u001b[0;32m    448\u001b[0m \u001b[43m\u001b[49m\u001b[43m)\u001b[49m\n\u001b[0;32m    450\u001b[0m _warn_or_raise_about_fit_failures(results, error_score)\n\u001b[0;32m    452\u001b[0m \u001b[38;5;66;03m# For callable scoring, the return type is only know after calling. If the\u001b[39;00m\n\u001b[0;32m    453\u001b[0m \u001b[38;5;66;03m# return type is a dictionary, the error scores can now be inserted with\u001b[39;00m\n\u001b[0;32m    454\u001b[0m \u001b[38;5;66;03m# the correct key.\u001b[39;00m\n",
      "File \u001b[1;32mc:\\Users\\Maria\\Desktop\\School\\clm_app\\.venv\\Lib\\site-packages\\sklearn\\utils\\parallel.py:67\u001b[0m, in \u001b[0;36mParallel.__call__\u001b[1;34m(self, iterable)\u001b[0m\n\u001b[0;32m     62\u001b[0m config \u001b[38;5;241m=\u001b[39m get_config()\n\u001b[0;32m     63\u001b[0m iterable_with_config \u001b[38;5;241m=\u001b[39m (\n\u001b[0;32m     64\u001b[0m     (_with_config(delayed_func, config), args, kwargs)\n\u001b[0;32m     65\u001b[0m     \u001b[38;5;28;01mfor\u001b[39;00m delayed_func, args, kwargs \u001b[38;5;129;01min\u001b[39;00m iterable\n\u001b[0;32m     66\u001b[0m )\n\u001b[1;32m---> 67\u001b[0m \u001b[38;5;28;01mreturn\u001b[39;00m \u001b[38;5;28;43msuper\u001b[39;49m\u001b[43m(\u001b[49m\u001b[43m)\u001b[49m\u001b[38;5;241;43m.\u001b[39;49m\u001b[38;5;21;43m__call__\u001b[39;49m\u001b[43m(\u001b[49m\u001b[43miterable_with_config\u001b[49m\u001b[43m)\u001b[49m\n",
      "File \u001b[1;32mc:\\Users\\Maria\\Desktop\\School\\clm_app\\.venv\\Lib\\site-packages\\joblib\\parallel.py:1863\u001b[0m, in \u001b[0;36mParallel.__call__\u001b[1;34m(self, iterable)\u001b[0m\n\u001b[0;32m   1861\u001b[0m     output \u001b[38;5;241m=\u001b[39m \u001b[38;5;28mself\u001b[39m\u001b[38;5;241m.\u001b[39m_get_sequential_output(iterable)\n\u001b[0;32m   1862\u001b[0m     \u001b[38;5;28mnext\u001b[39m(output)\n\u001b[1;32m-> 1863\u001b[0m     \u001b[38;5;28;01mreturn\u001b[39;00m output \u001b[38;5;28;01mif\u001b[39;00m \u001b[38;5;28mself\u001b[39m\u001b[38;5;241m.\u001b[39mreturn_generator \u001b[38;5;28;01melse\u001b[39;00m \u001b[38;5;28;43mlist\u001b[39;49m\u001b[43m(\u001b[49m\u001b[43moutput\u001b[49m\u001b[43m)\u001b[49m\n\u001b[0;32m   1865\u001b[0m \u001b[38;5;66;03m# Let's create an ID that uniquely identifies the current call. If the\u001b[39;00m\n\u001b[0;32m   1866\u001b[0m \u001b[38;5;66;03m# call is interrupted early and that the same instance is immediately\u001b[39;00m\n\u001b[0;32m   1867\u001b[0m \u001b[38;5;66;03m# re-used, this id will be used to prevent workers that were\u001b[39;00m\n\u001b[0;32m   1868\u001b[0m \u001b[38;5;66;03m# concurrently finalizing a task from the previous call to run the\u001b[39;00m\n\u001b[0;32m   1869\u001b[0m \u001b[38;5;66;03m# callback.\u001b[39;00m\n\u001b[0;32m   1870\u001b[0m \u001b[38;5;28;01mwith\u001b[39;00m \u001b[38;5;28mself\u001b[39m\u001b[38;5;241m.\u001b[39m_lock:\n",
      "File \u001b[1;32mc:\\Users\\Maria\\Desktop\\School\\clm_app\\.venv\\Lib\\site-packages\\joblib\\parallel.py:1792\u001b[0m, in \u001b[0;36mParallel._get_sequential_output\u001b[1;34m(self, iterable)\u001b[0m\n\u001b[0;32m   1790\u001b[0m \u001b[38;5;28mself\u001b[39m\u001b[38;5;241m.\u001b[39mn_dispatched_batches \u001b[38;5;241m+\u001b[39m\u001b[38;5;241m=\u001b[39m \u001b[38;5;241m1\u001b[39m\n\u001b[0;32m   1791\u001b[0m \u001b[38;5;28mself\u001b[39m\u001b[38;5;241m.\u001b[39mn_dispatched_tasks \u001b[38;5;241m+\u001b[39m\u001b[38;5;241m=\u001b[39m \u001b[38;5;241m1\u001b[39m\n\u001b[1;32m-> 1792\u001b[0m res \u001b[38;5;241m=\u001b[39m \u001b[43mfunc\u001b[49m\u001b[43m(\u001b[49m\u001b[38;5;241;43m*\u001b[39;49m\u001b[43margs\u001b[49m\u001b[43m,\u001b[49m\u001b[43m \u001b[49m\u001b[38;5;241;43m*\u001b[39;49m\u001b[38;5;241;43m*\u001b[39;49m\u001b[43mkwargs\u001b[49m\u001b[43m)\u001b[49m\n\u001b[0;32m   1793\u001b[0m \u001b[38;5;28mself\u001b[39m\u001b[38;5;241m.\u001b[39mn_completed_tasks \u001b[38;5;241m+\u001b[39m\u001b[38;5;241m=\u001b[39m \u001b[38;5;241m1\u001b[39m\n\u001b[0;32m   1794\u001b[0m \u001b[38;5;28mself\u001b[39m\u001b[38;5;241m.\u001b[39mprint_progress()\n",
      "File \u001b[1;32mc:\\Users\\Maria\\Desktop\\School\\clm_app\\.venv\\Lib\\site-packages\\sklearn\\utils\\parallel.py:129\u001b[0m, in \u001b[0;36m_FuncWrapper.__call__\u001b[1;34m(self, *args, **kwargs)\u001b[0m\n\u001b[0;32m    127\u001b[0m     config \u001b[38;5;241m=\u001b[39m {}\n\u001b[0;32m    128\u001b[0m \u001b[38;5;28;01mwith\u001b[39;00m config_context(\u001b[38;5;241m*\u001b[39m\u001b[38;5;241m*\u001b[39mconfig):\n\u001b[1;32m--> 129\u001b[0m     \u001b[38;5;28;01mreturn\u001b[39;00m \u001b[38;5;28;43mself\u001b[39;49m\u001b[38;5;241;43m.\u001b[39;49m\u001b[43mfunction\u001b[49m\u001b[43m(\u001b[49m\u001b[38;5;241;43m*\u001b[39;49m\u001b[43margs\u001b[49m\u001b[43m,\u001b[49m\u001b[43m \u001b[49m\u001b[38;5;241;43m*\u001b[39;49m\u001b[38;5;241;43m*\u001b[39;49m\u001b[43mkwargs\u001b[49m\u001b[43m)\u001b[49m\n",
      "File \u001b[1;32mc:\\Users\\Maria\\Desktop\\School\\clm_app\\.venv\\Lib\\site-packages\\sklearn\\model_selection\\_validation.py:895\u001b[0m, in \u001b[0;36m_fit_and_score\u001b[1;34m(estimator, X, y, scorer, train, test, verbose, parameters, fit_params, score_params, return_train_score, return_parameters, return_n_test_samples, return_times, return_estimator, split_progress, candidate_progress, error_score)\u001b[0m\n\u001b[0;32m    893\u001b[0m         estimator\u001b[38;5;241m.\u001b[39mfit(X_train, \u001b[38;5;241m*\u001b[39m\u001b[38;5;241m*\u001b[39mfit_params)\n\u001b[0;32m    894\u001b[0m     \u001b[38;5;28;01melse\u001b[39;00m:\n\u001b[1;32m--> 895\u001b[0m         \u001b[43mestimator\u001b[49m\u001b[38;5;241;43m.\u001b[39;49m\u001b[43mfit\u001b[49m\u001b[43m(\u001b[49m\u001b[43mX_train\u001b[49m\u001b[43m,\u001b[49m\u001b[43m \u001b[49m\u001b[43my_train\u001b[49m\u001b[43m,\u001b[49m\u001b[43m \u001b[49m\u001b[38;5;241;43m*\u001b[39;49m\u001b[38;5;241;43m*\u001b[39;49m\u001b[43mfit_params\u001b[49m\u001b[43m)\u001b[49m\n\u001b[0;32m    897\u001b[0m \u001b[38;5;28;01mexcept\u001b[39;00m \u001b[38;5;167;01mException\u001b[39;00m:\n\u001b[0;32m    898\u001b[0m     \u001b[38;5;66;03m# Note fit time as time until error\u001b[39;00m\n\u001b[0;32m    899\u001b[0m     fit_time \u001b[38;5;241m=\u001b[39m time\u001b[38;5;241m.\u001b[39mtime() \u001b[38;5;241m-\u001b[39m start_time\n",
      "File \u001b[1;32mc:\\Users\\Maria\\Desktop\\School\\clm_app\\.venv\\Lib\\site-packages\\catboost\\core.py:5201\u001b[0m, in \u001b[0;36mCatBoostClassifier.fit\u001b[1;34m(self, X, y, cat_features, text_features, embedding_features, sample_weight, baseline, use_best_model, eval_set, verbose, logging_level, plot, plot_file, column_description, verbose_eval, metric_period, silent, early_stopping_rounds, save_snapshot, snapshot_file, snapshot_interval, init_model, callbacks, log_cout, log_cerr)\u001b[0m\n\u001b[0;32m   5198\u001b[0m \u001b[38;5;28;01mif\u001b[39;00m \u001b[38;5;124m'\u001b[39m\u001b[38;5;124mloss_function\u001b[39m\u001b[38;5;124m'\u001b[39m \u001b[38;5;129;01min\u001b[39;00m params:\n\u001b[0;32m   5199\u001b[0m     CatBoostClassifier\u001b[38;5;241m.\u001b[39m_check_is_compatible_loss(params[\u001b[38;5;124m'\u001b[39m\u001b[38;5;124mloss_function\u001b[39m\u001b[38;5;124m'\u001b[39m])\n\u001b[1;32m-> 5201\u001b[0m \u001b[38;5;28;43mself\u001b[39;49m\u001b[38;5;241;43m.\u001b[39;49m\u001b[43m_fit\u001b[49m\u001b[43m(\u001b[49m\u001b[43mX\u001b[49m\u001b[43m,\u001b[49m\u001b[43m \u001b[49m\u001b[43my\u001b[49m\u001b[43m,\u001b[49m\u001b[43m \u001b[49m\u001b[43mcat_features\u001b[49m\u001b[43m,\u001b[49m\u001b[43m \u001b[49m\u001b[43mtext_features\u001b[49m\u001b[43m,\u001b[49m\u001b[43m \u001b[49m\u001b[43membedding_features\u001b[49m\u001b[43m,\u001b[49m\u001b[43m \u001b[49m\u001b[38;5;28;43;01mNone\u001b[39;49;00m\u001b[43m,\u001b[49m\u001b[43m \u001b[49m\u001b[43msample_weight\u001b[49m\u001b[43m,\u001b[49m\u001b[43m \u001b[49m\u001b[38;5;28;43;01mNone\u001b[39;49;00m\u001b[43m,\u001b[49m\u001b[43m \u001b[49m\u001b[38;5;28;43;01mNone\u001b[39;49;00m\u001b[43m,\u001b[49m\u001b[43m \u001b[49m\u001b[38;5;28;43;01mNone\u001b[39;49;00m\u001b[43m,\u001b[49m\u001b[43m \u001b[49m\u001b[38;5;28;43;01mNone\u001b[39;49;00m\u001b[43m,\u001b[49m\u001b[43m \u001b[49m\u001b[43mbaseline\u001b[49m\u001b[43m,\u001b[49m\u001b[43m \u001b[49m\u001b[43muse_best_model\u001b[49m\u001b[43m,\u001b[49m\n\u001b[0;32m   5202\u001b[0m \u001b[43m          \u001b[49m\u001b[43meval_set\u001b[49m\u001b[43m,\u001b[49m\u001b[43m \u001b[49m\u001b[43mverbose\u001b[49m\u001b[43m,\u001b[49m\u001b[43m \u001b[49m\u001b[43mlogging_level\u001b[49m\u001b[43m,\u001b[49m\u001b[43m \u001b[49m\u001b[43mplot\u001b[49m\u001b[43m,\u001b[49m\u001b[43m \u001b[49m\u001b[43mplot_file\u001b[49m\u001b[43m,\u001b[49m\u001b[43m \u001b[49m\u001b[43mcolumn_description\u001b[49m\u001b[43m,\u001b[49m\u001b[43m \u001b[49m\u001b[43mverbose_eval\u001b[49m\u001b[43m,\u001b[49m\u001b[43m \u001b[49m\u001b[43mmetric_period\u001b[49m\u001b[43m,\u001b[49m\n\u001b[0;32m   5203\u001b[0m \u001b[43m          \u001b[49m\u001b[43msilent\u001b[49m\u001b[43m,\u001b[49m\u001b[43m \u001b[49m\u001b[43mearly_stopping_rounds\u001b[49m\u001b[43m,\u001b[49m\u001b[43m \u001b[49m\u001b[43msave_snapshot\u001b[49m\u001b[43m,\u001b[49m\u001b[43m \u001b[49m\u001b[43msnapshot_file\u001b[49m\u001b[43m,\u001b[49m\u001b[43m \u001b[49m\u001b[43msnapshot_interval\u001b[49m\u001b[43m,\u001b[49m\u001b[43m \u001b[49m\u001b[43minit_model\u001b[49m\u001b[43m,\u001b[49m\u001b[43m \u001b[49m\u001b[43mcallbacks\u001b[49m\u001b[43m,\u001b[49m\u001b[43m \u001b[49m\u001b[43mlog_cout\u001b[49m\u001b[43m,\u001b[49m\u001b[43m \u001b[49m\u001b[43mlog_cerr\u001b[49m\u001b[43m)\u001b[49m\n\u001b[0;32m   5204\u001b[0m \u001b[38;5;28;01mreturn\u001b[39;00m \u001b[38;5;28mself\u001b[39m\n",
      "File \u001b[1;32mc:\\Users\\Maria\\Desktop\\School\\clm_app\\.venv\\Lib\\site-packages\\catboost\\core.py:2396\u001b[0m, in \u001b[0;36mCatBoost._fit\u001b[1;34m(self, X, y, cat_features, text_features, embedding_features, pairs, sample_weight, group_id, group_weight, subgroup_id, pairs_weight, baseline, use_best_model, eval_set, verbose, logging_level, plot, plot_file, column_description, verbose_eval, metric_period, silent, early_stopping_rounds, save_snapshot, snapshot_file, snapshot_interval, init_model, callbacks, log_cout, log_cerr)\u001b[0m\n\u001b[0;32m   2393\u001b[0m allow_clear_pool \u001b[38;5;241m=\u001b[39m train_params[\u001b[38;5;124m\"\u001b[39m\u001b[38;5;124mallow_clear_pool\u001b[39m\u001b[38;5;124m\"\u001b[39m]\n\u001b[0;32m   2395\u001b[0m \u001b[38;5;28;01mwith\u001b[39;00m plot_wrapper(plot, plot_file, \u001b[38;5;124m'\u001b[39m\u001b[38;5;124mTraining plots\u001b[39m\u001b[38;5;124m'\u001b[39m, [_get_train_dir(\u001b[38;5;28mself\u001b[39m\u001b[38;5;241m.\u001b[39mget_params())]):\n\u001b[1;32m-> 2396\u001b[0m     \u001b[38;5;28;43mself\u001b[39;49m\u001b[38;5;241;43m.\u001b[39;49m\u001b[43m_train\u001b[49m\u001b[43m(\u001b[49m\n\u001b[0;32m   2397\u001b[0m \u001b[43m        \u001b[49m\u001b[43mtrain_pool\u001b[49m\u001b[43m,\u001b[49m\n\u001b[0;32m   2398\u001b[0m \u001b[43m        \u001b[49m\u001b[43mtrain_params\u001b[49m\u001b[43m[\u001b[49m\u001b[38;5;124;43m\"\u001b[39;49m\u001b[38;5;124;43meval_sets\u001b[39;49m\u001b[38;5;124;43m\"\u001b[39;49m\u001b[43m]\u001b[49m\u001b[43m,\u001b[49m\n\u001b[0;32m   2399\u001b[0m \u001b[43m        \u001b[49m\u001b[43mparams\u001b[49m\u001b[43m,\u001b[49m\n\u001b[0;32m   2400\u001b[0m \u001b[43m        \u001b[49m\u001b[43mallow_clear_pool\u001b[49m\u001b[43m,\u001b[49m\n\u001b[0;32m   2401\u001b[0m \u001b[43m        \u001b[49m\u001b[43mtrain_params\u001b[49m\u001b[43m[\u001b[49m\u001b[38;5;124;43m\"\u001b[39;49m\u001b[38;5;124;43minit_model\u001b[39;49m\u001b[38;5;124;43m\"\u001b[39;49m\u001b[43m]\u001b[49m\n\u001b[0;32m   2402\u001b[0m \u001b[43m    \u001b[49m\u001b[43m)\u001b[49m\n\u001b[0;32m   2404\u001b[0m \u001b[38;5;66;03m# Have property feature_importance possibly set\u001b[39;00m\n\u001b[0;32m   2405\u001b[0m loss \u001b[38;5;241m=\u001b[39m \u001b[38;5;28mself\u001b[39m\u001b[38;5;241m.\u001b[39m_object\u001b[38;5;241m.\u001b[39m_get_loss_function_name()\n",
      "File \u001b[1;32mc:\\Users\\Maria\\Desktop\\School\\clm_app\\.venv\\Lib\\site-packages\\catboost\\core.py:1776\u001b[0m, in \u001b[0;36m_CatBoostBase._train\u001b[1;34m(self, train_pool, test_pool, params, allow_clear_pool, init_model)\u001b[0m\n\u001b[0;32m   1775\u001b[0m \u001b[38;5;28;01mdef\u001b[39;00m \u001b[38;5;21m_train\u001b[39m(\u001b[38;5;28mself\u001b[39m, train_pool, test_pool, params, allow_clear_pool, init_model):\n\u001b[1;32m-> 1776\u001b[0m     \u001b[38;5;28;43mself\u001b[39;49m\u001b[38;5;241;43m.\u001b[39;49m\u001b[43m_object\u001b[49m\u001b[38;5;241;43m.\u001b[39;49m\u001b[43m_train\u001b[49m\u001b[43m(\u001b[49m\u001b[43mtrain_pool\u001b[49m\u001b[43m,\u001b[49m\u001b[43m \u001b[49m\u001b[43mtest_pool\u001b[49m\u001b[43m,\u001b[49m\u001b[43m \u001b[49m\u001b[43mparams\u001b[49m\u001b[43m,\u001b[49m\u001b[43m \u001b[49m\u001b[43mallow_clear_pool\u001b[49m\u001b[43m,\u001b[49m\u001b[43m \u001b[49m\u001b[43minit_model\u001b[49m\u001b[38;5;241;43m.\u001b[39;49m\u001b[43m_object\u001b[49m\u001b[43m \u001b[49m\u001b[38;5;28;43;01mif\u001b[39;49;00m\u001b[43m \u001b[49m\u001b[43minit_model\u001b[49m\u001b[43m \u001b[49m\u001b[38;5;28;43;01melse\u001b[39;49;00m\u001b[43m \u001b[49m\u001b[38;5;28;43;01mNone\u001b[39;49;00m\u001b[43m)\u001b[49m\n\u001b[0;32m   1777\u001b[0m     \u001b[38;5;28mself\u001b[39m\u001b[38;5;241m.\u001b[39m_set_trained_model_attributes()\n",
      "File \u001b[1;32m_catboost.pyx:4833\u001b[0m, in \u001b[0;36m_catboost._CatBoost._train\u001b[1;34m()\u001b[0m\n",
      "File \u001b[1;32m_catboost.pyx:4882\u001b[0m, in \u001b[0;36m_catboost._CatBoost._train\u001b[1;34m()\u001b[0m\n",
      "\u001b[1;31mKeyboardInterrupt\u001b[0m: "
     ]
    }
   ],
   "source": [
    "# from hyperopt import hp, fmin, tpe, Trials, STATUS_OK\n",
    "# from sklearn.model_selection import cross_val_score\n",
    "\n",
    "# # Define the search space for CatBoost hyperparameters\n",
    "# space = {\n",
    "#     'depth': hp.choice('depth', [6, 8, 10]),\n",
    "#     'learning_rate': hp.uniform('learning_rate', 0.01, 0.3),\n",
    "#     'iterations': hp.choice('iterations', [250, 500, 1000]),\n",
    "#     'l2_leaf_reg': hp.uniform('l2_leaf_reg', 1, 10)\n",
    "# }\n",
    "\n",
    "# # Define the objective function to minimize\n",
    "# def objective(params):\n",
    "#     # Make sure parameters that need to be integers are converted\n",
    "#     params['iterations'] = int(params['iterations'])\n",
    "#     params['depth'] = int(params['depth'])\n",
    "#     catboost_model = CatBoostClassifier(**params, loss_function='MultiClass', verbose=0)\n",
    "#     score = -cross_val_score(catboost_model, X_train, y_train, scoring='neg_mean_squared_error', cv=3).mean()\n",
    "#     return {'loss': score, 'status': STATUS_OK}\n",
    "\n",
    "# # Trials object to store details\n",
    "# trials = Trials()\n",
    "\n",
    "# # Run the hyperparameter search using the tpe algorithm\n",
    "# best_params_bayes = fmin(fn=objective, space=space, algo=tpe.suggest,\n",
    "#                          max_evals=50, trials=trials, rstate= np.random.default_rng(42))\n",
    "\n",
    "# # Apply best parameters\n",
    "# best_params_bayes['iterations'] = int(best_params_bayes['iterations'])\n",
    "# best_params_bayes['depth'] = int(best_params_bayes['depth'])\n",
    "\n",
    "# # Create the best model\n",
    "# best_model_bayes = CatBoostClassifier(**best_params_bayes, loss_function='MultiClass', verbose=0)\n",
    "\n",
    "# # Fit the best model\n",
    "# best_model_bayes.fit(X_train, y_train)"
   ]
  },
  {
   "cell_type": "code",
   "execution_count": null,
   "metadata": {},
   "outputs": [],
   "source": [
    "# # Predict the values\n",
    "# y_pred = best_model_bayes.predict(X_test)\n",
    "\n",
    "# # Assuming y_test2 contains your test labels\n",
    "# unique_classes = np.unique(y_test)\n",
    "\n",
    "# # Now you can use unique_classes for the classification_report\n",
    "# print(classification_report(y_test, y_pred, target_names=[str(cls) for cls in unique_classes]))"
   ]
  },
  {
   "cell_type": "code",
   "execution_count": 42,
   "metadata": {},
   "outputs": [
    {
     "data": {
      "application/vnd.plotly.v1+json": {
       "config": {
        "plotlyServerURL": "https://plot.ly"
       },
       "data": [
        {
         "mode": "lines",
         "name": "Class 0 (area = 0.92)",
         "type": "scatter",
         "x": [
          0,
          0,
          0,
          0,
          0,
          0,
          0,
          0,
          0,
          0,
          0,
          0,
          0,
          0,
          0,
          0,
          0,
          0,
          0.002564102564102564,
          0.002564102564102564,
          0.002564102564102564,
          0.002564102564102564,
          0.002564102564102564,
          0.002564102564102564,
          0.007692307692307693,
          0.007692307692307693,
          0.010256410256410256,
          0.010256410256410256,
          0.01282051282051282,
          0.01282051282051282,
          0.015384615384615385,
          0.015384615384615385,
          0.017948717948717947,
          0.017948717948717947,
          0.023076923076923078,
          0.023076923076923078,
          0.023076923076923078,
          0.02564102564102564,
          0.02564102564102564,
          0.03076923076923077,
          0.03076923076923077,
          0.03333333333333333,
          0.03333333333333333,
          0.035897435897435895,
          0.035897435897435895,
          0.038461538461538464,
          0.038461538461538464,
          0.041025641025641026,
          0.041025641025641026,
          0.04358974358974359,
          0.04358974358974359,
          0.046153846153846156,
          0.04871794871794872,
          0.05128205128205128,
          0.05128205128205128,
          0.05384615384615385,
          0.05384615384615385,
          0.05641025641025641,
          0.05641025641025641,
          0.05897435897435897,
          0.05897435897435897,
          0.0641025641025641,
          0.0641025641025641,
          0.06923076923076923,
          0.09487179487179487,
          0.09487179487179487,
          0.09743589743589744,
          0.09743589743589744,
          0.1,
          0.1,
          0.10256410256410256,
          0.10256410256410256,
          0.11025641025641025,
          0.11025641025641025,
          0.13846153846153847,
          0.15897435897435896,
          0.16153846153846155,
          0.16153846153846155,
          0.16666666666666666,
          0.1794871794871795,
          0.18461538461538463,
          0.2,
          0.2,
          0.2230769230769231,
          0.2230769230769231,
          0.2282051282051282,
          0.2282051282051282,
          0.2358974358974359,
          0.2358974358974359,
          0.24102564102564103,
          0.26153846153846155,
          0.26153846153846155,
          0.26666666666666666,
          0.26666666666666666,
          0.2717948717948718,
          0.2794871794871795,
          0.28974358974358977,
          0.28974358974358977,
          0.29743589743589743,
          0.29743589743589743,
          0.3,
          0.3,
          0.3076923076923077,
          0.32051282051282054,
          0.32564102564102565,
          0.3333333333333333,
          0.3333333333333333,
          0.33589743589743587,
          0.33589743589743587,
          0.34102564102564104,
          0.3435897435897436,
          0.3435897435897436,
          0.35128205128205126,
          0.35384615384615387,
          0.358974358974359,
          0.36153846153846153,
          0.36153846153846153,
          0.36666666666666664,
          0.3769230769230769,
          0.3923076923076923,
          0.3974358974358974,
          0.3974358974358974,
          0.4128205128205128,
          0.41794871794871796,
          0.4230769230769231,
          0.4307692307692308,
          0.43333333333333335,
          0.43846153846153846,
          0.4846153846153846,
          0.4948717948717949,
          0.4948717948717949,
          0.5025641025641026,
          0.764102564102564,
          0.7717948717948718,
          0.7769230769230769,
          0.7871794871794872,
          0.7923076923076923,
          0.7948717948717948,
          0.7948717948717948,
          0.8025641025641026,
          0.8051282051282052,
          0.8205128205128205,
          0.8256410256410256,
          0.8435897435897436,
          0.8538461538461538,
          0.8589743589743589,
          0.8641025641025641,
          0.8717948717948718,
          0.8717948717948718,
          0.8897435897435897,
          0.8897435897435897,
          0.8923076923076924,
          0.9051282051282051,
          0.9128205128205128,
          0.9256410256410257,
          0.9307692307692308,
          0.9384615384615385,
          0.9435897435897436,
          0.9435897435897436,
          0.9564102564102565,
          1
         ],
         "y": [
          0,
          0.0049261083743842365,
          0.014778325123152709,
          0.019704433497536946,
          0.029556650246305417,
          0.11822660098522167,
          0.12807881773399016,
          0.1330049261083744,
          0.15763546798029557,
          0.1625615763546798,
          0.19704433497536947,
          0.21182266009852216,
          0.22167487684729065,
          0.22660098522167488,
          0.26108374384236455,
          0.3694581280788177,
          0.3793103448275862,
          0.39408866995073893,
          0.39408866995073893,
          0.4088669950738916,
          0.4187192118226601,
          0.43842364532019706,
          0.4482758620689655,
          0.5320197044334976,
          0.5320197044334976,
          0.5467980295566502,
          0.5467980295566502,
          0.5960591133004927,
          0.5960591133004927,
          0.6059113300492611,
          0.6059113300492611,
          0.625615763546798,
          0.625615763546798,
          0.6305418719211823,
          0.6305418719211823,
          0.6551724137931034,
          0.6650246305418719,
          0.6650246305418719,
          0.6699507389162561,
          0.6699507389162561,
          0.6748768472906403,
          0.6748768472906403,
          0.6847290640394089,
          0.6847290640394089,
          0.6896551724137931,
          0.6896551724137931,
          0.7093596059113301,
          0.7093596059113301,
          0.7192118226600985,
          0.7192118226600985,
          0.729064039408867,
          0.729064039408867,
          0.7339901477832512,
          0.7339901477832512,
          0.7438423645320197,
          0.7438423645320197,
          0.7536945812807881,
          0.7635467980295566,
          0.7733990147783252,
          0.7733990147783252,
          0.7783251231527094,
          0.7783251231527094,
          0.7832512315270936,
          0.7832512315270936,
          0.7931034482758621,
          0.7980295566502463,
          0.7980295566502463,
          0.812807881773399,
          0.812807881773399,
          0.8177339901477833,
          0.8226600985221675,
          0.8275862068965517,
          0.8275862068965517,
          0.8325123152709359,
          0.8325123152709359,
          0.8522167487684729,
          0.8522167487684729,
          0.8571428571428571,
          0.8571428571428571,
          0.8571428571428571,
          0.8571428571428571,
          0.8571428571428571,
          0.8669950738916257,
          0.8669950738916257,
          0.8719211822660099,
          0.8719211822660099,
          0.8768472906403941,
          0.8768472906403941,
          0.8866995073891626,
          0.8866995073891626,
          0.8866995073891626,
          0.8916256157635468,
          0.8916256157635468,
          0.896551724137931,
          0.896551724137931,
          0.896551724137931,
          0.896551724137931,
          0.9014778325123153,
          0.9014778325123153,
          0.9064039408866995,
          0.9064039408866995,
          0.9113300492610837,
          0.9113300492610837,
          0.9113300492610837,
          0.9113300492610837,
          0.9113300492610837,
          0.916256157635468,
          0.916256157635468,
          0.9211822660098522,
          0.9211822660098522,
          0.9211822660098522,
          0.9261083743842364,
          0.9261083743842364,
          0.9261083743842364,
          0.9261083743842364,
          0.9261083743842364,
          0.9359605911330049,
          0.9359605911330049,
          0.9359605911330049,
          0.9359605911330049,
          0.9359605911330049,
          0.9458128078817734,
          0.9458128078817734,
          0.9458128078817734,
          0.9458128078817734,
          0.9458128078817734,
          0.9458128078817734,
          0.9458128078817734,
          0.9507389162561576,
          0.9507389162561576,
          0.9556650246305419,
          0.9556650246305419,
          0.9753694581280788,
          0.9753694581280788,
          0.9753694581280788,
          0.9753694581280788,
          0.9753694581280788,
          0.9753694581280788,
          0.9802955665024631,
          0.9802955665024631,
          0.9852216748768473,
          0.9852216748768473,
          0.9852216748768473,
          0.9852216748768473,
          0.9852216748768473,
          0.9852216748768473,
          0.9852216748768473,
          0.9852216748768473,
          0.9901477832512315,
          0.9901477832512315,
          0.9950738916256158,
          0.9950738916256158,
          0.9950738916256158,
          0.9950738916256158,
          0.9950738916256158,
          0.9950738916256158,
          0.9950738916256158,
          0.9950738916256158,
          1,
          1,
          1
         ]
        },
        {
         "mode": "lines",
         "name": "Class 1 (area = 0.78)",
         "type": "scatter",
         "x": [
          0,
          0.0024271844660194173,
          0.0024271844660194173,
          0.0024271844660194173,
          0.0048543689320388345,
          0.0048543689320388345,
          0.007281553398058253,
          0.007281553398058253,
          0.009708737864077669,
          0.009708737864077669,
          0.012135922330097087,
          0.012135922330097087,
          0.014563106796116505,
          0.014563106796116505,
          0.01699029126213592,
          0.019417475728155338,
          0.019417475728155338,
          0.024271844660194174,
          0.024271844660194174,
          0.02669902912621359,
          0.02669902912621359,
          0.02912621359223301,
          0.02912621359223301,
          0.03155339805825243,
          0.03155339805825243,
          0.03398058252427184,
          0.03398058252427184,
          0.043689320388349516,
          0.043689320388349516,
          0.04854368932038835,
          0.04854368932038835,
          0.05339805825242718,
          0.05339805825242718,
          0.06067961165048544,
          0.06067961165048544,
          0.06310679611650485,
          0.06310679611650485,
          0.06796116504854369,
          0.06796116504854369,
          0.0703883495145631,
          0.07281553398058252,
          0.08980582524271845,
          0.09223300970873786,
          0.09223300970873786,
          0.09951456310679611,
          0.10436893203883495,
          0.10436893203883495,
          0.10679611650485436,
          0.10679611650485436,
          0.11893203883495146,
          0.12378640776699029,
          0.13106796116504854,
          0.13106796116504854,
          0.13592233009708737,
          0.1407766990291262,
          0.1407766990291262,
          0.14563106796116504,
          0.14563106796116504,
          0.15048543689320387,
          0.15048543689320387,
          0.1553398058252427,
          0.15776699029126215,
          0.15776699029126215,
          0.16019417475728157,
          0.16262135922330098,
          0.16262135922330098,
          0.16262135922330098,
          0.16747572815533981,
          0.16747572815533981,
          0.17233009708737865,
          0.17475728155339806,
          0.33980582524271846,
          0.33980582524271846,
          0.34951456310679613,
          0.34951456310679613,
          0.35436893203883496,
          0.35436893203883496,
          0.3567961165048544,
          0.3567961165048544,
          0.3616504854368932,
          0.3640776699029126,
          0.36893203883495146,
          0.3762135922330097,
          0.3762135922330097,
          0.38106796116504854,
          0.3859223300970874,
          0.3907766990291262,
          0.39563106796116504,
          0.40048543689320387,
          0.40048543689320387,
          0.4077669902912621,
          0.4077669902912621,
          0.4174757281553398,
          0.42961165048543687,
          0.42961165048543687,
          0.4320388349514563,
          0.4368932038834951,
          0.4368932038834951,
          0.4393203883495146,
          0.4393203883495146,
          0.4441747572815534,
          0.44660194174757284,
          0.44660194174757284,
          0.4538834951456311,
          0.4878640776699029,
          0.5,
          0.5,
          0.5048543689320388,
          0.5048543689320388,
          0.5121359223300971,
          0.5121359223300971,
          0.5315533980582524,
          0.5315533980582524,
          0.5436893203883495,
          0.5436893203883495,
          0.5509708737864077,
          0.5533980582524272,
          0.5533980582524272,
          0.558252427184466,
          0.5631067961165048,
          0.5703883495145631,
          0.5752427184466019,
          0.5776699029126213,
          0.5800970873786407,
          0.5898058252427184,
          0.5970873786407767,
          0.5970873786407767,
          0.6043689320388349,
          0.6043689320388349,
          0.6456310679611651,
          0.6456310679611651,
          0.6577669902912622,
          0.6577669902912622,
          0.7330097087378641,
          0.7378640776699029,
          0.7548543689320388,
          0.7548543689320388,
          0.7572815533980582,
          0.7694174757281553,
          0.779126213592233,
          0.7839805825242718,
          0.8009708737864077,
          0.8131067961165048,
          0.837378640776699,
          0.8422330097087378,
          0.8446601941747572,
          0.8519417475728155,
          0.8616504854368932,
          0.8786407766990292,
          0.883495145631068,
          0.9053398058252428,
          0.9174757281553398,
          0.9223300970873787,
          0.9393203883495146,
          0.941747572815534,
          0.9854368932038835,
          0.9902912621359223,
          1
         ],
         "y": [
          0,
          0,
          0.0055248618784530384,
          0.016574585635359115,
          0.016574585635359115,
          0.022099447513812154,
          0.022099447513812154,
          0.03314917127071823,
          0.03314917127071823,
          0.04419889502762431,
          0.04419889502762431,
          0.08839779005524862,
          0.08839779005524862,
          0.09392265193370165,
          0.09392265193370165,
          0.10497237569060773,
          0.1270718232044199,
          0.1270718232044199,
          0.13259668508287292,
          0.13259668508287292,
          0.13812154696132597,
          0.13812154696132597,
          0.14917127071823205,
          0.14917127071823205,
          0.16022099447513813,
          0.16022099447513813,
          0.17679558011049723,
          0.17679558011049723,
          0.18232044198895028,
          0.18232044198895028,
          0.1878453038674033,
          0.1878453038674033,
          0.2154696132596685,
          0.2154696132596685,
          0.2265193370165746,
          0.2265193370165746,
          0.23756906077348067,
          0.23756906077348067,
          0.2430939226519337,
          0.26519337016574585,
          0.26519337016574585,
          0.292817679558011,
          0.292817679558011,
          0.2983425414364641,
          0.2983425414364641,
          0.35359116022099446,
          0.36464088397790057,
          0.36464088397790057,
          0.3701657458563536,
          0.3701657458563536,
          0.3867403314917127,
          0.3867403314917127,
          0.39779005524861877,
          0.40331491712707185,
          0.40331491712707185,
          0.4088397790055249,
          0.4088397790055249,
          0.4143646408839779,
          0.4143646408839779,
          0.4198895027624309,
          0.4530386740331492,
          0.4585635359116022,
          0.4696132596685083,
          0.47513812154696133,
          0.47513812154696133,
          0.48066298342541436,
          0.5082872928176796,
          0.5082872928176796,
          0.5138121546961326,
          0.5138121546961326,
          0.5248618784530387,
          0.7348066298342542,
          0.7569060773480663,
          0.7569060773480663,
          0.7624309392265194,
          0.7679558011049724,
          0.7734806629834254,
          0.7734806629834254,
          0.7790055248618785,
          0.7790055248618785,
          0.7845303867403315,
          0.7845303867403315,
          0.7845303867403315,
          0.8011049723756906,
          0.8011049723756906,
          0.8011049723756906,
          0.8011049723756906,
          0.8011049723756906,
          0.8011049723756906,
          0.8121546961325967,
          0.8121546961325967,
          0.8232044198895028,
          0.8342541436464088,
          0.8342541436464088,
          0.8397790055248618,
          0.8397790055248618,
          0.8397790055248618,
          0.850828729281768,
          0.850828729281768,
          0.861878453038674,
          0.861878453038674,
          0.8674033149171271,
          0.8729281767955801,
          0.8729281767955801,
          0.9005524861878453,
          0.9005524861878453,
          0.9060773480662984,
          0.9060773480662984,
          0.9116022099447514,
          0.9116022099447514,
          0.9171270718232044,
          0.9171270718232044,
          0.9337016574585635,
          0.9337016574585635,
          0.9392265193370166,
          0.9392265193370166,
          0.9447513812154696,
          0.9558011049723757,
          0.9558011049723757,
          0.9558011049723757,
          0.9558011049723757,
          0.9558011049723757,
          0.9558011049723757,
          0.9613259668508287,
          0.9613259668508287,
          0.9613259668508287,
          0.9723756906077348,
          0.9723756906077348,
          0.9779005524861878,
          0.9779005524861878,
          0.9834254143646409,
          0.9834254143646409,
          0.994475138121547,
          0.994475138121547,
          0.994475138121547,
          0.994475138121547,
          1,
          1,
          1,
          1,
          1,
          1,
          1,
          1,
          1,
          1,
          1,
          1,
          1,
          1,
          1,
          1,
          1,
          1,
          1,
          1,
          1,
          1
         ]
        },
        {
         "mode": "lines",
         "name": "Class 2 (area = 0.80)",
         "type": "scatter",
         "x": [
          0,
          0,
          0,
          0.005208333333333333,
          0.005208333333333333,
          0.0078125,
          0.0078125,
          0.010416666666666666,
          0.010416666666666666,
          0.013020833333333334,
          0.013020833333333334,
          0.018229166666666668,
          0.018229166666666668,
          0.0234375,
          0.026041666666666668,
          0.026041666666666668,
          0.026041666666666668,
          0.03125,
          0.03125,
          0.033854166666666664,
          0.033854166666666664,
          0.036458333333333336,
          0.036458333333333336,
          0.052083333333333336,
          0.0546875,
          0.0546875,
          0.059895833333333336,
          0.06510416666666667,
          0.06510416666666667,
          0.0703125,
          0.0703125,
          0.0703125,
          0.0703125,
          0.07291666666666667,
          0.07291666666666667,
          0.07552083333333333,
          0.078125,
          0.08072916666666667,
          0.08072916666666667,
          0.08333333333333333,
          0.08333333333333333,
          0.0859375,
          0.0859375,
          0.09114583333333333,
          0.09375,
          0.10416666666666667,
          0.10416666666666667,
          0.10677083333333333,
          0.10677083333333333,
          0.11197916666666667,
          0.11197916666666667,
          0.22135416666666666,
          0.22395833333333334,
          0.23177083333333334,
          0.23177083333333334,
          0.234375,
          0.23697916666666666,
          0.2421875,
          0.24479166666666666,
          0.24739583333333334,
          0.24739583333333334,
          0.25,
          0.25,
          0.2526041666666667,
          0.2552083333333333,
          0.2630208333333333,
          0.2760416666666667,
          0.2864583333333333,
          0.2916666666666667,
          0.2916666666666667,
          0.2942708333333333,
          0.2942708333333333,
          0.296875,
          0.296875,
          0.2994791666666667,
          0.3020833333333333,
          0.3020833333333333,
          0.3098958333333333,
          0.3177083333333333,
          0.3229166666666667,
          0.3229166666666667,
          0.3255208333333333,
          0.3255208333333333,
          0.3411458333333333,
          0.3411458333333333,
          0.34375,
          0.34375,
          0.3463541666666667,
          0.3567708333333333,
          0.3567708333333333,
          0.3645833333333333,
          0.3645833333333333,
          0.375,
          0.375,
          0.3776041666666667,
          0.3776041666666667,
          0.3802083333333333,
          0.3932291666666667,
          0.3932291666666667,
          0.4010416666666667,
          0.4010416666666667,
          0.40625,
          0.40625,
          0.4140625,
          0.421875,
          0.4270833333333333,
          0.4270833333333333,
          0.4296875,
          0.4322916666666667,
          0.4348958333333333,
          0.4348958333333333,
          0.4401041666666667,
          0.4505208333333333,
          0.4505208333333333,
          0.4817708333333333,
          0.4817708333333333,
          0.484375,
          0.5078125,
          0.5130208333333334,
          0.5130208333333334,
          0.5208333333333334,
          0.5208333333333334,
          0.5286458333333334,
          0.5286458333333334,
          0.5520833333333334,
          0.5520833333333334,
          0.5572916666666666,
          0.5572916666666666,
          0.5833333333333334,
          0.5833333333333334,
          0.5859375,
          0.5859375,
          0.59375,
          0.5989583333333334,
          0.6119791666666666,
          0.6119791666666666,
          0.6197916666666666,
          0.6197916666666666,
          0.6223958333333334,
          0.6223958333333334,
          0.6640625,
          0.6640625,
          0.671875,
          0.6796875,
          0.6848958333333334,
          0.6848958333333334,
          0.6927083333333334,
          0.6979166666666666,
          0.7057291666666666,
          0.7109375,
          0.7161458333333334,
          0.7213541666666666,
          0.7265625,
          0.7317708333333334,
          0.734375,
          0.765625,
          0.8125,
          0.8307291666666666,
          0.859375,
          0.8776041666666666,
          0.890625,
          0.9114583333333334,
          0.9166666666666666,
          0.9192708333333334,
          0.9244791666666666,
          0.9322916666666666,
          0.9791666666666666,
          0.9817708333333334,
          0.9921875,
          1
         ],
         "y": [
          0,
          0.023923444976076555,
          0.05741626794258373,
          0.05741626794258373,
          0.06220095693779904,
          0.06220095693779904,
          0.08133971291866028,
          0.08133971291866028,
          0.09090909090909091,
          0.09090909090909091,
          0.10047846889952153,
          0.10047846889952153,
          0.11004784688995216,
          0.11004784688995216,
          0.11483253588516747,
          0.1291866028708134,
          0.14354066985645933,
          0.14354066985645933,
          0.15311004784688995,
          0.15311004784688995,
          0.15789473684210525,
          0.15789473684210525,
          0.17703349282296652,
          0.23923444976076555,
          0.23923444976076555,
          0.24880382775119617,
          0.24880382775119617,
          0.24880382775119617,
          0.2535885167464115,
          0.2727272727272727,
          0.27751196172248804,
          0.2966507177033493,
          0.3062200956937799,
          0.3062200956937799,
          0.32057416267942584,
          0.32057416267942584,
          0.3253588516746411,
          0.3253588516746411,
          0.33014354066985646,
          0.33014354066985646,
          0.3349282296650718,
          0.3349282296650718,
          0.3444976076555024,
          0.3444976076555024,
          0.3492822966507177,
          0.3492822966507177,
          0.35406698564593303,
          0.35406698564593303,
          0.37320574162679426,
          0.37320574162679426,
          0.37799043062200954,
          0.6842105263157895,
          0.6842105263157895,
          0.6842105263157895,
          0.6889952153110048,
          0.6889952153110048,
          0.69377990430622,
          0.6985645933014354,
          0.6985645933014354,
          0.7033492822966507,
          0.7081339712918661,
          0.7081339712918661,
          0.7129186602870813,
          0.7129186602870813,
          0.7177033492822966,
          0.7177033492822966,
          0.7177033492822966,
          0.7177033492822966,
          0.7177033492822966,
          0.7272727272727273,
          0.7272727272727273,
          0.7320574162679426,
          0.7320574162679426,
          0.7416267942583732,
          0.7416267942583732,
          0.7511961722488039,
          0.7607655502392344,
          0.7607655502392344,
          0.7703349282296651,
          0.7703349282296651,
          0.7751196172248804,
          0.7751196172248804,
          0.784688995215311,
          0.7942583732057417,
          0.8038277511961722,
          0.8038277511961722,
          0.8086124401913876,
          0.8086124401913876,
          0.8133971291866029,
          0.8181818181818182,
          0.8181818181818182,
          0.8277511961722488,
          0.8277511961722488,
          0.8373205741626795,
          0.8373205741626795,
          0.84688995215311,
          0.84688995215311,
          0.84688995215311,
          0.8516746411483254,
          0.8516746411483254,
          0.861244019138756,
          0.861244019138756,
          0.8660287081339713,
          0.8660287081339713,
          0.8660287081339713,
          0.8660287081339713,
          0.8708133971291866,
          0.8708133971291866,
          0.8755980861244019,
          0.8755980861244019,
          0.8803827751196173,
          0.8803827751196173,
          0.8803827751196173,
          0.8899521531100478,
          0.8899521531100478,
          0.8995215311004785,
          0.8995215311004785,
          0.9138755980861244,
          0.9138755980861244,
          0.9234449760765551,
          0.9234449760765551,
          0.9330143540669856,
          0.9330143540669856,
          0.937799043062201,
          0.937799043062201,
          0.9425837320574163,
          0.9425837320574163,
          0.9473684210526315,
          0.9473684210526315,
          0.9617224880382775,
          0.9617224880382775,
          0.9665071770334929,
          0.9665071770334929,
          0.9712918660287081,
          0.9712918660287081,
          0.9760765550239234,
          0.9760765550239234,
          0.9808612440191388,
          0.9808612440191388,
          0.9856459330143541,
          0.9856459330143541,
          0.9952153110047847,
          0.9952153110047847,
          0.9952153110047847,
          0.9952153110047847,
          1,
          1,
          1,
          1,
          1,
          1,
          1,
          1,
          1,
          1,
          1,
          1,
          1,
          1,
          1,
          1,
          1,
          1,
          1,
          1,
          1,
          1,
          1,
          1,
          1
         ]
        }
       ],
       "layout": {
        "shapes": [
         {
          "line": {
           "dash": "dash"
          },
          "type": "line",
          "x0": 0,
          "x1": 1,
          "y0": 0,
          "y1": 1
         }
        ],
        "template": {
         "data": {
          "bar": [
           {
            "error_x": {
             "color": "#2a3f5f"
            },
            "error_y": {
             "color": "#2a3f5f"
            },
            "marker": {
             "line": {
              "color": "#E5ECF6",
              "width": 0.5
             },
             "pattern": {
              "fillmode": "overlay",
              "size": 10,
              "solidity": 0.2
             }
            },
            "type": "bar"
           }
          ],
          "barpolar": [
           {
            "marker": {
             "line": {
              "color": "#E5ECF6",
              "width": 0.5
             },
             "pattern": {
              "fillmode": "overlay",
              "size": 10,
              "solidity": 0.2
             }
            },
            "type": "barpolar"
           }
          ],
          "carpet": [
           {
            "aaxis": {
             "endlinecolor": "#2a3f5f",
             "gridcolor": "white",
             "linecolor": "white",
             "minorgridcolor": "white",
             "startlinecolor": "#2a3f5f"
            },
            "baxis": {
             "endlinecolor": "#2a3f5f",
             "gridcolor": "white",
             "linecolor": "white",
             "minorgridcolor": "white",
             "startlinecolor": "#2a3f5f"
            },
            "type": "carpet"
           }
          ],
          "choropleth": [
           {
            "colorbar": {
             "outlinewidth": 0,
             "ticks": ""
            },
            "type": "choropleth"
           }
          ],
          "contour": [
           {
            "colorbar": {
             "outlinewidth": 0,
             "ticks": ""
            },
            "colorscale": [
             [
              0,
              "#0d0887"
             ],
             [
              0.1111111111111111,
              "#46039f"
             ],
             [
              0.2222222222222222,
              "#7201a8"
             ],
             [
              0.3333333333333333,
              "#9c179e"
             ],
             [
              0.4444444444444444,
              "#bd3786"
             ],
             [
              0.5555555555555556,
              "#d8576b"
             ],
             [
              0.6666666666666666,
              "#ed7953"
             ],
             [
              0.7777777777777778,
              "#fb9f3a"
             ],
             [
              0.8888888888888888,
              "#fdca26"
             ],
             [
              1,
              "#f0f921"
             ]
            ],
            "type": "contour"
           }
          ],
          "contourcarpet": [
           {
            "colorbar": {
             "outlinewidth": 0,
             "ticks": ""
            },
            "type": "contourcarpet"
           }
          ],
          "heatmap": [
           {
            "colorbar": {
             "outlinewidth": 0,
             "ticks": ""
            },
            "colorscale": [
             [
              0,
              "#0d0887"
             ],
             [
              0.1111111111111111,
              "#46039f"
             ],
             [
              0.2222222222222222,
              "#7201a8"
             ],
             [
              0.3333333333333333,
              "#9c179e"
             ],
             [
              0.4444444444444444,
              "#bd3786"
             ],
             [
              0.5555555555555556,
              "#d8576b"
             ],
             [
              0.6666666666666666,
              "#ed7953"
             ],
             [
              0.7777777777777778,
              "#fb9f3a"
             ],
             [
              0.8888888888888888,
              "#fdca26"
             ],
             [
              1,
              "#f0f921"
             ]
            ],
            "type": "heatmap"
           }
          ],
          "heatmapgl": [
           {
            "colorbar": {
             "outlinewidth": 0,
             "ticks": ""
            },
            "colorscale": [
             [
              0,
              "#0d0887"
             ],
             [
              0.1111111111111111,
              "#46039f"
             ],
             [
              0.2222222222222222,
              "#7201a8"
             ],
             [
              0.3333333333333333,
              "#9c179e"
             ],
             [
              0.4444444444444444,
              "#bd3786"
             ],
             [
              0.5555555555555556,
              "#d8576b"
             ],
             [
              0.6666666666666666,
              "#ed7953"
             ],
             [
              0.7777777777777778,
              "#fb9f3a"
             ],
             [
              0.8888888888888888,
              "#fdca26"
             ],
             [
              1,
              "#f0f921"
             ]
            ],
            "type": "heatmapgl"
           }
          ],
          "histogram": [
           {
            "marker": {
             "pattern": {
              "fillmode": "overlay",
              "size": 10,
              "solidity": 0.2
             }
            },
            "type": "histogram"
           }
          ],
          "histogram2d": [
           {
            "colorbar": {
             "outlinewidth": 0,
             "ticks": ""
            },
            "colorscale": [
             [
              0,
              "#0d0887"
             ],
             [
              0.1111111111111111,
              "#46039f"
             ],
             [
              0.2222222222222222,
              "#7201a8"
             ],
             [
              0.3333333333333333,
              "#9c179e"
             ],
             [
              0.4444444444444444,
              "#bd3786"
             ],
             [
              0.5555555555555556,
              "#d8576b"
             ],
             [
              0.6666666666666666,
              "#ed7953"
             ],
             [
              0.7777777777777778,
              "#fb9f3a"
             ],
             [
              0.8888888888888888,
              "#fdca26"
             ],
             [
              1,
              "#f0f921"
             ]
            ],
            "type": "histogram2d"
           }
          ],
          "histogram2dcontour": [
           {
            "colorbar": {
             "outlinewidth": 0,
             "ticks": ""
            },
            "colorscale": [
             [
              0,
              "#0d0887"
             ],
             [
              0.1111111111111111,
              "#46039f"
             ],
             [
              0.2222222222222222,
              "#7201a8"
             ],
             [
              0.3333333333333333,
              "#9c179e"
             ],
             [
              0.4444444444444444,
              "#bd3786"
             ],
             [
              0.5555555555555556,
              "#d8576b"
             ],
             [
              0.6666666666666666,
              "#ed7953"
             ],
             [
              0.7777777777777778,
              "#fb9f3a"
             ],
             [
              0.8888888888888888,
              "#fdca26"
             ],
             [
              1,
              "#f0f921"
             ]
            ],
            "type": "histogram2dcontour"
           }
          ],
          "mesh3d": [
           {
            "colorbar": {
             "outlinewidth": 0,
             "ticks": ""
            },
            "type": "mesh3d"
           }
          ],
          "parcoords": [
           {
            "line": {
             "colorbar": {
              "outlinewidth": 0,
              "ticks": ""
             }
            },
            "type": "parcoords"
           }
          ],
          "pie": [
           {
            "automargin": true,
            "type": "pie"
           }
          ],
          "scatter": [
           {
            "fillpattern": {
             "fillmode": "overlay",
             "size": 10,
             "solidity": 0.2
            },
            "type": "scatter"
           }
          ],
          "scatter3d": [
           {
            "line": {
             "colorbar": {
              "outlinewidth": 0,
              "ticks": ""
             }
            },
            "marker": {
             "colorbar": {
              "outlinewidth": 0,
              "ticks": ""
             }
            },
            "type": "scatter3d"
           }
          ],
          "scattercarpet": [
           {
            "marker": {
             "colorbar": {
              "outlinewidth": 0,
              "ticks": ""
             }
            },
            "type": "scattercarpet"
           }
          ],
          "scattergeo": [
           {
            "marker": {
             "colorbar": {
              "outlinewidth": 0,
              "ticks": ""
             }
            },
            "type": "scattergeo"
           }
          ],
          "scattergl": [
           {
            "marker": {
             "colorbar": {
              "outlinewidth": 0,
              "ticks": ""
             }
            },
            "type": "scattergl"
           }
          ],
          "scattermapbox": [
           {
            "marker": {
             "colorbar": {
              "outlinewidth": 0,
              "ticks": ""
             }
            },
            "type": "scattermapbox"
           }
          ],
          "scatterpolar": [
           {
            "marker": {
             "colorbar": {
              "outlinewidth": 0,
              "ticks": ""
             }
            },
            "type": "scatterpolar"
           }
          ],
          "scatterpolargl": [
           {
            "marker": {
             "colorbar": {
              "outlinewidth": 0,
              "ticks": ""
             }
            },
            "type": "scatterpolargl"
           }
          ],
          "scatterternary": [
           {
            "marker": {
             "colorbar": {
              "outlinewidth": 0,
              "ticks": ""
             }
            },
            "type": "scatterternary"
           }
          ],
          "surface": [
           {
            "colorbar": {
             "outlinewidth": 0,
             "ticks": ""
            },
            "colorscale": [
             [
              0,
              "#0d0887"
             ],
             [
              0.1111111111111111,
              "#46039f"
             ],
             [
              0.2222222222222222,
              "#7201a8"
             ],
             [
              0.3333333333333333,
              "#9c179e"
             ],
             [
              0.4444444444444444,
              "#bd3786"
             ],
             [
              0.5555555555555556,
              "#d8576b"
             ],
             [
              0.6666666666666666,
              "#ed7953"
             ],
             [
              0.7777777777777778,
              "#fb9f3a"
             ],
             [
              0.8888888888888888,
              "#fdca26"
             ],
             [
              1,
              "#f0f921"
             ]
            ],
            "type": "surface"
           }
          ],
          "table": [
           {
            "cells": {
             "fill": {
              "color": "#EBF0F8"
             },
             "line": {
              "color": "white"
             }
            },
            "header": {
             "fill": {
              "color": "#C8D4E3"
             },
             "line": {
              "color": "white"
             }
            },
            "type": "table"
           }
          ]
         },
         "layout": {
          "annotationdefaults": {
           "arrowcolor": "#2a3f5f",
           "arrowhead": 0,
           "arrowwidth": 1
          },
          "autotypenumbers": "strict",
          "coloraxis": {
           "colorbar": {
            "outlinewidth": 0,
            "ticks": ""
           }
          },
          "colorscale": {
           "diverging": [
            [
             0,
             "#8e0152"
            ],
            [
             0.1,
             "#c51b7d"
            ],
            [
             0.2,
             "#de77ae"
            ],
            [
             0.3,
             "#f1b6da"
            ],
            [
             0.4,
             "#fde0ef"
            ],
            [
             0.5,
             "#f7f7f7"
            ],
            [
             0.6,
             "#e6f5d0"
            ],
            [
             0.7,
             "#b8e186"
            ],
            [
             0.8,
             "#7fbc41"
            ],
            [
             0.9,
             "#4d9221"
            ],
            [
             1,
             "#276419"
            ]
           ],
           "sequential": [
            [
             0,
             "#0d0887"
            ],
            [
             0.1111111111111111,
             "#46039f"
            ],
            [
             0.2222222222222222,
             "#7201a8"
            ],
            [
             0.3333333333333333,
             "#9c179e"
            ],
            [
             0.4444444444444444,
             "#bd3786"
            ],
            [
             0.5555555555555556,
             "#d8576b"
            ],
            [
             0.6666666666666666,
             "#ed7953"
            ],
            [
             0.7777777777777778,
             "#fb9f3a"
            ],
            [
             0.8888888888888888,
             "#fdca26"
            ],
            [
             1,
             "#f0f921"
            ]
           ],
           "sequentialminus": [
            [
             0,
             "#0d0887"
            ],
            [
             0.1111111111111111,
             "#46039f"
            ],
            [
             0.2222222222222222,
             "#7201a8"
            ],
            [
             0.3333333333333333,
             "#9c179e"
            ],
            [
             0.4444444444444444,
             "#bd3786"
            ],
            [
             0.5555555555555556,
             "#d8576b"
            ],
            [
             0.6666666666666666,
             "#ed7953"
            ],
            [
             0.7777777777777778,
             "#fb9f3a"
            ],
            [
             0.8888888888888888,
             "#fdca26"
            ],
            [
             1,
             "#f0f921"
            ]
           ]
          },
          "colorway": [
           "#636efa",
           "#EF553B",
           "#00cc96",
           "#ab63fa",
           "#FFA15A",
           "#19d3f3",
           "#FF6692",
           "#B6E880",
           "#FF97FF",
           "#FECB52"
          ],
          "font": {
           "color": "#2a3f5f"
          },
          "geo": {
           "bgcolor": "white",
           "lakecolor": "white",
           "landcolor": "#E5ECF6",
           "showlakes": true,
           "showland": true,
           "subunitcolor": "white"
          },
          "hoverlabel": {
           "align": "left"
          },
          "hovermode": "closest",
          "mapbox": {
           "style": "light"
          },
          "paper_bgcolor": "white",
          "plot_bgcolor": "#E5ECF6",
          "polar": {
           "angularaxis": {
            "gridcolor": "white",
            "linecolor": "white",
            "ticks": ""
           },
           "bgcolor": "#E5ECF6",
           "radialaxis": {
            "gridcolor": "white",
            "linecolor": "white",
            "ticks": ""
           }
          },
          "scene": {
           "xaxis": {
            "backgroundcolor": "#E5ECF6",
            "gridcolor": "white",
            "gridwidth": 2,
            "linecolor": "white",
            "showbackground": true,
            "ticks": "",
            "zerolinecolor": "white"
           },
           "yaxis": {
            "backgroundcolor": "#E5ECF6",
            "gridcolor": "white",
            "gridwidth": 2,
            "linecolor": "white",
            "showbackground": true,
            "ticks": "",
            "zerolinecolor": "white"
           },
           "zaxis": {
            "backgroundcolor": "#E5ECF6",
            "gridcolor": "white",
            "gridwidth": 2,
            "linecolor": "white",
            "showbackground": true,
            "ticks": "",
            "zerolinecolor": "white"
           }
          },
          "shapedefaults": {
           "line": {
            "color": "#2a3f5f"
           }
          },
          "ternary": {
           "aaxis": {
            "gridcolor": "white",
            "linecolor": "white",
            "ticks": ""
           },
           "baxis": {
            "gridcolor": "white",
            "linecolor": "white",
            "ticks": ""
           },
           "bgcolor": "#E5ECF6",
           "caxis": {
            "gridcolor": "white",
            "linecolor": "white",
            "ticks": ""
           }
          },
          "title": {
           "x": 0.05
          },
          "xaxis": {
           "automargin": true,
           "gridcolor": "white",
           "linecolor": "white",
           "ticks": "",
           "title": {
            "standoff": 15
           },
           "zerolinecolor": "white",
           "zerolinewidth": 2
          },
          "yaxis": {
           "automargin": true,
           "gridcolor": "white",
           "linecolor": "white",
           "ticks": "",
           "title": {
            "standoff": 15
           },
           "zerolinecolor": "white",
           "zerolinewidth": 2
          }
         }
        },
        "title": {
         "text": "Multiclass ROC Curve"
        },
        "xaxis": {
         "title": {
          "text": "False Positive Rate"
         }
        },
        "yaxis": {
         "title": {
          "text": "True Positive Rate"
         }
        }
       }
      }
     },
     "metadata": {},
     "output_type": "display_data"
    }
   ],
   "source": [
    "# Assuming y_test2 is not already binarized\n",
    "n_classes = len(np.unique(y_test))\n",
    "y_test_bin = label_binarize(y_test, classes=np.arange(n_classes))\n",
    "y_score = best_model.predict_proba(X_test)\n",
    "\n",
    "# Compute ROC curve and ROC area for each class\n",
    "fpr = dict()\n",
    "tpr = dict()\n",
    "roc_auc = dict()\n",
    "for i in range(n_classes):\n",
    "    fpr[i], tpr[i], _ = roc_curve(y_test_bin[:, i], y_score[:, i])\n",
    "    roc_auc[i] = auc(fpr[i], tpr[i])\n",
    "\n",
    "# Compute micro-average ROC curve and ROC area\n",
    "fpr[\"micro\"], tpr[\"micro\"], _ = roc_curve(y_test_bin.ravel(), y_score.ravel())\n",
    "roc_auc[\"micro\"] = auc(fpr[\"micro\"], tpr[\"micro\"])\n",
    "\n",
    "# Plot ROC curve for each class\n",
    "fig = go.Figure()\n",
    "for i in range(n_classes):\n",
    "    fig.add_trace(go.Scatter(x=fpr[i], y=tpr[i], mode='lines', name=f'Class {i} (area = {roc_auc[i]:0.2f})'))\n",
    "\n",
    "fig.add_shape(type='line', line=dict(dash='dash'), x0=0, x1=1, y0=0, y1=1)\n",
    "fig.update_layout(title='Multiclass ROC Curve', xaxis_title='False Positive Rate', yaxis_title='True Positive Rate')\n",
    "fig.show()"
   ]
  },
  {
   "cell_type": "code",
   "execution_count": 44,
   "metadata": {},
   "outputs": [
    {
     "data": {
      "application/vnd.plotly.v1+json": {
       "config": {
        "plotlyServerURL": "https://plot.ly"
       },
       "data": [
        {
         "mode": "lines",
         "name": "Class 0 (area = 0.90)",
         "type": "scatter",
         "x": [
          1,
          1,
          1,
          1,
          1,
          1,
          1,
          1,
          1,
          1,
          1,
          1,
          1,
          1,
          1,
          1,
          1,
          1,
          1,
          0.9950738916256158,
          0.9950738916256158,
          0.9950738916256158,
          0.9950738916256158,
          0.9950738916256158,
          0.9950738916256158,
          0.9950738916256158,
          0.9950738916256158,
          0.9950738916256158,
          0.9950738916256158,
          0.9950738916256158,
          0.9950738916256158,
          0.9901477832512315,
          0.9901477832512315,
          0.9901477832512315,
          0.9901477832512315,
          0.9901477832512315,
          0.9901477832512315,
          0.9901477832512315,
          0.9901477832512315,
          0.9852216748768473,
          0.9852216748768473,
          0.9852216748768473,
          0.9852216748768473,
          0.9852216748768473,
          0.9852216748768473,
          0.9852216748768473,
          0.9852216748768473,
          0.9852216748768473,
          0.9852216748768473,
          0.9852216748768473,
          0.9852216748768473,
          0.9852216748768473,
          0.9852216748768473,
          0.9852216748768473,
          0.9852216748768473,
          0.9852216748768473,
          0.9852216748768473,
          0.9852216748768473,
          0.9852216748768473,
          0.9852216748768473,
          0.9852216748768473,
          0.9802955665024631,
          0.9802955665024631,
          0.9753694581280788,
          0.9753694581280788,
          0.9753694581280788,
          0.9753694581280788,
          0.9753694581280788,
          0.9753694581280788,
          0.9753694581280788,
          0.9753694581280788,
          0.9753694581280788,
          0.9753694581280788,
          0.9753694581280788,
          0.9556650246305419,
          0.9556650246305419,
          0.9556650246305419,
          0.9556650246305419,
          0.9507389162561576,
          0.9507389162561576,
          0.9507389162561576,
          0.9507389162561576,
          0.9507389162561576,
          0.9458128078817734,
          0.9458128078817734,
          0.9458128078817734,
          0.9458128078817734,
          0.9458128078817734,
          0.9458128078817734,
          0.9458128078817734,
          0.9458128078817734,
          0.9458128078817734,
          0.9458128078817734,
          0.9458128078817734,
          0.9458128078817734,
          0.9458128078817734,
          0.9408866995073891,
          0.9359605911330049,
          0.9359605911330049,
          0.9359605911330049,
          0.9359605911330049,
          0.9359605911330049,
          0.9359605911330049,
          0.9359605911330049,
          0.9359605911330049,
          0.9359605911330049,
          0.9310344827586207,
          0.9261083743842364,
          0.9261083743842364,
          0.9261083743842364,
          0.9261083743842364,
          0.9261083743842364,
          0.9211822660098522,
          0.9211822660098522,
          0.9211822660098522,
          0.916256157635468,
          0.916256157635468,
          0.9113300492610837,
          0.9113300492610837,
          0.9113300492610837,
          0.9113300492610837,
          0.9113300492610837,
          0.9113300492610837,
          0.9113300492610837,
          0.9113300492610837,
          0.9113300492610837,
          0.9064039408866995,
          0.9064039408866995,
          0.9014778325123153,
          0.9014778325123153,
          0.9014778325123153,
          0.9014778325123153,
          0.896551724137931,
          0.896551724137931,
          0.896551724137931,
          0.896551724137931,
          0.896551724137931,
          0.896551724137931,
          0.896551724137931,
          0.896551724137931,
          0.8916256157635468,
          0.8916256157635468,
          0.8916256157635468,
          0.8866995073891626,
          0.8866995073891626,
          0.8866995073891626,
          0.8866995073891626,
          0.8817733990147784,
          0.8768472906403941,
          0.8768472906403941,
          0.8768472906403941,
          0.8768472906403941,
          0.8719211822660099,
          0.8719211822660099,
          0.8719211822660099,
          0.8669950738916257,
          0.8669950738916257,
          0.8669950738916257,
          0.8669950738916257,
          0.8669950738916257,
          0.8669950738916257,
          0.8669950738916257,
          0.8669950738916257,
          0.8669950738916257,
          0.8669950738916257,
          0.8620689655172413,
          0.8571428571428571,
          0.8571428571428571,
          0.8571428571428571,
          0.8571428571428571,
          0.8571428571428571,
          0.8571428571428571,
          0.8571428571428571,
          0.8571428571428571,
          0.8571428571428571,
          0.8571428571428571,
          0.8571428571428571,
          0.8571428571428571,
          0.8571428571428571,
          0.8571428571428571,
          0.8522167487684729,
          0.8522167487684729,
          0.8325123152709359,
          0.8325123152709359,
          0.8325123152709359,
          0.8325123152709359,
          0.8325123152709359,
          0.8325123152709359,
          0.8325123152709359,
          0.8325123152709359,
          0.8325123152709359,
          0.8325123152709359,
          0.8325123152709359,
          0.8325123152709359,
          0.8275862068965517,
          0.8275862068965517,
          0.8275862068965517,
          0.8275862068965517,
          0.8226600985221675,
          0.8177339901477833,
          0.812807881773399,
          0.812807881773399,
          0.7980295566502463,
          0.7980295566502463,
          0.7931034482758621,
          0.7832512315270936,
          0.7832512315270936,
          0.7832512315270936,
          0.7783251231527094,
          0.7783251231527094,
          0.7783251231527094,
          0.7733990147783252,
          0.7733990147783252,
          0.7635467980295566,
          0.7536945812807881,
          0.7487684729064039,
          0.7438423645320197,
          0.7438423645320197,
          0.7389162561576355,
          0.7339901477832512,
          0.7339901477832512,
          0.729064039408867,
          0.729064039408867,
          0.7241379310344828,
          0.7192118226600985,
          0.7192118226600985,
          0.7142857142857143,
          0.7093596059113301,
          0.7093596059113301,
          0.7044334975369458,
          0.6995073891625616,
          0.6945812807881774,
          0.6896551724137931,
          0.6896551724137931,
          0.6847290640394089,
          0.6847290640394089,
          0.6798029556650246,
          0.6748768472906403,
          0.6748768472906403,
          0.6699507389162561,
          0.6699507389162561,
          0.6699507389162561,
          0.6650246305418719,
          0.6650246305418719,
          0.6600985221674877,
          0.6551724137931034,
          0.6305418719211823,
          0.6305418719211823,
          0.6305418719211823,
          0.625615763546798,
          0.625615763546798,
          0.6206896551724138,
          0.6157635467980296,
          0.6108374384236454,
          0.6059113300492611,
          0.6059113300492611,
          0.6009852216748769,
          0.5960591133004927,
          0.5960591133004927,
          0.5911330049261084,
          0.5862068965517241,
          0.5812807881773399,
          0.5763546798029556,
          0.5714285714285714,
          0.5665024630541872,
          0.5615763546798029,
          0.5566502463054187,
          0.5517241379310345,
          0.5467980295566502,
          0.5467980295566502,
          0.541871921182266,
          0.5369458128078818,
          0.5320197044334976,
          0.5320197044334976,
          0.5320197044334976,
          0.5270935960591133,
          0.5221674876847291,
          0.5172413793103449,
          0.5123152709359606,
          0.5073891625615764,
          0.5024630541871922,
          0.4975369458128079,
          0.49261083743842365,
          0.4876847290640394,
          0.4827586206896552,
          0.47783251231527096,
          0.4729064039408867,
          0.46798029556650245,
          0.4630541871921182,
          0.458128078817734,
          0.45320197044334976,
          0.4482758620689655,
          0.43842364532019706,
          0.43349753694581283,
          0.42857142857142855,
          0.4236453201970443,
          0.4187192118226601,
          0.4088669950738916,
          0.39408866995073893,
          0.39408866995073893,
          0.3891625615763547,
          0.3842364532019704,
          0.3793103448275862,
          0.3694581280788177,
          0.3645320197044335,
          0.35960591133004927,
          0.35467980295566504,
          0.3497536945812808,
          0.3448275862068966,
          0.3399014778325123,
          0.33497536945812806,
          0.33004926108374383,
          0.3251231527093596,
          0.32019704433497537,
          0.31527093596059114,
          0.3103448275862069,
          0.3054187192118227,
          0.30049261083743845,
          0.2955665024630542,
          0.29064039408866993,
          0.2857142857142857,
          0.28078817733990147,
          0.27586206896551724,
          0.270935960591133,
          0.2660098522167488,
          0.26108374384236455,
          0.22660098522167488,
          0.22167487684729065,
          0.21182266009852216,
          0.20689655172413793,
          0.2019704433497537,
          0.19704433497536947,
          0.1625615763546798,
          0.15763546798029557,
          0.1330049261083744,
          0.12807881773399016,
          0.11822660098522167,
          0.029556650246305417,
          0.019704433497536946,
          0.014778325123152709,
          0.0049261083743842365,
          0
         ],
         "y": [
          0.342327150084317,
          0.34290540540540543,
          0.34348561759729274,
          0.3440677966101695,
          0.34465195246179964,
          0.34523809523809523,
          0.34582623509369675,
          0.3464163822525597,
          0.347008547008547,
          0.3476027397260274,
          0.3481989708404803,
          0.3487972508591065,
          0.3493975903614458,
          0.35,
          0.35060449050086356,
          0.35121107266435986,
          0.35181975736568455,
          0.3524305555555556,
          0.3555166374781086,
          0.3543859649122807,
          0.35500878734622143,
          0.35563380281690143,
          0.35752212389380533,
          0.35815602836879434,
          0.35879218472468916,
          0.36200716845878134,
          0.362657091561939,
          0.36330935251798563,
          0.36396396396396397,
          0.36727272727272725,
          0.3679417122040073,
          0.36678832116788324,
          0.36745886654478976,
          0.36813186813186816,
          0.3688073394495413,
          0.3694852941176471,
          0.3701657458563536,
          0.37084870848708484,
          0.37153419593345655,
          0.37037037037037035,
          0.37105751391465674,
          0.37174721189591076,
          0.37243947858473,
          0.37383177570093457,
          0.37453183520599254,
          0.37523452157598497,
          0.3780718336483932,
          0.3787878787878788,
          0.3795066413662239,
          0.38022813688212925,
          0.38095238095238093,
          0.3816793893129771,
          0.3824091778202677,
          0.3831417624521073,
          0.38461538461538464,
          0.3853564547206166,
          0.3861003861003861,
          0.38684719535783363,
          0.3875968992248062,
          0.3883495145631068,
          0.38910505836575876,
          0.388671875,
          0.39096267190569745,
          0.38976377952755903,
          0.3905325443786982,
          0.3920792079207921,
          0.39285714285714285,
          0.39363817097415504,
          0.3944223107569721,
          0.39520958083832336,
          0.3967935871743487,
          0.39759036144578314,
          0.3983903420523139,
          0.39919354838709675,
          0.49743589743589745,
          0.4987146529562982,
          0.5,
          0.5012919896640827,
          0.5,
          0.5012987012987012,
          0.5026041666666666,
          0.5039164490861618,
          0.5052356020942408,
          0.5289256198347108,
          0.5318559556786704,
          0.5333333333333333,
          0.5378151260504201,
          0.5393258426966292,
          0.5408450704225352,
          0.5439093484419264,
          0.5454545454545454,
          0.5470085470085471,
          0.5485714285714286,
          0.5501432664756447,
          0.5517241379310345,
          0.553314121037464,
          0.5520231213872833,
          0.5507246376811594,
          0.5523255813953488,
          0.5539358600583091,
          0.5637982195845698,
          0.5654761904761905,
          0.5671641791044776,
          0.5688622754491018,
          0.5705705705705706,
          0.5740181268882175,
          0.5727272727272728,
          0.5714285714285714,
          0.573170731707317,
          0.5766871165644172,
          0.5784615384615385,
          0.5838509316770186,
          0.5825545171339563,
          0.584375,
          0.5880503144654088,
          0.5867507886435331,
          0.5886075949367089,
          0.5873015873015873,
          0.589171974522293,
          0.5910543130990416,
          0.592948717948718,
          0.5967741935483871,
          0.6065573770491803,
          0.6085526315789473,
          0.6105610561056105,
          0.6125827814569537,
          0.6112956810631229,
          0.6133333333333333,
          0.6120401337792643,
          0.6140939597315436,
          0.6161616161616161,
          0.6182432432432432,
          0.6169491525423729,
          0.6190476190476191,
          0.621160409556314,
          0.6232876712328768,
          0.6254295532646048,
          0.6319444444444444,
          0.6341463414634146,
          0.6363636363636364,
          0.6350877192982456,
          0.6373239436619719,
          0.6395759717314488,
          0.6382978723404256,
          0.656934306569343,
          0.6593406593406593,
          0.6617647058823529,
          0.6605166051660517,
          0.6592592592592592,
          0.6617100371747212,
          0.664179104477612,
          0.6666666666666666,
          0.6654135338345865,
          0.6679245283018868,
          0.6704545454545454,
          0.6692015209125475,
          0.6717557251908397,
          0.6743295019157088,
          0.676923076923077,
          0.6795366795366795,
          0.6821705426356589,
          0.6848249027237354,
          0.6875,
          0.6901960784313725,
          0.6929133858267716,
          0.691699604743083,
          0.6904761904761905,
          0.6932270916334662,
          0.696,
          0.6987951807228916,
          0.7016129032258065,
          0.7044534412955465,
          0.7073170731707317,
          0.7131147540983607,
          0.7160493827160493,
          0.71900826446281,
          0.7219917012448133,
          0.725,
          0.7280334728033473,
          0.7341772151898734,
          0.7330508474576272,
          0.7361702127659574,
          0.757847533632287,
          0.7612612612612613,
          0.7647058823529411,
          0.7681818181818182,
          0.771689497716895,
          0.7752293577981652,
          0.7788018433179723,
          0.7824074074074074,
          0.786046511627907,
          0.7897196261682243,
          0.7934272300469484,
          0.7971698113207547,
          0.7962085308056872,
          0.8,
          0.8038277511961722,
          0.8076923076923077,
          0.8067632850241546,
          0.8097560975609757,
          0.8088235294117647,
          0.812807881773399,
          0.81,
          0.8140703517587939,
          0.8131313131313131,
          0.8548387096774194,
          0.8594594594594595,
          0.8641304347826086,
          0.8633879781420765,
          0.8681318681318682,
          0.8729281767955801,
          0.8722222222222222,
          0.8770949720670391,
          0.8757062146892656,
          0.8793103448275862,
          0.8786127167630058,
          0.877906976744186,
          0.8830409356725146,
          0.8823529411764706,
          0.8816568047337278,
          0.8869047619047619,
          0.891566265060241,
          0.896969696969697,
          0.8963414634146342,
          0.8957055214723927,
          0.9012345679012346,
          0.9006211180124224,
          0.9,
          0.9056603773584906,
          0.9050632911392406,
          0.9044585987261147,
          0.9038461538461539,
          0.9032258064516129,
          0.9090909090909091,
          0.9084967320261438,
          0.9144736842105263,
          0.9139072847682119,
          0.9133333333333333,
          0.9194630872483222,
          0.918918918918919,
          0.9251700680272109,
          0.9315068493150684,
          0.9310344827586207,
          0.9375,
          0.9370629370629371,
          0.9366197183098591,
          0.9343065693430657,
          0.9411764705882353,
          0.9481481481481482,
          0.9477611940298507,
          0.9548872180451128,
          0.9545454545454546,
          0.9541984732824428,
          0.9538461538461539,
          0.9534883720930233,
          0.9609375,
          0.9606299212598425,
          0.9603174603174603,
          0.968,
          0.967741935483871,
          0.967479674796748,
          0.9672131147540983,
          0.9669421487603306,
          0.9666666666666667,
          0.9663865546218487,
          0.9661016949152542,
          0.9658119658119658,
          0.9655172413793104,
          0.9652173913043478,
          0.9736842105263158,
          0.9734513274336283,
          0.9732142857142857,
          0.972972972972973,
          0.9818181818181818,
          0.9908256880733946,
          0.9907407407407407,
          0.9906542056074766,
          0.9905660377358491,
          0.9904761904761905,
          0.9903846153846154,
          0.9902912621359223,
          0.9901960784313726,
          0.9900990099009901,
          0.99,
          0.98989898989899,
          0.9897959183673469,
          0.9896907216494846,
          0.9895833333333334,
          0.9894736842105263,
          0.9893617021276596,
          0.989247311827957,
          0.9891304347826086,
          0.9888888888888889,
          0.9887640449438202,
          0.9886363636363636,
          0.9885057471264368,
          0.9883720930232558,
          0.9880952380952381,
          0.9876543209876543,
          1,
          1,
          1,
          1,
          1,
          1,
          1,
          1,
          1,
          1,
          1,
          1,
          1,
          1,
          1,
          1,
          1,
          1,
          1,
          1,
          1,
          1,
          1,
          1,
          1,
          1,
          1,
          1,
          1,
          1,
          1,
          1,
          1,
          1,
          1,
          1,
          1,
          1,
          1,
          1,
          1,
          1,
          1
         ]
        },
        {
         "mode": "lines",
         "name": "Class 1 (area = 0.55)",
         "type": "scatter",
         "x": [
          1,
          1,
          1,
          1,
          1,
          1,
          1,
          1,
          1,
          1,
          1,
          1,
          1,
          1,
          1,
          1,
          1,
          1,
          1,
          1,
          1,
          1,
          1,
          1,
          1,
          1,
          1,
          1,
          1,
          1,
          1,
          1,
          1,
          1,
          1,
          1,
          1,
          1,
          1,
          1,
          1,
          1,
          1,
          1,
          1,
          1,
          1,
          1,
          1,
          1,
          1,
          1,
          1,
          0.994475138121547,
          0.994475138121547,
          0.994475138121547,
          0.994475138121547,
          0.994475138121547,
          0.994475138121547,
          0.994475138121547,
          0.994475138121547,
          0.994475138121547,
          0.994475138121547,
          0.994475138121547,
          0.994475138121547,
          0.994475138121547,
          0.994475138121547,
          0.994475138121547,
          0.994475138121547,
          0.994475138121547,
          0.994475138121547,
          0.994475138121547,
          0.994475138121547,
          0.994475138121547,
          0.994475138121547,
          0.994475138121547,
          0.994475138121547,
          0.994475138121547,
          0.994475138121547,
          0.994475138121547,
          0.994475138121547,
          0.994475138121547,
          0.994475138121547,
          0.994475138121547,
          0.994475138121547,
          0.994475138121547,
          0.994475138121547,
          0.994475138121547,
          0.994475138121547,
          0.994475138121547,
          0.994475138121547,
          0.994475138121547,
          0.994475138121547,
          0.988950276243094,
          0.9834254143646409,
          0.9834254143646409,
          0.9834254143646409,
          0.9834254143646409,
          0.9834254143646409,
          0.9834254143646409,
          0.9779005524861878,
          0.9779005524861878,
          0.9779005524861878,
          0.9779005524861878,
          0.9779005524861878,
          0.9779005524861878,
          0.9779005524861878,
          0.9779005524861878,
          0.9779005524861878,
          0.9779005524861878,
          0.9779005524861878,
          0.9779005524861878,
          0.9779005524861878,
          0.9779005524861878,
          0.9779005524861878,
          0.9779005524861878,
          0.9779005524861878,
          0.9779005524861878,
          0.9723756906077348,
          0.9723756906077348,
          0.9668508287292817,
          0.9613259668508287,
          0.9613259668508287,
          0.9613259668508287,
          0.9613259668508287,
          0.9613259668508287,
          0.9613259668508287,
          0.9558011049723757,
          0.9558011049723757,
          0.9558011049723757,
          0.9558011049723757,
          0.9558011049723757,
          0.9558011049723757,
          0.9558011049723757,
          0.9558011049723757,
          0.9558011049723757,
          0.9447513812154696,
          0.9392265193370166,
          0.9392265193370166,
          0.9392265193370166,
          0.9392265193370166,
          0.9337016574585635,
          0.9337016574585635,
          0.9337016574585635,
          0.9337016574585635,
          0.9337016574585635,
          0.9337016574585635,
          0.9281767955801105,
          0.9226519337016574,
          0.9171270718232044,
          0.9171270718232044,
          0.9171270718232044,
          0.9171270718232044,
          0.9171270718232044,
          0.9171270718232044,
          0.9171270718232044,
          0.9171270718232044,
          0.9171270718232044,
          0.9116022099447514,
          0.9116022099447514,
          0.9116022099447514,
          0.9116022099447514,
          0.9060773480662984,
          0.9060773480662984,
          0.9060773480662984,
          0.9005524861878453,
          0.9005524861878453,
          0.9005524861878453,
          0.9005524861878453,
          0.9005524861878453,
          0.9005524861878453,
          0.8729281767955801,
          0.8729281767955801,
          0.8729281767955801,
          0.8729281767955801,
          0.8674033149171271,
          0.861878453038674,
          0.861878453038674,
          0.861878453038674,
          0.856353591160221,
          0.850828729281768,
          0.850828729281768,
          0.8397790055248618,
          0.8397790055248618,
          0.8397790055248618,
          0.8342541436464088,
          0.8342541436464088,
          0.8342541436464088,
          0.8342541436464088,
          0.8342541436464088,
          0.8342541436464088,
          0.8232044198895028,
          0.8176795580110497,
          0.8121546961325967,
          0.8121546961325967,
          0.8121546961325967,
          0.8121546961325967,
          0.8066298342541437,
          0.8011049723756906,
          0.8011049723756906,
          0.8011049723756906,
          0.8011049723756906,
          0.8011049723756906,
          0.8011049723756906,
          0.8011049723756906,
          0.8011049723756906,
          0.8011049723756906,
          0.7955801104972375,
          0.7900552486187845,
          0.7845303867403315,
          0.7845303867403315,
          0.7845303867403315,
          0.7845303867403315,
          0.7790055248618785,
          0.7790055248618785,
          0.7790055248618785,
          0.7734806629834254,
          0.7734806629834254,
          0.7679558011049724,
          0.7624309392265194,
          0.7569060773480663,
          0.7569060773480663,
          0.7569060773480663,
          0.7569060773480663,
          0.7569060773480663,
          0.7348066298342542,
          0.5248618784530387,
          0.5138121546961326,
          0.5138121546961326,
          0.5082872928176796,
          0.5082872928176796,
          0.5082872928176796,
          0.48066298342541436,
          0.47513812154696133,
          0.47513812154696133,
          0.4696132596685083,
          0.46408839779005523,
          0.4585635359116022,
          0.4530386740331492,
          0.4198895027624309,
          0.4143646408839779,
          0.4143646408839779,
          0.4143646408839779,
          0.4088397790055249,
          0.4088397790055249,
          0.4088397790055249,
          0.40331491712707185,
          0.40331491712707185,
          0.40331491712707185,
          0.39779005524861877,
          0.39226519337016574,
          0.3867403314917127,
          0.3867403314917127,
          0.3867403314917127,
          0.3867403314917127,
          0.3701657458563536,
          0.3701657458563536,
          0.3701657458563536,
          0.3701657458563536,
          0.3701657458563536,
          0.3701657458563536,
          0.36464088397790057,
          0.36464088397790057,
          0.35911602209944754,
          0.35359116022099446,
          0.2983425414364641,
          0.2983425414364641,
          0.2983425414364641,
          0.2983425414364641,
          0.292817679558011,
          0.292817679558011,
          0.26519337016574585,
          0.26519337016574585,
          0.2430939226519337,
          0.23756906077348067,
          0.23756906077348067,
          0.23756906077348067,
          0.23204419889502761,
          0.2265193370165746,
          0.2265193370165746,
          0.22099447513812154,
          0.2154696132596685,
          0.2154696132596685,
          0.2154696132596685,
          0.2154696132596685,
          0.20994475138121546,
          0.20441988950276244,
          0.19889502762430938,
          0.19337016574585636,
          0.1878453038674033,
          0.1878453038674033,
          0.1878453038674033,
          0.18232044198895028,
          0.18232044198895028,
          0.18232044198895028,
          0.17679558011049723,
          0.17679558011049723,
          0.17679558011049723,
          0.17679558011049723,
          0.17679558011049723,
          0.1712707182320442,
          0.16574585635359115,
          0.16022099447513813,
          0.16022099447513813,
          0.14917127071823205,
          0.14917127071823205,
          0.143646408839779,
          0.13812154696132597,
          0.13812154696132597,
          0.13259668508287292,
          0.13259668508287292,
          0.1270718232044199,
          0.1270718232044199,
          0.1270718232044199,
          0.12154696132596685,
          0.11602209944751381,
          0.11049723756906077,
          0.10497237569060773,
          0.09392265193370165,
          0.09392265193370165,
          0.08839779005524862,
          0.08839779005524862,
          0.08287292817679558,
          0.07734806629834254,
          0.0718232044198895,
          0.06629834254143646,
          0.06077348066298342,
          0.055248618784530384,
          0.049723756906077346,
          0.04419889502762431,
          0.04419889502762431,
          0.03867403314917127,
          0.03314917127071823,
          0.03314917127071823,
          0.027624309392265192,
          0.022099447513812154,
          0.022099447513812154,
          0.016574585635359115,
          0.016574585635359115,
          0.0055248618784530384,
          0,
          0
         ],
         "y": [
          0.30522765598650925,
          0.3062605752961083,
          0.3073005093378608,
          0.3078231292517007,
          0.3083475298126065,
          0.3181019332161687,
          0.31866197183098594,
          0.3226381461675579,
          0.32379248658318427,
          0.3267148014440433,
          0.32730560578661844,
          0.3278985507246377,
          0.32849364791288566,
          0.3290909090909091,
          0.3296903460837887,
          0.3302919708029197,
          0.33089579524680074,
          0.3315018315018315,
          0.3321100917431193,
          0.3333333333333333,
          0.3376865671641791,
          0.3383177570093458,
          0.3389513108614232,
          0.3395872420262664,
          0.34022556390977443,
          0.34215500945179583,
          0.3428030303030303,
          0.344106463878327,
          0.34476190476190477,
          0.34541984732824427,
          0.34608030592734224,
          0.34674329501915707,
          0.3474088291746641,
          0.34807692307692306,
          0.348747591522158,
          0.34942084942084944,
          0.35009671179883944,
          0.3507751937984496,
          0.3542074363992172,
          0.35490196078431374,
          0.3555992141453831,
          0.3562992125984252,
          0.35700197238658776,
          0.3577075098814229,
          0.3584158415841584,
          0.35912698412698413,
          0.3605577689243028,
          0.36127744510978044,
          0.362,
          0.3627254509018036,
          0.3634538152610442,
          0.3671399594320487,
          0.3678861788617886,
          0.3665987780040733,
          0.3673469387755102,
          0.36809815950920244,
          0.36885245901639346,
          0.36960985626283366,
          0.37037037037037035,
          0.3711340206185567,
          0.371900826446281,
          0.37344398340248963,
          0.37422037422037424,
          0.375,
          0.3757828810020877,
          0.37656903765690375,
          0.37735849056603776,
          0.37815126050420167,
          0.37894736842105264,
          0.379746835443038,
          0.38054968287526425,
          0.3813559322033898,
          0.3821656050955414,
          0.3829787234042553,
          0.3837953091684435,
          0.38461538461538464,
          0.3854389721627409,
          0.38626609442060084,
          0.3870967741935484,
          0.3879310344827586,
          0.38876889848812096,
          0.38961038961038963,
          0.39045553145336226,
          0.391304347826087,
          0.39215686274509803,
          0.3930131004366812,
          0.3938730853391685,
          0.39473684210526316,
          0.3956043956043956,
          0.3964757709251101,
          0.3973509933774834,
          0.39823008849557523,
          0.3991130820399113,
          0.3977777777777778,
          0.39643652561247217,
          0.39732142857142855,
          0.3982102908277405,
          0.3991031390134529,
          0.4,
          0.4009009009009009,
          0.39954853273137697,
          0.4004524886877828,
          0.4013605442176871,
          0.4022727272727273,
          0.4031890660592255,
          0.4041095890410959,
          0.40503432494279173,
          0.4059633027522936,
          0.4068965517241379,
          0.4078341013824885,
          0.40877598152424943,
          0.4097222222222222,
          0.41067285382830626,
          0.4116279069767442,
          0.4125874125874126,
          0.4135514018691589,
          0.41451990632318503,
          0.4154929577464789,
          0.41411764705882353,
          0.41706161137440756,
          0.4156769596199525,
          0.4142857142857143,
          0.4172661870503597,
          0.4182692307692308,
          0.41927710843373495,
          0.42028985507246375,
          0.4213075060532688,
          0.4209245742092457,
          0.4219512195121951,
          0.42401960784313725,
          0.4250614250614251,
          0.42610837438423643,
          0.4271604938271605,
          0.4292803970223325,
          0.43034825870646765,
          0.4314214463840399,
          0.42857142857142855,
          0.4282115869017632,
          0.4292929292929293,
          0.43037974683544306,
          0.43147208121827413,
          0.4300254452926209,
          0.43112244897959184,
          0.4322250639386189,
          0.43333333333333335,
          0.43444730077120824,
          0.43556701030927836,
          0.43410852713178294,
          0.4326424870466321,
          0.43116883116883115,
          0.4322916666666667,
          0.43342036553524804,
          0.43455497382198954,
          0.4356955380577428,
          0.4368421052631579,
          0.43799472295514513,
          0.43915343915343913,
          0.4403183023872679,
          0.43882978723404253,
          0.44,
          0.4411764705882353,
          0.44235924932975873,
          0.44086021505376344,
          0.4420485175202156,
          0.44324324324324327,
          0.44173441734417346,
          0.4429347826086957,
          0.444141689373297,
          0.4453551912568306,
          0.4465753424657534,
          0.4478021978021978,
          0.4579710144927536,
          0.45930232558139533,
          0.4606413994169096,
          0.4619883040935672,
          0.4604105571847507,
          0.46017699115044247,
          0.46153846153846156,
          0.4629080118694362,
          0.46130952380952384,
          0.4597014925373134,
          0.46107784431137727,
          0.4578313253012048,
          0.46060606060606063,
          0.46200607902735563,
          0.4603658536585366,
          0.4617737003058104,
          0.46319018404907975,
          0.4646153846153846,
          0.4660493827160494,
          0.4674922600619195,
          0.47003154574132494,
          0.46835443037974683,
          0.4666666666666667,
          0.4681528662420382,
          0.4696485623003195,
          0.47115384615384615,
          0.4694533762057878,
          0.46774193548387094,
          0.4692556634304207,
          0.4707792207792208,
          0.4738562091503268,
          0.47540983606557374,
          0.4769736842105263,
          0.48013245033112584,
          0.48172757475083056,
          0.48333333333333334,
          0.4816053511705686,
          0.4798657718120805,
          0.4781144781144781,
          0.48299319727891155,
          0.48464163822525597,
          0.4863013698630137,
          0.4862068965517241,
          0.48788927335640137,
          0.4895833333333333,
          0.4878048780487805,
          0.48951048951048953,
          0.48771929824561405,
          0.48936170212765956,
          0.4875444839857651,
          0.48928571428571427,
          0.4910394265232975,
          0.49280575539568344,
          0.49458483754512633,
          0.48717948717948717,
          0.5688622754491018,
          0.5670731707317073,
          0.5740740740740741,
          0.5714285714285714,
          0.575,
          0.5786163522012578,
          0.564935064935065,
          0.5620915032679739,
          0.5657894736842105,
          0.5666666666666667,
          0.5637583892617449,
          0.5608108108108109,
          0.5616438356164384,
          0.5507246376811594,
          0.5474452554744526,
          0.5514705882352942,
          0.5555555555555556,
          0.5522388059701493,
          0.556390977443609,
          0.5606060606060606,
          0.5572519083969466,
          0.5615384615384615,
          0.5658914728682171,
          0.5714285714285714,
          0.568,
          0.5645161290322581,
          0.5691056910569106,
          0.5737704918032787,
          0.5785123966942148,
          0.5775862068965517,
          0.5826086956521739,
          0.5877192982456141,
          0.5929203539823009,
          0.5982142857142857,
          0.6036036036036037,
          0.6,
          0.6055045871559633,
          0.6018518518518519,
          0.5981308411214953,
          0.5684210526315789,
          0.574468085106383,
          0.5806451612903226,
          0.5869565217391305,
          0.5824175824175825,
          0.5888888888888889,
          0.6153846153846154,
          0.6233766233766234,
          0.6111111111111112,
          0.6056338028169014,
          0.6142857142857143,
          0.6231884057971014,
          0.6176470588235294,
          0.6119402985074627,
          0.6212121212121212,
          0.6153846153846154,
          0.609375,
          0.6190476190476191,
          0.6290322580645161,
          0.639344262295082,
          0.6333333333333333,
          0.6271186440677966,
          0.6206896551724138,
          0.6140350877192983,
          0.6071428571428571,
          0.6181818181818182,
          0.6296296296296297,
          0.6226415094339622,
          0.6346153846153846,
          0.6470588235294118,
          0.64,
          0.6530612244897959,
          0.6666666666666666,
          0.6808510638297872,
          0.6956521739130435,
          0.6888888888888889,
          0.6818181818181818,
          0.6744186046511628,
          0.6904761904761905,
          0.675,
          0.6923076923076923,
          0.6842105263157895,
          0.6756756756756757,
          0.6944444444444444,
          0.6857142857142857,
          0.7058823529411765,
          0.696969696969697,
          0.71875,
          0.7419354838709677,
          0.7333333333333333,
          0.7241379310344828,
          0.7142857142857143,
          0.7037037037037037,
          0.7083333333333334,
          0.7391304347826086,
          0.7272727272727273,
          0.7619047619047619,
          0.75,
          0.7368421052631579,
          0.7222222222222222,
          0.7058823529411765,
          0.6875,
          0.6666666666666666,
          0.6428571428571429,
          0.6153846153846154,
          0.6666666666666666,
          0.6363636363636364,
          0.6,
          0.6666666666666666,
          0.625,
          0.5714285714285714,
          0.6666666666666666,
          0.6,
          0.75,
          0.5,
          0,
          1
         ]
        },
        {
         "mode": "lines",
         "name": "Class 2 (area = 0.65)",
         "type": "scatter",
         "x": [
          1,
          1,
          1,
          1,
          1,
          1,
          1,
          1,
          1,
          1,
          1,
          1,
          1,
          1,
          1,
          1,
          1,
          1,
          1,
          1,
          1,
          1,
          1,
          1,
          1,
          1,
          1,
          1,
          1,
          1,
          1,
          1,
          1,
          1,
          1,
          1,
          1,
          1,
          1,
          1,
          1,
          1,
          1,
          1,
          1,
          1,
          1,
          1,
          1,
          1,
          1,
          1,
          1,
          1,
          1,
          1,
          1,
          1,
          1,
          1,
          1,
          1,
          1,
          1,
          1,
          1,
          1,
          1,
          1,
          1,
          0.9952153110047847,
          0.9952153110047847,
          0.9952153110047847,
          0.9952153110047847,
          0.9952153110047847,
          0.9952153110047847,
          0.9952153110047847,
          0.9904306220095693,
          0.9856459330143541,
          0.9856459330143541,
          0.9856459330143541,
          0.9856459330143541,
          0.9856459330143541,
          0.9856459330143541,
          0.9856459330143541,
          0.9856459330143541,
          0.9856459330143541,
          0.9856459330143541,
          0.9856459330143541,
          0.9856459330143541,
          0.9856459330143541,
          0.9856459330143541,
          0.9856459330143541,
          0.9856459330143541,
          0.9856459330143541,
          0.9808612440191388,
          0.9808612440191388,
          0.9760765550239234,
          0.9760765550239234,
          0.9760765550239234,
          0.9760765550239234,
          0.9712918660287081,
          0.9712918660287081,
          0.9712918660287081,
          0.9712918660287081,
          0.9712918660287081,
          0.9712918660287081,
          0.9665071770334929,
          0.9665071770334929,
          0.9665071770334929,
          0.9665071770334929,
          0.9617224880382775,
          0.9617224880382775,
          0.9569377990430622,
          0.9521531100478469,
          0.9473684210526315,
          0.9473684210526315,
          0.9473684210526315,
          0.9473684210526315,
          0.9473684210526315,
          0.9473684210526315,
          0.9473684210526315,
          0.9473684210526315,
          0.9473684210526315,
          0.9473684210526315,
          0.9473684210526315,
          0.9425837320574163,
          0.9425837320574163,
          0.9425837320574163,
          0.937799043062201,
          0.937799043062201,
          0.937799043062201,
          0.937799043062201,
          0.937799043062201,
          0.937799043062201,
          0.937799043062201,
          0.937799043062201,
          0.937799043062201,
          0.937799043062201,
          0.9330143540669856,
          0.9330143540669856,
          0.9330143540669856,
          0.9330143540669856,
          0.9282296650717703,
          0.9234449760765551,
          0.9234449760765551,
          0.9234449760765551,
          0.9234449760765551,
          0.9186602870813397,
          0.9138755980861244,
          0.9138755980861244,
          0.9138755980861244,
          0.8995215311004785,
          0.8995215311004785,
          0.8947368421052632,
          0.8899521531100478,
          0.8899521531100478,
          0.8899521531100478,
          0.8899521531100478,
          0.8899521531100478,
          0.8899521531100478,
          0.8899521531100478,
          0.8899521531100478,
          0.8899521531100478,
          0.8899521531100478,
          0.8899521531100478,
          0.8899521531100478,
          0.8899521531100478,
          0.8851674641148325,
          0.8803827751196173,
          0.8803827751196173,
          0.8803827751196173,
          0.8803827751196173,
          0.8803827751196173,
          0.8803827751196173,
          0.8755980861244019,
          0.8755980861244019,
          0.8708133971291866,
          0.8708133971291866,
          0.8660287081339713,
          0.8660287081339713,
          0.8660287081339713,
          0.8660287081339713,
          0.8660287081339713,
          0.8660287081339713,
          0.861244019138756,
          0.861244019138756,
          0.861244019138756,
          0.8564593301435407,
          0.8516746411483254,
          0.8516746411483254,
          0.8516746411483254,
          0.8516746411483254,
          0.84688995215311,
          0.84688995215311,
          0.84688995215311,
          0.8421052631578947,
          0.8373205741626795,
          0.8373205741626795,
          0.8325358851674641,
          0.8277511961722488,
          0.8277511961722488,
          0.8277511961722488,
          0.8277511961722488,
          0.8277511961722488,
          0.8229665071770335,
          0.8181818181818182,
          0.8181818181818182,
          0.8181818181818182,
          0.8181818181818182,
          0.8133971291866029,
          0.8086124401913876,
          0.8086124401913876,
          0.8038277511961722,
          0.8038277511961722,
          0.7990430622009569,
          0.7942583732057417,
          0.784688995215311,
          0.7799043062200957,
          0.7751196172248804,
          0.7751196172248804,
          0.7703349282296651,
          0.7703349282296651,
          0.7703349282296651,
          0.7607655502392344,
          0.7607655502392344,
          0.7607655502392344,
          0.7607655502392344,
          0.7559808612440191,
          0.7511961722488039,
          0.7416267942583732,
          0.7416267942583732,
          0.7368421052631579,
          0.7320574162679426,
          0.7320574162679426,
          0.7272727272727273,
          0.7272727272727273,
          0.722488038277512,
          0.7177033492822966,
          0.7177033492822966,
          0.7177033492822966,
          0.7177033492822966,
          0.7177033492822966,
          0.7177033492822966,
          0.7177033492822966,
          0.7177033492822966,
          0.7177033492822966,
          0.7177033492822966,
          0.7129186602870813,
          0.7129186602870813,
          0.7081339712918661,
          0.7081339712918661,
          0.7033492822966507,
          0.6985645933014354,
          0.6985645933014354,
          0.69377990430622,
          0.6889952153110048,
          0.6889952153110048,
          0.6842105263157895,
          0.6842105263157895,
          0.6842105263157895,
          0.37799043062200954,
          0.37320574162679426,
          0.37320574162679426,
          0.37320574162679426,
          0.3684210526315789,
          0.36363636363636365,
          0.3588516746411483,
          0.35406698564593303,
          0.35406698564593303,
          0.3492822966507177,
          0.3492822966507177,
          0.3444976076555024,
          0.3444976076555024,
          0.3444976076555024,
          0.3397129186602871,
          0.3349282296650718,
          0.3349282296650718,
          0.33014354066985646,
          0.33014354066985646,
          0.3253588516746411,
          0.3253588516746411,
          0.32057416267942584,
          0.32057416267942584,
          0.3062200956937799,
          0.3062200956937799,
          0.3014354066985646,
          0.2966507177033493,
          0.28708133971291866,
          0.27751196172248804,
          0.2727272727272727,
          0.2535885167464115,
          0.24880382775119617,
          0.24880382775119617,
          0.24880382775119617,
          0.24880382775119617,
          0.24401913875598086,
          0.23923444976076555,
          0.23923444976076555,
          0.17703349282296652,
          0.1722488038277512,
          0.1674641148325359,
          0.16267942583732056,
          0.15789473684210525,
          0.15789473684210525,
          0.15311004784688995,
          0.15311004784688995,
          0.14832535885167464,
          0.14354066985645933,
          0.14354066985645933,
          0.14354066985645933,
          0.13875598086124402,
          0.1339712918660287,
          0.1291866028708134,
          0.11483253588516747,
          0.11004784688995216,
          0.11004784688995216,
          0.11004784688995216,
          0.10526315789473684,
          0.10047846889952153,
          0.10047846889952153,
          0.09569377990430622,
          0.09090909090909091,
          0.09090909090909091,
          0.08133971291866028,
          0.08133971291866028,
          0.07655502392344497,
          0.07177033492822966,
          0.06698564593301436,
          0.06220095693779904,
          0.06220095693779904,
          0.05741626794258373,
          0.05741626794258373,
          0.05741626794258373,
          0.05263157894736842,
          0.04784688995215311,
          0.0430622009569378,
          0.03827751196172249,
          0.03349282296650718,
          0.028708133971291867,
          0.023923444976076555,
          0
         ],
         "y": [
          0.3524451939291737,
          0.3530405405405405,
          0.3536379018612521,
          0.35423728813559324,
          0.3554421768707483,
          0.35665529010238906,
          0.3572649572649573,
          0.36860670194003525,
          0.36925795053003535,
          0.36991150442477877,
          0.37056737588652483,
          0.3718861209964413,
          0.37254901960784315,
          0.3738819320214669,
          0.37455197132616486,
          0.3752244165170557,
          0.37589928057553956,
          0.37657657657657656,
          0.37725631768953066,
          0.3779385171790235,
          0.3786231884057971,
          0.3793103448275862,
          0.38278388278388276,
          0.3877551020408163,
          0.38847583643122674,
          0.3891992551210428,
          0.38992537313432835,
          0.39065420560747666,
          0.3913857677902622,
          0.3921200750469043,
          0.39285714285714285,
          0.3935969868173258,
          0.39433962264150946,
          0.3950850661625709,
          0.3958333333333333,
          0.40115163147792704,
          0.40192307692307694,
          0.4026974951830443,
          0.4034749034749035,
          0.40425531914893614,
          0.4050387596899225,
          0.4058252427184466,
          0.4066147859922179,
          0.4074074074074074,
          0.408203125,
          0.4090019569471624,
          0.40980392156862744,
          0.4106090373280943,
          0.41141732283464566,
          0.41222879684418146,
          0.41304347826086957,
          0.41386138613861384,
          0.4146825396825397,
          0.415506958250497,
          0.4256619144602851,
          0.42653061224489797,
          0.42827868852459017,
          0.42915811088295686,
          0.43004115226337447,
          0.4318181818181818,
          0.432712215320911,
          0.4336099585062241,
          0.4354166666666667,
          0.4363256784968685,
          0.4372384937238494,
          0.4381551362683438,
          0.44,
          0.4409282700421941,
          0.4418604651162791,
          0.4427966101694915,
          0.4416135881104034,
          0.4425531914893617,
          0.44349680170575695,
          0.44635193133047213,
          0.44731182795698926,
          0.4482758620689655,
          0.44924406047516197,
          0.44805194805194803,
          0.44685466377440347,
          0.44782608695652176,
          0.44880174291938996,
          0.4497816593886463,
          0.45076586433260396,
          0.4517543859649123,
          0.45274725274725275,
          0.45374449339207046,
          0.45474613686534215,
          0.4557522123893805,
          0.4567627494456763,
          0.4577777777777778,
          0.45879732739420936,
          0.45982142857142855,
          0.4608501118568233,
          0.4618834080717489,
          0.46292134831460674,
          0.4617117117117117,
          0.46275395033860045,
          0.46153846153846156,
          0.46258503401360546,
          0.4636363636363636,
          0.4646924829157175,
          0.4634703196347032,
          0.4645308924485126,
          0.46559633027522934,
          0.4666666666666667,
          0.46774193548387094,
          0.46882217090069284,
          0.4697674418604651,
          0.47086247086247085,
          0.4719626168224299,
          0.47306791569086654,
          0.47183098591549294,
          0.47294117647058825,
          0.4716981132075472,
          0.47044917257683216,
          0.46919431279620855,
          0.47030878859857483,
          0.4714285714285714,
          0.47255369928400953,
          0.47368421052631576,
          0.4748201438848921,
          0.47596153846153844,
          0.4771084337349398,
          0.4782608695652174,
          0.4794188861985472,
          0.48058252427184467,
          0.4793187347931874,
          0.48048780487804876,
          0.48166259168704156,
          0.4803921568627451,
          0.48157248157248156,
          0.4827586206896552,
          0.4839506172839506,
          0.48514851485148514,
          0.48635235732009924,
          0.48756218905472637,
          0.48877805486284287,
          0.49,
          0.49122807017543857,
          0.4899497487437186,
          0.491183879093199,
          0.49242424242424243,
          0.4936708860759494,
          0.49238578680203043,
          0.4910941475826972,
          0.4923469387755102,
          0.4936061381074169,
          0.4948717948717949,
          0.493573264781491,
          0.49226804123711343,
          0.4935400516795866,
          0.4948186528497409,
          0.5026737967914439,
          0.5040214477211796,
          0.5026881720430108,
          0.5013477088948787,
          0.5027027027027027,
          0.5040650406504065,
          0.5054347826086957,
          0.5068119891008175,
          0.5081967213114754,
          0.5095890410958904,
          0.510989010989011,
          0.512396694214876,
          0.5138121546961326,
          0.5152354570637119,
          0.5166666666666667,
          0.5181058495821727,
          0.5167597765363129,
          0.5154061624649859,
          0.5168539325842697,
          0.5183098591549296,
          0.519774011299435,
          0.5212464589235127,
          0.5242165242165242,
          0.5228571428571429,
          0.5243553008595988,
          0.5244956772334294,
          0.5260115606936416,
          0.5246376811594203,
          0.5276967930029155,
          0.5292397660818714,
          0.530791788856305,
          0.5323529411764706,
          0.5370919881305638,
          0.5357142857142857,
          0.5373134328358209,
          0.5389221556886228,
          0.5375375375375375,
          0.536144578313253,
          0.5377643504531722,
          0.5393939393939394,
          0.541033434650456,
          0.5396341463414634,
          0.5479876160990712,
          0.5496894409937888,
          0.5482866043613707,
          0.546875,
          0.54858934169279,
          0.5471698113207547,
          0.5457413249211357,
          0.5474683544303798,
          0.5492063492063493,
          0.5509554140127388,
          0.5527156549520766,
          0.5512820512820513,
          0.5498392282958199,
          0.5516129032258065,
          0.5533980582524272,
          0.5551948051948052,
          0.5537459283387622,
          0.5596026490066225,
          0.5614617940199336,
          0.56,
          0.5618729096989966,
          0.5604026845637584,
          0.5589225589225589,
          0.5674740484429066,
          0.5659722222222222,
          0.5644599303135889,
          0.5664335664335665,
          0.5649122807017544,
          0.5669014084507042,
          0.568904593639576,
          0.5719424460431655,
          0.5740072202166066,
          0.5760869565217391,
          0.5781818181818181,
          0.5766423357664233,
          0.575091575091575,
          0.5740740740740741,
          0.5762081784386617,
          0.5746268656716418,
          0.5730337078651685,
          0.575187969924812,
          0.5735849056603773,
          0.5757575757575758,
          0.5741444866920152,
          0.5725190839694656,
          0.5769230769230769,
          0.5791505791505791,
          0.5813953488372093,
          0.5836575875486382,
          0.5859375,
          0.5976095617529881,
          0.6,
          0.6024096385542169,
          0.6048387096774194,
          0.6056910569105691,
          0.6081632653061224,
          0.6065573770491803,
          0.6090534979423868,
          0.6074380165289256,
          0.6083333333333333,
          0.6108786610878661,
          0.614406779661017,
          0.6153846153846154,
          0.6180257510729614,
          0.6163793103448276,
          0.6244541484716157,
          0.6271929824561403,
          0.6475409836065574,
          0.6446280991735537,
          0.65,
          0.6554621848739496,
          0.652542372881356,
          0.6495726495726496,
          0.646551724137931,
          0.6434782608695652,
          0.6491228070175439,
          0.6460176991150443,
          0.6697247706422018,
          0.6728971962616822,
          0.6792452830188679,
          0.6857142857142857,
          0.6826923076923077,
          0.6796116504854369,
          0.6862745098039216,
          0.6831683168316832,
          0.69,
          0.6868686868686869,
          0.6938775510204082,
          0.6979166666666666,
          0.7052631578947368,
          0.6956521739130435,
          0.7032967032967034,
          0.7,
          0.6966292134831461,
          0.6896551724137931,
          0.6823529411764706,
          0.6785714285714286,
          0.6794871794871795,
          0.6753246753246753,
          0.6842105263157895,
          0.6933333333333334,
          0.7123287671232876,
          0.7083333333333334,
          0.704225352112676,
          0.7142857142857143,
          0.7254901960784313,
          0.72,
          0.7142857142857143,
          0.7083333333333334,
          0.7021276595744681,
          0.717391304347826,
          0.7111111111111111,
          0.7272727272727273,
          0.7209302325581395,
          0.7142857142857143,
          0.7317073170731707,
          0.75,
          0.7435897435897436,
          0.7368421052631579,
          0.7297297297297297,
          0.7058823529411765,
          0.71875,
          0.7419354838709677,
          0.7666666666666667,
          0.7586206896551724,
          0.75,
          0.8076923076923077,
          0.8,
          0.7916666666666666,
          0.8260869565217391,
          0.8095238095238095,
          0.85,
          0.8421052631578947,
          0.8333333333333334,
          0.8235294117647058,
          0.8125,
          0.8666666666666667,
          0.8571428571428571,
          0.9230769230769231,
          1,
          1,
          1,
          1,
          1,
          1,
          1,
          1,
          1
         ]
        }
       ],
       "layout": {
        "template": {
         "data": {
          "bar": [
           {
            "error_x": {
             "color": "#2a3f5f"
            },
            "error_y": {
             "color": "#2a3f5f"
            },
            "marker": {
             "line": {
              "color": "#E5ECF6",
              "width": 0.5
             },
             "pattern": {
              "fillmode": "overlay",
              "size": 10,
              "solidity": 0.2
             }
            },
            "type": "bar"
           }
          ],
          "barpolar": [
           {
            "marker": {
             "line": {
              "color": "#E5ECF6",
              "width": 0.5
             },
             "pattern": {
              "fillmode": "overlay",
              "size": 10,
              "solidity": 0.2
             }
            },
            "type": "barpolar"
           }
          ],
          "carpet": [
           {
            "aaxis": {
             "endlinecolor": "#2a3f5f",
             "gridcolor": "white",
             "linecolor": "white",
             "minorgridcolor": "white",
             "startlinecolor": "#2a3f5f"
            },
            "baxis": {
             "endlinecolor": "#2a3f5f",
             "gridcolor": "white",
             "linecolor": "white",
             "minorgridcolor": "white",
             "startlinecolor": "#2a3f5f"
            },
            "type": "carpet"
           }
          ],
          "choropleth": [
           {
            "colorbar": {
             "outlinewidth": 0,
             "ticks": ""
            },
            "type": "choropleth"
           }
          ],
          "contour": [
           {
            "colorbar": {
             "outlinewidth": 0,
             "ticks": ""
            },
            "colorscale": [
             [
              0,
              "#0d0887"
             ],
             [
              0.1111111111111111,
              "#46039f"
             ],
             [
              0.2222222222222222,
              "#7201a8"
             ],
             [
              0.3333333333333333,
              "#9c179e"
             ],
             [
              0.4444444444444444,
              "#bd3786"
             ],
             [
              0.5555555555555556,
              "#d8576b"
             ],
             [
              0.6666666666666666,
              "#ed7953"
             ],
             [
              0.7777777777777778,
              "#fb9f3a"
             ],
             [
              0.8888888888888888,
              "#fdca26"
             ],
             [
              1,
              "#f0f921"
             ]
            ],
            "type": "contour"
           }
          ],
          "contourcarpet": [
           {
            "colorbar": {
             "outlinewidth": 0,
             "ticks": ""
            },
            "type": "contourcarpet"
           }
          ],
          "heatmap": [
           {
            "colorbar": {
             "outlinewidth": 0,
             "ticks": ""
            },
            "colorscale": [
             [
              0,
              "#0d0887"
             ],
             [
              0.1111111111111111,
              "#46039f"
             ],
             [
              0.2222222222222222,
              "#7201a8"
             ],
             [
              0.3333333333333333,
              "#9c179e"
             ],
             [
              0.4444444444444444,
              "#bd3786"
             ],
             [
              0.5555555555555556,
              "#d8576b"
             ],
             [
              0.6666666666666666,
              "#ed7953"
             ],
             [
              0.7777777777777778,
              "#fb9f3a"
             ],
             [
              0.8888888888888888,
              "#fdca26"
             ],
             [
              1,
              "#f0f921"
             ]
            ],
            "type": "heatmap"
           }
          ],
          "heatmapgl": [
           {
            "colorbar": {
             "outlinewidth": 0,
             "ticks": ""
            },
            "colorscale": [
             [
              0,
              "#0d0887"
             ],
             [
              0.1111111111111111,
              "#46039f"
             ],
             [
              0.2222222222222222,
              "#7201a8"
             ],
             [
              0.3333333333333333,
              "#9c179e"
             ],
             [
              0.4444444444444444,
              "#bd3786"
             ],
             [
              0.5555555555555556,
              "#d8576b"
             ],
             [
              0.6666666666666666,
              "#ed7953"
             ],
             [
              0.7777777777777778,
              "#fb9f3a"
             ],
             [
              0.8888888888888888,
              "#fdca26"
             ],
             [
              1,
              "#f0f921"
             ]
            ],
            "type": "heatmapgl"
           }
          ],
          "histogram": [
           {
            "marker": {
             "pattern": {
              "fillmode": "overlay",
              "size": 10,
              "solidity": 0.2
             }
            },
            "type": "histogram"
           }
          ],
          "histogram2d": [
           {
            "colorbar": {
             "outlinewidth": 0,
             "ticks": ""
            },
            "colorscale": [
             [
              0,
              "#0d0887"
             ],
             [
              0.1111111111111111,
              "#46039f"
             ],
             [
              0.2222222222222222,
              "#7201a8"
             ],
             [
              0.3333333333333333,
              "#9c179e"
             ],
             [
              0.4444444444444444,
              "#bd3786"
             ],
             [
              0.5555555555555556,
              "#d8576b"
             ],
             [
              0.6666666666666666,
              "#ed7953"
             ],
             [
              0.7777777777777778,
              "#fb9f3a"
             ],
             [
              0.8888888888888888,
              "#fdca26"
             ],
             [
              1,
              "#f0f921"
             ]
            ],
            "type": "histogram2d"
           }
          ],
          "histogram2dcontour": [
           {
            "colorbar": {
             "outlinewidth": 0,
             "ticks": ""
            },
            "colorscale": [
             [
              0,
              "#0d0887"
             ],
             [
              0.1111111111111111,
              "#46039f"
             ],
             [
              0.2222222222222222,
              "#7201a8"
             ],
             [
              0.3333333333333333,
              "#9c179e"
             ],
             [
              0.4444444444444444,
              "#bd3786"
             ],
             [
              0.5555555555555556,
              "#d8576b"
             ],
             [
              0.6666666666666666,
              "#ed7953"
             ],
             [
              0.7777777777777778,
              "#fb9f3a"
             ],
             [
              0.8888888888888888,
              "#fdca26"
             ],
             [
              1,
              "#f0f921"
             ]
            ],
            "type": "histogram2dcontour"
           }
          ],
          "mesh3d": [
           {
            "colorbar": {
             "outlinewidth": 0,
             "ticks": ""
            },
            "type": "mesh3d"
           }
          ],
          "parcoords": [
           {
            "line": {
             "colorbar": {
              "outlinewidth": 0,
              "ticks": ""
             }
            },
            "type": "parcoords"
           }
          ],
          "pie": [
           {
            "automargin": true,
            "type": "pie"
           }
          ],
          "scatter": [
           {
            "fillpattern": {
             "fillmode": "overlay",
             "size": 10,
             "solidity": 0.2
            },
            "type": "scatter"
           }
          ],
          "scatter3d": [
           {
            "line": {
             "colorbar": {
              "outlinewidth": 0,
              "ticks": ""
             }
            },
            "marker": {
             "colorbar": {
              "outlinewidth": 0,
              "ticks": ""
             }
            },
            "type": "scatter3d"
           }
          ],
          "scattercarpet": [
           {
            "marker": {
             "colorbar": {
              "outlinewidth": 0,
              "ticks": ""
             }
            },
            "type": "scattercarpet"
           }
          ],
          "scattergeo": [
           {
            "marker": {
             "colorbar": {
              "outlinewidth": 0,
              "ticks": ""
             }
            },
            "type": "scattergeo"
           }
          ],
          "scattergl": [
           {
            "marker": {
             "colorbar": {
              "outlinewidth": 0,
              "ticks": ""
             }
            },
            "type": "scattergl"
           }
          ],
          "scattermapbox": [
           {
            "marker": {
             "colorbar": {
              "outlinewidth": 0,
              "ticks": ""
             }
            },
            "type": "scattermapbox"
           }
          ],
          "scatterpolar": [
           {
            "marker": {
             "colorbar": {
              "outlinewidth": 0,
              "ticks": ""
             }
            },
            "type": "scatterpolar"
           }
          ],
          "scatterpolargl": [
           {
            "marker": {
             "colorbar": {
              "outlinewidth": 0,
              "ticks": ""
             }
            },
            "type": "scatterpolargl"
           }
          ],
          "scatterternary": [
           {
            "marker": {
             "colorbar": {
              "outlinewidth": 0,
              "ticks": ""
             }
            },
            "type": "scatterternary"
           }
          ],
          "surface": [
           {
            "colorbar": {
             "outlinewidth": 0,
             "ticks": ""
            },
            "colorscale": [
             [
              0,
              "#0d0887"
             ],
             [
              0.1111111111111111,
              "#46039f"
             ],
             [
              0.2222222222222222,
              "#7201a8"
             ],
             [
              0.3333333333333333,
              "#9c179e"
             ],
             [
              0.4444444444444444,
              "#bd3786"
             ],
             [
              0.5555555555555556,
              "#d8576b"
             ],
             [
              0.6666666666666666,
              "#ed7953"
             ],
             [
              0.7777777777777778,
              "#fb9f3a"
             ],
             [
              0.8888888888888888,
              "#fdca26"
             ],
             [
              1,
              "#f0f921"
             ]
            ],
            "type": "surface"
           }
          ],
          "table": [
           {
            "cells": {
             "fill": {
              "color": "#EBF0F8"
             },
             "line": {
              "color": "white"
             }
            },
            "header": {
             "fill": {
              "color": "#C8D4E3"
             },
             "line": {
              "color": "white"
             }
            },
            "type": "table"
           }
          ]
         },
         "layout": {
          "annotationdefaults": {
           "arrowcolor": "#2a3f5f",
           "arrowhead": 0,
           "arrowwidth": 1
          },
          "autotypenumbers": "strict",
          "coloraxis": {
           "colorbar": {
            "outlinewidth": 0,
            "ticks": ""
           }
          },
          "colorscale": {
           "diverging": [
            [
             0,
             "#8e0152"
            ],
            [
             0.1,
             "#c51b7d"
            ],
            [
             0.2,
             "#de77ae"
            ],
            [
             0.3,
             "#f1b6da"
            ],
            [
             0.4,
             "#fde0ef"
            ],
            [
             0.5,
             "#f7f7f7"
            ],
            [
             0.6,
             "#e6f5d0"
            ],
            [
             0.7,
             "#b8e186"
            ],
            [
             0.8,
             "#7fbc41"
            ],
            [
             0.9,
             "#4d9221"
            ],
            [
             1,
             "#276419"
            ]
           ],
           "sequential": [
            [
             0,
             "#0d0887"
            ],
            [
             0.1111111111111111,
             "#46039f"
            ],
            [
             0.2222222222222222,
             "#7201a8"
            ],
            [
             0.3333333333333333,
             "#9c179e"
            ],
            [
             0.4444444444444444,
             "#bd3786"
            ],
            [
             0.5555555555555556,
             "#d8576b"
            ],
            [
             0.6666666666666666,
             "#ed7953"
            ],
            [
             0.7777777777777778,
             "#fb9f3a"
            ],
            [
             0.8888888888888888,
             "#fdca26"
            ],
            [
             1,
             "#f0f921"
            ]
           ],
           "sequentialminus": [
            [
             0,
             "#0d0887"
            ],
            [
             0.1111111111111111,
             "#46039f"
            ],
            [
             0.2222222222222222,
             "#7201a8"
            ],
            [
             0.3333333333333333,
             "#9c179e"
            ],
            [
             0.4444444444444444,
             "#bd3786"
            ],
            [
             0.5555555555555556,
             "#d8576b"
            ],
            [
             0.6666666666666666,
             "#ed7953"
            ],
            [
             0.7777777777777778,
             "#fb9f3a"
            ],
            [
             0.8888888888888888,
             "#fdca26"
            ],
            [
             1,
             "#f0f921"
            ]
           ]
          },
          "colorway": [
           "#636efa",
           "#EF553B",
           "#00cc96",
           "#ab63fa",
           "#FFA15A",
           "#19d3f3",
           "#FF6692",
           "#B6E880",
           "#FF97FF",
           "#FECB52"
          ],
          "font": {
           "color": "#2a3f5f"
          },
          "geo": {
           "bgcolor": "white",
           "lakecolor": "white",
           "landcolor": "#E5ECF6",
           "showlakes": true,
           "showland": true,
           "subunitcolor": "white"
          },
          "hoverlabel": {
           "align": "left"
          },
          "hovermode": "closest",
          "mapbox": {
           "style": "light"
          },
          "paper_bgcolor": "white",
          "plot_bgcolor": "#E5ECF6",
          "polar": {
           "angularaxis": {
            "gridcolor": "white",
            "linecolor": "white",
            "ticks": ""
           },
           "bgcolor": "#E5ECF6",
           "radialaxis": {
            "gridcolor": "white",
            "linecolor": "white",
            "ticks": ""
           }
          },
          "scene": {
           "xaxis": {
            "backgroundcolor": "#E5ECF6",
            "gridcolor": "white",
            "gridwidth": 2,
            "linecolor": "white",
            "showbackground": true,
            "ticks": "",
            "zerolinecolor": "white"
           },
           "yaxis": {
            "backgroundcolor": "#E5ECF6",
            "gridcolor": "white",
            "gridwidth": 2,
            "linecolor": "white",
            "showbackground": true,
            "ticks": "",
            "zerolinecolor": "white"
           },
           "zaxis": {
            "backgroundcolor": "#E5ECF6",
            "gridcolor": "white",
            "gridwidth": 2,
            "linecolor": "white",
            "showbackground": true,
            "ticks": "",
            "zerolinecolor": "white"
           }
          },
          "shapedefaults": {
           "line": {
            "color": "#2a3f5f"
           }
          },
          "ternary": {
           "aaxis": {
            "gridcolor": "white",
            "linecolor": "white",
            "ticks": ""
           },
           "baxis": {
            "gridcolor": "white",
            "linecolor": "white",
            "ticks": ""
           },
           "bgcolor": "#E5ECF6",
           "caxis": {
            "gridcolor": "white",
            "linecolor": "white",
            "ticks": ""
           }
          },
          "title": {
           "x": 0.05
          },
          "xaxis": {
           "automargin": true,
           "gridcolor": "white",
           "linecolor": "white",
           "ticks": "",
           "title": {
            "standoff": 15
           },
           "zerolinecolor": "white",
           "zerolinewidth": 2
          },
          "yaxis": {
           "automargin": true,
           "gridcolor": "white",
           "linecolor": "white",
           "ticks": "",
           "title": {
            "standoff": 15
           },
           "zerolinecolor": "white",
           "zerolinewidth": 2
          }
         }
        },
        "title": {
         "text": "Multiclass Precision-Recall Curve"
        },
        "xaxis": {
         "title": {
          "text": "Recall"
         }
        },
        "yaxis": {
         "title": {
          "text": "Precision"
         }
        }
       }
      }
     },
     "metadata": {},
     "output_type": "display_data"
    }
   ],
   "source": [
    "# Compute Precision-Recall and plot for each class\n",
    "precision = dict()\n",
    "recall = dict()\n",
    "average_precision = dict()\n",
    "for i in range(n_classes):\n",
    "    precision[i], recall[i], _ = precision_recall_curve(y_test_bin[:, i], y_score[:, i])\n",
    "    average_precision[i] = average_precision_score(y_test_bin[:, i], y_score[:, i])\n",
    "\n",
    "fig = go.Figure()\n",
    "for i in range(n_classes):\n",
    "    fig.add_trace(go.Scatter(x=recall[i], y=precision[i], mode='lines', name=f'Class {i} (area = {average_precision[i]:0.2f})'))\n",
    "\n",
    "fig.update_layout(title='Multiclass Precision-Recall Curve', xaxis_title='Recall', yaxis_title='Precision')\n",
    "fig.show()"
   ]
  },
  {
   "cell_type": "code",
   "execution_count": 47,
   "metadata": {},
   "outputs": [
    {
     "data": {
      "application/vnd.plotly.v1+json": {
       "config": {
        "plotlyServerURL": "https://plot.ly"
       },
       "data": [
        {
         "colorscale": [
          [
           0,
           "#440154"
          ],
          [
           0.1111111111111111,
           "#482878"
          ],
          [
           0.2222222222222222,
           "#3e4989"
          ],
          [
           0.3333333333333333,
           "#31688e"
          ],
          [
           0.4444444444444444,
           "#26828e"
          ],
          [
           0.5555555555555556,
           "#1f9e89"
          ],
          [
           0.6666666666666666,
           "#35b779"
          ],
          [
           0.7777777777777778,
           "#6ece58"
          ],
          [
           0.8888888888888888,
           "#b5de2b"
          ],
          [
           1,
           "#fde725"
          ]
         ],
         "reversescale": false,
         "showscale": false,
         "type": "heatmap",
         "x": [
          "Predicted 0",
          "Predicted 1",
          "Predicted 2"
         ],
         "y": [
          "Actual 0",
          "Actual 1",
          "Actual 2"
         ],
         "z": [
          [
           153,
           25,
           25
          ],
          [
           8,
           88,
           85
          ],
          [
           14,
           44,
           151
          ]
         ]
        }
       ],
       "layout": {
        "annotations": [
         {
          "font": {
           "color": "#000000"
          },
          "showarrow": false,
          "text": "153",
          "x": "Predicted 0",
          "xref": "x",
          "y": "Actual 0",
          "yref": "y"
         },
         {
          "font": {
           "color": "#FFFFFF"
          },
          "showarrow": false,
          "text": "25",
          "x": "Predicted 1",
          "xref": "x",
          "y": "Actual 0",
          "yref": "y"
         },
         {
          "font": {
           "color": "#FFFFFF"
          },
          "showarrow": false,
          "text": "25",
          "x": "Predicted 2",
          "xref": "x",
          "y": "Actual 0",
          "yref": "y"
         },
         {
          "font": {
           "color": "#FFFFFF"
          },
          "showarrow": false,
          "text": "8",
          "x": "Predicted 0",
          "xref": "x",
          "y": "Actual 1",
          "yref": "y"
         },
         {
          "font": {
           "color": "#000000"
          },
          "showarrow": false,
          "text": "88",
          "x": "Predicted 1",
          "xref": "x",
          "y": "Actual 1",
          "yref": "y"
         },
         {
          "font": {
           "color": "#000000"
          },
          "showarrow": false,
          "text": "85",
          "x": "Predicted 2",
          "xref": "x",
          "y": "Actual 1",
          "yref": "y"
         },
         {
          "font": {
           "color": "#FFFFFF"
          },
          "showarrow": false,
          "text": "14",
          "x": "Predicted 0",
          "xref": "x",
          "y": "Actual 2",
          "yref": "y"
         },
         {
          "font": {
           "color": "#FFFFFF"
          },
          "showarrow": false,
          "text": "44",
          "x": "Predicted 1",
          "xref": "x",
          "y": "Actual 2",
          "yref": "y"
         },
         {
          "font": {
           "color": "#000000"
          },
          "showarrow": false,
          "text": "151",
          "x": "Predicted 2",
          "xref": "x",
          "y": "Actual 2",
          "yref": "y"
         }
        ],
        "template": {
         "data": {
          "bar": [
           {
            "error_x": {
             "color": "#2a3f5f"
            },
            "error_y": {
             "color": "#2a3f5f"
            },
            "marker": {
             "line": {
              "color": "#E5ECF6",
              "width": 0.5
             },
             "pattern": {
              "fillmode": "overlay",
              "size": 10,
              "solidity": 0.2
             }
            },
            "type": "bar"
           }
          ],
          "barpolar": [
           {
            "marker": {
             "line": {
              "color": "#E5ECF6",
              "width": 0.5
             },
             "pattern": {
              "fillmode": "overlay",
              "size": 10,
              "solidity": 0.2
             }
            },
            "type": "barpolar"
           }
          ],
          "carpet": [
           {
            "aaxis": {
             "endlinecolor": "#2a3f5f",
             "gridcolor": "white",
             "linecolor": "white",
             "minorgridcolor": "white",
             "startlinecolor": "#2a3f5f"
            },
            "baxis": {
             "endlinecolor": "#2a3f5f",
             "gridcolor": "white",
             "linecolor": "white",
             "minorgridcolor": "white",
             "startlinecolor": "#2a3f5f"
            },
            "type": "carpet"
           }
          ],
          "choropleth": [
           {
            "colorbar": {
             "outlinewidth": 0,
             "ticks": ""
            },
            "type": "choropleth"
           }
          ],
          "contour": [
           {
            "colorbar": {
             "outlinewidth": 0,
             "ticks": ""
            },
            "colorscale": [
             [
              0,
              "#0d0887"
             ],
             [
              0.1111111111111111,
              "#46039f"
             ],
             [
              0.2222222222222222,
              "#7201a8"
             ],
             [
              0.3333333333333333,
              "#9c179e"
             ],
             [
              0.4444444444444444,
              "#bd3786"
             ],
             [
              0.5555555555555556,
              "#d8576b"
             ],
             [
              0.6666666666666666,
              "#ed7953"
             ],
             [
              0.7777777777777778,
              "#fb9f3a"
             ],
             [
              0.8888888888888888,
              "#fdca26"
             ],
             [
              1,
              "#f0f921"
             ]
            ],
            "type": "contour"
           }
          ],
          "contourcarpet": [
           {
            "colorbar": {
             "outlinewidth": 0,
             "ticks": ""
            },
            "type": "contourcarpet"
           }
          ],
          "heatmap": [
           {
            "colorbar": {
             "outlinewidth": 0,
             "ticks": ""
            },
            "colorscale": [
             [
              0,
              "#0d0887"
             ],
             [
              0.1111111111111111,
              "#46039f"
             ],
             [
              0.2222222222222222,
              "#7201a8"
             ],
             [
              0.3333333333333333,
              "#9c179e"
             ],
             [
              0.4444444444444444,
              "#bd3786"
             ],
             [
              0.5555555555555556,
              "#d8576b"
             ],
             [
              0.6666666666666666,
              "#ed7953"
             ],
             [
              0.7777777777777778,
              "#fb9f3a"
             ],
             [
              0.8888888888888888,
              "#fdca26"
             ],
             [
              1,
              "#f0f921"
             ]
            ],
            "type": "heatmap"
           }
          ],
          "heatmapgl": [
           {
            "colorbar": {
             "outlinewidth": 0,
             "ticks": ""
            },
            "colorscale": [
             [
              0,
              "#0d0887"
             ],
             [
              0.1111111111111111,
              "#46039f"
             ],
             [
              0.2222222222222222,
              "#7201a8"
             ],
             [
              0.3333333333333333,
              "#9c179e"
             ],
             [
              0.4444444444444444,
              "#bd3786"
             ],
             [
              0.5555555555555556,
              "#d8576b"
             ],
             [
              0.6666666666666666,
              "#ed7953"
             ],
             [
              0.7777777777777778,
              "#fb9f3a"
             ],
             [
              0.8888888888888888,
              "#fdca26"
             ],
             [
              1,
              "#f0f921"
             ]
            ],
            "type": "heatmapgl"
           }
          ],
          "histogram": [
           {
            "marker": {
             "pattern": {
              "fillmode": "overlay",
              "size": 10,
              "solidity": 0.2
             }
            },
            "type": "histogram"
           }
          ],
          "histogram2d": [
           {
            "colorbar": {
             "outlinewidth": 0,
             "ticks": ""
            },
            "colorscale": [
             [
              0,
              "#0d0887"
             ],
             [
              0.1111111111111111,
              "#46039f"
             ],
             [
              0.2222222222222222,
              "#7201a8"
             ],
             [
              0.3333333333333333,
              "#9c179e"
             ],
             [
              0.4444444444444444,
              "#bd3786"
             ],
             [
              0.5555555555555556,
              "#d8576b"
             ],
             [
              0.6666666666666666,
              "#ed7953"
             ],
             [
              0.7777777777777778,
              "#fb9f3a"
             ],
             [
              0.8888888888888888,
              "#fdca26"
             ],
             [
              1,
              "#f0f921"
             ]
            ],
            "type": "histogram2d"
           }
          ],
          "histogram2dcontour": [
           {
            "colorbar": {
             "outlinewidth": 0,
             "ticks": ""
            },
            "colorscale": [
             [
              0,
              "#0d0887"
             ],
             [
              0.1111111111111111,
              "#46039f"
             ],
             [
              0.2222222222222222,
              "#7201a8"
             ],
             [
              0.3333333333333333,
              "#9c179e"
             ],
             [
              0.4444444444444444,
              "#bd3786"
             ],
             [
              0.5555555555555556,
              "#d8576b"
             ],
             [
              0.6666666666666666,
              "#ed7953"
             ],
             [
              0.7777777777777778,
              "#fb9f3a"
             ],
             [
              0.8888888888888888,
              "#fdca26"
             ],
             [
              1,
              "#f0f921"
             ]
            ],
            "type": "histogram2dcontour"
           }
          ],
          "mesh3d": [
           {
            "colorbar": {
             "outlinewidth": 0,
             "ticks": ""
            },
            "type": "mesh3d"
           }
          ],
          "parcoords": [
           {
            "line": {
             "colorbar": {
              "outlinewidth": 0,
              "ticks": ""
             }
            },
            "type": "parcoords"
           }
          ],
          "pie": [
           {
            "automargin": true,
            "type": "pie"
           }
          ],
          "scatter": [
           {
            "fillpattern": {
             "fillmode": "overlay",
             "size": 10,
             "solidity": 0.2
            },
            "type": "scatter"
           }
          ],
          "scatter3d": [
           {
            "line": {
             "colorbar": {
              "outlinewidth": 0,
              "ticks": ""
             }
            },
            "marker": {
             "colorbar": {
              "outlinewidth": 0,
              "ticks": ""
             }
            },
            "type": "scatter3d"
           }
          ],
          "scattercarpet": [
           {
            "marker": {
             "colorbar": {
              "outlinewidth": 0,
              "ticks": ""
             }
            },
            "type": "scattercarpet"
           }
          ],
          "scattergeo": [
           {
            "marker": {
             "colorbar": {
              "outlinewidth": 0,
              "ticks": ""
             }
            },
            "type": "scattergeo"
           }
          ],
          "scattergl": [
           {
            "marker": {
             "colorbar": {
              "outlinewidth": 0,
              "ticks": ""
             }
            },
            "type": "scattergl"
           }
          ],
          "scattermapbox": [
           {
            "marker": {
             "colorbar": {
              "outlinewidth": 0,
              "ticks": ""
             }
            },
            "type": "scattermapbox"
           }
          ],
          "scatterpolar": [
           {
            "marker": {
             "colorbar": {
              "outlinewidth": 0,
              "ticks": ""
             }
            },
            "type": "scatterpolar"
           }
          ],
          "scatterpolargl": [
           {
            "marker": {
             "colorbar": {
              "outlinewidth": 0,
              "ticks": ""
             }
            },
            "type": "scatterpolargl"
           }
          ],
          "scatterternary": [
           {
            "marker": {
             "colorbar": {
              "outlinewidth": 0,
              "ticks": ""
             }
            },
            "type": "scatterternary"
           }
          ],
          "surface": [
           {
            "colorbar": {
             "outlinewidth": 0,
             "ticks": ""
            },
            "colorscale": [
             [
              0,
              "#0d0887"
             ],
             [
              0.1111111111111111,
              "#46039f"
             ],
             [
              0.2222222222222222,
              "#7201a8"
             ],
             [
              0.3333333333333333,
              "#9c179e"
             ],
             [
              0.4444444444444444,
              "#bd3786"
             ],
             [
              0.5555555555555556,
              "#d8576b"
             ],
             [
              0.6666666666666666,
              "#ed7953"
             ],
             [
              0.7777777777777778,
              "#fb9f3a"
             ],
             [
              0.8888888888888888,
              "#fdca26"
             ],
             [
              1,
              "#f0f921"
             ]
            ],
            "type": "surface"
           }
          ],
          "table": [
           {
            "cells": {
             "fill": {
              "color": "#EBF0F8"
             },
             "line": {
              "color": "white"
             }
            },
            "header": {
             "fill": {
              "color": "#C8D4E3"
             },
             "line": {
              "color": "white"
             }
            },
            "type": "table"
           }
          ]
         },
         "layout": {
          "annotationdefaults": {
           "arrowcolor": "#2a3f5f",
           "arrowhead": 0,
           "arrowwidth": 1
          },
          "autotypenumbers": "strict",
          "coloraxis": {
           "colorbar": {
            "outlinewidth": 0,
            "ticks": ""
           }
          },
          "colorscale": {
           "diverging": [
            [
             0,
             "#8e0152"
            ],
            [
             0.1,
             "#c51b7d"
            ],
            [
             0.2,
             "#de77ae"
            ],
            [
             0.3,
             "#f1b6da"
            ],
            [
             0.4,
             "#fde0ef"
            ],
            [
             0.5,
             "#f7f7f7"
            ],
            [
             0.6,
             "#e6f5d0"
            ],
            [
             0.7,
             "#b8e186"
            ],
            [
             0.8,
             "#7fbc41"
            ],
            [
             0.9,
             "#4d9221"
            ],
            [
             1,
             "#276419"
            ]
           ],
           "sequential": [
            [
             0,
             "#0d0887"
            ],
            [
             0.1111111111111111,
             "#46039f"
            ],
            [
             0.2222222222222222,
             "#7201a8"
            ],
            [
             0.3333333333333333,
             "#9c179e"
            ],
            [
             0.4444444444444444,
             "#bd3786"
            ],
            [
             0.5555555555555556,
             "#d8576b"
            ],
            [
             0.6666666666666666,
             "#ed7953"
            ],
            [
             0.7777777777777778,
             "#fb9f3a"
            ],
            [
             0.8888888888888888,
             "#fdca26"
            ],
            [
             1,
             "#f0f921"
            ]
           ],
           "sequentialminus": [
            [
             0,
             "#0d0887"
            ],
            [
             0.1111111111111111,
             "#46039f"
            ],
            [
             0.2222222222222222,
             "#7201a8"
            ],
            [
             0.3333333333333333,
             "#9c179e"
            ],
            [
             0.4444444444444444,
             "#bd3786"
            ],
            [
             0.5555555555555556,
             "#d8576b"
            ],
            [
             0.6666666666666666,
             "#ed7953"
            ],
            [
             0.7777777777777778,
             "#fb9f3a"
            ],
            [
             0.8888888888888888,
             "#fdca26"
            ],
            [
             1,
             "#f0f921"
            ]
           ]
          },
          "colorway": [
           "#636efa",
           "#EF553B",
           "#00cc96",
           "#ab63fa",
           "#FFA15A",
           "#19d3f3",
           "#FF6692",
           "#B6E880",
           "#FF97FF",
           "#FECB52"
          ],
          "font": {
           "color": "#2a3f5f"
          },
          "geo": {
           "bgcolor": "white",
           "lakecolor": "white",
           "landcolor": "#E5ECF6",
           "showlakes": true,
           "showland": true,
           "subunitcolor": "white"
          },
          "hoverlabel": {
           "align": "left"
          },
          "hovermode": "closest",
          "mapbox": {
           "style": "light"
          },
          "paper_bgcolor": "white",
          "plot_bgcolor": "#E5ECF6",
          "polar": {
           "angularaxis": {
            "gridcolor": "white",
            "linecolor": "white",
            "ticks": ""
           },
           "bgcolor": "#E5ECF6",
           "radialaxis": {
            "gridcolor": "white",
            "linecolor": "white",
            "ticks": ""
           }
          },
          "scene": {
           "xaxis": {
            "backgroundcolor": "#E5ECF6",
            "gridcolor": "white",
            "gridwidth": 2,
            "linecolor": "white",
            "showbackground": true,
            "ticks": "",
            "zerolinecolor": "white"
           },
           "yaxis": {
            "backgroundcolor": "#E5ECF6",
            "gridcolor": "white",
            "gridwidth": 2,
            "linecolor": "white",
            "showbackground": true,
            "ticks": "",
            "zerolinecolor": "white"
           },
           "zaxis": {
            "backgroundcolor": "#E5ECF6",
            "gridcolor": "white",
            "gridwidth": 2,
            "linecolor": "white",
            "showbackground": true,
            "ticks": "",
            "zerolinecolor": "white"
           }
          },
          "shapedefaults": {
           "line": {
            "color": "#2a3f5f"
           }
          },
          "ternary": {
           "aaxis": {
            "gridcolor": "white",
            "linecolor": "white",
            "ticks": ""
           },
           "baxis": {
            "gridcolor": "white",
            "linecolor": "white",
            "ticks": ""
           },
           "bgcolor": "#E5ECF6",
           "caxis": {
            "gridcolor": "white",
            "linecolor": "white",
            "ticks": ""
           }
          },
          "title": {
           "x": 0.05
          },
          "xaxis": {
           "automargin": true,
           "gridcolor": "white",
           "linecolor": "white",
           "ticks": "",
           "title": {
            "standoff": 15
           },
           "zerolinecolor": "white",
           "zerolinewidth": 2
          },
          "yaxis": {
           "automargin": true,
           "gridcolor": "white",
           "linecolor": "white",
           "ticks": "",
           "title": {
            "standoff": 15
           },
           "zerolinecolor": "white",
           "zerolinewidth": 2
          }
         }
        },
        "title": {
         "text": "Confusion Matrix"
        },
        "xaxis": {
         "dtick": 1,
         "gridcolor": "rgb(0, 0, 0)",
         "side": "top",
         "ticks": "",
         "title": {
          "text": "Predicted label"
         }
        },
        "yaxis": {
         "dtick": 1,
         "ticks": "",
         "ticksuffix": "  ",
         "title": {
          "text": "True label"
         }
        }
       }
      }
     },
     "metadata": {},
     "output_type": "display_data"
    }
   ],
   "source": [
    "# Compute confusion matrix\n",
    "cm = confusion_matrix(y_test, y_pred)\n",
    "fig = ff.create_annotated_heatmap(z=cm, x=[f'Predicted {i}' for i in range(n_classes)], y=[f'Actual {i}' for i in range(n_classes)], colorscale='Viridis')\n",
    "\n",
    "fig.update_layout(title='Confusion Matrix', xaxis=dict(title='Predicted label'), yaxis=dict(title='True label'))\n",
    "fig.show()\n"
   ]
  },
  {
   "cell_type": "code",
   "execution_count": 38,
   "metadata": {},
   "outputs": [
    {
     "data": {
      "application/vnd.plotly.v1+json": {
       "config": {
        "plotlyServerURL": "https://plot.ly"
       },
       "data": [
        {
         "alignmentgroup": "True",
         "hovertemplate": "Importance=%{x}<br>Feature=%{y}<extra></extra>",
         "legendgroup": "",
         "marker": {
          "color": "#636efa",
          "pattern": {
           "shape": ""
          }
         },
         "name": "",
         "offsetgroup": "",
         "orientation": "h",
         "showlegend": false,
         "textposition": "auto",
         "type": "bar",
         "x": [
          2.742438199555187,
          2.8687673705542736,
          3.0833099879695376,
          3.305714223230685,
          3.695960364699811,
          3.83766395575179,
          4.702881626727323,
          5.22633232914707,
          6.587014920482371,
          7.40646159251556
         ],
         "xaxis": "x",
         "y": [
          "OperationTimes_8-5",
          "OperationDays_Friday",
          "RightsAwareness_Yes",
          "ServicesAwareness_Yes",
          "GBVAwarenessMeasures_GBVPostersdisplayed",
          "AccessChallenges_Yes",
          "AccessChallenges_No",
          "GBVAwarenessMeasures_PresenceofGBVDesk",
          "GBVAwarenessMeasures_FacilitystafftrainedonGBV",
          "ExpectedHIVServices_ARTmedicine"
         ],
         "yaxis": "y"
        }
       ],
       "layout": {
        "barmode": "relative",
        "legend": {
         "tracegroupgap": 0
        },
        "template": {
         "data": {
          "bar": [
           {
            "error_x": {
             "color": "#2a3f5f"
            },
            "error_y": {
             "color": "#2a3f5f"
            },
            "marker": {
             "line": {
              "color": "#E5ECF6",
              "width": 0.5
             },
             "pattern": {
              "fillmode": "overlay",
              "size": 10,
              "solidity": 0.2
             }
            },
            "type": "bar"
           }
          ],
          "barpolar": [
           {
            "marker": {
             "line": {
              "color": "#E5ECF6",
              "width": 0.5
             },
             "pattern": {
              "fillmode": "overlay",
              "size": 10,
              "solidity": 0.2
             }
            },
            "type": "barpolar"
           }
          ],
          "carpet": [
           {
            "aaxis": {
             "endlinecolor": "#2a3f5f",
             "gridcolor": "white",
             "linecolor": "white",
             "minorgridcolor": "white",
             "startlinecolor": "#2a3f5f"
            },
            "baxis": {
             "endlinecolor": "#2a3f5f",
             "gridcolor": "white",
             "linecolor": "white",
             "minorgridcolor": "white",
             "startlinecolor": "#2a3f5f"
            },
            "type": "carpet"
           }
          ],
          "choropleth": [
           {
            "colorbar": {
             "outlinewidth": 0,
             "ticks": ""
            },
            "type": "choropleth"
           }
          ],
          "contour": [
           {
            "colorbar": {
             "outlinewidth": 0,
             "ticks": ""
            },
            "colorscale": [
             [
              0,
              "#0d0887"
             ],
             [
              0.1111111111111111,
              "#46039f"
             ],
             [
              0.2222222222222222,
              "#7201a8"
             ],
             [
              0.3333333333333333,
              "#9c179e"
             ],
             [
              0.4444444444444444,
              "#bd3786"
             ],
             [
              0.5555555555555556,
              "#d8576b"
             ],
             [
              0.6666666666666666,
              "#ed7953"
             ],
             [
              0.7777777777777778,
              "#fb9f3a"
             ],
             [
              0.8888888888888888,
              "#fdca26"
             ],
             [
              1,
              "#f0f921"
             ]
            ],
            "type": "contour"
           }
          ],
          "contourcarpet": [
           {
            "colorbar": {
             "outlinewidth": 0,
             "ticks": ""
            },
            "type": "contourcarpet"
           }
          ],
          "heatmap": [
           {
            "colorbar": {
             "outlinewidth": 0,
             "ticks": ""
            },
            "colorscale": [
             [
              0,
              "#0d0887"
             ],
             [
              0.1111111111111111,
              "#46039f"
             ],
             [
              0.2222222222222222,
              "#7201a8"
             ],
             [
              0.3333333333333333,
              "#9c179e"
             ],
             [
              0.4444444444444444,
              "#bd3786"
             ],
             [
              0.5555555555555556,
              "#d8576b"
             ],
             [
              0.6666666666666666,
              "#ed7953"
             ],
             [
              0.7777777777777778,
              "#fb9f3a"
             ],
             [
              0.8888888888888888,
              "#fdca26"
             ],
             [
              1,
              "#f0f921"
             ]
            ],
            "type": "heatmap"
           }
          ],
          "heatmapgl": [
           {
            "colorbar": {
             "outlinewidth": 0,
             "ticks": ""
            },
            "colorscale": [
             [
              0,
              "#0d0887"
             ],
             [
              0.1111111111111111,
              "#46039f"
             ],
             [
              0.2222222222222222,
              "#7201a8"
             ],
             [
              0.3333333333333333,
              "#9c179e"
             ],
             [
              0.4444444444444444,
              "#bd3786"
             ],
             [
              0.5555555555555556,
              "#d8576b"
             ],
             [
              0.6666666666666666,
              "#ed7953"
             ],
             [
              0.7777777777777778,
              "#fb9f3a"
             ],
             [
              0.8888888888888888,
              "#fdca26"
             ],
             [
              1,
              "#f0f921"
             ]
            ],
            "type": "heatmapgl"
           }
          ],
          "histogram": [
           {
            "marker": {
             "pattern": {
              "fillmode": "overlay",
              "size": 10,
              "solidity": 0.2
             }
            },
            "type": "histogram"
           }
          ],
          "histogram2d": [
           {
            "colorbar": {
             "outlinewidth": 0,
             "ticks": ""
            },
            "colorscale": [
             [
              0,
              "#0d0887"
             ],
             [
              0.1111111111111111,
              "#46039f"
             ],
             [
              0.2222222222222222,
              "#7201a8"
             ],
             [
              0.3333333333333333,
              "#9c179e"
             ],
             [
              0.4444444444444444,
              "#bd3786"
             ],
             [
              0.5555555555555556,
              "#d8576b"
             ],
             [
              0.6666666666666666,
              "#ed7953"
             ],
             [
              0.7777777777777778,
              "#fb9f3a"
             ],
             [
              0.8888888888888888,
              "#fdca26"
             ],
             [
              1,
              "#f0f921"
             ]
            ],
            "type": "histogram2d"
           }
          ],
          "histogram2dcontour": [
           {
            "colorbar": {
             "outlinewidth": 0,
             "ticks": ""
            },
            "colorscale": [
             [
              0,
              "#0d0887"
             ],
             [
              0.1111111111111111,
              "#46039f"
             ],
             [
              0.2222222222222222,
              "#7201a8"
             ],
             [
              0.3333333333333333,
              "#9c179e"
             ],
             [
              0.4444444444444444,
              "#bd3786"
             ],
             [
              0.5555555555555556,
              "#d8576b"
             ],
             [
              0.6666666666666666,
              "#ed7953"
             ],
             [
              0.7777777777777778,
              "#fb9f3a"
             ],
             [
              0.8888888888888888,
              "#fdca26"
             ],
             [
              1,
              "#f0f921"
             ]
            ],
            "type": "histogram2dcontour"
           }
          ],
          "mesh3d": [
           {
            "colorbar": {
             "outlinewidth": 0,
             "ticks": ""
            },
            "type": "mesh3d"
           }
          ],
          "parcoords": [
           {
            "line": {
             "colorbar": {
              "outlinewidth": 0,
              "ticks": ""
             }
            },
            "type": "parcoords"
           }
          ],
          "pie": [
           {
            "automargin": true,
            "type": "pie"
           }
          ],
          "scatter": [
           {
            "fillpattern": {
             "fillmode": "overlay",
             "size": 10,
             "solidity": 0.2
            },
            "type": "scatter"
           }
          ],
          "scatter3d": [
           {
            "line": {
             "colorbar": {
              "outlinewidth": 0,
              "ticks": ""
             }
            },
            "marker": {
             "colorbar": {
              "outlinewidth": 0,
              "ticks": ""
             }
            },
            "type": "scatter3d"
           }
          ],
          "scattercarpet": [
           {
            "marker": {
             "colorbar": {
              "outlinewidth": 0,
              "ticks": ""
             }
            },
            "type": "scattercarpet"
           }
          ],
          "scattergeo": [
           {
            "marker": {
             "colorbar": {
              "outlinewidth": 0,
              "ticks": ""
             }
            },
            "type": "scattergeo"
           }
          ],
          "scattergl": [
           {
            "marker": {
             "colorbar": {
              "outlinewidth": 0,
              "ticks": ""
             }
            },
            "type": "scattergl"
           }
          ],
          "scattermapbox": [
           {
            "marker": {
             "colorbar": {
              "outlinewidth": 0,
              "ticks": ""
             }
            },
            "type": "scattermapbox"
           }
          ],
          "scatterpolar": [
           {
            "marker": {
             "colorbar": {
              "outlinewidth": 0,
              "ticks": ""
             }
            },
            "type": "scatterpolar"
           }
          ],
          "scatterpolargl": [
           {
            "marker": {
             "colorbar": {
              "outlinewidth": 0,
              "ticks": ""
             }
            },
            "type": "scatterpolargl"
           }
          ],
          "scatterternary": [
           {
            "marker": {
             "colorbar": {
              "outlinewidth": 0,
              "ticks": ""
             }
            },
            "type": "scatterternary"
           }
          ],
          "surface": [
           {
            "colorbar": {
             "outlinewidth": 0,
             "ticks": ""
            },
            "colorscale": [
             [
              0,
              "#0d0887"
             ],
             [
              0.1111111111111111,
              "#46039f"
             ],
             [
              0.2222222222222222,
              "#7201a8"
             ],
             [
              0.3333333333333333,
              "#9c179e"
             ],
             [
              0.4444444444444444,
              "#bd3786"
             ],
             [
              0.5555555555555556,
              "#d8576b"
             ],
             [
              0.6666666666666666,
              "#ed7953"
             ],
             [
              0.7777777777777778,
              "#fb9f3a"
             ],
             [
              0.8888888888888888,
              "#fdca26"
             ],
             [
              1,
              "#f0f921"
             ]
            ],
            "type": "surface"
           }
          ],
          "table": [
           {
            "cells": {
             "fill": {
              "color": "#EBF0F8"
             },
             "line": {
              "color": "white"
             }
            },
            "header": {
             "fill": {
              "color": "#C8D4E3"
             },
             "line": {
              "color": "white"
             }
            },
            "type": "table"
           }
          ]
         },
         "layout": {
          "annotationdefaults": {
           "arrowcolor": "#2a3f5f",
           "arrowhead": 0,
           "arrowwidth": 1
          },
          "autotypenumbers": "strict",
          "coloraxis": {
           "colorbar": {
            "outlinewidth": 0,
            "ticks": ""
           }
          },
          "colorscale": {
           "diverging": [
            [
             0,
             "#8e0152"
            ],
            [
             0.1,
             "#c51b7d"
            ],
            [
             0.2,
             "#de77ae"
            ],
            [
             0.3,
             "#f1b6da"
            ],
            [
             0.4,
             "#fde0ef"
            ],
            [
             0.5,
             "#f7f7f7"
            ],
            [
             0.6,
             "#e6f5d0"
            ],
            [
             0.7,
             "#b8e186"
            ],
            [
             0.8,
             "#7fbc41"
            ],
            [
             0.9,
             "#4d9221"
            ],
            [
             1,
             "#276419"
            ]
           ],
           "sequential": [
            [
             0,
             "#0d0887"
            ],
            [
             0.1111111111111111,
             "#46039f"
            ],
            [
             0.2222222222222222,
             "#7201a8"
            ],
            [
             0.3333333333333333,
             "#9c179e"
            ],
            [
             0.4444444444444444,
             "#bd3786"
            ],
            [
             0.5555555555555556,
             "#d8576b"
            ],
            [
             0.6666666666666666,
             "#ed7953"
            ],
            [
             0.7777777777777778,
             "#fb9f3a"
            ],
            [
             0.8888888888888888,
             "#fdca26"
            ],
            [
             1,
             "#f0f921"
            ]
           ],
           "sequentialminus": [
            [
             0,
             "#0d0887"
            ],
            [
             0.1111111111111111,
             "#46039f"
            ],
            [
             0.2222222222222222,
             "#7201a8"
            ],
            [
             0.3333333333333333,
             "#9c179e"
            ],
            [
             0.4444444444444444,
             "#bd3786"
            ],
            [
             0.5555555555555556,
             "#d8576b"
            ],
            [
             0.6666666666666666,
             "#ed7953"
            ],
            [
             0.7777777777777778,
             "#fb9f3a"
            ],
            [
             0.8888888888888888,
             "#fdca26"
            ],
            [
             1,
             "#f0f921"
            ]
           ]
          },
          "colorway": [
           "#636efa",
           "#EF553B",
           "#00cc96",
           "#ab63fa",
           "#FFA15A",
           "#19d3f3",
           "#FF6692",
           "#B6E880",
           "#FF97FF",
           "#FECB52"
          ],
          "font": {
           "color": "#2a3f5f"
          },
          "geo": {
           "bgcolor": "white",
           "lakecolor": "white",
           "landcolor": "#E5ECF6",
           "showlakes": true,
           "showland": true,
           "subunitcolor": "white"
          },
          "hoverlabel": {
           "align": "left"
          },
          "hovermode": "closest",
          "mapbox": {
           "style": "light"
          },
          "paper_bgcolor": "white",
          "plot_bgcolor": "#E5ECF6",
          "polar": {
           "angularaxis": {
            "gridcolor": "white",
            "linecolor": "white",
            "ticks": ""
           },
           "bgcolor": "#E5ECF6",
           "radialaxis": {
            "gridcolor": "white",
            "linecolor": "white",
            "ticks": ""
           }
          },
          "scene": {
           "xaxis": {
            "backgroundcolor": "#E5ECF6",
            "gridcolor": "white",
            "gridwidth": 2,
            "linecolor": "white",
            "showbackground": true,
            "ticks": "",
            "zerolinecolor": "white"
           },
           "yaxis": {
            "backgroundcolor": "#E5ECF6",
            "gridcolor": "white",
            "gridwidth": 2,
            "linecolor": "white",
            "showbackground": true,
            "ticks": "",
            "zerolinecolor": "white"
           },
           "zaxis": {
            "backgroundcolor": "#E5ECF6",
            "gridcolor": "white",
            "gridwidth": 2,
            "linecolor": "white",
            "showbackground": true,
            "ticks": "",
            "zerolinecolor": "white"
           }
          },
          "shapedefaults": {
           "line": {
            "color": "#2a3f5f"
           }
          },
          "ternary": {
           "aaxis": {
            "gridcolor": "white",
            "linecolor": "white",
            "ticks": ""
           },
           "baxis": {
            "gridcolor": "white",
            "linecolor": "white",
            "ticks": ""
           },
           "bgcolor": "#E5ECF6",
           "caxis": {
            "gridcolor": "white",
            "linecolor": "white",
            "ticks": ""
           }
          },
          "title": {
           "x": 0.05
          },
          "xaxis": {
           "automargin": true,
           "gridcolor": "white",
           "linecolor": "white",
           "ticks": "",
           "title": {
            "standoff": 15
           },
           "zerolinecolor": "white",
           "zerolinewidth": 2
          },
          "yaxis": {
           "automargin": true,
           "gridcolor": "white",
           "linecolor": "white",
           "ticks": "",
           "title": {
            "standoff": 15
           },
           "zerolinecolor": "white",
           "zerolinewidth": 2
          }
         }
        },
        "title": {
         "text": "Top 10 Feature Importances (Highest to Lowest)"
        },
        "xaxis": {
         "anchor": "y",
         "domain": [
          0,
          1
         ],
         "title": {
          "text": "Importance"
         }
        },
        "yaxis": {
         "anchor": "x",
         "domain": [
          0,
          1
         ],
         "title": {
          "text": "Feature"
         }
        }
       }
      }
     },
     "metadata": {},
     "output_type": "display_data"
    }
   ],
   "source": [
    "feature_importances = best_model.feature_importances_\n",
    "\n",
    "# Create a Series for the feature importances\n",
    "importances = pd.Series(feature_importances, index=X_train.columns)\n",
    "\n",
    "# Sort the importances and select the top 10, then reverse the Series for plotting\n",
    "top_10_importances = importances.sort_values(ascending=False)[:10][::-1]\n",
    "\n",
    "# Create a bar chart using Plotly\n",
    "fig = px.bar(top_10_importances, x=top_10_importances.values, y=top_10_importances.index, orientation='h',\n",
    "             labels={'x': 'Importance', 'index': 'Feature'},\n",
    "             title='Top 10 Feature Importances (Highest to Lowest)')\n",
    "\n",
    "# Show the plot\n",
    "fig.show()"
   ]
  }
 ],
 "metadata": {
  "kernelspec": {
   "display_name": ".venv",
   "language": "python",
   "name": "python3"
  },
  "language_info": {
   "codemirror_mode": {
    "name": "ipython",
    "version": 3
   },
   "file_extension": ".py",
   "mimetype": "text/x-python",
   "name": "python",
   "nbconvert_exporter": "python",
   "pygments_lexer": "ipython3",
   "version": "3.10.7"
  }
 },
 "nbformat": 4,
 "nbformat_minor": 2
}
