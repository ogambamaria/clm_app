{
 "cells": [
  {
   "cell_type": "code",
   "execution_count": 1,
   "metadata": {},
   "outputs": [],
   "source": [
    "import pandas as pd\n",
    "import numpy as np\n",
    "import plotly.express as px\n",
    "from datetime import datetime\n",
    "import regex as re\n",
    "from sklearn.preprocessing import OneHotEncoder, LabelEncoder\n",
    "from sklearn.model_selection import train_test_split\n",
    "from sklearn.ensemble import RandomForestClassifier\n",
    "from xgboost import XGBClassifier\n",
    "from sklearn.metrics import classification_report\n",
    "from sklearn.metrics import classification_report, roc_auc_score\n",
    "from sklearn.linear_model import LogisticRegression\n",
    "from sklearn.neighbors import KNeighborsClassifier\n",
    "from sklearn.naive_bayes import GaussianNB\n",
    "from sklearn.tree import DecisionTreeClassifier\n",
    "from sklearn.ensemble import AdaBoostClassifier, RandomForestClassifier\n",
    "from xgboost import XGBClassifier\n",
    "import pandas as pd\n"
   ]
  },
  {
   "cell_type": "code",
   "execution_count": 2,
   "metadata": {},
   "outputs": [
    {
     "name": "stderr",
     "output_type": "stream",
     "text": [
      "C:\\Users\\mogam\\AppData\\Local\\Temp\\ipykernel_768\\2747984450.py:1: DtypeWarning: Columns (1,4,11,15,24,25,42,56,62,64,65,66,67,68,69,70,71,72,73,74,75,76,77,78,79,80,81,82,83,84) have mixed types. Specify dtype option on import or set low_memory=False.\n",
      "  imonitor = pd.read_csv('data/imonitor_1703.csv')\n"
     ]
    },
    {
     "data": {
      "text/html": [
       "<div>\n",
       "<style scoped>\n",
       "    .dataframe tbody tr th:only-of-type {\n",
       "        vertical-align: middle;\n",
       "    }\n",
       "\n",
       "    .dataframe tbody tr th {\n",
       "        vertical-align: top;\n",
       "    }\n",
       "\n",
       "    .dataframe thead th {\n",
       "        text-align: right;\n",
       "    }\n",
       "</style>\n",
       "<table border=\"1\" class=\"dataframe\">\n",
       "  <thead>\n",
       "    <tr style=\"text-align: right;\">\n",
       "      <th></th>\n",
       "      <th>Survey ID</th>\n",
       "      <th>Created Date</th>\n",
       "      <th>Facility name and MFL Code if applicable</th>\n",
       "      <th>Facility ownership</th>\n",
       "      <th>Please specify</th>\n",
       "      <th>County</th>\n",
       "      <th>What is your month; and year of birth</th>\n",
       "      <th>How do you consider yourself?</th>\n",
       "      <th>What is the highest level of education you completed?</th>\n",
       "      <th>Please specify.1</th>\n",
       "      <th>...</th>\n",
       "      <th>how long do you wait on average to get a service; which service was that?</th>\n",
       "      <th>Do you consider the waiting time for lab test results long?</th>\n",
       "      <th>how long do you wait on average to get your lab test result?</th>\n",
       "      <th>Does the facility offer support groups?</th>\n",
       "      <th>Specify the support group you belong to</th>\n",
       "      <th>In your opinion are the services offered at this facility youth friendly?</th>\n",
       "      <th>What measures have been put in place to create GBV awareness and its harmful effects within the community?</th>\n",
       "      <th>Please Specify</th>\n",
       "      <th>PWD In your opinion are the services offered at this facility persons-with-disability friendly?</th>\n",
       "      <th>What are the top 1-3 things you don’t like about this facility with regards to care and treatment?</th>\n",
       "    </tr>\n",
       "  </thead>\n",
       "  <tbody>\n",
       "    <tr>\n",
       "      <th>0</th>\n",
       "      <td>2390063</td>\n",
       "      <td>04-Dec-23</td>\n",
       "      <td>BABA DOGO HEALTH CENTRE</td>\n",
       "      <td>GOK</td>\n",
       "      <td>NaN</td>\n",
       "      <td>Nairobi</td>\n",
       "      <td>1977-09-03</td>\n",
       "      <td>Male</td>\n",
       "      <td>Primary school</td>\n",
       "      <td>NaN</td>\n",
       "      <td>...</td>\n",
       "      <td>NaN</td>\n",
       "      <td>No</td>\n",
       "      <td>NaN</td>\n",
       "      <td>Yes</td>\n",
       "      <td>Adults</td>\n",
       "      <td>Yes</td>\n",
       "      <td>Presence of GBV Desk;</td>\n",
       "      <td>Chiefs office</td>\n",
       "      <td>Yes</td>\n",
       "      <td>NaN</td>\n",
       "    </tr>\n",
       "    <tr>\n",
       "      <th>1</th>\n",
       "      <td>2390062</td>\n",
       "      <td>04-Dec-23</td>\n",
       "      <td>BABA DOGO HEALTH CENTRE</td>\n",
       "      <td>GOK</td>\n",
       "      <td>NaN</td>\n",
       "      <td>Nairobi</td>\n",
       "      <td>1972-08-12</td>\n",
       "      <td>Female</td>\n",
       "      <td>Secondary school</td>\n",
       "      <td>NaN</td>\n",
       "      <td>...</td>\n",
       "      <td>NaN</td>\n",
       "      <td>No</td>\n",
       "      <td>NaN</td>\n",
       "      <td>No</td>\n",
       "      <td>NaN</td>\n",
       "      <td>Yes</td>\n",
       "      <td>Presence of GBV Desk;</td>\n",
       "      <td>Chiefs office</td>\n",
       "      <td>NaN</td>\n",
       "      <td>NaN</td>\n",
       "    </tr>\n",
       "    <tr>\n",
       "      <th>2</th>\n",
       "      <td>2390061</td>\n",
       "      <td>04-Dec-23</td>\n",
       "      <td>BABA DOGO HEALTH CENTRE</td>\n",
       "      <td>GOK</td>\n",
       "      <td>NaN</td>\n",
       "      <td>Nairobi</td>\n",
       "      <td>1984-08-31</td>\n",
       "      <td>Female</td>\n",
       "      <td>Primary school</td>\n",
       "      <td>NaN</td>\n",
       "      <td>...</td>\n",
       "      <td>NaN</td>\n",
       "      <td>Yes</td>\n",
       "      <td>2 hours</td>\n",
       "      <td>No</td>\n",
       "      <td>NaN</td>\n",
       "      <td>Yes</td>\n",
       "      <td>Presence of GBV Desk;</td>\n",
       "      <td>Chiefs office</td>\n",
       "      <td>Yes</td>\n",
       "      <td>NaN</td>\n",
       "    </tr>\n",
       "    <tr>\n",
       "      <th>3</th>\n",
       "      <td>2390060</td>\n",
       "      <td>04-Dec-23</td>\n",
       "      <td>BABA DOGO HEALTH CENTRE</td>\n",
       "      <td>GOK</td>\n",
       "      <td>NaN</td>\n",
       "      <td>Nairobi</td>\n",
       "      <td>1977-05-07</td>\n",
       "      <td>Female</td>\n",
       "      <td>Primary school</td>\n",
       "      <td>NaN</td>\n",
       "      <td>...</td>\n",
       "      <td>NaN</td>\n",
       "      <td>No</td>\n",
       "      <td>NaN</td>\n",
       "      <td>No</td>\n",
       "      <td>NaN</td>\n",
       "      <td>Yes</td>\n",
       "      <td>Presence of GBV Desk;</td>\n",
       "      <td>Police station</td>\n",
       "      <td>NaN</td>\n",
       "      <td>NaN</td>\n",
       "    </tr>\n",
       "    <tr>\n",
       "      <th>4</th>\n",
       "      <td>2390059</td>\n",
       "      <td>04-Dec-23</td>\n",
       "      <td>BABA DOGO HEALTH CENTRE</td>\n",
       "      <td>GOK</td>\n",
       "      <td>NaN</td>\n",
       "      <td>Nairobi</td>\n",
       "      <td>1987-06-13</td>\n",
       "      <td>Male</td>\n",
       "      <td>Vocational training or technician</td>\n",
       "      <td>NaN</td>\n",
       "      <td>...</td>\n",
       "      <td>1 hour</td>\n",
       "      <td>Yes</td>\n",
       "      <td>2 hours</td>\n",
       "      <td>Yes</td>\n",
       "      <td>Adults</td>\n",
       "      <td>Yes</td>\n",
       "      <td>Presence of GBV Desk;</td>\n",
       "      <td>Police station</td>\n",
       "      <td>NaN</td>\n",
       "      <td>NaN</td>\n",
       "    </tr>\n",
       "  </tbody>\n",
       "</table>\n",
       "<p>5 rows × 85 columns</p>\n",
       "</div>"
      ],
      "text/plain": [
       "   Survey ID Created Date Facility name and MFL Code if applicable  \\\n",
       "0    2390063    04-Dec-23                  BABA DOGO HEALTH CENTRE   \n",
       "1    2390062    04-Dec-23                  BABA DOGO HEALTH CENTRE   \n",
       "2    2390061    04-Dec-23                  BABA DOGO HEALTH CENTRE   \n",
       "3    2390060    04-Dec-23                  BABA DOGO HEALTH CENTRE   \n",
       "4    2390059    04-Dec-23                  BABA DOGO HEALTH CENTRE   \n",
       "\n",
       "  Facility ownership Please specify   County  \\\n",
       "0                GOK            NaN  Nairobi   \n",
       "1                GOK            NaN  Nairobi   \n",
       "2                GOK            NaN  Nairobi   \n",
       "3                GOK            NaN  Nairobi   \n",
       "4                GOK            NaN  Nairobi   \n",
       "\n",
       "  What is your month; and year of birth How do you consider yourself?   \\\n",
       "0                            1977-09-03                           Male   \n",
       "1                            1972-08-12                         Female   \n",
       "2                            1984-08-31                         Female   \n",
       "3                            1977-05-07                         Female   \n",
       "4                            1987-06-13                           Male   \n",
       "\n",
       "  What is the highest level of education you completed? Please specify.1  ...  \\\n",
       "0                                     Primary school                 NaN  ...   \n",
       "1                                   Secondary school                 NaN  ...   \n",
       "2                                     Primary school                 NaN  ...   \n",
       "3                                     Primary school                 NaN  ...   \n",
       "4                 Vocational training or technician                  NaN  ...   \n",
       "\n",
       "  how long do you wait on average to get a service; which service was that?  \\\n",
       "0                                                NaN                          \n",
       "1                                                NaN                          \n",
       "2                                                NaN                          \n",
       "3                                                NaN                          \n",
       "4                                            1 hour                           \n",
       "\n",
       "  Do you consider the waiting time for lab test results long?  \\\n",
       "0                                                 No            \n",
       "1                                                 No            \n",
       "2                                                Yes            \n",
       "3                                                 No            \n",
       "4                                                Yes            \n",
       "\n",
       "  how long do you wait on average to get your lab test result?  \\\n",
       "0                                                NaN             \n",
       "1                                                NaN             \n",
       "2                                           2 hours              \n",
       "3                                                NaN             \n",
       "4                                           2 hours              \n",
       "\n",
       "  Does the facility offer support groups?  \\\n",
       "0                                     Yes   \n",
       "1                                      No   \n",
       "2                                      No   \n",
       "3                                      No   \n",
       "4                                     Yes   \n",
       "\n",
       "  Specify the support group you belong to  \\\n",
       "0                                  Adults   \n",
       "1                                     NaN   \n",
       "2                                     NaN   \n",
       "3                                     NaN   \n",
       "4                                  Adults   \n",
       "\n",
       "  In your opinion are the services offered at this facility youth friendly?  \\\n",
       "0                                                Yes                          \n",
       "1                                                Yes                          \n",
       "2                                                Yes                          \n",
       "3                                                Yes                          \n",
       "4                                                Yes                          \n",
       "\n",
       "  What measures have been put in place to create GBV awareness and its harmful effects within the community?   \\\n",
       "0                              Presence of GBV Desk;                                                            \n",
       "1                              Presence of GBV Desk;                                                            \n",
       "2                              Presence of GBV Desk;                                                            \n",
       "3                              Presence of GBV Desk;                                                            \n",
       "4                              Presence of GBV Desk;                                                            \n",
       "\n",
       "    Please Specify  \\\n",
       "0   Chiefs office    \n",
       "1   Chiefs office    \n",
       "2   Chiefs office    \n",
       "3  Police station    \n",
       "4  Police station    \n",
       "\n",
       "  PWD In your opinion are the services offered at this facility persons-with-disability friendly?  \\\n",
       "0                                                Yes                                                \n",
       "1                                                NaN                                                \n",
       "2                                                Yes                                                \n",
       "3                                                NaN                                                \n",
       "4                                                NaN                                                \n",
       "\n",
       "  What are the top 1-3 things you don’t like about this facility with regards to care and treatment?  \n",
       "0                                                NaN                                                  \n",
       "1                                                NaN                                                  \n",
       "2                                                NaN                                                  \n",
       "3                                                NaN                                                  \n",
       "4                                                NaN                                                  \n",
       "\n",
       "[5 rows x 85 columns]"
      ]
     },
     "execution_count": 2,
     "metadata": {},
     "output_type": "execute_result"
    }
   ],
   "source": [
    "imonitor = pd.read_csv('data/imonitor_1703.csv')\n",
    "imonitor.head()"
   ]
  },
  {
   "cell_type": "code",
   "execution_count": 3,
   "metadata": {},
   "outputs": [
    {
     "data": {
      "text/plain": [
       "(46549, 85)"
      ]
     },
     "execution_count": 3,
     "metadata": {},
     "output_type": "execute_result"
    }
   ],
   "source": [
    "imonitor.shape"
   ]
  },
  {
   "cell_type": "code",
   "execution_count": 4,
   "metadata": {},
   "outputs": [],
   "source": [
    "# Find and drop columns that contain \"Please specify\" or \"Please Specify\"\n",
    "cols_to_drop = [col for col in imonitor.columns if \"Please specify\" in col or \"Please Specify\" in col]\n",
    "\n",
    "# Drop these columns from the DataFrame in a single operation\n",
    "imonitor.drop(cols_to_drop, axis=1, inplace=True)"
   ]
  },
  {
   "cell_type": "code",
   "execution_count": 5,
   "metadata": {},
   "outputs": [
    {
     "data": {
      "text/plain": [
       "(46549, 69)"
      ]
     },
     "execution_count": 5,
     "metadata": {},
     "output_type": "execute_result"
    }
   ],
   "source": [
    "imonitor.shape"
   ]
  },
  {
   "cell_type": "code",
   "execution_count": 6,
   "metadata": {},
   "outputs": [],
   "source": [
    "column_name_mapping = {\n",
    "    \"Survey ID\": \"SurveyID\",\n",
    "    \"Organization name coordinating the feedback from the clients\": \"OrgFeedbackCoordinator\",\n",
    "    \"Created Date\": \"FeedbackDate\",\n",
    "    \"Facility name and MFL Code if applicable\": \"FacilityName\",\n",
    "    \"Facility ownership\": \"FacilityOwnership\",\n",
    "    \"County\": \"FacilityCounty\",\n",
    "    \"What is your month; and year of birth\": \"BirthMonthYear\",\n",
    "    \"How do you consider yourself? \": \"SelfIdentity\",\n",
    "    \"What is the highest level of education you completed?\": \"EducationLevel\",\n",
    "    \"What is your current marital status? \": \"MaritalStatus\",\n",
    "    \"Which county do you currently live in?\": \"ResidenceCounty\",\n",
    "    \"What are your sources of income?\": \"IncomeSources\",\n",
    "    \"For how long have you been accessing services (based on the expected package of services) in this facility?\": \"ServiceAccessDuration\",\n",
    "    \"Are you aware of the package of services that you are entitled to?\": \"ServicesAwareness\",\n",
    "    \"According to you; which HIV related services are you likely to receive in this facility?\": \"ExpectedHIVServices\",\n",
    "    \"Is there a service that you needed that was not provided?\": \"UnprovidedService\",\n",
    "    \"Facility name no service\": \"UnprovidedServiceFacilityName\",\n",
    "    \"For that service that was not provided; were you referred?\": \"ReferralForUnprovidedService\",\n",
    "    \"If referred; did you receive the service where you were referred to?\": \"ReferralServiceReceived\",\n",
    "    \"If Yes which Service/Test/Medicine \": \"ReceivedServiceDetail\",\n",
    "    \"On a scale of 1 to 5; how satisfied are you with the package of services received in this facility? If 1 is VERY UNSATISFIED and 5 is VERY SATISFIED.\": \"ServiceSatisfaction\",\n",
    "    \"What did you like about the services you received?\": \"ServicesLiked\",\n",
    "    \"What did you not like about the services you received?\": \"ServicesDisliked\",\n",
    "    \"In your opinion what would you like to be improved?\": \"ImprovementSuggestions\",\n",
    "    \"Do you face any challenges when accessing the services at the facility?\": \"AccessChallenges\",\n",
    "    \"Common issues that can be added in the drop-down box\": \"CommonIssuesDropdown\",\n",
    "    \"In your opinion what can be done to improve access to the services you seek at the facility?\": \"AccessImprovementSuggestions\",\n",
    "    \"Was confidentiality considered while you were being served?\": \"Confidentiality\",\n",
    "    \"Are there age-appropriate health services for specific groups?\": \"AgeAppropriateServices\",\n",
    "    \"Does the facility allow you to share your concerns with the administration?\": \"ConcernsSharing\",\n",
    "    \"Do you know your health-related rights as a client of this facility?\": \"RightsAwareness\",\n",
    "    \"Have you ever been denied services at this facility?\": \"ServiceDenial\",\n",
    "    \"Facility name denied service\": \"ServiceDenialFacilityName\",\n",
    "    \"Why\": \"ServiceDenialSpecify\",\n",
    "    \"Are you comfortable with getting services at this facility\": \"ComfortWithServices\",\n",
    "    \"Have you ever been counseled? \": \"CounselingReceived\",\n",
    "    \"Did you identify any gaps in the facility when you tried to access the services\": \"IdentifiedGaps\",\n",
    "    \"Service type\": \"ServiceGapsType\",\n",
    "    \"Are the HIV testing services readily available when required? \": \"HIVTestingAvailability\",\n",
    "    \"Have you ever Interrupted your treatment?\": \"TreatmentInterruption\",\n",
    "    \"Are the PMTCT services readily available when required?\": \"PMTCTServiceAvailability\",\n",
    "    \"Were reasons provided as to why these services were not available?\": \"PMTCTServiceNonavailabilityReasons\",\n",
    "    \"Are the HIV prevention; testing; treatment and care services adequate for KPs? \": \"KPServiceAdequacy\",\n",
    "    \"Were reasons provided as to why these services were not available?.1\": \"KPServiceNonavailabilityReasons\",\n",
    "    \"What are the barriers to uptake of VMMC by males 25+years and above?\": \"VMMCBarriers\",\n",
    "    \"What are some of the current site level practices that community members like and would love to maintain for KP/PP ?\": \"KPCommunityPreferredPractices\",\n",
    "    \"What would you like this facility to change/do better?\": \"ChangeSuggestions\",\n",
    "    \"Throughout your visit what did you find interesting/pleasing about this facility that should be emulated by other facilities?\": \"PositiveObservations\",\n",
    "    \"What do you think can be improved\": \"GeneralImprovementSuggestions\",\n",
    "    \"Anything else that you would like to mention?\": \"AdditionalComments\",\n",
    "    \"What are the top 1-3 things you like about this facility with regards to care and treatment? \": \"TopFacilityFeatures\",\n",
    "    \"Facility Level\": \"FacilityLevel\",\n",
    "    \"Facility Operation times\": \"OperationTimes\",\n",
    "    \"Facility Operation Days \": \"OperationDays\",\n",
    "    \"What are your preferred days of visiting the facility\": \"PreferredVisitDays\",\n",
    "    \"What are your preferred time of visiting the facility\": \"PreferredVisitTimes\",\n",
    "    \"According to you, which HIV related service/tests/medicine are you likely to receive in this facility?\": \"ExpectedHIVServices2\",\n",
    "    \"Is there a service/test/medicine that you needed that was not provided?\": \"UnprovidedService2\",\n",
    "    \"which service/test/medicine?\": \"UnprovidedServiceDetail\",\n",
    "    \"On a scale of 1-5; how clean do you find the facility?\": \"FacilityCleanliness\",\n",
    "    \"How do you reach this facility?\": \"FacilityAccessMode\",\n",
    "    \"How long does it take to reach this facility?\": \"FacilityAccessTime\",\n",
    "    \"On a scale of 1-5; how accessible do you find this facility?\": \"FacilityAccessibility\",\n",
    "    \"Do you consider the waiting time to be seen at this facility long?\": \"WaitingTimeOpinion\",\n",
    "    \"how long do you wait on average to get a service; which service was that?\": \"AverageWaitingTime\",\n",
    "    \"Do you consider the waiting time for lab test results long?\": \"LabResultsWaitingTimeOpinion\",\n",
    "    \"how long do you wait on average to get your lab test result?\": \"AverageLabResultsWaitingTime\",\n",
    "    \"Does the facility offer support groups?\": \"SupportGroupAvailability\",\n",
    "    \"Specify the support group you belong to\": \"SpecifySupportGroup\",\n",
    "    \"In your opinion are the services offered at this facility youth friendly?\": \"YouthFriendlyServices\",\n",
    "    \"What measures have been put in place to create GBV awareness and its harmful effects within the community? \": \"GBVAwarenessMeasures\",\n",
    "    \"PWD In your opinion are the services offered at this facility persons-with-disability friendly?\": \"PWDFriendlyServicesOpinion\",\n",
    "    \"What are the top 1-3 things you don’t like about this facility with regards to care and treatment?\": \"TopFacilityDislikes\"\n",
    "}\n",
    "\n",
    "df = imonitor.rename(columns=column_name_mapping)"
   ]
  },
  {
   "cell_type": "code",
   "execution_count": 7,
   "metadata": {},
   "outputs": [
    {
     "name": "stdout",
     "output_type": "stream",
     "text": [
      "SurveyID\n",
      "FeedbackDate\n",
      "FacilityName\n",
      "FacilityOwnership\n",
      "FacilityCounty\n",
      "BirthMonthYear\n",
      "SelfIdentity\n",
      "EducationLevel\n",
      "MaritalStatus\n",
      "ResidenceCounty\n",
      "IncomeSources\n",
      "ServiceAccessDuration\n",
      "ServicesAwareness\n",
      "ExpectedHIVServices\n",
      "UnprovidedService\n",
      "Facility name\n",
      "ReferralForUnprovidedService\n",
      "ReferralServiceReceived\n",
      "ReceivedServiceDetail\n",
      "ServiceSatisfaction\n",
      "ServicesLiked\n",
      "ServicesDisliked\n",
      "ImprovementSuggestions\n",
      "AccessChallenges\n",
      "CommonIssuesDropdown\n",
      "AccessImprovementSuggestions\n",
      "Confidentiality\n",
      "AgeAppropriateServices\n",
      "ConcernsSharing\n",
      "RightsAwareness\n",
      "ServiceDenial\n",
      "ServiceDenialFacilityName\n",
      "ServiceDenialSpecify\n",
      "ComfortWithServices\n",
      "CounselingReceived\n",
      "IdentifiedGaps\n",
      "ServiceGapsType\n",
      "HIVTestingAvailability\n",
      "TreatmentInterruption\n",
      "PMTCTServiceAvailability\n",
      "PMTCTServiceNonavailabilityReasons\n",
      "KPServiceAdequacy\n",
      "KPServiceNonavailabilityReasons\n",
      "VMMCBarriers\n",
      "KPCommunityPreferredPractices\n",
      "ChangeSuggestions\n",
      "PositiveObservations\n",
      "GeneralImprovementSuggestions\n",
      "AdditionalComments\n",
      "TopFacilityFeatures\n",
      "FacilityLevel\n",
      "OperationTimes\n",
      "OperationDays\n",
      "PreferredVisitDays\n",
      "PreferredVisitTimes\n",
      "FacilityCleanliness\n",
      "FacilityAccessMode\n",
      "FacilityAccessTime\n",
      "FacilityAccessibility\n",
      "WaitingTimeOpinion\n",
      "AverageWaitingTime\n",
      "LabResultsWaitingTimeOpinion\n",
      "AverageLabResultsWaitingTime\n",
      "SupportGroupAvailability\n",
      "SpecifySupportGroup\n",
      "YouthFriendlyServices\n",
      "GBVAwarenessMeasures\n",
      "PWDFriendlyServicesOpinion\n",
      "TopFacilityDislikes\n"
     ]
    }
   ],
   "source": [
    "for column in df.columns:\n",
    "    print(column)"
   ]
  },
  {
   "cell_type": "code",
   "execution_count": 8,
   "metadata": {},
   "outputs": [],
   "source": [
    "columns_to_clean1 = [\n",
    "    'WaitingTimeOpinion',\n",
    "    'LabResultsWaitingTimeOpinion'\n",
    "]\n",
    "\n",
    "def replace_dont_know(df, column):\n",
    "    df[column] = df[column].replace(\"Dont Know\", \"I don't know\", regex=False)\n",
    "    return df\n",
    "\n",
    "for column in columns_to_clean1:\n",
    "    df = replace_dont_know(df, column)"
   ]
  },
  {
   "cell_type": "code",
   "execution_count": 9,
   "metadata": {},
   "outputs": [],
   "source": [
    "columns_to_clean2 = [\n",
    "    'FacilityCleanliness',\n",
    "    'FacilityAccessibility'\n",
    "    ]\n",
    "\n",
    "def replace_mixed_with_text(df, column_name):\n",
    "    def replace_value(value):\n",
    "        satisfaction_map = {\n",
    "            1: 'Very Unsatisfied',\n",
    "            2: 'Unsatisfied',\n",
    "            3: 'Okay',\n",
    "            4: 'Satisfied',\n",
    "            5: 'Very Satisfied'\n",
    "        }\n",
    "        if isinstance(value, str) and value[0].isdigit():\n",
    "            num = int(value[0])\n",
    "        elif isinstance(value, int):\n",
    "            num = value\n",
    "        else:\n",
    "            return value\n",
    "\n",
    "        return satisfaction_map.get(num, value)\n",
    "\n",
    "    df[column_name] = df[column_name].apply(replace_value)\n",
    "    return df\n",
    "\n",
    "for column in columns_to_clean2:\n",
    "    df = replace_mixed_with_text(df, column)"
   ]
  },
  {
   "cell_type": "code",
   "execution_count": 10,
   "metadata": {},
   "outputs": [],
   "source": [
    "def standardize_satisfaction(df, column_name):\n",
    "    # Mapping for consolidating variations of satisfaction levels\n",
    "    satisfaction_map = {\n",
    "        '5': 'Very Satisfied',\n",
    "        5.0: 'Very Satisfied',\n",
    "        '4': 'Satisfied',\n",
    "        4.0: 'Satisfied',\n",
    "        '3': 'Okay',\n",
    "        3.0: 'Okay',\n",
    "        '2': 'Unsatisfied',\n",
    "        2.0: 'Unsatisfied',\n",
    "        '1': 'Very Unsatisfied',\n",
    "        1.0: 'Very Unsatisfied',\n",
    "        'Dissatisfied': 'Unsatisfied'\n",
    "    }\n",
    "    \n",
    "    # Replace values based on the map\n",
    "    df[column_name] = df[column_name].replace(satisfaction_map)\n",
    "    return df\n",
    "\n",
    "df = standardize_satisfaction(df, 'ServiceSatisfaction')\n"
   ]
  },
  {
   "cell_type": "code",
   "execution_count": 11,
   "metadata": {},
   "outputs": [
    {
     "name": "stdout",
     "output_type": "stream",
     "text": [
      "FacilityLevel\n",
      "4.0    4802\n",
      "3.0    4515\n",
      "2.0    2889\n",
      "5.0    2240\n",
      "1.0     556\n",
      "6.0      14\n",
      "Name: count, dtype: int64\n"
     ]
    }
   ],
   "source": [
    "print(df['FacilityLevel'].value_counts())"
   ]
  },
  {
   "cell_type": "code",
   "execution_count": 12,
   "metadata": {},
   "outputs": [],
   "source": [
    "def standardize_facility(df, column_name):\n",
    "    # Mapping for consolidating variations of satisfaction levels\n",
    "    satisfaction_map = {\n",
    "        1.0: 'Community Health Unit',\n",
    "        2.0: 'Dispensaries and Private Clinics',\n",
    "        3.0: 'Health Centers',\n",
    "        4.0: 'Sub-County Hospitals',\n",
    "        5.0: 'County Referral Hospitals',\n",
    "        6.0: 'National Referral Hospitals',\n",
    "    }\n",
    "    \n",
    "    # Replace values based on the map\n",
    "    df[column_name] = df[column_name].replace(satisfaction_map)\n",
    "    return df\n",
    "\n",
    "df = standardize_facility(df, 'FacilityLevel')"
   ]
  },
  {
   "cell_type": "code",
   "execution_count": 13,
   "metadata": {},
   "outputs": [],
   "source": [
    "def replace_symbols_and_words(df, column_name):\n",
    "    df[column_name] = df[column_name].str.replace('<', 'Less than', regex=False)\n",
    "    df[column_name] = df[column_name].str.replace('>', 'More than', regex=False)\n",
    "    df[column_name] = df[column_name].str.replace('minutes', 'mins', regex=False)\n",
    "    return df\n",
    "\n",
    "df = replace_symbols_and_words(df, 'FacilityAccessTime')"
   ]
  },
  {
   "cell_type": "code",
   "execution_count": 14,
   "metadata": {},
   "outputs": [],
   "source": [
    "def replace_symbols_and_words(df, column_name):\n",
    "    df[column_name] = df[column_name].str.replace('Less than 30mins', 'Less than 30 mins', regex=False)\n",
    "    df[column_name] = df[column_name].str.replace('More than45 mins', 'More than 45 mins', regex=False)\n",
    "    return df\n",
    "\n",
    "df = replace_symbols_and_words(df, 'FacilityAccessTime')"
   ]
  },
  {
   "cell_type": "code",
   "execution_count": 15,
   "metadata": {},
   "outputs": [],
   "source": [
    "def remove_trailing_semicolons(df, column_names):\n",
    "    for column in column_names:\n",
    "        if column in df.columns:\n",
    "            df[column] = df[column].str.rstrip(';')\n",
    "    return df\n",
    "\n",
    "df = pd.DataFrame(df)\n",
    "\n",
    "columns_to_clean = ['ExpectedHIVServices', 'OperationTimes', 'OperationDays', 'PreferredVisitDays', 'PreferredVisitTimes', 'GBVAwarenessMeasures']\n",
    "\n",
    "df2 = remove_trailing_semicolons(df, columns_to_clean)"
   ]
  },
  {
   "cell_type": "code",
   "execution_count": 16,
   "metadata": {},
   "outputs": [],
   "source": [
    "def calculate_age(birth_date_str):\n",
    "    if isinstance(birth_date_str, str):\n",
    "        # Parse the birth date string into a datetime object\n",
    "        birth_date = datetime.strptime(birth_date_str, \"%Y-%m-%d\")\n",
    "        \n",
    "        # Get today's date\n",
    "        today = datetime.today()\n",
    "        \n",
    "        # Calculate age\n",
    "        age = today.year - birth_date.year - ((today.month, today.day) < (birth_date.month, birth_date.day))\n",
    "        \n",
    "        return age\n",
    "    else:\n",
    "        # Return None or an appropriate value for missing or invalid input\n",
    "        return None\n",
    "    \n",
    "df2['Age'] = df2['BirthMonthYear'].apply(calculate_age)"
   ]
  },
  {
   "cell_type": "code",
   "execution_count": 17,
   "metadata": {},
   "outputs": [],
   "source": [
    "def remove_invalid_age_rows(df2, age_column):\n",
    "    valid_age_condition = (df[age_column] >= 0) & (df[age_column] <= 100)\n",
    "    \n",
    "    # Keep only rows with valid age\n",
    "    cleaned_df = df2[valid_age_condition].copy()\n",
    "    \n",
    "    return cleaned_df\n",
    "df3 = remove_invalid_age_rows(df2, 'Age')"
   ]
  },
  {
   "cell_type": "code",
   "execution_count": 18,
   "metadata": {},
   "outputs": [],
   "source": [
    "df3.drop(columns=['BirthMonthYear'], inplace=True)"
   ]
  },
  {
   "cell_type": "code",
   "execution_count": 19,
   "metadata": {},
   "outputs": [
    {
     "data": {
      "text/plain": [
       "0       2023-12-04\n",
       "1       2023-12-04\n",
       "2       2023-12-04\n",
       "3       2023-12-04\n",
       "4       2023-12-04\n",
       "           ...    \n",
       "41839   2022-10-04\n",
       "41840   2022-10-03\n",
       "41841   2022-10-04\n",
       "41842   2022-10-03\n",
       "41843   2022-09-28\n",
       "Length: 41844, dtype: datetime64[ns]"
      ]
     },
     "execution_count": 19,
     "metadata": {},
     "output_type": "execute_result"
    }
   ],
   "source": [
    "def convert_mixed_dates(date_column):\n",
    "    \"\"\"\n",
    "    This function takes a Pandas Series of mixed dates and Excel serial dates and converts them to datetime objects.\n",
    "    \n",
    "    Parameters:\n",
    "    date_column (pd.Series): A pandas Series with mixed date formats and serial dates.\n",
    "    \n",
    "    Returns:\n",
    "    pd.Series: A pandas Series with all dates converted to datetime objects.\n",
    "    \"\"\"\n",
    "    # Define the epoch start for Excel's serial date format\n",
    "    excel_epoch = pd.Timestamp('1899-12-30')\n",
    "    converted_dates = []\n",
    "\n",
    "    for date in date_column:\n",
    "        if isinstance(date, str) and re.match(r'^\\d+(\\.\\d+)?$', date):\n",
    "            # If it's a string that looks like a serial date, convert it\n",
    "            serial_value = float(date)\n",
    "            converted_date = excel_epoch + pd.to_timedelta(serial_value, unit='D')\n",
    "        elif isinstance(date, (int, float)):\n",
    "            # If it's a numeric type, assume it's a serial date\n",
    "            converted_date = excel_epoch + pd.to_timedelta(date, unit='D')\n",
    "        else:\n",
    "            # Otherwise, try to parse it as a regular date\n",
    "            converted_date = pd.to_datetime(date, errors='coerce')\n",
    "\n",
    "        # Append the result, which will be NaT if parsing failed\n",
    "        converted_dates.append(converted_date)\n",
    "\n",
    "    return pd.Series(converted_dates)\n",
    "\n",
    "convert_mixed_dates(df3['FeedbackDate'])\n"
   ]
  },
  {
   "cell_type": "code",
   "execution_count": 20,
   "metadata": {},
   "outputs": [],
   "source": [
    "df3.to_csv('data/cleaned.csv', index=False)"
   ]
  },
  {
   "cell_type": "code",
   "execution_count": 21,
   "metadata": {},
   "outputs": [
    {
     "data": {
      "text/plain": [
       "FacilityCounty\n",
       "Homabay    16563\n",
       "Kisumu      6267\n",
       "Kilifi      6228\n",
       "Mombasa     4540\n",
       "Nairobi     4170\n",
       "Makueni     3888\n",
       "Narok        471\n",
       "Samburu       81\n",
       "Turkana       15\n",
       "Nakuru        13\n",
       "Name: count, dtype: int64"
      ]
     },
     "execution_count": 21,
     "metadata": {},
     "output_type": "execute_result"
    }
   ],
   "source": [
    "df['FacilityCounty'].value_counts()"
   ]
  },
  {
   "cell_type": "code",
   "execution_count": 22,
   "metadata": {},
   "outputs": [],
   "source": [
    "columns_to_keep = [\n",
    "    'SurveyID', 'FeedbackDate', 'FacilityCounty', 'FacilityLevel', 'FacilityOwnership', 'ServicesLiked', 'ServicesDisliked', 'ImprovementSuggestions',\n",
    "    'AccessImprovementSuggestions', 'PositiveObservations',\n",
    "    'GeneralImprovementSuggestions', 'AdditionalComments', 'TopFacilityFeatures', 'ServiceSatisfaction', 'TopFacilityDislikes'\n",
    "]\n",
    "\n",
    "df_selected = df3[columns_to_keep]\n",
    "\n",
    "df_selected.to_csv('data/clm_open_ended.csv', index=False)"
   ]
  },
  {
   "cell_type": "code",
   "execution_count": 23,
   "metadata": {},
   "outputs": [
    {
     "name": "stdout",
     "output_type": "stream",
     "text": [
      "Columns to drop: ['Facility name', 'ReferralForUnprovidedService', 'ReferralServiceReceived', 'ReceivedServiceDetail', 'CommonIssuesDropdown', 'ServiceDenialFacilityName', 'ServiceDenialSpecify', 'ServiceGapsType', 'HIVTestingAvailability', 'TreatmentInterruption', 'PMTCTServiceAvailability', 'PMTCTServiceNonavailabilityReasons', 'KPServiceAdequacy', 'KPServiceNonavailabilityReasons', 'VMMCBarriers', 'KPCommunityPreferredPractices', 'ChangeSuggestions', 'TopFacilityFeatures', 'FacilityLevel', 'OperationTimes', 'OperationDays', 'PreferredVisitDays', 'PreferredVisitTimes', 'FacilityCleanliness', 'FacilityAccessMode', 'FacilityAccessTime', 'FacilityAccessibility', 'WaitingTimeOpinion', 'AverageWaitingTime', 'LabResultsWaitingTimeOpinion', 'AverageLabResultsWaitingTime', 'SupportGroupAvailability', 'SpecifySupportGroup', 'YouthFriendlyServices', 'GBVAwarenessMeasures', 'PWDFriendlyServicesOpinion', 'TopFacilityDislikes']\n",
      "Number of columns to drop: 37\n",
      "DataFrame shape after dropping columns: (41844, 32)\n"
     ]
    }
   ],
   "source": [
    "missing_percentage = df3.isnull().mean() * 100\n",
    "\n",
    "threshold = 60\n",
    "\n",
    "columns_to_drop = missing_percentage[missing_percentage > threshold].index.tolist()\n",
    "\n",
    "print(\"Columns to drop:\", columns_to_drop)\n",
    "\n",
    "print(\"Number of columns to drop:\", len(columns_to_drop))\n",
    "\n",
    "df3.drop(columns=columns_to_drop, axis=1, inplace=True)\n",
    "\n",
    "print(\"DataFrame shape after dropping columns:\", df3.shape)"
   ]
  },
  {
   "cell_type": "code",
   "execution_count": 24,
   "metadata": {},
   "outputs": [
    {
     "name": "stdout",
     "output_type": "stream",
     "text": [
      "Original DataFrame shape: (41844, 32)\n",
      "Cleaned DataFrame shape: (26214, 32)\n",
      "Rows dropped: 15630\n"
     ]
    }
   ],
   "source": [
    "threshold_percentage = 100\n",
    "\n",
    "threshold = len(df3.columns) * (threshold_percentage / 100)\n",
    "\n",
    "data = df3.dropna(thresh=threshold).copy()\n",
    "\n",
    "print(\"Original DataFrame shape:\", df3.shape)\n",
    "print(\"Cleaned DataFrame shape:\", data.shape)\n",
    "\n",
    "rows_dropped = df3.shape[0] - data.shape[0]\n",
    "print(\"Rows dropped:\", rows_dropped)"
   ]
  },
  {
   "cell_type": "code",
   "execution_count": 25,
   "metadata": {},
   "outputs": [
    {
     "data": {
      "text/html": [
       "<div>\n",
       "<style scoped>\n",
       "    .dataframe tbody tr th:only-of-type {\n",
       "        vertical-align: middle;\n",
       "    }\n",
       "\n",
       "    .dataframe tbody tr th {\n",
       "        vertical-align: top;\n",
       "    }\n",
       "\n",
       "    .dataframe thead th {\n",
       "        text-align: right;\n",
       "    }\n",
       "</style>\n",
       "<table border=\"1\" class=\"dataframe\">\n",
       "  <thead>\n",
       "    <tr style=\"text-align: right;\">\n",
       "      <th></th>\n",
       "      <th>SurveyID</th>\n",
       "      <th>Age</th>\n",
       "    </tr>\n",
       "  </thead>\n",
       "  <tbody>\n",
       "    <tr>\n",
       "      <th>count</th>\n",
       "      <td>2.621400e+04</td>\n",
       "      <td>26214.000000</td>\n",
       "    </tr>\n",
       "    <tr>\n",
       "      <th>mean</th>\n",
       "      <td>8.683058e+05</td>\n",
       "      <td>41.976387</td>\n",
       "    </tr>\n",
       "    <tr>\n",
       "      <th>std</th>\n",
       "      <td>1.002974e+06</td>\n",
       "      <td>12.763959</td>\n",
       "    </tr>\n",
       "    <tr>\n",
       "      <th>min</th>\n",
       "      <td>1.796510e+05</td>\n",
       "      <td>0.000000</td>\n",
       "    </tr>\n",
       "    <tr>\n",
       "      <th>25%</th>\n",
       "      <td>1.915855e+05</td>\n",
       "      <td>34.000000</td>\n",
       "    </tr>\n",
       "    <tr>\n",
       "      <th>50%</th>\n",
       "      <td>2.026525e+05</td>\n",
       "      <td>41.000000</td>\n",
       "    </tr>\n",
       "    <tr>\n",
       "      <th>75%</th>\n",
       "      <td>2.338173e+06</td>\n",
       "      <td>50.000000</td>\n",
       "    </tr>\n",
       "    <tr>\n",
       "      <th>max</th>\n",
       "      <td>2.390027e+06</td>\n",
       "      <td>100.000000</td>\n",
       "    </tr>\n",
       "  </tbody>\n",
       "</table>\n",
       "</div>"
      ],
      "text/plain": [
       "           SurveyID           Age\n",
       "count  2.621400e+04  26214.000000\n",
       "mean   8.683058e+05     41.976387\n",
       "std    1.002974e+06     12.763959\n",
       "min    1.796510e+05      0.000000\n",
       "25%    1.915855e+05     34.000000\n",
       "50%    2.026525e+05     41.000000\n",
       "75%    2.338173e+06     50.000000\n",
       "max    2.390027e+06    100.000000"
      ]
     },
     "execution_count": 25,
     "metadata": {},
     "output_type": "execute_result"
    }
   ],
   "source": [
    "# General descriptive statistics\n",
    "data.describe()"
   ]
  },
  {
   "cell_type": "code",
   "execution_count": 26,
   "metadata": {},
   "outputs": [
    {
     "data": {
      "text/html": [
       "<div>\n",
       "<style scoped>\n",
       "    .dataframe tbody tr th:only-of-type {\n",
       "        vertical-align: middle;\n",
       "    }\n",
       "\n",
       "    .dataframe tbody tr th {\n",
       "        vertical-align: top;\n",
       "    }\n",
       "\n",
       "    .dataframe thead th {\n",
       "        text-align: right;\n",
       "    }\n",
       "</style>\n",
       "<table border=\"1\" class=\"dataframe\">\n",
       "  <thead>\n",
       "    <tr style=\"text-align: right;\">\n",
       "      <th></th>\n",
       "      <th>FeedbackDate</th>\n",
       "      <th>FacilityName</th>\n",
       "      <th>FacilityOwnership</th>\n",
       "      <th>FacilityCounty</th>\n",
       "      <th>SelfIdentity</th>\n",
       "      <th>EducationLevel</th>\n",
       "      <th>MaritalStatus</th>\n",
       "      <th>ResidenceCounty</th>\n",
       "      <th>IncomeSources</th>\n",
       "      <th>ServiceAccessDuration</th>\n",
       "      <th>...</th>\n",
       "      <th>AgeAppropriateServices</th>\n",
       "      <th>ConcernsSharing</th>\n",
       "      <th>RightsAwareness</th>\n",
       "      <th>ServiceDenial</th>\n",
       "      <th>ComfortWithServices</th>\n",
       "      <th>CounselingReceived</th>\n",
       "      <th>IdentifiedGaps</th>\n",
       "      <th>PositiveObservations</th>\n",
       "      <th>GeneralImprovementSuggestions</th>\n",
       "      <th>AdditionalComments</th>\n",
       "    </tr>\n",
       "  </thead>\n",
       "  <tbody>\n",
       "    <tr>\n",
       "      <th>count</th>\n",
       "      <td>26214</td>\n",
       "      <td>26214</td>\n",
       "      <td>26214</td>\n",
       "      <td>26214</td>\n",
       "      <td>26214</td>\n",
       "      <td>26214</td>\n",
       "      <td>26214</td>\n",
       "      <td>26214</td>\n",
       "      <td>26214</td>\n",
       "      <td>26214</td>\n",
       "      <td>...</td>\n",
       "      <td>26214</td>\n",
       "      <td>26214</td>\n",
       "      <td>26214</td>\n",
       "      <td>26214</td>\n",
       "      <td>26214</td>\n",
       "      <td>26214</td>\n",
       "      <td>26214</td>\n",
       "      <td>26214</td>\n",
       "      <td>26214</td>\n",
       "      <td>26214</td>\n",
       "    </tr>\n",
       "    <tr>\n",
       "      <th>unique</th>\n",
       "      <td>9987</td>\n",
       "      <td>1254</td>\n",
       "      <td>6</td>\n",
       "      <td>10</td>\n",
       "      <td>7</td>\n",
       "      <td>8</td>\n",
       "      <td>9</td>\n",
       "      <td>12</td>\n",
       "      <td>27</td>\n",
       "      <td>4</td>\n",
       "      <td>...</td>\n",
       "      <td>2</td>\n",
       "      <td>2</td>\n",
       "      <td>2</td>\n",
       "      <td>2</td>\n",
       "      <td>2</td>\n",
       "      <td>3</td>\n",
       "      <td>2</td>\n",
       "      <td>9082</td>\n",
       "      <td>7579</td>\n",
       "      <td>7946</td>\n",
       "    </tr>\n",
       "    <tr>\n",
       "      <th>top</th>\n",
       "      <td>09-Oct-23</td>\n",
       "      <td>Malindi Sub-County Hospital</td>\n",
       "      <td>GOK</td>\n",
       "      <td>Homabay</td>\n",
       "      <td>Female</td>\n",
       "      <td>Primary school</td>\n",
       "      <td>Married</td>\n",
       "      <td>Homabay</td>\n",
       "      <td>Business;</td>\n",
       "      <td>More than one year</td>\n",
       "      <td>...</td>\n",
       "      <td>Yes</td>\n",
       "      <td>Yes</td>\n",
       "      <td>Yes</td>\n",
       "      <td>No</td>\n",
       "      <td>Yes</td>\n",
       "      <td>Yes</td>\n",
       "      <td>No</td>\n",
       "      <td>Good services</td>\n",
       "      <td>No comment</td>\n",
       "      <td>No comment</td>\n",
       "    </tr>\n",
       "    <tr>\n",
       "      <th>freq</th>\n",
       "      <td>1970</td>\n",
       "      <td>835</td>\n",
       "      <td>21836</td>\n",
       "      <td>9558</td>\n",
       "      <td>18023</td>\n",
       "      <td>13216</td>\n",
       "      <td>15742</td>\n",
       "      <td>9349</td>\n",
       "      <td>6057</td>\n",
       "      <td>23530</td>\n",
       "      <td>...</td>\n",
       "      <td>23882</td>\n",
       "      <td>25604</td>\n",
       "      <td>24062</td>\n",
       "      <td>26142</td>\n",
       "      <td>25936</td>\n",
       "      <td>22612</td>\n",
       "      <td>25038</td>\n",
       "      <td>734</td>\n",
       "      <td>2221</td>\n",
       "      <td>3433</td>\n",
       "    </tr>\n",
       "  </tbody>\n",
       "</table>\n",
       "<p>4 rows × 30 columns</p>\n",
       "</div>"
      ],
      "text/plain": [
       "       FeedbackDate                 FacilityName FacilityOwnership  \\\n",
       "count         26214                        26214             26214   \n",
       "unique         9987                         1254                 6   \n",
       "top       09-Oct-23  Malindi Sub-County Hospital               GOK   \n",
       "freq           1970                          835             21836   \n",
       "\n",
       "       FacilityCounty SelfIdentity  EducationLevel MaritalStatus  \\\n",
       "count           26214        26214           26214         26214   \n",
       "unique             10            7               8             9   \n",
       "top           Homabay       Female  Primary school       Married   \n",
       "freq             9558        18023           13216         15742   \n",
       "\n",
       "       ResidenceCounty IncomeSources ServiceAccessDuration  ...  \\\n",
       "count            26214         26214                 26214  ...   \n",
       "unique              12            27                     4  ...   \n",
       "top            Homabay     Business;   More than one year   ...   \n",
       "freq              9349          6057                 23530  ...   \n",
       "\n",
       "       AgeAppropriateServices ConcernsSharing RightsAwareness ServiceDenial  \\\n",
       "count                   26214           26214           26214         26214   \n",
       "unique                      2               2               2             2   \n",
       "top                       Yes             Yes             Yes            No   \n",
       "freq                    23882           25604           24062         26142   \n",
       "\n",
       "       ComfortWithServices CounselingReceived IdentifiedGaps  \\\n",
       "count                26214              26214          26214   \n",
       "unique                   2                  3              2   \n",
       "top                    Yes                Yes             No   \n",
       "freq                 25936              22612          25038   \n",
       "\n",
       "       PositiveObservations GeneralImprovementSuggestions AdditionalComments  \n",
       "count                 26214                         26214              26214  \n",
       "unique                 9082                          7579               7946  \n",
       "top          Good services                    No comment         No comment   \n",
       "freq                    734                          2221               3433  \n",
       "\n",
       "[4 rows x 30 columns]"
      ]
     },
     "execution_count": 26,
     "metadata": {},
     "output_type": "execute_result"
    }
   ],
   "source": [
    "# Descriptive statistics for categorical data\n",
    "data.describe(include=['object'])"
   ]
  },
  {
   "cell_type": "code",
   "execution_count": 27,
   "metadata": {},
   "outputs": [
    {
     "data": {
      "text/plain": [
       "ServiceSatisfaction\n",
       "Satisfied                14620\n",
       "Very Satisfied           11040\n",
       "Okay                       228\n",
       "Unsatisfied                222\n",
       "Do not know                 47\n",
       "Very Unsatisfied            36\n",
       "Prefer not to answer        21\n",
       "Name: count, dtype: int64"
      ]
     },
     "execution_count": 27,
     "metadata": {},
     "output_type": "execute_result"
    }
   ],
   "source": [
    "data['ServiceSatisfaction'].value_counts()"
   ]
  },
  {
   "cell_type": "code",
   "execution_count": 28,
   "metadata": {},
   "outputs": [
    {
     "name": "stdout",
     "output_type": "stream",
     "text": [
      "ServiceSatisfaction\n",
      "1     14848\n",
      "2     11040\n",
      "0       258\n",
      "99       68\n",
      "Name: count, dtype: int64\n"
     ]
    },
    {
     "name": "stderr",
     "output_type": "stream",
     "text": [
      "C:\\Users\\mogam\\AppData\\Local\\Temp\\ipykernel_768\\1833295796.py:12: FutureWarning: Downcasting behavior in `replace` is deprecated and will be removed in a future version. To retain the old behavior, explicitly call `result.infer_objects(copy=False)`. To opt-in to the future behavior, set `pd.set_option('future.no_silent_downcasting', True)`\n",
      "  data.loc[:, 'ServiceSatisfaction'] = data['ServiceSatisfaction'].replace(recategorization_mapping)\n"
     ]
    }
   ],
   "source": [
    "recategorization_mapping = {\n",
    "    'Very Satisfied': 2,\n",
    "    'Satisfied': 1,\n",
    "    'Okay': 1,\n",
    "    'Unsatisfied': 0,\n",
    "    'Very Unsatisfied': 0,\n",
    "    #'Unknown': 0,\n",
    "    'Do not know': 99,\n",
    "    'Prefer not to answer ': 99\n",
    "}\n",
    "\n",
    "data.loc[:, 'ServiceSatisfaction'] = data['ServiceSatisfaction'].replace(recategorization_mapping)\n",
    "\n",
    "# After replacement, you might want to ensure the data type is what you expect\n",
    "# For example, if you want to ensure it's an integer (especially if NaN values are not expected)\n",
    "data['ServiceSatisfaction'] = data['ServiceSatisfaction'].astype(int)\n",
    "\n",
    "# Verify the changes\n",
    "print(data['ServiceSatisfaction'].value_counts())"
   ]
  },
  {
   "cell_type": "code",
   "execution_count": 29,
   "metadata": {},
   "outputs": [],
   "source": [
    "model_data = data[data.ServiceSatisfaction != 99]"
   ]
  },
  {
   "cell_type": "code",
   "execution_count": 30,
   "metadata": {},
   "outputs": [],
   "source": [
    "model_data = model_data.drop(['SurveyID', 'FeedbackDate', 'FacilityName', 'ResidenceCounty', 'ServicesLiked', 'ServicesDisliked', 'ImprovementSuggestions', 'AccessImprovementSuggestions', 'PositiveObservations', 'GeneralImprovementSuggestions', 'AdditionalComments', 'Age'], axis=1)"
   ]
  },
  {
   "cell_type": "code",
   "execution_count": 31,
   "metadata": {},
   "outputs": [
    {
     "data": {
      "text/plain": [
       "FacilityCounty\n",
       "Homabay    9496\n",
       "Kilifi     5431\n",
       "Mombasa    3823\n",
       "Makueni    3075\n",
       "Kisumu     2878\n",
       "Nairobi    1290\n",
       "Narok       126\n",
       "Samburu      19\n",
       "Turkana       7\n",
       "Nakuru        1\n",
       "Name: count, dtype: int64"
      ]
     },
     "execution_count": 31,
     "metadata": {},
     "output_type": "execute_result"
    }
   ],
   "source": [
    "model_data['FacilityCounty'].value_counts()"
   ]
  },
  {
   "cell_type": "code",
   "execution_count": 32,
   "metadata": {},
   "outputs": [],
   "source": [
    "# Assuming you have a pandas DataFrame called df\n",
    "subset_df = model_data[model_data['FacilityCounty'].isin(['Nairobi', 'Kisumu'])]"
   ]
  },
  {
   "cell_type": "code",
   "execution_count": 33,
   "metadata": {},
   "outputs": [
    {
     "data": {
      "text/plain": [
       "FacilityCounty\n",
       "Kisumu     2878\n",
       "Nairobi    1290\n",
       "Name: count, dtype: int64"
      ]
     },
     "execution_count": 33,
     "metadata": {},
     "output_type": "execute_result"
    }
   ],
   "source": [
    "subset_df['FacilityCounty'].value_counts()"
   ]
  },
  {
   "cell_type": "code",
   "execution_count": 34,
   "metadata": {},
   "outputs": [
    {
     "data": {
      "text/plain": [
       "ServiceSatisfaction\n",
       "1    2036\n",
       "2    2013\n",
       "0     119\n",
       "Name: count, dtype: int64"
      ]
     },
     "execution_count": 34,
     "metadata": {},
     "output_type": "execute_result"
    }
   ],
   "source": [
    "subset_df['ServiceSatisfaction'].value_counts()"
   ]
  },
  {
   "cell_type": "code",
   "execution_count": 35,
   "metadata": {},
   "outputs": [],
   "source": [
    "# Assuming subset_df is your DataFrame and 'ServiceSatisfaction' is the column of interest\n",
    "\n",
    "# Split the dataset into separate groups based on 'ServiceSatisfaction'\n",
    "class_3_df = subset_df[subset_df['ServiceSatisfaction'] == 2]\n",
    "class_2_df = subset_df[subset_df['ServiceSatisfaction'] == 1]\n",
    "class_1_df = subset_df[subset_df['ServiceSatisfaction'] == 0]\n",
    "\n",
    "# Get the target number of instances to match, which is the number of instances in class 1\n",
    "target_number = class_1_df.shape[0]\n",
    "\n",
    "# Randomly sample from classes 3 and 2 to match the number of instances in class 1\n",
    "class_3_sampled_df = class_3_df.sample(n=target_number, random_state=42)\n",
    "class_2_sampled_df = class_2_df.sample(n=target_number, random_state=42)\n",
    "\n",
    "balanced_df = pd.concat([class_3_sampled_df, class_2_sampled_df, class_1_df])"
   ]
  },
  {
   "cell_type": "code",
   "execution_count": 36,
   "metadata": {},
   "outputs": [
    {
     "data": {
      "text/plain": [
       "FacilityCounty\n",
       "Kisumu     268\n",
       "Nairobi     89\n",
       "Name: count, dtype: int64"
      ]
     },
     "execution_count": 36,
     "metadata": {},
     "output_type": "execute_result"
    }
   ],
   "source": [
    "balanced_df['FacilityCounty'].value_counts()"
   ]
  },
  {
   "cell_type": "code",
   "execution_count": 37,
   "metadata": {},
   "outputs": [
    {
     "data": {
      "text/plain": [
       "ServiceSatisfaction\n",
       "2    119\n",
       "1    119\n",
       "0    119\n",
       "Name: count, dtype: int64"
      ]
     },
     "execution_count": 37,
     "metadata": {},
     "output_type": "execute_result"
    }
   ],
   "source": [
    "balanced_df['ServiceSatisfaction'].value_counts()"
   ]
  },
  {
   "cell_type": "code",
   "execution_count": 38,
   "metadata": {},
   "outputs": [
    {
     "name": "stdout",
     "output_type": "stream",
     "text": [
      "NaN counts after pandas get_dummies: 0\n"
     ]
    }
   ],
   "source": [
    "ordinal_vars = balanced_df['ServiceSatisfaction']\n",
    "nominal_vars = [col for col in balanced_df.columns if balanced_df[col].dtype == 'object' and col not in ordinal_vars]\n",
    "encoded_data = pd.get_dummies(balanced_df, columns=nominal_vars)\n",
    "\n",
    "# This automatically drops the original nominal columns and adds the one-hot encoded columns\n",
    "print(\"NaN counts after pandas get_dummies:\", encoded_data.isnull().sum().sum())"
   ]
  },
  {
   "cell_type": "code",
   "execution_count": 39,
   "metadata": {},
   "outputs": [],
   "source": [
    "X = encoded_data.drop('ServiceSatisfaction', axis=1)\n",
    "y = encoded_data['ServiceSatisfaction']"
   ]
  },
  {
   "cell_type": "code",
   "execution_count": 40,
   "metadata": {},
   "outputs": [],
   "source": [
    "# Split the data into training and testing sets (70% train, 30% test)\n",
    "X_train, X_test, y_train, y_test = train_test_split(X, y, test_size=0.3, random_state=42)"
   ]
  },
  {
   "cell_type": "code",
   "execution_count": 43,
   "metadata": {},
   "outputs": [
    {
     "name": "stderr",
     "output_type": "stream",
     "text": [
      "c:\\Users\\mogam\\Desktop\\MScDSA\\Dissertation\\clm_app\\.venv\\lib\\site-packages\\sklearn\\ensemble\\_weight_boosting.py:519: FutureWarning: The SAMME.R algorithm (the default) is deprecated and will be removed in 1.6. Use the SAMME algorithm to circumvent this warning.\n",
      "  warnings.warn(\n"
     ]
    },
    {
     "data": {
      "text/html": [
       "<div>\n",
       "<style scoped>\n",
       "    .dataframe tbody tr th:only-of-type {\n",
       "        vertical-align: middle;\n",
       "    }\n",
       "\n",
       "    .dataframe tbody tr th {\n",
       "        vertical-align: top;\n",
       "    }\n",
       "\n",
       "    .dataframe thead th {\n",
       "        text-align: right;\n",
       "    }\n",
       "</style>\n",
       "<table border=\"1\" class=\"dataframe\">\n",
       "  <thead>\n",
       "    <tr style=\"text-align: right;\">\n",
       "      <th></th>\n",
       "      <th>Model</th>\n",
       "      <th>ROC AUC</th>\n",
       "      <th>Accuracy</th>\n",
       "      <th>F1 Score</th>\n",
       "      <th>Support</th>\n",
       "    </tr>\n",
       "  </thead>\n",
       "  <tbody>\n",
       "    <tr>\n",
       "      <th>0</th>\n",
       "      <td>KNeighborsClassifier</td>\n",
       "      <td>0.714486</td>\n",
       "      <td>0.555556</td>\n",
       "      <td>0.559705</td>\n",
       "      <td>108.0</td>\n",
       "    </tr>\n",
       "    <tr>\n",
       "      <th>1</th>\n",
       "      <td>GaussianNB</td>\n",
       "      <td>0.638369</td>\n",
       "      <td>0.490741</td>\n",
       "      <td>0.465957</td>\n",
       "      <td>108.0</td>\n",
       "    </tr>\n",
       "    <tr>\n",
       "      <th>2</th>\n",
       "      <td>DecisionTreeClassifier</td>\n",
       "      <td>0.623552</td>\n",
       "      <td>0.500000</td>\n",
       "      <td>0.508359</td>\n",
       "      <td>108.0</td>\n",
       "    </tr>\n",
       "    <tr>\n",
       "      <th>3</th>\n",
       "      <td>AdaBoostClassifier</td>\n",
       "      <td>0.688757</td>\n",
       "      <td>0.564815</td>\n",
       "      <td>0.569215</td>\n",
       "      <td>108.0</td>\n",
       "    </tr>\n",
       "    <tr>\n",
       "      <th>4</th>\n",
       "      <td>RandomForestClassifier</td>\n",
       "      <td>0.713339</td>\n",
       "      <td>0.509259</td>\n",
       "      <td>0.514130</td>\n",
       "      <td>108.0</td>\n",
       "    </tr>\n",
       "    <tr>\n",
       "      <th>5</th>\n",
       "      <td>XGBClassifier</td>\n",
       "      <td>0.695369</td>\n",
       "      <td>0.527778</td>\n",
       "      <td>0.537050</td>\n",
       "      <td>108.0</td>\n",
       "    </tr>\n",
       "  </tbody>\n",
       "</table>\n",
       "</div>"
      ],
      "text/plain": [
       "                    Model   ROC AUC  Accuracy  F1 Score  Support\n",
       "0    KNeighborsClassifier  0.714486  0.555556  0.559705    108.0\n",
       "1              GaussianNB  0.638369  0.490741  0.465957    108.0\n",
       "2  DecisionTreeClassifier  0.623552  0.500000  0.508359    108.0\n",
       "3      AdaBoostClassifier  0.688757  0.564815  0.569215    108.0\n",
       "4  RandomForestClassifier  0.713339  0.509259  0.514130    108.0\n",
       "5           XGBClassifier  0.695369  0.527778  0.537050    108.0"
      ]
     },
     "execution_count": 43,
     "metadata": {},
     "output_type": "execute_result"
    }
   ],
   "source": [
    "def test_models(X_train, y_train, X_test, y_test):\n",
    "    # Define the models to test\n",
    "    models = {\n",
    "        # 'LogisticRegression': LogisticRegression(max_iter=1000, multi_class='multinomial'),\n",
    "        'KNeighborsClassifier': KNeighborsClassifier(),\n",
    "        'GaussianNB': GaussianNB(),\n",
    "        'DecisionTreeClassifier': DecisionTreeClassifier(),\n",
    "        'AdaBoostClassifier': AdaBoostClassifier(),\n",
    "        'RandomForestClassifier': RandomForestClassifier(),\n",
    "        'XGBClassifier': XGBClassifier(use_label_encoder=False, eval_metric='mlogloss')\n",
    "    }\n",
    "    \n",
    "    # Prepare the output dataframe\n",
    "    model_results = []\n",
    "\n",
    "    for name, model in models.items():\n",
    "        # Train the model\n",
    "        model.fit(X_train, y_train)\n",
    "        \n",
    "        # Predict on the test set\n",
    "        y_pred = model.predict(X_test)\n",
    "        \n",
    "        # Compute ROC AUC\n",
    "        roc_auc = None\n",
    "        if hasattr(model, \"predict_proba\"):\n",
    "            y_prob = model.predict_proba(X_test)\n",
    "            roc_auc = roc_auc_score(y_test, y_prob, multi_class='ovr')\n",
    "        elif hasattr(model, \"decision_function\"):\n",
    "            y_scores = model.decision_function(X_test)\n",
    "            roc_auc = roc_auc_score(y_test, y_scores, multi_class='ovr')\n",
    "\n",
    "        # Get classification report\n",
    "        report = classification_report(y_test, y_pred, output_dict=True)\n",
    "        \n",
    "        # Aggregate the results\n",
    "        model_results.append({\n",
    "            'Model': name,\n",
    "            'ROC AUC': roc_auc,\n",
    "            'Accuracy': report['accuracy'],\n",
    "            'F1 Score': report['weighted avg']['f1-score'],\n",
    "            'Support': report['macro avg']['support']  # Total support is the sum of support for all classes\n",
    "        })\n",
    "\n",
    "    # Convert list of results to dataframe\n",
    "    results_df = pd.DataFrame(model_results)\n",
    "    \n",
    "    return results_df\n",
    "\n",
    "# Example usage:\n",
    "results_df = test_models(X_train, y_train, X_test, y_test)\n",
    "results_df\n"
   ]
  },
  {
   "cell_type": "code",
   "execution_count": null,
   "metadata": {},
   "outputs": [],
   "source": [
    "feature_importances = rf_model.feature_importances_\n",
    "\n",
    "# Create a Series for the feature importances\n",
    "importances = pd.Series(feature_importances, index=X_train.columns)\n",
    "\n",
    "# Sort the importances and select the top 10, then reverse the Series for plotting\n",
    "top_10_importances = importances.sort_values(ascending=False)[:10][::-1]\n",
    "\n",
    "# Create a bar chart using Plotly\n",
    "fig = px.bar(top_10_importances, x=top_10_importances.values, y=top_10_importances.index, orientation='h',\n",
    "             labels={'x': 'Importance', 'index': 'Feature'},\n",
    "             title='Top 10 Feature Importances in Random Forest Model (Highest to Lowest)')\n",
    "\n",
    "# Show the plot\n",
    "fig.show()"
   ]
  },
  {
   "cell_type": "markdown",
   "metadata": {},
   "source": [
    "Each bar's length corresponds to the importance score of that feature, with longer bars representing a greater influence on the model's predictions. Features related to HIV services, county of facility, marital status, education level, access challenges, self-identity, and income sources are all key factors in this model's decision-making process.\n",
    "\n",
    "The specific importance values are not visible, but you can see that the most important feature has an importance score just under 0.04, and the least important feature within this top 10 list has a score slightly above 0. This distribution suggests that 'ExpectedHIVServices_ART medicine' has a relatively more substantial impact compared to the other features in the list."
   ]
  },
  {
   "cell_type": "markdown",
   "metadata": {},
   "source": [
    "things to include:\n",
    "- methods of overfitting\n",
    "- undersampling of class 3\n",
    "- better cleaning techniques\n",
    "- other models to explore\n",
    "- other interpretations to make from the final selected model"
   ]
  }
 ],
 "metadata": {
  "kernelspec": {
   "display_name": ".venv",
   "language": "python",
   "name": "python3"
  },
  "language_info": {
   "codemirror_mode": {
    "name": "ipython",
    "version": 3
   },
   "file_extension": ".py",
   "mimetype": "text/x-python",
   "name": "python",
   "nbconvert_exporter": "python",
   "pygments_lexer": "ipython3",
   "version": "3.10.7"
  }
 },
 "nbformat": 4,
 "nbformat_minor": 2
}
